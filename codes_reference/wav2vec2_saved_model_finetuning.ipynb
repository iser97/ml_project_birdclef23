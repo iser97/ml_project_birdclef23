{
 "cells": [
  {
   "cell_type": "markdown",
   "metadata": {
    "id": "yCs7P9JTMlzV"
   },
   "source": [
    "##### Copyright 2021 The TensorFlow Hub Authors.\n",
    "\n",
    "Licensed under the Apache License, Version 2.0 (the \"License\");"
   ]
  },
  {
   "cell_type": "code",
   "execution_count": 1,
   "metadata": {
    "execution": {
     "iopub.execute_input": "2022-12-14T22:29:08.307582Z",
     "iopub.status.busy": "2022-12-14T22:29:08.307316Z",
     "iopub.status.idle": "2022-12-14T22:29:08.311833Z",
     "shell.execute_reply": "2022-12-14T22:29:08.311214Z"
    },
    "id": "Jqn-HYw-Mkea"
   },
   "outputs": [],
   "source": [
    "#@title Copyright 2021 The TensorFlow Hub Authors. All Rights Reserved.\n",
    "#\n",
    "# Licensed under the Apache License, Version 2.0 (the \"License\");\n",
    "# you may not use this file except in compliance with the License.\n",
    "# You may obtain a copy of the License at\n",
    "#\n",
    "#     http://www.apache.org/licenses/LICENSE-2.0\n",
    "#\n",
    "# Unless required by applicable law or agreed to in writing, software\n",
    "# distributed under the License is distributed on an \"AS IS\" BASIS,\n",
    "# WITHOUT WARRANTIES OR CONDITIONS OF ANY KIND, either express or implied.\n",
    "# See the License for the specific language governing permissions and\n",
    "# limitations under the License.\n",
    "# =============================================================================="
   ]
  },
  {
   "cell_type": "markdown",
   "metadata": {
    "id": "stRetE8gMlmZ"
   },
   "source": [
    "<table class=\"tfo-notebook-buttons\" align=\"left\">\n",
    "  <td>     <a target=\"_blank\" href=\"https://tensorflow.google.cn/hub/tutorials/wav2vec2_saved_model_finetuning\"><img src=\"https://tensorflow.google.cn/images/tf_logo_32px.png\">View on TensorFlow.org</a>\n",
    "</td>\n",
    "  <td><a target=\"_blank\" href=\"https://colab.research.google.com/github/tensorflow/docs-l10n/blob/master/site/zh-cn/hub/tutorials/wav2vec2_saved_model_finetuning.ipynb\"><img src=\"https://tensorflow.google.cn/images/colab_logo_32px.png\">在 Google Colab 中运行</a></td>\n",
    "  <td><a target=\"_blank\" href=\"https://github.com/tensorflow/docs-l10n/blob/master/site/zh-cn/hub/tutorials/wav2vec2_saved_model_finetuning.ipynb\">     <img src=\"https://tensorflow.google.cn/images/GitHub-Mark-32px.png\">     在 GitHub 上查看源代码</a></td>\n",
    "  <td>     <a href=\"https://storage.googleapis.com/tensorflow_docs/docs-l10n/site/zh-cn/hub/tutorials/wav2vec2_saved_model_finetuning.ipynb\"><img src=\"https://tensorflow.google.cn/images/download_logo_32px.png\">下载笔记本</a>   </td>\n",
    "  <td>     <a href=\"https://tfhub.dev/vasudevgupta7/wav2vec2/1\"><img src=\"https://tensorflow.google.cn/images/hub_logo_32px.png\">查看 TF Hub 模型 </a>\n",
    "</td>\n",
    "</table>"
   ]
  },
  {
   "cell_type": "markdown",
   "metadata": {
    "id": "ndG8MjmJeicp"
   },
   "source": [
    "# 使用 LM 头微调 Wav2Vec2\n",
    "\n",
    "在本笔记本中，我们将从 [TFHub](https://tfhub.dev) 加载预训练的 wav2vec2 模型，然后通过在预训练模型上附加语言建模头 (LM) 来使用 [LibriSpeech 数据集](https://huggingface.co/datasets/librispeech_asr)对该模型进行微调。基本任务是构建一个**自动语音识别**模型，即，提供一些语音，该模型应该能够将其转录成文本。"
   ]
  },
  {
   "cell_type": "markdown",
   "metadata": {
    "id": "rWk8nL6Ui-_0"
   },
   "source": [
    "## 设置\n",
    "\n",
    "在运行本笔记本之前，请确保您处于 GPU 运行时 (`Runtime` &gt; `Change runtime type` &gt; `GPU`)。以下单元将安装 [`gsoc-wav2vec2`](https://github.com/vasudevgupta7/gsoc-wav2vec2) 包及其依赖项。"
   ]
  },
  {
   "cell_type": "code",
   "execution_count": 2,
   "metadata": {
    "execution": {
     "iopub.execute_input": "2022-12-14T22:29:08.315614Z",
     "iopub.status.busy": "2022-12-14T22:29:08.315036Z",
     "iopub.status.idle": "2022-12-14T22:29:27.096734Z",
     "shell.execute_reply": "2022-12-14T22:29:27.095727Z"
    },
    "id": "seqTlMyeZvM4"
   },
   "outputs": [
    {
     "name": "stdout",
     "output_type": "stream",
     "text": [
      "\r",
      "Reading package lists... 0%\r",
      "\r",
      "Reading package lists... 100%\r",
      "\r",
      "Reading package lists... Done\r",
      "\r\n",
      "\r",
      "Building dependency tree... 0%\r",
      "\r",
      "Building dependency tree... 0%\r"
     ]
    },
    {
     "name": "stdout",
     "output_type": "stream",
     "text": [
      "\r",
      "Building dependency tree... 50%\r",
      "\r",
      "Building dependency tree... 50%\r"
     ]
    },
    {
     "name": "stdout",
     "output_type": "stream",
     "text": [
      "\r",
      "Building dependency tree       \r",
      "\r\n",
      "\r",
      "Reading state information... 0%\r",
      "\r",
      "Reading state information... 0%\r",
      "\r",
      "Reading state information... Done\r",
      "\r\n"
     ]
    },
    {
     "name": "stdout",
     "output_type": "stream",
     "text": [
      "The following packages were automatically installed and are no longer required:\r\n",
      "  libatasmart4 libblockdev-fs2 libblockdev-loop2 libblockdev-part-err2\r\n",
      "  libblockdev-part2 libblockdev-swap2 libblockdev-utils2 libblockdev2\r\n",
      "  libparted-fs-resize0\r\n",
      "Use 'sudo apt autoremove' to remove them.\r\n",
      "The following additional packages will be installed:\r\n",
      "  libflac-dev libflac8 libogg-dev libvorbis-dev\r\n"
     ]
    },
    {
     "name": "stdout",
     "output_type": "stream",
     "text": [
      "The following NEW packages will be installed:\r\n",
      "  libflac-dev libogg-dev libsndfile1-dev libvorbis-dev\r\n",
      "The following packages will be upgraded:\r\n",
      "  libflac8\r\n"
     ]
    },
    {
     "name": "stdout",
     "output_type": "stream",
     "text": [
      "1 upgraded, 4 newly installed, 0 to remove and 170 not upgraded.\r\n"
     ]
    },
    {
     "name": "stdout",
     "output_type": "stream",
     "text": [
      "Need to get 1012 kB of archives.\r\n",
      "After this operation, 4279 kB of additional disk space will be used.\r\n",
      "\r",
      "0% [Working]\r",
      "            \r",
      "Get:1 http://us-central1.gce.archive.ubuntu.com/ubuntu focal-updates/main amd64 libflac8 amd64 1.3.3-1ubuntu0.1 [103 kB]\r\n",
      "\r",
      "1% [1 libflac8 13.7 kB/103 kB 13%]\r",
      "                                  \r",
      "12% [Working]\r",
      "             \r",
      "Get:2 http://us-central1.gce.archive.ubuntu.com/ubuntu focal/main amd64 libogg-dev amd64 1.3.4-0ubuntu1 [161 kB]\r\n",
      "\r",
      "14% [2 libogg-dev 26.9 kB/161 kB 17%]\r",
      "                                     \r",
      "29% [Waiting for headers]"
     ]
    },
    {
     "name": "stdout",
     "output_type": "stream",
     "text": [
      "\r",
      "                         \r",
      "Get:3 http://us-central1.gce.archive.ubuntu.com/ubuntu focal-updates/main amd64 libflac-dev amd64 1.3.3-1ubuntu0.1 [151 kB]\r\n",
      "\r",
      "29% [3 libflac-dev 2413 B/151 kB 2%]"
     ]
    },
    {
     "name": "stdout",
     "output_type": "stream",
     "text": [
      "\r",
      "38% [3 libflac-dev 118 kB/151 kB 79%]"
     ]
    },
    {
     "name": "stdout",
     "output_type": "stream",
     "text": [
      "\r",
      "                                     \r",
      "45% [Waiting for headers]"
     ]
    },
    {
     "name": "stdout",
     "output_type": "stream",
     "text": [
      "\r",
      "                         \r",
      "Get:4 http://us-central1.gce.archive.ubuntu.com/ubuntu focal/main amd64 libvorbis-dev amd64 1.3.6-2ubuntu1 [316 kB]\r\n",
      "\r",
      "45% [4 libvorbis-dev 3758 B/316 kB 1%]"
     ]
    },
    {
     "name": "stdout",
     "output_type": "stream",
     "text": [
      "\r",
      "53% [4 libvorbis-dev 102 kB/316 kB 32%]"
     ]
    },
    {
     "name": "stdout",
     "output_type": "stream",
     "text": [
      "\r",
      "61% [4 libvorbis-dev 209 kB/316 kB 66%]"
     ]
    },
    {
     "name": "stdout",
     "output_type": "stream",
     "text": [
      "\r",
      "69% [4 libvorbis-dev 307 kB/316 kB 97%]"
     ]
    },
    {
     "name": "stdout",
     "output_type": "stream",
     "text": [
      "\r",
      "                                       \r",
      "74% [Waiting for headers]\r",
      "                         \r",
      "Get:5 http://us-central1.gce.archive.ubuntu.com/ubuntu focal-updates/main amd64 libsndfile1-dev amd64 1.0.28-7ubuntu0.1 [280 kB]\r\n",
      "\r",
      "75% [5 libsndfile1-dev 16.5 kB/280 kB 6%]\r",
      "                                         \r",
      "100% [Working]\r",
      "              \r",
      "Fetched 1012 kB in 2s (428 kB/s)\r\n"
     ]
    },
    {
     "name": "stdout",
     "output_type": "stream",
     "text": [
      "(Reading database ... \r"
     ]
    },
    {
     "name": "stdout",
     "output_type": "stream",
     "text": [
      "(Reading database ... 5%\r",
      "(Reading database ... 10%\r",
      "(Reading database ... 15%\r",
      "(Reading database ... 20%\r",
      "(Reading database ... 25%\r",
      "(Reading database ... 30%\r",
      "(Reading database ... 35%\r",
      "(Reading database ... 40%\r",
      "(Reading database ... 45%\r",
      "(Reading database ... 50%\r",
      "(Reading database ... 55%\r",
      "(Reading database ... 60%\r",
      "(Reading database ... 65%\r",
      "(Reading database ... 70%\r",
      "(Reading database ... 75%\r",
      "(Reading database ... 80%\r",
      "(Reading database ... 85%\r"
     ]
    },
    {
     "name": "stdout",
     "output_type": "stream",
     "text": [
      "(Reading database ... 90%\r",
      "(Reading database ... 95%\r",
      "(Reading database ... 100%\r",
      "(Reading database ... 140734 files and directories currently installed.)\r\n",
      "Preparing to unpack .../libflac8_1.3.3-1ubuntu0.1_amd64.deb ...\r\n",
      "Unpacking libflac8:amd64 (1.3.3-1ubuntu0.1) over (1.3.3-1build1) ...\r\n"
     ]
    },
    {
     "name": "stdout",
     "output_type": "stream",
     "text": [
      "Selecting previously unselected package libogg-dev:amd64.\r\n",
      "Preparing to unpack .../libogg-dev_1.3.4-0ubuntu1_amd64.deb ...\r\n",
      "Unpacking libogg-dev:amd64 (1.3.4-0ubuntu1) ...\r\n"
     ]
    },
    {
     "name": "stdout",
     "output_type": "stream",
     "text": [
      "Selecting previously unselected package libflac-dev:amd64.\r\n",
      "Preparing to unpack .../libflac-dev_1.3.3-1ubuntu0.1_amd64.deb ...\r\n",
      "Unpacking libflac-dev:amd64 (1.3.3-1ubuntu0.1) ...\r\n"
     ]
    },
    {
     "name": "stdout",
     "output_type": "stream",
     "text": [
      "Selecting previously unselected package libvorbis-dev:amd64.\r\n",
      "Preparing to unpack .../libvorbis-dev_1.3.6-2ubuntu1_amd64.deb ...\r\n",
      "Unpacking libvorbis-dev:amd64 (1.3.6-2ubuntu1) ...\r\n"
     ]
    },
    {
     "name": "stdout",
     "output_type": "stream",
     "text": [
      "Selecting previously unselected package libsndfile1-dev.\r\n",
      "Preparing to unpack .../libsndfile1-dev_1.0.28-7ubuntu0.1_amd64.deb ...\r\n",
      "Unpacking libsndfile1-dev (1.0.28-7ubuntu0.1) ...\r\n"
     ]
    },
    {
     "name": "stdout",
     "output_type": "stream",
     "text": [
      "Setting up libogg-dev:amd64 (1.3.4-0ubuntu1) ...\r\n",
      "Setting up libflac8:amd64 (1.3.3-1ubuntu0.1) ...\r\n",
      "Setting up libvorbis-dev:amd64 (1.3.6-2ubuntu1) ...\r\n",
      "Setting up libflac-dev:amd64 (1.3.3-1ubuntu0.1) ...\r\n",
      "Setting up libsndfile1-dev (1.0.28-7ubuntu0.1) ...\r\n"
     ]
    },
    {
     "name": "stdout",
     "output_type": "stream",
     "text": [
      "Processing triggers for libc-bin (2.31-0ubuntu9.9) ...\r\n"
     ]
    }
   ],
   "source": [
    "!pip3 install -q git+https://github.com/vasudevgupta7/gsoc-wav2vec2@main\n",
    "!sudo apt-get install -y libsndfile1-dev\n",
    "!pip3 install -q SoundFile"
   ]
  },
  {
   "cell_type": "markdown",
   "metadata": {
    "id": "wvuJL8-f0zn5"
   },
   "source": [
    "## 使用 `TFHub` 设置模型\n",
    "\n",
    "我们先导入一些库/模块。"
   ]
  },
  {
   "cell_type": "code",
   "execution_count": 3,
   "metadata": {
    "execution": {
     "iopub.execute_input": "2022-12-14T22:29:27.101701Z",
     "iopub.status.busy": "2022-12-14T22:29:27.101056Z",
     "iopub.status.idle": "2022-12-14T22:29:29.210013Z",
     "shell.execute_reply": "2022-12-14T22:29:29.209341Z"
    },
    "id": "M3_fgx4eZvM7"
   },
   "outputs": [
    {
     "name": "stderr",
     "output_type": "stream",
     "text": [
      "2022-12-14 22:29:28.070678: W tensorflow/compiler/xla/stream_executor/platform/default/dso_loader.cc:64] Could not load dynamic library 'libnvinfer.so.7'; dlerror: libnvinfer.so.7: cannot open shared object file: No such file or directory\n",
      "2022-12-14 22:29:28.070793: W tensorflow/compiler/xla/stream_executor/platform/default/dso_loader.cc:64] Could not load dynamic library 'libnvinfer_plugin.so.7'; dlerror: libnvinfer_plugin.so.7: cannot open shared object file: No such file or directory\n",
      "2022-12-14 22:29:28.070803: W tensorflow/compiler/tf2tensorrt/utils/py_utils.cc:38] TF-TRT Warning: Cannot dlopen some TensorRT libraries. If you would like to use Nvidia GPU with TensorRT, please make sure the missing libraries mentioned above are installed properly.\n"
     ]
    },
    {
     "name": "stdout",
     "output_type": "stream",
     "text": [
      "TF version: 2.11.0\n"
     ]
    }
   ],
   "source": [
    "import os\n",
    "\n",
    "import tensorflow as tf\n",
    "import tensorflow_hub as hub\n",
    "from wav2vec2 import Wav2Vec2Config\n",
    "\n",
    "config = Wav2Vec2Config()\n",
    "\n",
    "print(\"TF version:\", tf.__version__)"
   ]
  },
  {
   "cell_type": "markdown",
   "metadata": {
    "id": "y0rVUxyWsS5f"
   },
   "source": [
    "首先，我们将从 TFHub 下载模型，并使用 [`hub.KerasLayer`](https://tensorflow.google.cn/hub/api_docs/python/hub/KerasLayer) 包装模型签名，以便能够像使用任何其他 Keras 层一样使用此模型。幸运的是，只需 1 行代码，`hub.KerasLayer` 就可以完成这两项操作。\n",
    "\n",
    "**注：**当使用 `hub.KerasLayer` 加载模型时，模型会变得有点不透明，但有时我们需要对模型进行更精细的控制，然后可以使用 `tf.keras.models.load_model(...)` 加载模型。"
   ]
  },
  {
   "cell_type": "code",
   "execution_count": 4,
   "metadata": {
    "execution": {
     "iopub.execute_input": "2022-12-14T22:29:29.214018Z",
     "iopub.status.busy": "2022-12-14T22:29:29.213235Z",
     "iopub.status.idle": "2022-12-14T22:29:44.252697Z",
     "shell.execute_reply": "2022-12-14T22:29:44.251922Z"
    },
    "id": "NO6QRC7KZvM9"
   },
   "outputs": [
    {
     "name": "stdout",
     "output_type": "stream",
     "text": [
      "WARNING:tensorflow:Please fix your imports. Module tensorflow.python.training.tracking.data_structures has been moved to tensorflow.python.trackable.data_structures. The old module will be deleted in version 2.11.\n"
     ]
    }
   ],
   "source": [
    "pretrained_layer = hub.KerasLayer(\"https://tfhub.dev/vasudevgupta7/wav2vec2/1\", trainable=True)"
   ]
  },
  {
   "cell_type": "markdown",
   "metadata": {
    "id": "pCputyVBv2e9"
   },
   "source": [
    "如果您对模型导出脚本感兴趣，可以参考此[脚本](https://github.com/vasudevgupta7/gsoc-wav2vec2/blob/main/src/export2hub.py)。对象 `pretrained_layer` 是 [`Wav2Vec2Model`](https://github.com/vasudevgupta7/gsoc-wav2vec2/blob/main/src/wav2vec2/modeling.py) 的冻结版本。这些预训练权重是使用[此脚本](https://github.com/vasudevgupta7/gsoc-wav2vec2/blob/main/src/convert_torch_to_tf.py)从 HuggingFace PyTorch [预训练权重](https://huggingface.co/facebook/wav2vec2-base)转换而来的。\n",
    "\n",
    "最初，wav2vec2 是使用遮罩语言建模方法进行预训练的，目的是确定遮罩时间步长的真实量化潜在语音表示。有关训练目标的更多信息，可以参阅论文 [wav2vec 2.0: A Framework for Self-Supervised Learning of Speech Representations](https://arxiv.org/abs/2006.11477)。"
   ]
  },
  {
   "cell_type": "markdown",
   "metadata": {
    "id": "SseDnCr7hyhC"
   },
   "source": [
    "现在，我们将定义一些常量和超参数，它们将在接下来的几个单元中用到。`AUDIO_MAXLEN` 有意设置为 `246000`，因为模型签名仅接受 `246000` 的静态序列长度。"
   ]
  },
  {
   "cell_type": "code",
   "execution_count": 5,
   "metadata": {
    "execution": {
     "iopub.execute_input": "2022-12-14T22:29:44.256978Z",
     "iopub.status.busy": "2022-12-14T22:29:44.256481Z",
     "iopub.status.idle": "2022-12-14T22:29:44.259741Z",
     "shell.execute_reply": "2022-12-14T22:29:44.259134Z"
    },
    "id": "eiILuMBERxlO"
   },
   "outputs": [],
   "source": [
    "AUDIO_MAXLEN = 246000\n",
    "LABEL_MAXLEN = 256\n",
    "BATCH_SIZE = 2"
   ]
  },
  {
   "cell_type": "markdown",
   "metadata": {
    "id": "1V4gTgGLgXvO"
   },
   "source": [
    "在以下单元中，我们将使用 [Keras 的函数 API](https://tensorflow.google.cn/guide/keras/functional) 包装 `pretrained_layer` 和一个密集层（LM 头）。"
   ]
  },
  {
   "cell_type": "code",
   "execution_count": 6,
   "metadata": {
    "execution": {
     "iopub.execute_input": "2022-12-14T22:29:44.263058Z",
     "iopub.status.busy": "2022-12-14T22:29:44.262563Z",
     "iopub.status.idle": "2022-12-14T22:29:44.894547Z",
     "shell.execute_reply": "2022-12-14T22:29:44.893474Z"
    },
    "id": "a3CUN1KEB10Q"
   },
   "outputs": [
    {
     "name": "stdout",
     "output_type": "stream",
     "text": [
      "WARNING:tensorflow:From /tmpfs/src/tf_docs_env/lib/python3.9/site-packages/tensorflow/python/autograph/pyct/static_analysis/liveness.py:83: Analyzer.lamba_check (from tensorflow.python.autograph.pyct.static_analysis.liveness) is deprecated and will be removed after 2023-09-23.\n",
      "Instructions for updating:\n",
      "Lambda fuctions will be no more assumed to be used in the statement where they are used, or at least in the same block. https://github.com/tensorflow/tensorflow/issues/56089\n"
     ]
    },
    {
     "name": "stderr",
     "output_type": "stream",
     "text": [
      "WARNING:tensorflow:From /tmpfs/src/tf_docs_env/lib/python3.9/site-packages/tensorflow/python/autograph/pyct/static_analysis/liveness.py:83: Analyzer.lamba_check (from tensorflow.python.autograph.pyct.static_analysis.liveness) is deprecated and will be removed after 2023-09-23.\n",
      "Instructions for updating:\n",
      "Lambda fuctions will be no more assumed to be used in the statement where they are used, or at least in the same block. https://github.com/tensorflow/tensorflow/issues/56089\n"
     ]
    }
   ],
   "source": [
    "inputs = tf.keras.Input(shape=(AUDIO_MAXLEN,))\n",
    "hidden_states = pretrained_layer(inputs)\n",
    "outputs = tf.keras.layers.Dense(config.vocab_size)(hidden_states)\n",
    "\n",
    "model = tf.keras.Model(inputs=inputs, outputs=outputs)"
   ]
  },
  {
   "cell_type": "markdown",
   "metadata": {
    "id": "5zDXuoMXhDMo"
   },
   "source": [
    "上面定义的密集层的输出维度为 `vocab_size`，因为我们希望在每个时间步长都预测词汇表中每个标记的概率。"
   ]
  },
  {
   "cell_type": "markdown",
   "metadata": {
    "id": "oPp18ZHRtnq-"
   },
   "source": [
    "## 设置训练状态"
   ]
  },
  {
   "cell_type": "markdown",
   "metadata": {
    "id": "ATQy1ZK3vFr7"
   },
   "source": [
    "在 TensorFlow 中，只有第一次调用 `model.call` 或 `model.build` 时才会构建模型权重，因此下面的单元将为我们构建模型权重。此外，我们将运行 `model.summary()` 来检查可训练参数的总数。"
   ]
  },
  {
   "cell_type": "code",
   "execution_count": 7,
   "metadata": {
    "execution": {
     "iopub.execute_input": "2022-12-14T22:29:44.898883Z",
     "iopub.status.busy": "2022-12-14T22:29:44.898577Z",
     "iopub.status.idle": "2022-12-14T22:29:47.144017Z",
     "shell.execute_reply": "2022-12-14T22:29:47.143239Z"
    },
    "id": "ZgL5wyaXZvM-"
   },
   "outputs": [
    {
     "name": "stdout",
     "output_type": "stream",
     "text": [
      "Model: \"model\"\n"
     ]
    },
    {
     "name": "stdout",
     "output_type": "stream",
     "text": [
      "_________________________________________________________________\n"
     ]
    },
    {
     "name": "stdout",
     "output_type": "stream",
     "text": [
      " Layer (type)                Output Shape              Param #   \n"
     ]
    },
    {
     "name": "stdout",
     "output_type": "stream",
     "text": [
      "=================================================================\n"
     ]
    },
    {
     "name": "stdout",
     "output_type": "stream",
     "text": [
      " input_1 (InputLayer)        [(None, 246000)]          0         \n"
     ]
    },
    {
     "name": "stdout",
     "output_type": "stream",
     "text": [
      "                                                                 \n"
     ]
    },
    {
     "name": "stdout",
     "output_type": "stream",
     "text": [
      " keras_layer (KerasLayer)    (None, 768, 768)          94371712  \n"
     ]
    },
    {
     "name": "stdout",
     "output_type": "stream",
     "text": [
      "                                                                 \n"
     ]
    },
    {
     "name": "stdout",
     "output_type": "stream",
     "text": [
      " dense (Dense)               (None, 768, 32)           24608     \n"
     ]
    },
    {
     "name": "stdout",
     "output_type": "stream",
     "text": [
      "                                                                 \n"
     ]
    },
    {
     "name": "stdout",
     "output_type": "stream",
     "text": [
      "=================================================================\n"
     ]
    },
    {
     "name": "stdout",
     "output_type": "stream",
     "text": [
      "Total params: 94,396,320\n"
     ]
    },
    {
     "name": "stdout",
     "output_type": "stream",
     "text": [
      "Trainable params: 94,396,320\n"
     ]
    },
    {
     "name": "stdout",
     "output_type": "stream",
     "text": [
      "Non-trainable params: 0\n"
     ]
    },
    {
     "name": "stdout",
     "output_type": "stream",
     "text": [
      "_________________________________________________________________\n"
     ]
    }
   ],
   "source": [
    "model(tf.random.uniform(shape=(BATCH_SIZE, AUDIO_MAXLEN)))\n",
    "model.summary()"
   ]
  },
  {
   "cell_type": "markdown",
   "metadata": {
    "id": "EQxxA4Fevp7m"
   },
   "source": [
    "现在，我们需要定义 `loss_fn` 和优化器才能训练模型。下面的单元将执行此操作。为简单起见，我们将使用 `Adam` 优化器。`CTCLoss`是一个常见的损失类型，用于输入子部分无法轻易与输出子部分对齐的任务（如 `ASR`）。您可以从这篇精彩的[博客文章](https://distill.pub/2017/ctc/)中了解有关 CTC 损失的更多信息。\n",
    "\n",
    "`CTCLoss`（来自 [`gsoc-wav2vec2`](https://github.com/vasudevgupta7/gsoc-wav2vec2) 包）接受 3 个参数：`config`、`model_input_shape` 和 `division_factor`。如果 `division_factor=1`，那么损失将简单地相加，因此相应地传递 `division_factor` 可获得批次的平均值。"
   ]
  },
  {
   "cell_type": "code",
   "execution_count": 8,
   "metadata": {
    "execution": {
     "iopub.execute_input": "2022-12-14T22:29:47.148808Z",
     "iopub.status.busy": "2022-12-14T22:29:47.148143Z",
     "iopub.status.idle": "2022-12-14T22:29:47.155628Z",
     "shell.execute_reply": "2022-12-14T22:29:47.154963Z"
    },
    "id": "glDepVEHZvM_"
   },
   "outputs": [],
   "source": [
    "from wav2vec2 import CTCLoss\n",
    "\n",
    "LEARNING_RATE = 5e-5\n",
    "\n",
    "loss_fn = CTCLoss(config, (BATCH_SIZE, AUDIO_MAXLEN), division_factor=BATCH_SIZE)\n",
    "optimizer = tf.keras.optimizers.Adam(LEARNING_RATE)"
   ]
  },
  {
   "cell_type": "markdown",
   "metadata": {
    "id": "1mvTuOXpwsQe"
   },
   "source": [
    "## 加载和预处理数据\n",
    "\n",
    "现在让我们从[官方网站](http://www.openslr.org/12)下载 LibriSpeech 数据集并进行设置。"
   ]
  },
  {
   "cell_type": "code",
   "execution_count": 9,
   "metadata": {
    "execution": {
     "iopub.execute_input": "2022-12-14T22:29:47.159585Z",
     "iopub.status.busy": "2022-12-14T22:29:47.159011Z",
     "iopub.status.idle": "2022-12-14T22:30:03.672012Z",
     "shell.execute_reply": "2022-12-14T22:30:03.670633Z"
    },
    "id": "I4kIEC77cBCM"
   },
   "outputs": [
    {
     "name": "stdout",
     "output_type": "stream",
     "text": [
      "--2022-12-14 22:29:47--  https://www.openslr.org/resources/12/dev-clean.tar.gz\r\n",
      "Resolving www.openslr.org (www.openslr.org)... "
     ]
    },
    {
     "name": "stdout",
     "output_type": "stream",
     "text": [
      "46.101.158.64\r\n",
      "Connecting to www.openslr.org (www.openslr.org)|46.101.158.64|:443... "
     ]
    },
    {
     "name": "stdout",
     "output_type": "stream",
     "text": [
      "connected.\r\n"
     ]
    },
    {
     "name": "stdout",
     "output_type": "stream",
     "text": [
      "HTTP request sent, awaiting response... "
     ]
    },
    {
     "name": "stdout",
     "output_type": "stream",
     "text": [
      "302 Found\r\n",
      "Location: http://us.openslr.org/resources/12/dev-clean.tar.gz [following]\r\n",
      "--2022-12-14 22:29:47--  http://us.openslr.org/resources/12/dev-clean.tar.gz\r\n",
      "Resolving us.openslr.org (us.openslr.org)... "
     ]
    },
    {
     "name": "stdout",
     "output_type": "stream",
     "text": [
      "46.101.158.64\r\n",
      "Connecting to us.openslr.org (us.openslr.org)|46.101.158.64|:80... "
     ]
    },
    {
     "name": "stdout",
     "output_type": "stream",
     "text": [
      "connected.\r\n",
      "HTTP request sent, awaiting response... "
     ]
    },
    {
     "name": "stdout",
     "output_type": "stream",
     "text": [
      "200 OK\r\n",
      "Length: 337926286 (322M) [application/x-gzip]\r\n",
      "Saving to: ‘./data/train/dev-clean.tar.gz’\r\n",
      "\r\n",
      "\r",
      "dev-clean.tar.gz      0%[                    ]       0  --.-KB/s               "
     ]
    },
    {
     "name": "stdout",
     "output_type": "stream",
     "text": [
      "\r",
      "dev-clean.tar.gz      0%[                    ]  42.33K   196KB/s               "
     ]
    },
    {
     "name": "stdout",
     "output_type": "stream",
     "text": [
      "\r",
      "dev-clean.tar.gz      0%[                    ] 191.95K   443KB/s               "
     ]
    },
    {
     "name": "stdout",
     "output_type": "stream",
     "text": [
      "\r",
      "dev-clean.tar.gz      0%[                    ] 783.45K  1.18MB/s               "
     ]
    },
    {
     "name": "stdout",
     "output_type": "stream",
     "text": [
      "\r",
      "dev-clean.tar.gz      0%[                    ]   3.09M  3.56MB/s               "
     ]
    },
    {
     "name": "stdout",
     "output_type": "stream",
     "text": [
      "\r",
      "dev-clean.tar.gz      2%[                    ]   8.32M  7.68MB/s               "
     ]
    },
    {
     "name": "stdout",
     "output_type": "stream",
     "text": [
      "\r",
      "dev-clean.tar.gz      4%[                    ]  13.78M  10.6MB/s               "
     ]
    },
    {
     "name": "stdout",
     "output_type": "stream",
     "text": [
      "\r",
      "dev-clean.tar.gz      5%[>                   ]  18.98M  12.5MB/s               "
     ]
    },
    {
     "name": "stdout",
     "output_type": "stream",
     "text": [
      "\r",
      "dev-clean.tar.gz      7%[>                   ]  24.69M  14.2MB/s               "
     ]
    },
    {
     "name": "stdout",
     "output_type": "stream",
     "text": [
      "\r",
      "dev-clean.tar.gz      9%[>                   ]  30.24M  15.5MB/s               "
     ]
    },
    {
     "name": "stdout",
     "output_type": "stream",
     "text": [
      "\r",
      "dev-clean.tar.gz     11%[=>                  ]  35.96M  16.6MB/s               "
     ]
    },
    {
     "name": "stdout",
     "output_type": "stream",
     "text": [
      "\r",
      "dev-clean.tar.gz     12%[=>                  ]  41.56M  17.4MB/s               "
     ]
    },
    {
     "name": "stdout",
     "output_type": "stream",
     "text": [
      "\r",
      "dev-clean.tar.gz     14%[=>                  ]  47.20M  18.1MB/s               "
     ]
    },
    {
     "name": "stdout",
     "output_type": "stream",
     "text": [
      "\r",
      "dev-clean.tar.gz     16%[==>                 ]  52.69M  18.7MB/s               "
     ]
    },
    {
     "name": "stdout",
     "output_type": "stream",
     "text": [
      "\r",
      "dev-clean.tar.gz     18%[==>                 ]  58.37M  19.2MB/s    eta 14s    "
     ]
    },
    {
     "name": "stdout",
     "output_type": "stream",
     "text": [
      "\r",
      "dev-clean.tar.gz     19%[==>                 ]  63.97M  19.7MB/s    eta 14s    "
     ]
    },
    {
     "name": "stdout",
     "output_type": "stream",
     "text": [
      "\r",
      "dev-clean.tar.gz     21%[===>                ]  69.74M  20.1MB/s    eta 14s    "
     ]
    },
    {
     "name": "stdout",
     "output_type": "stream",
     "text": [
      "\r",
      "dev-clean.tar.gz     23%[===>                ]  75.39M  20.5MB/s    eta 14s    "
     ]
    },
    {
     "name": "stdout",
     "output_type": "stream",
     "text": [
      "\r",
      "dev-clean.tar.gz     25%[====>               ]  80.97M  20.7MB/s    eta 14s    "
     ]
    },
    {
     "name": "stdout",
     "output_type": "stream",
     "text": [
      "\r",
      "dev-clean.tar.gz     26%[====>               ]  86.51M  21.0MB/s    eta 11s    "
     ]
    },
    {
     "name": "stdout",
     "output_type": "stream",
     "text": [
      "\r",
      "dev-clean.tar.gz     28%[====>               ]  92.17M  21.3MB/s    eta 11s    "
     ]
    },
    {
     "name": "stdout",
     "output_type": "stream",
     "text": [
      "\r",
      "dev-clean.tar.gz     30%[=====>              ]  97.96M  22.6MB/s    eta 11s    "
     ]
    },
    {
     "name": "stdout",
     "output_type": "stream",
     "text": [
      "\r",
      "dev-clean.tar.gz     32%[=====>              ] 103.71M  23.9MB/s    eta 11s    "
     ]
    },
    {
     "name": "stdout",
     "output_type": "stream",
     "text": [
      "\r",
      "dev-clean.tar.gz     33%[=====>              ] 109.27M  25.0MB/s    eta 11s    "
     ]
    },
    {
     "name": "stdout",
     "output_type": "stream",
     "text": [
      "\r",
      "dev-clean.tar.gz     35%[======>             ] 114.91M  25.8MB/s    eta 9s     "
     ]
    },
    {
     "name": "stdout",
     "output_type": "stream",
     "text": [
      "\r",
      "dev-clean.tar.gz     37%[======>             ] 120.60M  25.9MB/s    eta 9s     "
     ]
    },
    {
     "name": "stdout",
     "output_type": "stream",
     "text": [
      "\r",
      "dev-clean.tar.gz     39%[======>             ] 126.08M  25.9MB/s    eta 9s     "
     ]
    },
    {
     "name": "stdout",
     "output_type": "stream",
     "text": [
      "\r",
      "dev-clean.tar.gz     40%[=======>            ] 131.80M  26.0MB/s    eta 9s     "
     ]
    },
    {
     "name": "stdout",
     "output_type": "stream",
     "text": [
      "\r",
      "dev-clean.tar.gz     42%[=======>            ] 137.53M  26.0MB/s    eta 9s     "
     ]
    },
    {
     "name": "stdout",
     "output_type": "stream",
     "text": [
      "\r",
      "dev-clean.tar.gz     44%[=======>            ] 143.23M  26.0MB/s    eta 8s     "
     ]
    },
    {
     "name": "stdout",
     "output_type": "stream",
     "text": [
      "\r",
      "dev-clean.tar.gz     46%[========>           ] 148.85M  26.0MB/s    eta 8s     "
     ]
    },
    {
     "name": "stdout",
     "output_type": "stream",
     "text": [
      "\r",
      "dev-clean.tar.gz     47%[========>           ] 154.44M  26.0MB/s    eta 8s     "
     ]
    },
    {
     "name": "stdout",
     "output_type": "stream",
     "text": [
      "\r",
      "dev-clean.tar.gz     49%[========>           ] 160.06M  26.0MB/s    eta 8s     "
     ]
    },
    {
     "name": "stdout",
     "output_type": "stream",
     "text": [
      "\r",
      "dev-clean.tar.gz     51%[=========>          ] 165.66M  26.0MB/s    eta 8s     "
     ]
    },
    {
     "name": "stdout",
     "output_type": "stream",
     "text": [
      "\r",
      "dev-clean.tar.gz     53%[=========>          ] 171.23M  26.0MB/s    eta 7s     "
     ]
    },
    {
     "name": "stdout",
     "output_type": "stream",
     "text": [
      "\r",
      "dev-clean.tar.gz     54%[=========>          ] 176.87M  26.0MB/s    eta 7s     "
     ]
    },
    {
     "name": "stdout",
     "output_type": "stream",
     "text": [
      "\r",
      "dev-clean.tar.gz     56%[==========>         ] 182.42M  26.0MB/s    eta 7s     "
     ]
    },
    {
     "name": "stdout",
     "output_type": "stream",
     "text": [
      "\r",
      "dev-clean.tar.gz     58%[==========>         ] 187.97M  25.9MB/s    eta 7s     "
     ]
    },
    {
     "name": "stdout",
     "output_type": "stream",
     "text": [
      "\r",
      "dev-clean.tar.gz     60%[===========>        ] 193.43M  25.9MB/s    eta 7s     "
     ]
    },
    {
     "name": "stdout",
     "output_type": "stream",
     "text": [
      "\r",
      "dev-clean.tar.gz     61%[===========>        ] 199.11M  25.9MB/s    eta 5s     "
     ]
    },
    {
     "name": "stdout",
     "output_type": "stream",
     "text": [
      "\r",
      "dev-clean.tar.gz     63%[===========>        ] 204.90M  26.0MB/s    eta 5s     "
     ]
    },
    {
     "name": "stdout",
     "output_type": "stream",
     "text": [
      "\r",
      "dev-clean.tar.gz     65%[============>       ] 210.46M  25.9MB/s    eta 5s     "
     ]
    },
    {
     "name": "stdout",
     "output_type": "stream",
     "text": [
      "\r",
      "dev-clean.tar.gz     67%[============>       ] 216.18M  25.9MB/s    eta 5s     "
     ]
    },
    {
     "name": "stdout",
     "output_type": "stream",
     "text": [
      "\r",
      "dev-clean.tar.gz     68%[============>       ] 221.87M  26.0MB/s    eta 5s     "
     ]
    },
    {
     "name": "stdout",
     "output_type": "stream",
     "text": [
      "\r",
      "dev-clean.tar.gz     70%[=============>      ] 227.39M  25.9MB/s    eta 4s     "
     ]
    },
    {
     "name": "stdout",
     "output_type": "stream",
     "text": [
      "\r",
      "dev-clean.tar.gz     72%[=============>      ] 233.03M  25.9MB/s    eta 4s     "
     ]
    },
    {
     "name": "stdout",
     "output_type": "stream",
     "text": [
      "\r",
      "dev-clean.tar.gz     74%[=============>      ] 238.76M  26.0MB/s    eta 4s     "
     ]
    },
    {
     "name": "stdout",
     "output_type": "stream",
     "text": [
      "\r",
      "dev-clean.tar.gz     75%[==============>     ] 244.63M  26.0MB/s    eta 4s     "
     ]
    },
    {
     "name": "stdout",
     "output_type": "stream",
     "text": [
      "\r",
      "dev-clean.tar.gz     77%[==============>     ] 250.26M  26.0MB/s    eta 4s     "
     ]
    },
    {
     "name": "stdout",
     "output_type": "stream",
     "text": [
      "\r",
      "dev-clean.tar.gz     79%[==============>     ] 256.11M  26.0MB/s    eta 3s     "
     ]
    },
    {
     "name": "stdout",
     "output_type": "stream",
     "text": [
      "\r",
      "dev-clean.tar.gz     81%[===============>    ] 261.92M  26.1MB/s    eta 3s     "
     ]
    },
    {
     "name": "stdout",
     "output_type": "stream",
     "text": [
      "\r",
      "dev-clean.tar.gz     82%[===============>    ] 267.47M  26.0MB/s    eta 3s     "
     ]
    },
    {
     "name": "stdout",
     "output_type": "stream",
     "text": [
      "\r",
      "dev-clean.tar.gz     84%[===============>    ] 273.07M  26.0MB/s    eta 3s     "
     ]
    },
    {
     "name": "stdout",
     "output_type": "stream",
     "text": [
      "\r",
      "dev-clean.tar.gz     86%[================>   ] 278.71M  26.0MB/s    eta 3s     "
     ]
    },
    {
     "name": "stdout",
     "output_type": "stream",
     "text": [
      "\r",
      "dev-clean.tar.gz     88%[================>   ] 284.38M  26.1MB/s    eta 2s     "
     ]
    },
    {
     "name": "stdout",
     "output_type": "stream",
     "text": [
      "\r",
      "dev-clean.tar.gz     89%[================>   ] 289.85M  26.0MB/s    eta 2s     "
     ]
    },
    {
     "name": "stdout",
     "output_type": "stream",
     "text": [
      "\r",
      "dev-clean.tar.gz     91%[=================>  ] 295.55M  26.1MB/s    eta 2s     "
     ]
    },
    {
     "name": "stdout",
     "output_type": "stream",
     "text": [
      "\r",
      "dev-clean.tar.gz     93%[=================>  ] 301.00M  26.0MB/s    eta 2s     "
     ]
    },
    {
     "name": "stdout",
     "output_type": "stream",
     "text": [
      "\r",
      "dev-clean.tar.gz     95%[==================> ] 306.57M  26.1MB/s    eta 2s     "
     ]
    },
    {
     "name": "stdout",
     "output_type": "stream",
     "text": [
      "\r",
      "dev-clean.tar.gz     96%[==================> ] 312.16M  26.0MB/s    eta 0s     "
     ]
    },
    {
     "name": "stdout",
     "output_type": "stream",
     "text": [
      "\r",
      "dev-clean.tar.gz     98%[==================> ] 317.84M  26.0MB/s    eta 0s     "
     ]
    },
    {
     "name": "stdout",
     "output_type": "stream",
     "text": [
      "\r",
      "dev-clean.tar.gz    100%[===================>] 322.27M  26.4MB/s    in 13s     \r\n",
      "\r\n",
      "2022-12-14 22:30:01 (24.5 MB/s) - ‘./data/train/dev-clean.tar.gz’ saved [337926286/337926286]\r\n",
      "\r\n"
     ]
    }
   ],
   "source": [
    "!wget https://www.openslr.org/resources/12/dev-clean.tar.gz -P ./data/train/\n",
    "!tar -xf ./data/train/dev-clean.tar.gz -C ./data/train/"
   ]
  },
  {
   "cell_type": "markdown",
   "metadata": {
    "id": "LsQpmpn6jrMI"
   },
   "source": [
    "**注：**我们将使用 `dev-clean` 配置，因为本笔记本只为演示之用，因此只需要少量数据。完整的训练数据可以轻易地从 [LibriSpeech 网站](http://www.openslr.org/12)下载。"
   ]
  },
  {
   "cell_type": "code",
   "execution_count": 10,
   "metadata": {
    "execution": {
     "iopub.execute_input": "2022-12-14T22:30:03.677430Z",
     "iopub.status.busy": "2022-12-14T22:30:03.676730Z",
     "iopub.status.idle": "2022-12-14T22:30:03.876630Z",
     "shell.execute_reply": "2022-12-14T22:30:03.875685Z"
    },
    "id": "ynxAjtGHGFpM"
   },
   "outputs": [
    {
     "name": "stdout",
     "output_type": "stream",
     "text": [
      "\u001b[0m\u001b[01;34mLibriSpeech\u001b[0m/  dev-clean.tar.gz\r\n"
     ]
    }
   ],
   "source": [
    "ls ./data/train/"
   ]
  },
  {
   "cell_type": "markdown",
   "metadata": {
    "id": "yBMiORo0xJD0"
   },
   "source": [
    "我们的数据集位于 LibriSpeech 目录中。让我们浏览一下这些文件。"
   ]
  },
  {
   "cell_type": "code",
   "execution_count": 11,
   "metadata": {
    "execution": {
     "iopub.execute_input": "2022-12-14T22:30:03.880920Z",
     "iopub.status.busy": "2022-12-14T22:30:03.880642Z",
     "iopub.status.idle": "2022-12-14T22:30:03.886117Z",
     "shell.execute_reply": "2022-12-14T22:30:03.885509Z"
    },
    "id": "jkIu_Wt4ZvNA"
   },
   "outputs": [
    {
     "name": "stdout",
     "output_type": "stream",
     "text": [
      "Transcription files: ['2428-83705.trans.txt'] \n",
      "Sound files: ['2428-83705-0001.flac', '2428-83705-0037.flac', '2428-83705-0026.flac', '2428-83705-0025.flac', '2428-83705-0014.flac', '2428-83705-0022.flac', '2428-83705-0018.flac', '2428-83705-0024.flac', '2428-83705-0038.flac', '2428-83705-0006.flac', '2428-83705-0032.flac', '2428-83705-0012.flac', '2428-83705-0019.flac', '2428-83705-0036.flac', '2428-83705-0000.flac', '2428-83705-0003.flac', '2428-83705-0031.flac', '2428-83705-0017.flac', '2428-83705-0034.flac', '2428-83705-0042.flac', '2428-83705-0016.flac', '2428-83705-0028.flac', '2428-83705-0010.flac', '2428-83705-0009.flac', '2428-83705-0015.flac', '2428-83705-0040.flac', '2428-83705-0033.flac', '2428-83705-0023.flac', '2428-83705-0011.flac', '2428-83705-0039.flac', '2428-83705-0013.flac', '2428-83705-0005.flac', '2428-83705-0008.flac', '2428-83705-0021.flac', '2428-83705-0035.flac', '2428-83705-0030.flac', '2428-83705-0007.flac', '2428-83705-0020.flac', '2428-83705-0002.flac', '2428-83705-0043.flac', '2428-83705-0027.flac', '2428-83705-0004.flac', '2428-83705-0029.flac', '2428-83705-0041.flac']\n"
     ]
    }
   ],
   "source": [
    "data_dir = \"./data/train/LibriSpeech/dev-clean/2428/83705/\"\n",
    "all_files = os.listdir(data_dir)\n",
    "\n",
    "flac_files = [f for f in all_files if f.endswith(\".flac\")]\n",
    "txt_files = [f for f in all_files if f.endswith(\".txt\")]\n",
    "\n",
    "print(\"Transcription files:\", txt_files, \"\\nSound files:\", flac_files)"
   ]
  },
  {
   "cell_type": "markdown",
   "metadata": {
    "id": "XEObi_Apk3ZD"
   },
   "source": [
    "每个子目录都有许多 `.flac` 文件和一个 `.txt` 文件。这个 `.txt` 文件包含该子目录中存在的所有语音样本（即 `.flac` 文件）的文本转录。"
   ]
  },
  {
   "cell_type": "markdown",
   "metadata": {
    "id": "WYW6WKJflO2e"
   },
   "source": [
    "我们可以按如下方式加载此文本数据："
   ]
  },
  {
   "cell_type": "code",
   "execution_count": 12,
   "metadata": {
    "execution": {
     "iopub.execute_input": "2022-12-14T22:30:03.889658Z",
     "iopub.status.busy": "2022-12-14T22:30:03.889280Z",
     "iopub.status.idle": "2022-12-14T22:30:03.893384Z",
     "shell.execute_reply": "2022-12-14T22:30:03.892827Z"
    },
    "id": "cEBKxQblHPwq"
   },
   "outputs": [],
   "source": [
    "def read_txt_file(f):\n",
    "  with open(f, \"r\") as f:\n",
    "    samples = f.read().split(\"\\n\")\n",
    "    samples = {s.split()[0]: \" \".join(s.split()[1:]) for s in samples if len(s.split()) > 2}\n",
    "  return samples"
   ]
  },
  {
   "cell_type": "markdown",
   "metadata": {
    "id": "Ldkf_ceb0_YW"
   },
   "source": [
    "同样，我们将定义一个从 `.flac` 文件加载语音样本的函数。\n",
    "\n",
    "`REQUIRED_SAMPLE_RATE` 设置为 `16000`，因为 wav2vec2 是使用 `16K` 频率进行预训练的，建议在数据分布不会因频率而发生任何重大变化的情况下进行微调。"
   ]
  },
  {
   "cell_type": "code",
   "execution_count": 13,
   "metadata": {
    "execution": {
     "iopub.execute_input": "2022-12-14T22:30:03.896847Z",
     "iopub.status.busy": "2022-12-14T22:30:03.896370Z",
     "iopub.status.idle": "2022-12-14T22:30:03.991085Z",
     "shell.execute_reply": "2022-12-14T22:30:03.989992Z"
    },
    "id": "YOJ3OzPsTyXv"
   },
   "outputs": [],
   "source": [
    "import soundfile as sf\n",
    "\n",
    "REQUIRED_SAMPLE_RATE = 16000\n",
    "\n",
    "def read_flac_file(file_path):\n",
    "  with open(file_path, \"rb\") as f:\n",
    "      audio, sample_rate = sf.read(f)\n",
    "  if sample_rate != REQUIRED_SAMPLE_RATE:\n",
    "      raise ValueError(\n",
    "          f\"sample rate (={sample_rate}) of your files must be {REQUIRED_SAMPLE_RATE}\"\n",
    "      )\n",
    "  file_id = os.path.split(file_path)[-1][:-len(\".flac\")]\n",
    "  return {file_id: audio}"
   ]
  },
  {
   "cell_type": "markdown",
   "metadata": {
    "id": "2sxDN8P4nWkW"
   },
   "source": [
    "现在，我们将挑选一些随机样本并尝试将它们可视化。"
   ]
  },
  {
   "cell_type": "code",
   "execution_count": 14,
   "metadata": {
    "execution": {
     "iopub.execute_input": "2022-12-14T22:30:03.995908Z",
     "iopub.status.busy": "2022-12-14T22:30:03.995222Z",
     "iopub.status.idle": "2022-12-14T22:30:04.010081Z",
     "shell.execute_reply": "2022-12-14T22:30:04.009482Z"
    },
    "id": "HI5J-2Dfm_wT"
   },
   "outputs": [
    {
     "name": "stdout",
     "output_type": "stream",
     "text": [
      "Text Transcription: THAT WAS WHAT MISSUS MACPHERSON SAID TO ME ONLY THE OTHER DAY \n",
      "Audio:\n"
     ]
    },
    {
     "data": {
      "text/html": [
       "\n",
       "                <audio  controls=\"controls\" >\n",
       "                    <source src=\"data:audio/flac;base64,ZkxhQwAAACIQABAAAAHOABSMA+gA8AABVKBXB/r10RWK3rFMfpCuYZ7CAwAAEgAAAAAAAAAAAAAAAAAAAAAQAAQAACggAAAAcmVmZXJlbmNlIGxpYkZMQUMgMS4yLjEgMjAwNzA5MTcAAAAAgQAgAAAAAAAAAAAAAAAAAAAAAAAAAAAAAAAAAAAAAAAAAAAAAAAAAAAAAAAAAAAAAAAAAAAAAAAAAAAAAAAAAAAAAAAAAAAAAAAAAAAAAAAAAAAAAAAAAAAAAAAAAAAAAAAAAAAAAAAAAAAAAAAAAAAAAAAAAAAAAAAAAAAAAAAAAAAAAAAAAAAAAAAAAAAAAAAAAAAAAAAAAAAAAAAAAAAAAAAAAAAAAAAAAAAAAAAAAAAAAAAAAAAAAAAAAAAAAAAAAAAAAAAAAAAAAAAAAAAAAAAAAAAAAAAAAAAAAAAAAAAAAAAAAAAAAAAAAAAAAAAAAAAAAAAAAAAAAAAAAAAAAAAAAAAAAAAAAAAAAAAAAAAAAAAAAAAAAAAAAAAAAAAAAAAAAAAAAAAAAAAAAAAAAAAAAAAAAAAAAAAAAAAAAAAAAAAAAAAAAAAAAAAAAAAAAAAAAAAAAAAAAAAAAAAAAAAAAAAAAAAAAAAAAAAAAAAAAAAAAAAAAAAAAAAAAAAAAAAAAAAAAAAAAAAAAAAAAAAAAAAAAAAAAAAAAAAAAAAAAAAAAAAAAAAAAAAAAAAAAAAAAAAAAAAAAAAAAAAAAAAAAAAAAAAAAAAAAAAAAAAAAAAAAAAAAAAAAAAAAAAAAAAAAAAAAAAAAAAAAAAAAAAAAAAAAAAAAAAAAAAAAAAAAAAAAAAAAAAAAAAAAAAAAAAAAAAAAAAAAAAAAAAAAAAAAAAAAAAAAAAAAAAAAAAAAAAAAAAAAAAAAAAAAAAAAAAAAAAAAAAAAAAAAAAAAAAAAAAAAAAAAAAAAAAAAAAAAAAAAAAAAAAAAAAAAAAAAAAAAAAAAAAAAAAAAAAAAAAAAAAAAAAAAAAAAAAAAAAAAAAAAAAAAAAAAAAAAAAAAAAAAAAAAAAAAAAAAAAAAAAAAAAAAAAAAAAAAAAAAAAAAAAAAAAAAAAAAAAAAAAAAAAAAAAAAAAAAAAAAAAAAAAAAAAAAAAAAAAAAAAAAAAAAAAAAAAAAAAAAAAAAAAAAAAAAAAAAAAAAAAAAAAAAAAAAAAAAAAAAAAAAAAAAAAAAAAAAAAAAAAAAAAAAAAAAAAAAAAAAAAAAAAAAAAAAAAAAAAAAAAAAAAAAAAAAAAAAAAAAAAAAAAAAAAAAAAAAAAAAAAAAAAAAAAAAAAAAAAAAAAAAAAAAAAAAAAAAAAAAAAAAAAAAAAAAAAAAAAAAAAAAAAAAAAAAAAAAAAAAAAAAAAAAAAAAAAAAAAAAAAAAAAAAAAAAAAAAAAAAAAAAAAAAAAAAAAAAAAAAAAAAAAAAAAAAAAAAAAAAAAAAAAAAAAAAAAAAAAAAAAAAAAAAAAAAAAAAAAAAAAAAAAAAAAAAAAAAAAAAAAAAAAAAAAAAAAAAAAAAAAAAAAAAAAAAAAAAAAAAAAAAAAAAAAAAAAAAAAAAAAAAAAAAAAAAAAAAAAAAAAAAAAAAAAAAAAAAAAAAAAAAAAAAAAAAAAAAAAAAAAAAAAAAAAAAAAAAAAAAAAAAAAAAAAAAAAAAAAAAAAAAAAAAAAAAAAAAAAAAAAAAAAAAAAAAAAAAAAAAAAAAAAAAAAAAAAAAAAAAAAAAAAAAAAAAAAAAAAAAAAAAAAAAAAAAAAAAAAAAAAAAAAAAAAAAAAAAAAAAAAAAAAAAAAAAAAAAAAAAAAAAAAAAAAAAAAAAAAAAAAAAAAAAAAAAAAAAAAAAAAAAAAAAAAAAAAAAAAAAAAAAAAAAAAAAAAAAAAAAAAAAAAAAAAAAAAAAAAAAAAAAAAAAAAAAAAAAAAAAAAAAAAAAAAAAAAAAAAAAAAAAAAAAAAAAAAAAAAAAAAAAAAAAAAAAAAAAAAAAAAAAAAAAAAAAAAAAAAAAAAAAAAAAAAAAAAAAAAAAAAAAAAAAAAAAAAAAAAAAAAAAAAAAAAAAAAAAAAAAAAAAAAAAAAAAAAAAAAAAAAAAAAAAAAAAAAAAAAAAAAAAAAAAAAAAAAAAAAAAAAAAAAAAAAAAAAAAAAAAAAAAAAAAAAAAAAAAAAAAAAAAAAAAAAAAAAAAAAAAAAAAAAAAAAAAAAAAAAAAAAAAAAAAAAAAAAAAAAAAAAAAAAAAAAAAAAAAAAAAAAAAAAAAAAAAAAAAAAAAAAAAAAAAAAAAAAAAAAAAAAAAAAAAAAAAAAAAAAAAAAAAAAAAAAAAAAAAAAAAAAAAAAAAAAAAAAAAAAAAAAAAAAAAAAAAAAAAAAAAAAAAAAAAAAAAAAAAAAAAAAAAAAAAAAAAAAAAAAAAAAAAAAAAAAAAAAAAAAAAAAAAAAAAAAAAAAAAAAAAAAAAAAAAAAAAAAAAAAAAAAAAAAAAAAAAAAAAAAAAAAAAAAAAAAAAAAAAAAAAAAAAAAAAAAAAAAAAAAAAAAAAAAAAAAAAAAAAAAAAAAAAAAAAAAAAAAAAAAAAAAAAAAAAAAAAAAAAAAAAAAAAAAAAAAAAAAAAAAAAAAAAAAAAAAAAAAAAAAAAAAAAAAAAAAAAAAAAAAAAAAAAAAAAAAAAAAAAAAAAAAAAAAAAAAAAAAAAAAAAAAAAAAAAAAAAAAAAAAAAAAAAAAAAAAAAAAAAAAAAAAAAAAAAAAAAAAAAAAAAAAAAAAAAAAAAAAAAAAAAAAAAAAAAAAAAAAAAAAAAAAAAAAAAAAAAAAAAAAAAAAAAAAAAAAAAAAAAAAAAAAAAAAAAAAAAAAAAAAAAAAAAAAAAAAAAAAAAAAAAAAAAAAAAAAAAAAAAAAAAAAAAAAAAAAAAAAAAAAAAAAAAAAAAAAAAAAAAAAAAAAAAAAAAAAAAAAAAAAAAAAAAAAAAAAAAAAAAAAAAAAAAAAAAAAAAAAAAAAAAAAAAAAAAAAAAAAAAAAAAAAAAAAAAAAAAAAAAAAAAAAAAAAAAAAAAAAAAAAAAAAAAAAAAAAAAAAAAAAAAAAAAAAAAAAAAAAAAAAAAAAAAAAAAAAAAAAAAAAAAAAAAAAAAAAAAAAAAAAAAAAAAAAAAAAAAAAAAAAAAAAAAAAAAAAAAAAAAAAAAAAAAAAAAAAAAAAAAAAAAAAAAAAAAAAAAAAAAAAAAAAAAAAAAAAAAAAAAAAAAAAAAAAAAAAAAAAAAAAAAAAAAAAAAAAAAAAAAAAAAAAAAAAAAAAAAAAAAAAAAAAAAAAAAAAAAAAAAAAAAAAAAAAAAAAAAAAAAAAAAAAAAAAAAAAAAAAAAAAAAAAAAAAAAAAAAAAAAAAAAAAAAAAAAAAAAAAAAAAAAAAAAAAAAAAAAAAAAAAAAAAAAAAAAAAAAAAAAAAAAAAAAAAAAAAAAAAAAAAAAAAAAAAAAAAAAAAAAAAAAAAAAAAAAAAAAAAAAAAAAAAAAAAAAAAAAAAAAAAAAAAAAAAAAAAAAAAAAAAAAAAAAAAAAAAAAAAAAAAAAAAAAAAAAAAAAAAAAAAAAAAAAAAAAAAAAAAAAAAAAAAAAAAAAAAAAAAAAAAAAAAAAAAAAAAAAAAAAAAAAAAAAAAAAAAAAAAAAAAAAAAAAAAAAAAAAAAAAAAAAAAAAAAAAAAAAAAAAAAAAAAAAAAAAAAAAAAAAAAAAAAAAAAAAAAAAAAAAAAAAAAAAAAAAAAAAAAAAAAAAAAAAAAAAAAAAAAAAAAAAAAAAAAAAAAAAAAAAAAAAAAAAAAAAAAAAAAAAAAAAAAAAAAAAAAAAAAAAAAAAAAAAAAAAAAAAAAAAAAAAAAAAAAAAAAAAAAAAAAAAAAAAAAAAAAAAAAAAAAAAAAAAAAAAAAAAAAAAAAAAAAAAAAAAAAAAAAAAAAAAAAAAAAAAAAAAAAAAAAAAAAAAAAAAAAAAAAAAAAAAAAAAAAAAAAAAAAAAAAAAAAAAAAAAAAAAAAAAAAAAAAAAAAAAAAAAAAAAAAAAAAAAAAAAAAAAAAAAAAAAAAAAAAAAAAAAAAAAAAAAAAAAAAAAAAAAAAAAAAAAAAAAAAAAAAAAAAAAAAAAAAAAAAAAAAAAAAAAAAAAAAAAAAAAAAAAAAAAAAAAAAAAAAAAAAAAAAAAAAAAAAAAAAAAAAAAAAAAAAAAAAAAAAAAAAAAAAAAAAAAAAAAAAAAAAAAAAAAAAAAAAAAAAAAAAAAAAAAAAAAAAAAAAAAAAAAAAAAAAAAAAAAAAAAAAAAAAAAAAAAAAAAAAAAAAAAAAAAAAAAAAAAAAAAAAAAAAAAAAAAAAAAAAAAAAAAAAAAAAAAAAAAAAAAAAAAAAAAAAAAAAAAAAAAAAAAAAAAAAAAAAAAAAAAAAAAAAAAAAAAAAAAAAAAAAAAAAAAAAAAAAAAAAAAAAAAAAAAAAAAAAAAAAAAAAAAAAAAAAAAAAAAAAAAAAAAAAAAAAAAAAAAAAAAAAAAAAAAAAAAAAAAAAAAAAAAAAAAAAAAAAAAAAAAAAAAAAAAAAAAAAAAAAAAAAAAAAAAAAAAAAAAAAAAAAAAAAAAAAAAAAAAAAAAAAAAAAAAAAAAAAAAAAAAAAAAAAAAAAAAAAAAAAAAAAAAAAAAAAAAAAAAAAAAAAAAAAAAAAAAAAAAAAAAAAAAAAAAAAAAAAAAAAAAAAAAAAAAAAAAAAAAAAAAAAAAAAAAAAAAAAAAAAAAAAAAAAAAAAAAAAAAAAAAAAAAAAAAAAAAAAAAAAAAAAAAAAAAAAAAAAAAAAAAAAAAAAAAAAAAAAAAAAAAAAAAAAAAAAAAAAAAAAAAAAAAAAAAAAAAAAAAAAAAAAAAAAAAAAAAAAAAAAAAAAAAAAAAAAAAAAAAAAAAAAAAAAAAAAAAAAAAAAAAAAAAAAAAAAAAAAAAAAAAAAAAAAAAAAAAAAAAAAAAAAAAAAAAAAAAAAAAAAAAAAAAAAAAAAAAAAAAAAAAAAAAAAAAAAAAAAAAAAAAAAAAAAAAAAAAAAAAAAAAAAAAAAAAAAAAAAAAAAAAAAAAAAAAAAAAAAAAAAAAAAAAAAAAAAAAAAAAAAAAAAAAAAAAAAAAAAAAAAAAAAAAAAAAAAAAAAAAAAAAAAAAAAAAAAAAAAAAAAAAAAAAAAAAAAAAAAAAAAAAAAAAAAAAAAAAAAAAAAAAAAAAAAAAAAAAAAAAAAAAAAAAAAAAAAAAAAAAAAAAAAAAAAAAAAAAAAAAAAAAAAAAAAAAAAAAAAAAAAAAAAAAAAAAAAAAAAAAAAAAAAAAAAAAAAAAAAAAAAAAAAAAAAAAAAAAAAAAAAAAAAAAAAAAAAAAAAAAAAAAAAAAAAAAAAAAAAAAAAAAAAAAAAAAAAAAAAAAAAAAAAAAAAAAAAAAAAAAAAAAAAAAAAAAAAAAAAAAAAAAAAAAAAAAAAAAAAAAAAAAAAAAAAAAAAAAAAAAAAAAAAAAAAAAAAAAAAAAAAAAAAAAAAAAAAAAAAAAAAAAAAAAAAAAAAAAAAAAAAAAAAAAAAAAAAAAAAAAAAAAAAAAAAAAAAAAAAAAAAAAAAAAAAAAAAAAAAAAAAAAAAAAAAAAAAAAAAAAAAAAAAAAAAAAAAAAAAAAAAAAAAAAAAAAAAAAAAAAAAAAAAAAAAAAAAAAAAAAAAAAAAAAAAAAAAAAAAAAAAAAAAAAAAAAAAAAAAAAAAAAAAAAAAAAAAAAAAAAAAAAAAAAAAAAAAAAAAAAAAAAAAAAAAAAAAAAAAAAAAAAAAAAAAAAAAAAAAAAAAAAAAAAAAAAAAAAAAAAAAAAAAAAAAAAAAAAAAAAAAAAAAAAAAAAAAAAAAAAAAAAAAAAAAAAAAAAAAAAAAAAAAAAAAAAAAAAAAAAAAAAAAAAAAAAAAAAAAAAAAAAAAAAAAAAAAAAAAAAAAAAAAAAAAAAAAAAAAAAAAAAAAAAAAAAAAAAAAAAAAAAAAAAAAAAAAAAAAAAAAAAAAAAAAAAAAAAAAAAAAAAAAAAAAAAAAAAAAAAAAAAAAAAAAAAAAAAAAAAAAAAAAAAAAAAAAAAAAAAAAAAAAAAAAAAAAAAAAAAAAAAAAAAAAAAAAAAAAAAAAAAAAAAAAAAAAAAAAAAAAAAAAAAAAAAAAAAAAAAAAAAAAAAAAAAAAAAAAAAAAAAAAAAAAAAAAAAAAAAAAAAAAAAAAAAAAAAAAAAAAAAAAAAAAAAAAAAAAAAAAAAAAAAAAAAAAAAAAAAAAAAAAAAAAAAAAAAAAAAAAAAAAAAAAAAAAAAAAAAAAAAAAAAAAAAAAAAAAAAAAAAAAAAAAAAAAAAAAAAAAAAAAAAAAAAAAAAAAAAAAAAAAAAAAAAAAAAAAAAAAAAAAAAAAAAAAAAAAAAAAAAAAAAAAAAAAAAAAAAAAAAAAAAAAAAAAAAAAAAAAAAAAAAAAAAAAAAAAAAAAAAAAAAAAAAAAAAAAAAAAAAAAAAAAAAAAAAAAAAAAAAAAAAAAAAAAAAAAAAAAAAAAAAAAAAAAAAAAAAAAAAAAAAAAAAAAAAAAAAAAAAAAAAAAAAAAAAAAAAAAAAAAAAAAAAAAAAAAAAAAAAAAAAAAAAAAAAAAAAAAAAAAAAAAAAAAAAAAAAAAAAAAAAAAAAAAAAAAAAAAAAAAAAAAAAAAAAAAAAAAAAAAAAAAAAAAAAAAAAAAAAAAAAAAAAAAAAAAAAAAAAAAAAAAAAAAAAAAAAAAAAAAAAAAAAAAAAAAAAAAAAAAAAAAAAAAAAAAAAAAAAAAAAAAAAAAAAAAAAAAAAAAAAAAAAAAAAAAAAAAAAAAAAAAAAAAAAAAAAAAAAAAAAAAAAAAAAAAAAAAAAAAAAAAAAAAAAAAAAAAAAAAAAAAAAAAAAAAAAAAAAAAAAAAAAAAAAAAAAAAAAAAAAAAAAAAAAAAAAAAAAAAAAAAAAAAAAAAAAAAAAAAAAAAAAAAAAAAAAAAAAAAAAAAAAAAAAAAAAAAAAAAAAAAAAAAAAAAAAAAAAAAAAAAAAAAAAAAAAAAAAAAAAAAAAAAAAAAAAAAAAAAAAAAAAAAAAAAAAAAAAAAAAAAAAAAAAAAAAAAAAAAAAAAAAAAAAAAAAAAAAAAAAAAAAAAAAAAAAAAAAAAAAAAAAAAAAAAAAAAAAAAAAAAAAAAAAAAAAAAAAAAAAAAAAAAAAAAAAAAAAAAAAAAAAAAAAAAAAAAAAAAAAAAAAAAAAAAAAAAAAAAAAAAAAAAAAAAAAAAAAAAAAAAAAAAAAAAAAAAAAAAAAAAAAAAAAAAAAAAAAAAAAAAAAAAAAAAAAAAAAAAAAAAAAAAAAAAAAAAAAAAAAAAAAAAAAAAAAAAAAAAAAAAAAAAAAAAAAAAAAAAAAAAAAAAAAAAAAAAAAAAAAAAAAAAAAAAAAAAAAAAAAAAAAAAAAAAAAAAAAAAAAAAAAAAAAAAAAAAAAAAAAAAAAAAAAAAAAAAAAAAAAAAAAAAAAAAAAAAAAAAAAAAAAAAAAAAAAAAAAAAAAAAAAAAAAAAAAAAAAAAAAAAAAAAAAAAAAAAAAAAAAAAAAAAAAAAAAAAAAAAAAAAAAAAAAAAAAAAAAAAAAAAAAAAAAAAAAAAAAAAAAAAAAAAAAAAAAAAAAAAAAAAAAAAAAAAAAAAAAAAAAAAAAAAAAAAAAAAAAAAAAAAAAAAAAAAAAAAAAAAAAAAAAAAAAAAAAAAAAAAAAAAAAAAAAAAAAAAAAAAAAAAAAAAAAAAAAAAAAAAAAAAAAAAAAAAAAAAAAAAAAAAAAAAAAAAAAAAAAAAAAAAAAAAAAAAAAAAAAAAAAAAAAAAAAAAAAAAAAAAAAAAAAAAAAAAAAAAAAAAAAAAAAAAAAAAAAAAAAAAAAAAAAAAAAAAAAAAAAAAAAAAAAAAAAAAAAAAAAAAAAAAAAAAAAAAAAAAAAAAAAAAAAAAAAAAAAAAAAAAAAAAAAAAAAAAAAAAAAAAAAAAAAAAAAAAAAAAAAAAAAAAAAAAAAAAAAAAAAAAAAAAAAAAAAAAAAAAAAAAAAAAAAAAAAAAAAAAAAAAAAAAAAAAAAAAAAAAAAAAAAAAAAAAAAAAAAAAAAAAAAAAAAAAAAAAAAAAAAAAAAAAAAAAAAAAAAAAAAAAAAAAAAAAAAAAAAAAAAAAAAAAAAAAAAAAAAAAAAAAAAAAAAAAAAAAAAAAAAAAAAAAAAAAAAAAAAAAAAAAAAAAAAAAAAAAAAAAAAAAAAAAAAAAAAAAAAAAAAAAAAAAAAAAAAAAAAAAAAAAAAAAAAAAAAAAAAAAAAAAAAAAAAAAAAAAAAAAAAAAAAAAAAAAAAAAAAAAAAAAAAAAAAAAAAAAAAAAAAAAAAAAAAAAAAAAAAAAAAAAAAAAAAAAAAAAAAAAAAAAAAAAAAAAAAAAAAAAAAAAAAAAAAAAAAAAAAAAAAAAAAAAAAAAAAAAAAAAAAAAAAAAAAAAAAAAAAAAAAAAAAAAAAAAAAAAAAAAAAAAAAAAAAAAAAAAAAAAAAAAAAAAAAAAAAAAAAAAAAAAAAAAAAAAAAAAAAAAAAAAAAAAAAAAAAAAAAAAAAAAAAAAAAAAAAAAAAAAAAAAAAAAAAAAAAAAAAAAAAAAAAAAAAAAAAAAAAAAAAAAAAAAAAAAAAAAAAAAAAAAAAAAAAAAAAAAAAAAAAAAAAAAAAAAAAAAAAAAAAAAAAAAAAAAAAAAAAAAAAAAAAAAAAAAAAAAAAAAAAAAAAAAAAAAAAAAAAAAAAAAAAAAAAAAAAAAAAAAAAAAAAAAAAAAAAAAAAAAAAAAAAAAAAAAAAAAAAAAAAAAAAAAAAAAAAAAAAAAAAAAAAAAAAAAAAAAAAAAAAAAAAAAAAAAAAAAAAAAAAAAAAAAAAAAAAAAAAAAAAAAAAAAAAAAAAAAAAAAAAAAAAAAAAAAAAAAAAAAAAAAAAAAAAAAAAAAAAAAAAAAAAAAAAAAAAAAAAAAAAAAAAAAAAAAAAAAAAAAAAAAAAAAAAAAAAAAAAAAAAAAAAAAAAAAAAAAAAAAAAAAAAAAAAAAAAAAAAAAAAAAAAAAAAAAAAAAAAAAAAAAAAAAAAAAAAAAAAAAAAAAAAAAAAAAAAAAAAAAAAAAAAAAAAAAAAAAAAAAAAAAAAAAAAAAAAAAAAAAAAAAAAAAAAAAAAAAAAAAAAAAAAAAAAAAAAAAAAAAAAAAAAAAAAAAAAAAAAAAAAAAAAAAAAAAAAAAAAAAAAAAAAAAAAAAAAAAAAAAAAAAAAAAAAAAAAAAAAAAAAAAAAAAAAAAAAAAAAAAAAAAAAAAAAAAAAAAAAAAAAAAAAAAAAAAAAAAAAAAAAAAAAAAAAAAAAAAAAAAAAAAAAAAAAAAAAAAAAAAAAAAAAAAAAAAAAAAAAAAAAAAAAAAAAAAAAAAAAAAAAAAAAAAAAAAAAAAAAAAAAAAAAAAAAAAAAAAAAAAAAAAAAAAAAAAAAAAAAAAAAAAAAAAAAAAAAAAAAAAAAAAAAAAAAAAAAAAAAAAAAAAAAAAAAAAAAAAAAAAAAAAAAAAAAAAAAAAAAAAAAAAAAAAAAAAAAAAAAAAAAAAAAAAAAAAAAAAAAAAAAAAAAAAAAAAAAAAAAAAAAAAAAAAAAAAAAAAAAAAAAAAAAAAAAAAAAAAAAAAAAAAAAAAAAAAAAAAAAAAAAAAAAAAAAAAAAAAAAAAAAAAAAAAAAAAAAAAAAAAAAAAAAAAAAAAAAAAAAAAAAAAAAAAAAAAAAAAAAAAAAAAAAAAAAAAAAAAAAAAAAAAAAAAAAAAAAAAAAAAAAAAAAAAAAAAAAAAAAAAAAAAAAAAAAAAAAAAAAAAAAAAAAAAAAAAAAAAAAAAAAAAAAAAAAAAAAAAAAAAAAAAAAAAAAAAAAAAAAAAAAAAAAAAAAAAAAAAAAAAAAAAAAAAAAAAAAAAAAAAAAAAAAAAAAAAAAAAAAAAAAAAAAAAAAAAAAAAAAAAAAAAAAAAAAAAAAAAAAAAAAAAAAAAAAAAAAAAAAAAAAAAAAAAAAAAAAAAAAAAAAAAAAAAAAAAAAAAAAAAAAAAAAAAAAAAAAAAAAAAAAAAAAAAAAAAAAAAAAAAAAAAAAAAAAAAAAAAAAAAAAAAAAAAAAAAAAAAAAAAAAAAAAAAAAAAAAAAAAAAAAAAAAAAAAAAAAAAAAAAAAAAAAAAAAAAAAAAAAAAAAAAAAAAAAAAAAAAAAAAAAAAAAAAAAAAAAAAAAAAAAAAAAAAAAAAAAAAAAAAAAAAAAAAAAAAAAAAAAAAAAAAAAAAAAAAAAAAAAAAAAAAAAAAAAAAAAAAAAAAAAAAAAAAAAAAAAAAAAAAAAAAAAAAAAAAAAAAAAAAAAAAAAAAAAAAAAAAAAAAAAAAAAAAAAAAAAAAAAAAAAAAAAAAAAAAAAAAAAAAAAAAAAAAAAAAAAAAAAAAAAAAAAAAAAAAAAAAAAAAAAAAAAAAAAAAAAAAAAAAAAAAAAAAAAAAAAAAAAAAAAAAAAAAAAAAAAAAAAAAAAAAAAAAAAAAAAAAAAAAAAAAAAAAAAAAAAAAAAAAAAAAAAAAAAAAAAAAAAAAAAAAAAAAAAAAAAAAAAAAAAAAAAAAAAAAAAAAAAAAAAAAAAAAAAAAAAAAAAAAAAAAAAAAAAAAAAAAAAAAAAAAAAAAAAAAAAAAAAAAAAAAAAAAAAAAAAAAAAAAAAAAAAAAAAAAAAAAAAAAAAAAAAAAAAAAAAAAAAAAAAAAAAAAAAAAAAAAAAAAAAAAAAAAAAAAAAAAAAAAAAAAAAAAAAAAAAAAAAAAAAAAAAAAAAAAAAAAAAAAAAAAAAAAAAAAAAAAAAAAAAAAAAAAAAAAAAAAAAAAAAAAAAAAAAAAAAAAAAAAAAAAAAAAAAAAAAAAAAAAAAAAAAAAAAAAAAAAAAAAAAAAAAAAAAAAAAAAAAAAAAAAAAAAAAAAAAAAAAAAAAAAAAAAAAAAAAAAAAAAAAAAAAAAAAAAAAAAAAAAAAAAAAAAAAAAAAAAAAAAAAAAAAAAAAAAAAAAAAAAAAAAAAAAAAAAAAAAAAAAA//jFCABvEv/6GK5cxbW8aFrJCLfyfJmQl6z6oVbmVF997yEEIk6wmRN4yRV2JUdVSzSxmsTokl8bJNP2rmpCghxHTKycoilTzEStL0kxNYEOVzVMZ0R8+4UBAEAPQjijVyBFshS2osEkGQoiPEanRiZ82CMPBhEjNRPOheWOosciC2KYwi0h9JSQYUZmXhKRleK2IkKGjl6cKk7I9YkUJDfsKpEF7HQSSSVjFOl00GayJEq1JKMQhKxVOIkctwyNNjA1QET98SQKEX6n+IkqzeMWVcdkFlm4ZbrImSL6LJFicuJLkSILO2ht5GfmSaiJlSISSS9EqYM1ZaS8eiyTJkRrGElRZo9CXvVRnvcqcaIslKiiFArWI5eUPTyxqNe0kxUL32RJEqcaoWynvELKYlEMITJZw+lbJbF0n0hSsuRNLQl4nThSWFxrHil25CtVjLhFqf4kUq0+4FTOuhSRrUMTyDRKxRZcjy5KfbzqSYtqUJPShkfLliCzjJ6IVMi8qX0njhRCs0wUERVJqaI4jOSMXrTuRkslKSbpFvFFN2YmjjyDWTCNukRIoeatJSLa+VSC0RnoSunGbE0UL+juQUXw5cKJrTiNioPlkI0kZCpFHWMJUQ91UWMJs0XTTLSEBQNfxHOE7VKQUnS0k7PXkqKYV6jukeNK5pShhTLHZFHLJTZPFRDBBTHDLP0lcLdIgFocaWiEMrRyEDiUUhBYL0RdJrC2+VwKt2O3W7GxE5j62T6mwhOhTw9zHFoQSvXT3dOY1k+7N7FnZpG5KWK3pjIhDYIlkZD72D2Y9VzNLiZ6LxEI/qWIb3s48FCWdaDxh8KpOFTFSlyU1bvOfvXJHT9ooUCD7mfwhik1pxMa1pCtm+LyhFjMisOY7rqzOQTABxkhhNq0+yxqsFK1hqE4xuFQANAAJgSGwWBdBgOhpmGuG5hgJz88Rk4qxmmSTOkWO3tr4siSqCOLnyhKxjYBQIHslZgZWyB2CkSRAQqbrWPWlZNr7eu0whLj3aSXpNtZEvvr4lqZ2UJNcyRxpETY20WLoiFsSREEQ3FlvoyIg3PkSY8iwmGDIUQIYeSZt+8pEki1EiOCFVTVKdE0DQ7QsJNlLEzM5f+EEv/pYSJaK4yZo76RmhWWS67AUARCBQJzjmBvhHgUTCFJ+dURi3uPAos0zFES1gyljcla9EIxWGhMySTEO80SEFjxYWInCfBGDCRohMRukQTPO5XWkownyCLhBrIlCTiLlOgklt6RaSYhPWL5MGaIf3bVZKySQmylaQxEVsjIr0NPWuPabUpKeq1yKy0kPYmWKWEwueTBbblMX2tSDuRQtR/aZbI3iTrIqnC0xH6K7RovUqYk3GpIslsWOKhKFRoyIpJxMjJlNFZD7yWU6pkZK6Mr1sWuGIbU8jia0iIvJFXpd/IxVsTROWqhrlwhauzzEIq0/kS1JxciYuTQdkESIjSEyi79Ck5es0zixFRD0iYr5PE8lll3/oiuc7ocSfVZe+JheSS+prVxmippdmoEiYp1yEg4X+1tLXSZd8ENEFzThGRQEZRHayTC3DLQ66VhaQ8pJNdzVLYu8eWksgtM8qyCWScKT2ruRzEnpGWSiNFSrKE8Ua4i+UZUmTYxEuakbI4y/KkyP/dE8RMVOTKUKW4ROD4RRQlv/egmUE4qNBGy3ISqzXiMUvsT1/LFBfkOiie+T4iltbRYTl3WUfCfT/4I3oRMtE6ETiS2XEt0lFtpdprkmVpC9UtJQxTZTQjQulaSpaH6yJ1ZsE3P/tqK+e8UlJXOSrpIxISayYv2vUTXvE0Qlq0SSkMsy2fC7mvdJD6tIXkh0KkCW5VItDgrKHrRXJaRKPPicRRhTGISxNWR4kosTupVKGnF8Ev384LizWZSRXVaTRJbP5KMjiJIJIMIEU2JLyA2kJMMgPQscaUoZBjeRhYorVCKqmSa21ZQTS0nwmJ4LWVr5KYUxJVFY5l2ZcYnMXIRmtLIry14pkSNLJ5M0hPrCWTdzvSIxJmcQ0Ej5OMKxfJuLqMpCOQ+tki4FLnE4vpJNGVlPiuoi4yy0dPJKH5kSVPLFSdqdto0ESFXzhPiE2//NFmshKS3T0lNCcwnaRpyGqCJRM/tKSXHISJDIQs+JpCOIMzSYKTajsVyqalSRdKKkJ8SamBIVkpYEOhmncgMLwiFqHciJhsIlEI05E0x69dXJH6NZUobd8hCplHLRFzX4ktJFKsKSqltV+cyEVDSTpehI+zKkTdDIULLBOCGlqoXlImlDfagn/tdeZQiSM0LgKRt//jFCAFoEv//AFbMLSuX3pE0rC/HpkltzrjW1elqgmLy5dha+iReDXEWvEquUp+TLkk1OpJMiwtGb5EIIXDaUkCI1DVUKIys9MSXFSLRSidkp0rU0R3NPeqLvstTJn+pyriHkc4VvtGkFOC2pIxZsVWmoRELbIuJyFdO4XZXZcnNcFq100JQLldxSRZPLPXoXclwtTnUpzKpvnE+dxghKPGoTiCRzNfRelrcSu08S1kbWyaX62SOtKK74XLTZcixeSlxbwjhNbJPEXamSmUWXuJFi4mtSZbFURSXkR5FySbLmy9Jq8uVotoyfSyjRiTLqdXzlUIqmclCyL7v8lCj9MuI5kQ9I5CLl6a7psrRkEeTJEkopviFKMjTa4JlVOpMKkVC3opEXSwgiTPRCRVv6kWz9bfOIuP2XsqRW7tyVRaQTWg2MhCRp0ZVFKieZUiRk7eQhVNGRV9EmYm5CRF+9Vl+biZKektUm7K9Jq0+TSQkD0zJFMTlmLVypF0rL/ddfxuSpmRKImRqFFWzURSacU4QUZMl96vIxKdaTKeEqtDWktE7yeSQyTFp4jdlraZOjiH6QwsRp0QikVVHEQwiTEfpYRE6Sqgm4Qwm4ZLTgZDEOUaSMTuAQAABgAAgAwEBkABAAYAAgAwpmBDoR4oSNQsohi5PPXyxFUpMkxYkjMmkLnNCziolRelhYrreJLWxNhENBcNGpJyQWdLYTRz9SRE29u0W3nYki1LRMljQj2uFFNDkWwjE00JaiKdZC6F3ensV6E+/kizSCEZPQ0iJo9pLZ92Ky/gh+fyQkaLF0I6XLLpLJa4y0UuFkNaZcrtDKISlPooWuZ+khPWHpsKJM2NxJkVmVNIksUb4TROZXiFzSjJGKEvddC9n9CJEIJvyyJBL+MoCCiNOoviCNHbSdK8ctPJenVaalrTulpPW0XRE5eOkh2SNX5MYvTFCNtMqYAhAwwAhADQCGDARRNiQMgCREcCHpmQiMWoellTWckmJL3i1LUixrpDSrZNkrU5KK09GJyIxTJktVZNS5ScuS6iUQ5MXRN6lENWuhOLaSu45Cz2xJ0kN/ciXXtFlMlImkyckkXy4JOqNOJlC3TTSVFWTEUmqjeESacTNaEJ2oocRMpE3SJGU5VpI3JVQT67CZVVbK0VTWssVYibmUoTL/VrvcipiofkojRUoyU7RJNdaLJVXi/zVSq7v16ojNGtOpbV6IkhbVHIKkkpHU1dkRP+ml6jS8i5JJr+RUCtp6eIREdPl5Cc8bJYLqNERkyW1NJrjvEhXRiVxV5puypLxTIzqIiVZ2slfSmuyGI3FpNJRiQ5pIlTUmL5ataFfaPKCplPVLXz/ViYk0T5plxm1ZC0/5kihO2VIWjoyCNJaqyNVFInouXI9i08uzR2VCtPJdvVxTLQlSXW9CprxJGI5aRLi17mKiJJkxlYqlT5Yi3I71TJlGxPciuSnXBF69SiljTRJFLtkJPlzpF2VvIxOF4XrzpwuW0mVr6CaLST5kXdRSTS6ryhfanE4hctEIy4I9dIo4SjmXRTO0ylMj5Dlou5NTrFGFuHJJJoruNJVhcTx4sXU8KGVpEzgqsRlMjC1+ZCohRdOsSCGgv4nERoEc+ikqcnElHflQkYWNKa5FPoqVxEN5V2Q+4vI7vpZPvfZKWRX4rSlzawulFMi9UZGmWsSDXfF3SKbK9ShiXFji5kWRdd96RShHdUpE+44kaqtlpC6LSl2LGiYpK9KZVrt6FuuGlugmT6GUVNOIZKhOemwtqX05JNCidrmTpChwuUrdC2IT9GiNJdLXaYhS+VokXCexeUilVRZE5iyPrlGvvUyVziLxY5DkRKJtzoT12SRq0TTiUpimppyziatJF6NkLF+lfUtJc3ewm1zUqTWbmaYSfik1kVtaWikI5D0hUnVJRfSWSSKVHiaBEWR6Yi8pzuqRlUFWxpidrNsnE6Q9rTCoRtlWkVkzkickytJosl3OcUVCH5Ck01RMilaNFYtec7C8JpxrRoUmiPkmJoy5A4G//jFCAJhVv/6//n/+f/8//z//P/6//3/+//6//r//rQXvfmUeGFm0VR9R1wJb9n+qAqIdKJQ486TQ4e7lq9CSH8x6FEsuKjEutYhLRS0mWnnHsIGmMFnQ8r6tjWT5Tynuu+rcUWVtuTCvhWwxOd6o134i5RW4hLlnEs73fTl4QaRzWc0okUag4eU4WdRJydOLww3iG11xVRPXmLdDzn4ws79IaifGD3DASEWkos6BIIJ8UmSloqqzNdOnNwhqu1lq9WJdaJk4vijXc0yk5mqWQ3uahwnAwDRRgeIULIpNIbnJ6+vzC6KPZjSEwj9MJk4uHLRtclFJKPELjoiMq0V5xbu9iXTpEe6MlXeyLKeVed4ouggLIOHisad+Yx4r7FFkdfK3GJdcHCxVtCBZjBoU3MnJy+r3TqOShhYjVjj6CB6BwSQhOZMd7vRfc8USrNclGaxpjaIbAg8itpHwUapWtDBdFJikUJAgfhG6yjW6koU1Ck0QSyJY9XS0IJ0YbRQkQ1GqaU3FL6XDR3iwcPkcEqKHmUWZ/uTKk6YehhaO+0XferbVPq4liCTLtFRlZaM0jaKEhCfEJpUZooeFLhUahDyr1jVWkULZzYUnxA9yBJHx9Y9GytjYj7iF5D3F9D+olEEq9pR8sLiof3G04a6f84LGLSxtTHqTFU9mCRCdpRrIaibvJ2VNlz7MPOihpic/JuKuM9DSE2z5hROMLlyUkLmM3e21kE1V3X5D3SJCj5MFsrfIfnNVC2UvnF4YLMtJS7I1YhKXYS7Hsj+vLxJQsU/zjaIPZS0TqL1UljCZxBaGDRC7yE5hpid6ixT/KWscFiv3IvWekpsqTHPZvueilslbraYvpvEEkYvkXrpSIEirJCH+ECUMJUolSmoUWILdKSPjpnzi67hK+TzzQyzTzU1W2UxRT2b8Xz8ax9IcpNdJacqZcsZqraKKYMLbIYqMeqbVCv6GOPKPdJSnKiNJQlWX2+Vw3X6X0WY3R1pnLLOGOy+iGWimjFAx6ydrI/6EzG0uefABqAAAB8AAADEAFxgevRcMAa5A4Hb0DICV0yDkPAC8A+AF4XIS/zF+IgNQOgUpIpJicHQCECglWOQqZ+hASnAxA0HaRdtvU8cuEpcIxYviwotso29yeLcxEdmD8sXqkpQ7w0mZ8WPcoXdiebd7hcLVE/ohFA9l8JeWB+hJDtaqe5G/WqXodhUPWo2PUKp5eGyfrZkqaSh5dMYsp7QM1fcETqc0Bubkx0V3JGsq1/vCOsEhPbA8gIkArDjXIZjjXCzejUM2sE4W/idBV+PolVnr2BXvfGeYo4wRb5Ns/SPCFNkWabXrj855J/8XetLCRxgGodhWHMJJsEofzCcyqWCWl6iYndXvRMN/v3fRfKybyNvsNYUmQsshBK5SK5UIjC1yS0MSBxpq24Vxcy2VxKaP0s7uisxIEBA8EIhrzihIW+g01meLHpoBzqWZYbHcorSTGOX4G6ZYOsAhwO0gAXHqAdeNk/xopIejPGkCWBzDCRoPqATm8AZXgIUGa6AQQUoVdbbBi0dl3CTLdxFSEIaWM9IxmAUhEtJC+gYzZ9H0n1SgYFd/UGe58ZB6apLUAQn8SU6hCXBRtpUSUdpke0thFiyBIO+2xalqXfRM8Tna1Mxvkis5+52YUk6vl6S3k5ySS/0anCoepyYSDdTAN3phCJr2H8KEcSEg6BuW2Sw7HE9WwI3qnB3AXWUXIEadPJCypmlm4ZPq1PCeNkmPmVndhTHhx/CMsS6mhfNq23wSIZ8R5X10zgj5DmJJDX46Ka7E/TA5tgiEFHc7DV4dszec0kTB8MCdUpRtfGZbjckX/bcXMDs/QXe++eny4pETu08C6FnAQ2wQiZh5qAWKDumorBB4T0yypi5DxiN5sFod6s1aaw39f+pPg+wmKesgkROy07IhMlSHJbllKkn2N0NTJphWCpRghAtcamrVESmFeejf3kIQ/zt1kSflDRIdmeGYkgTE4FJ6QnS2T4RNV5x0oxOpAV01ZMrF6gyeE2k9gZbz5cqO3gm1ixzcabAIyLR3EEEgCrAInBBEheo2pAiuQVchfymsPNkbF1XcRMZQbpYDppZRj+WzkcJO6IKvMQfH/rSGORZPNJ1/IvbJJzGKVP85BeYItQqoip3tIqwSKPyhWyXHRF5eXashRstrTMoHdtM5jOub2ZAUFwzVLQPtvrApD5NB9l/E1WUWtoPPtZyIbTmHNk/hfwBgQF/zpODmhKQDGQCthKPBHKJ7MasJP9hdKgEvRP+QNLC0TxFHdaguxm0aZh3DP8+/h2Mvk96sDAbemlU/tRAWPTCy26VZZnRzWv7OMOOo83xIytzOI3rGjJe+zJYmjDxY3nl8lKWD1kq5in5Vs9cJKsJ2rZuBkT1JSpPcTknngkNidxA69wF7A/oDtb5FaVSMwAdiAS0EckCFqOBexuTRbicjKR4Cjb3MdUi4Yroglnia3xEBZ4mM4ykVnrTUN7msr1lrT4Bqnl14qmRDHIobi7pwBI2wec0COkOc7rc6FqEPJHXh9jrVcRjau2rI6qwKLgOT63R5XbKSJEtx9pflpxpIgGf0slEr3PHHBk1m7gNiAR0BHf6sCYkQIBj4CKBaqpn9NRWsnxXcmLvpUzhj9LL1GKlUHTSPTSFzukGWyvKRbXg4pUiyyYTLVpBbzY0JkVKh8vA08EiWJksTNglxEiXEGFS7iSVPrC9gYBOWCxBuTm14Zu6CKa35itaM6O6ycoQEzkZYH/Pj4yp9oNXrRCIX/hYZh4gQAZV4ppLrwvAOFBLQYaFRC4SmqKrNTCiBDOOq1JOurpjS2k6GIGfxg+PWHM5JFqIm4XU1IqPUdhV/bKnNj6rPSWXXyM2DRVwyQktYfSy2nNfbvEQWMv2JHHMlXJKE0VNFaW9k/TKcYnpXz3fBchnzf9nyzTmL3Kk1Q6USz0vmChOZYrMABKQnoFa0WNyQb9QFEgR5r7viR/KZ5YzA+JzXXGGfAsM0uxo4k7yeESt2lVoDLVfNu+kazCKrEqfDAdpfDCl6S9Y1dyV0xHmH4BnVMyhlROyc/79bSUWU7OCUNYiutV4OBUb23je3cLpE+87eiPa92uDtZMb1Ap8UzKI+0MxnIClgBHwG3t6Xaep8g9utsxMS2hzPfG5FqzM3WJhRkdw2xte6xlwVxXCc+SIyne8+Yx1aZlu9P64glmpLbnLysUuqn4lX9qCjp/xGRKOWJpOaKp0S3dWQJNt2dZNkcdoRjM0oIDmnCCBFXtrTR16GdRimfTJ7lKJMzW2OzNT0ABHAFXAk1M2IvekoZO3Rx5CEJ5yixYEgvBxN8n2edN++0nLjDOMomtohQhHt34clNlbT1daV/CFa/0CVkrXLZaKtEZ1J8/T7AunbZImxJI1OmaJ+DhMXzzqtxvCo5vVHYaiqxQzJWi1Mznj6oVSocr1s6lRU4a+5kMqA2Q+4QPoEL0wRsQ84UoJWH4Q3wmEqmKenuAu1KRCxiL5QkxHL5DUWvjWmoj2HVsVMg+mMN5gj77OB1N9lnMlqfLxx0/3EUibHEoLRC59fkNMp/E+gOniOQUl/093jUNLEkVUFLTNkdHTIW74f0CqgQsBifwAF4AA5GSDG8UYBSxpXxWroyJHqaKt+mB9Jqi7Kp6dA0/jDrCkPWztNEgjct6CBiFqDMxTEM/uKwjtY6OlqSD18KkkA4//XbQH+aLSMAalRE+SzgF/K9cCfpL9VGx+PQpnde2LtkdIaLeEVHnCQgMyAR3vADMAG8CZOnUm0XPpgQdZslwu/exzrQiuX4w1mG3GvqMLIA+ULqm7WbBXHYOP/VN7ZskIzEzwDuZRRGsUPn8O8bDeppH28WZJmYsWwqcKwUftXOudz+tIqZH8HtLssZt2fEZCrixiewDtgEHC6gwwBlACLdel66QseN3EsvjEt/2KLJH9HiTgGEKpu2xRVsj2ZuNVCRXz1iUP65OFT8pFVK56NmTJEijUvS3PTSjRYlZqVwFEMg9WchCqJVk1h51zz2jgKgtLkabNcyd1mTmjvjRgg4NGANKCzhRgBqACyRumQZ0j4qqOGiUxQ/THyMspZidI3A3QkUH/dF+jCQmeoYiPO2ETneSJv+d+HAukDUhvn4i6ebQxt3qnKpamaiyFMGuQLpEMat3fFOlxkT1dEoKC0NB1bZt/bqf0VEHVBEQHDAGHKaAWAAyQcrtttDExr4UeENelHCXQnSaYDa2cYh7mKTVQ6UJNvGyoFV7OYYqS3V6X3zDeYBRD8MRl6Y9U9eeL7qRWFqohUzdGaabbebz6+6LmIK7SWZ0rM2TV6fvKSvkPKmeMPWBNwFHA6+SAF2gCkHM4ZHqwZW7h31I363UftOIZBTbLqBREqiJAbP/hbK1EsE3G/bVHGytBvUpS4rhbOE/kzQLacDKMb7YlhHQQchW4b70HAWBr1T8EcEBuL7dVb7/mWfcGPEdSVGQ54J2BRwKaDll8ACOBTob/FESwJ+igxKmILY0mQCg0aGEAvynG++N7gDAdjqQuQ+mGo41Hm55G0YLozCFQFcFAzucyk3T/8EoQuZlGV7iq4b5VqLBVlXnKzFI4VjMqj6W/dMUzbMWcZ8Y8C7gREDhhhACFAQpQnjLlihc/0F7M564PRJMZCI+srEWLUxnAR3aiMLFlEj7cG0S5VzORaYsEeJrrflGAj1KyUBU+hIJIK1nq4kRVm0hUq7HZZlG5Vhb/57dQdyR/7kvKWZUvY94F5AuILOwgCsAyhTCNshLXVIGF1Jchr4aLzQTxN8swGhHIRBW4+kL7N47CZCH2hPqA9GUYFEUOKpSb86HB1DHTWWkeQ51YM4laZt7nq7VCXzhKvg5PK05kc9ic/X9g2LIWbERcRsE3B7QNXWQMcC1CCLCYz8qSX96UhVvYVCuDITaTRV3CpXxVF58/uJdwtRlr9JlyUDcUCxS9Sr1wtAvnu59Ze6cT2CTi5XSjJZEPkiiTUFp0f+q6uvd4UhPN9e3akWMq5lQ/IHpDB28GiEMEYgUmYaKmNYtF5cvKdOkqi1REsWUR5/OIzcNf5EuDcG01l4V7kMZcGMz08banWvCfKt451ohQ/JiuXuOJNb8wUMq958Kqq645O1XrU7TXpmjOeR8SsLmDMgl4flbgH0PJ3U6eYnfDjL1wZCaRrC9faiuhHqoGya5N73HVKxyie6To5kEUnT3daIEmzteZBmc/X9qCiIhRJJfpPCcxolY3lEn0N+JDV3QEhJc4cr5deS3Jby6jEmxDsgp4I+jACZHu6aRJNqzez6K2EiqaPJUVOLtzqVbhOHscGXU1dMkny3b5BlKkV6NY3mBjD3Zy9EM6GzrTwUK+N9fqZCLHWH48WNpXqdFM6e0JlVpwJSSpqiSM9IiYvIWMOOCLjTgyQYydVlMkmGH5rEHXqTCQxLkWc5JGstzDEqzHV1lCJNTFwRxOmMkSXYbBNBxrk0la7k1TDORRTGOpUF1G4o8T/1Ex1ShlJKG0dXQVWSZpySV03dNOJOI+aUFpClhneoHeLMmLOJFOhlUK9cSsPMezOlCf5btEizbKNt1ovhFPkqy5LJvJk0Vg56EOhcpeU7JKqhBWtXTynZSv1D6V7rKdh5grUHhVbU1dYmKUu/63vwr5lhGfEXM+CuhoR51dCjC6JWwl6JcF/ZJD4Hs1MRKNfsdTpsM1DEPFI4ir2IJ5VqAWTTJtXTASz7pYUqj6bDOJv+MzVIvCFbCIUNOpRLuteFGltgr6O6dBVXRn/vS+7RkTFne8ISEhCHhby6neBcOf/YOI0EL32tk9NsytLE4pINWTrMfQgkETmyJ8zWwuj2apJuNqr5VIz7NKn36x8YYRSIlenmjtcd6kIfokanlgR7CKbmMyodniXfV9+/+S18yinbOmM6HFDN28Wg5DN+rykcI/JoVmV2uiDKp42Km3eIdkCFfdCc4rS/b6YqUpTIYDrf6eobpkgp9Vt3spcTQJGo4i1O/kW5VjvSBTyaeqJVdGe1kXbxVAVsga898U8SUsIk4UUYF8yFGA30hFTOtu/jQtNXD/wf/4xQgDZk4HzQvWDcwMnAloA4z9jPqztKw9CpVATvMwWAKv14sLcuLqpvF+MV5huLKrIeiPcMrqZofUrsh3J9O5vTzU6o8lFEkwlypvv4N6Qi/4+92tMaqg1exMyqkpkGb46NwqN2PSUJP+ejQ6g6TPN+D74AU4TYFvckwQjR3YdmZ0ClyopDBa/w6mRSRwFK9OwpT9YSPI2iu1okfjVzgWFms68k118eUbkR6TZ3A2tCqZ3aW+FUfsjQr/jWiYkSNb8nnRxO0HtEkO3ASQ0HAQRLgL+YAhgiAHWWYFYZQZonaQgQIssASHeLWCI5W34rC+WfOVA2OzpJvzkP6jasPU02NSt9Nrx5ZfzzKD359bMtZDml9u4jXDq+SG2afCh3L+7EdoUPxPRM4VSQXo1WYaSWECmWtTWsxWMtDpb25c++iU37cSyh2WBtzMJmIJ7QcFA3ajKGjq0TuwXOMVNNpXBpjztjV2SdUKPJIzOBE2pzSv/DRRV+wyQ9oCsV7AkLHZXCbKSlFVZTdElz6VeH9bAioco4Y1myRypruZeI8ZxJu1b6oUiZJn3MSNCMvtePEyTEtYoQDDBPAtzIPhfdrCBiR2A5wLoFiG4NjrpYeSESqygJMbMm9OfOmUggIcNjsxgs3W30VnoMkApMOiZhZXA0IckRgDdwPDDwyumVMx4gmgtErFAg7C0FckJCqaKjVLV90KJERGtjBatEjHbaK7RoIFnycUuF9nGEEkYGdBRSUzreJ20i+qUq+M0WerG1f29PKhhpsjIlqOJxuhXvBDiCPYNZdVRK4OBCCcyjiZexjUL0kgQk71MUxknr+12PrQqhXvfSSSgZ4lSAsmTAK5Dc+V4xxfEHOK8qF8WBK0hxSsPjHCkTI3nwh4UYRTQ+tEbk0LXJjjLHSaX6hRdCULesMhxxhpsJctxBhHhjxKmNXOQhvkqI45hSxNoSk5EAIsbotGXNsS4t2JQ4Zq2WQhaQ1oyCkNSn5K4Qg1OkOOIJLEKYaWdrni9FoQKCkXR2iRtAoI1rzbU7Ce5GOTSHKWP/CHZSn175oQ6htLZKuMbHHeaMItszcOCGkybr0YCBBSzevI/lXBZsOwZMKw5GtFnaZ4WbJFAhf4ivaxS4equhhQl7mwUZ6ObGtU50npiCFSQrNg82EFTFpdKOQYo/F4fTvnoYjLio2FqyH0ZWZQg9EGvwxGqdrbubQ53bHxyoqmTw+vSmhhTEkUnZ67hWNJQVLmryclzewtEsYy6UTBsIV3FLSdOFtxHLQg1SjVxZyzEeg+bKRwpK2wmklEJvMRRz5tqWFWnCFE/J2Wz1lhFJxXaljiSkY/5YrSE9bHy7XJW4Soxyk8bsCKolFv4iFKlP2u0GsIRmocQ+TBnFC+jDUkdqHYZlAgLkKQSAYp4Xn7GBCJXc0bMKYPWOIDRlfkW2BD9CmNQgojscTaZByjKhHCWHbdU++ImwVmGg2Csoekx5oguaduFLRLUJedEsWcWkjYYmuYapRD8X+YiCspCSVbbIXb2ZZlKtUK1eIucawlWTZnsajEfNEJpeMSQmPkj6iu6WJj2Tc2cqWJQc5AnHsgqP4tzlKaoHkAMsDxAh5qSF6wUhJz0z0t1kIZXJ7dxr3eIK1l6/HllFMUrWqjFl9dojMVM81HIimN8QLrLR29Sr1C4ogty+5VegoXhAVGKEQ6VsZ6UbXAYcyHHMCiI4yFydKMbviVaYOMc0GUR9K4jifVDhhROgxyBRLAirMVGuwzKjxuNxyc4IVmEdp6CCktFbFROzVW2oYHBK/nzRKM6NvdInJP1IydPzJGRahRBH6MtmEtM/IcZ1BCoMdNO0whVCD80RM7K3CFRdKZzFIzyeNExwz3GxrK0hpG4Yuaqeua1wIwDGjDfNCaDTh5R4gJCKIOnrsTNlnCEGBzxW08gTMkoT5FFd0IEzSEpvLIx2MVbU5a1LHJIaIvGR9S0oaKPK8iPcs1ei6nEqToQaZbGqtjPVNTkrxZCxRLrQie2t/nFM9VVLCyB5xZJCzGgg9zelZCb5ZVIVjK26ar3J6l9yaY04vqTfTtVZVuhmmNRNzCEliFCIoR1EU4YHGfchKQmFMkyTqEVMTicluyiQOCKQU0cyeJwjjHE3RN1EHGZCOiccl4kbVUN+JAoQpEU2VxjjQzkUjwypMcgYdtvJ2YqIZySCDklqZDFBhWYdqURjhCsSN2rmKE7Ecj7Ul1TKREKIKGfjdTLNCOSkRcTyqEByG0TJP8FGyZ8xxjBQIil2vrLTK0Q40UzPpimlRJZ84TOm8IQcIjoYckawIeEfDBwEBw3k1ybBA4ZdTDhA4TGKBBwIUQhRi9C1JWSsu1Yo1nGLmdmDkELCOGO4YVp0ODA5CBRsKBFcEDhF1MWEVOTIjjFSxjBQyu1UIpKxYIcycQpGHMhcbo3iBQkyRgoR6JETVJ0zhl5FyRCakORVZSoIFIIFDQoZaZTPDUcE9QgURhSMjtHECgQcI6TZQxWIKaejC4Z59tCfM6EdjhBWjOM6J9ChncEWIUQqcmqEhxJKQ5GkJKglRDulJ4gs6YYlk9HstGkP5DyEo2JqrjL2b/Sm9ewSp/fXzRaH64fijVWzoccwpXGcQ6SpZ+SpqPz8f2kfCKdCCkKViq6sRKqtUxW0d/urkmjZ80lAT8Gm4NWbfbBRA44UIGCjqV0EW9ivvPE801BdLkr2WhFYi+zq5Jl2pE9UIrXbPqhpF3kQhKqtmWpXU7GOZTGSpElaquOL1Ho+snizi7V+obULjm3e2mUmCUYWhaXNshZaJ9Of6NpJXyQiR2iEMMUwqmHJIKTCJW4TVtppFoY5bFbKty/V6E7Hr8n1kwJkE8aSEvM0evZKUEAUBDAgsK7SQiwgIQzAwJYS/SdTfuflL5dd00R2CrRBEkQ8d81SaT0vcy0GIGQ4RhSudh16hNtb7IIRjJrXF3KZuKJlZZZYsePPCwJN9SL1ULB5zb4SgXfGHxQ0i1pyiZGW85zXSW+RjJOPkM+wg5FBNiTV76xzcq15+dOY3j3Jc15RJCizUJIUQgjvKMkfU9TkYaVuk2kjtTtIN5y/k78yy++ffVU/tMDAaUdblWpAIjjgl2iHObXK7JKt2YtXc6RinwgpflRDDT6HmMWglzCPVtM55hRKSRSgh9rTHJEKYvkvFukuMUnz149nHUP2ilnP9o9E7Jl4GSqJN0I5Z1qzQ8HE6/cyuDh18wBjM2KLIGVRdydHVxDuc/6xCUxBCbHrPTTIXMVhTBRnaH3MpYULaMNcUegxKcoGYG4tTe1dRxXkO8nNCneUvuK8W+5VZsbXRK5MjJcVO1dooQJB4PBAbaR4GbqTmCnC1iDC+wn0inltOaizudEOoS4xdJq6CWN8elj0kDFLPePMPcJGJ62ZVLkyKSXONflDX5eikws1GTm8yLusHdyK7u2v02iROvj5cVEV1bV8JBABINCxIWCHrEUlvtqT06dNVfsG/atGtUSWyctLMUUddV6SyGhFM48QMNGTJxUqQOspFdifkzMUc1kcr7jqSP2LGKqtMTJIzqae3DdL6vu7wU31a4I3OdrlGdu05SJ3NNsH5oqCocGQicDpt1UzYI+CNjWhwVWT/y9TuUTnH2h65Sz96VcUskBom2YEx8uUZKiBFPHE485Rza3ISUz5xrXpLsKySRMh0QIlkkaZU6Z5I0XD3X/SZKvhIYCNyVkJGtSik7flYpnZFESI6APAbCCoKgkNKxihwV3mZnXIoPVJn4tHJO7IgK//jFCARzVgGy///+GPv++fn4Y/cz9hz1J/Sa9MH1fbU2dc4LGM5xn44Lp4oFH+8GN4oM6K7sD0+NzgoKSStOLMRTALguiwfhNGUbD6Sl9URFDp28/Wez0Kg0jAL4miaaiijoCfsd2Kqtbc1IvWYu1BxqDpSuLSte6LSsmrqsri/pHyLknLuJ6JGSfLxGq7msP0I8/ncwSPNl2KDlaXSq1Ut14k00mStW0l2DXts2dTNsWZU2Q0y5T7rOcQtCAQVl6WlOnfOD4N5COAbwTAyCYXRPFgju15pmQkbuBzm09DCEoPo/iWzlE3md1QEciG84l88CoeGhh7qDIkX48RgifEaMcWsOOza3ryTcRkWc+4pYSUPGW9NiwdJS90FqBcjaeVc90QDGLW0eL03EeQhjsS6L3+4Qt5xkwkZN8PK0xUnGCABCiuarNP4WjnJS0uHtnYz2I23chmiDFiYCydm7zbEfN7WLoxEimMFxO86DGJ5WINc73R7pot9gEkdIrCGWDDy+QVlVyhtj/cmgORrej+KPrm25GTIm9HZGbCJiWiejbhnSvj5Sbs/jbaCfkJ4Wci8gXFfU0jB5VqRByBmdMe/b31ekH/z17CSjyh89QsQEpy8MaaISR4nSpN1uNoVk+DN+4Tku6VkjCVvv3ukZkyVC6SYe8ZV2+WBoko4QR0ljQnI9Zz9nCON4tiEtiVUoqHt/2mQIokfD4ZmjNrQsyabpxmJa129XKn0O17bPLqDWO6cg9jqjX+nYiUaFFVBUClkFziPWCynbP7GcpnuTkpEmoelgdOB7zrriN5EIif69tNApvJCMbndDjC4sWuzzleaRT66VY9ngmiMmR5h1oa5+k1fqRu6npZsjiUcs7xZy8FTc5UUF3VNEDTzIujJkRp2mfXFIc3HSssQ3E8Ow3VVMW1RXLY1Vfu9bpNUynM959r++627i7DSbyESASkXylhnmj8yNRTQHyAwLeSLbGCgjHEOi5zZ6C37un1F3ZYmWE3gesXqFphiZQceaNd8bNmhfg3wWIYyKszs6zN5jpv0SgWwW57ofs2FeUmYkY2pNYyRYzjxLI/x6GqzLe2WF7hvjBHQFINgyEAg9rWlkbLfv0xClIIkCWXSL7Oj1GCTIEtTRMVR2/l/H/b7Kb2WpxZKzVz7qXAlbkricRGKQgLqAoa4DZ5bH/GGbyZO9WLPG6B1RsidFettS8hAo0LfFmuhjH4N4lzPmRKgr65op4XC5wwTxGOLqhlmgIZ1H9NafM1ayxnQ9u2Mosk+1WAn9Hnd8dYgzlHmFqO54MpD/Swu8YjhQaeNQ1SoTzQ72EUafx79MtlpfEYm4JIVry7fktavtlRPLL3WhtffS8UscW+FJ96BCABMhvQtkn1+AnKU16uV+mbnSH5CtuAZGWPgDRlXgqcbvy7XuqliKqyvLFL+xq6EVpBygg572/WV2HucZUGdrRaSiOl7MqqMIup+ZtjSCcT52D9Q17+nAJc879EhZlVkVTv5tYK0SRM1bXNVWMzbHmecNGk60N0CBqMjme5xpnH0U57bN+5zTfCpZKRYau9ypoJmrsS9xEKTwZ0A6IdgOPgGF4AGcckQltUUFMGIAgwJdbg44YGVDsKqAScDEoeJ0WaSNm6aRt08EEgXNUo5gkhimsTa2YmTKtfSSunBvRmoLj6Lapg5pEdfIlWWxbpErTrG06kpc3a5rf1jTPMgTYqMmCeaak6hIBqupr26CIoOtDIoCha/+H7+FYEtPzbn13Kd3q1wrjSr1wvxXiQGbWMFvwDCAehiQWSls3YzJgbheRWQ6h9RR3gfnAsrrk6HiPyAzIJ3uAUJUH9GnPb/0QXDvVlH1wFqFwoxQfuwhOPRbE5ut0cZBKK7q/qXfmExWbv2+7Vihmgjd4XR0noYbzPxys9PFach3rLbpproLwnqu6liy8vSjy7pwiiKpxrPKfxvWPbdmOf7h2/iU3sZJhYO21q66yIS9zQRKQNgCGBR5pNPDtEsvlY+hJgRBB4xoWflvvDTwStZ4QufPTRjCjPhXnBkS1yFqp6ICXVcAbAR6Rvrx9pvJkjEI3u6ECLdgTir36OF1fnO12oVUljLS/u4EthmMUl/cFmNtb0TYYoDRRZGHuRL2wbqYZra6S4p2EzM4fasrU1Ou97n58mxxYFipPVvxaHVSsV7lWpHrF0Gu7Ey+EClhiRg5/tHBAzazT9LOWuqFzHhqV9l85q3qIubJV/uXEWc176lZjzfV5p2q/VwwKUojqKXfq5wxqNqkHrMgnAUQild0tco7BrKrx6c4cR7VSZ36gaEeh+QXwRjiQ1xDDWCQPqC6/FQCePqh4BOoj2Foo8/f159R9JOkP2BY2c0DUqM857vpb7SW/md/9b2TTwLrSt9eCxBaQmkvmZB+CYyr4hZlZdNGrDXNFLdRy/5vH2n5rN/p9nnWarG48ppRJ0bM9XjmRO2FT32cuQxnEE55F8VSVBmEUzUJj+ZJc0H766PFIKAjeJ5UiJiIQKEya2q0IAoyLJ5FeOln+d7bNvHD5Jdq619ppM0IpFB+kGf9EEVL/Eu4HFwg5AZd3UkXUcGM+YeeD4qqd0K/7k5BlQf+kAIEGm/YMWyYWT4jQ0IrijqOEcAkhrjvmLnjycZzWnhViF0qBV1dmsw76m3elx9vKKhDFoD5SGTvLZFDrkTRhM9i91M/QQSKG3d0Nct1Av9EwWa8VqrdqoeTMsRrK4xoKHkm0UhI0SVK0/ZIrWoVNK9Et+Xw89VGEMak7fHFoDLTvRuWpTHmP6JogZOzmoCaiyi9AgYYXCwZEI+dkyASo4RqQj6thnhvStpeQ7UsIJoPZXyvoG5kCt2x+vtKUzCZCZzKJQ/j2xHY+hmc42ys6T2hSNHIIYm1qSTuYJYPzEJ9IqOvEaQbDRysr5jJI4o9FZhaqqUboISrDbYDHTCQ5AQjG9VQkeiX4qYsxh8GPsocTs2SDCgbxVQYsOVjREZ0cAcW4StlXAENyp6aAvqUmZ/BYxnWhb88Yt8cs/1TNoHf4qbc4Ffs1/kcUG6QSMt22WelbU9yh+inGe+sG9Ps2bZIj8+tKJwxhN7kkPO8/voViSEsEZyEosC/uFHYnNto2SCQm3NA1Ew3C9LWdWFBfBRMg1f/EYzVZnO55nkuo8lxJMWG+CXyIMSQGiyp7YnWcMYEUkfUfoC1YexRCKSiY0MRkfqKCjYMHLMsoYbCJ3hS59p3Clys+mtsrVWtNQTdtOAOPzV0hBJVoIq/rhJ9dmAgCl8JnpPrLXx+g52tn7lM/k1Qnvhi82hk7oV62u5X6+z1d2g9n/fxGFpSj0URZuvfnavSLMAjDzk8myJz1KOeCzniPOrW6qtRBHcQcxeMeJKuR059Sw06lzIV7pCaVIYNTGHcKSe2im4jqBIbglEqBYlg94KVStnrh3KUfspk5K1MiKWKXgrFwd3Tet9PMjuaYHCeDpSi76xs5PwFTcDlfm7dghBroakz2BFs+WsWw2MsxlLKqrzVCXayQg6eYLA99EMA076mbUlaHp3Y4zjgb7AeSs2egVUXGCbi2zdqK0t5So4qqXazZamBJR3bCUC+OfrSaUOE7fjj3G5f8H8BvXeicXXoEhCDK7CTJz4LwAnq9DOBk7M+/aoo3onxHRM28madnZ92ECa7rUv1hQ3Iu0CoQqShgG3BHgBPznFCBbkcm1YqFeXieQ8W3HOREzzGQTJTGwEOwBHQvubF66ExiEIRboKC2ilYRREf3oXGGkwJgUr8HlMTAccuEvvWeo0iNdpeRSjE6UK4Uy18eAgc4EZ1DvK8+0ZUw68zRTTwZ8dU53WLohbjVoi3ENmqjLCd/ah/NyogkU7xPuuXjJOvK74rgZcnWJUI5ZtNfTnAo51BsduTQ9sdNSMcENnDf2vsCvymGZBdc8Z2L37NFXRN9JcX833t6LwLvZryz00ct5CwHZZiILRjeFM0e2164FeyU88UQpYQZu0RGAhyGyqKZsHnUrj40AkHK6E3m6fMfqUR9CJ+zLk8lDL+pGfG2bIig3vRpdKNy9C83XM/bh96NjJVdNOffrZOD46awjD8+9OZcW1ISq8JODf85nr9PXzuma4iqCMxs+QeemibNKPqN4YMTICm5UNobsIqEO6J44wTQcu/76p81RZOTJjdnk++dA18b97uWGvVeB58sGJFxEkOsO6+2imL9XupF5DDb+wV1NuArCOzoiUS3Mx9tz1Pz0jj+9JMiRfOlHZtXsdMsV/cJDk7FZnOFYs6kCyG+kbcbC39l1EQtGE1jlnA0rDjEi96sXNGpYK+CeAjFSjGCvUySn/bFE304r9jGRCQYDRNYHFtRnmB568hGAvrzIq3yPnnCmGLJydqnkbdhf7I/IwBDS6ooixJSSGPYJuctG7wzPFGWHP6zpJOpJoGhlFbZCHv+/BkBX1GxVwrbUZpDbNM6MWeGsybtZWJXs0VOoCw5stsrIjGeCIGW7dgW+6tUFP0FN1Tyf5kpMtJYaew725l2CcdiFGiurwGZmZU8WCuCjGV3Ilz8Zxq++KIbyxDK0CtCJ3MmlyNS5ljNmWA6tOVK5QxX0opihZeeLgE8ifGM3jGLGn2+E7UpxdJWA6d5VKLfXkleUr7RtN5nooZKqeyXEmqPYlO9v1701/Nd+Dr1jI9Vc32bLkXouOBpgfrujYVj9Q0vqSXiHX1XjiKiPvR5seDYl1uXcJht0fu3z0c4tS9+/oQwZidlNRJMuGU8yhxvJmRG7VmlqehS1CKUuTVoFBt3McFmiYtTrHX98UOS9J5pGCR0KZz8d4adr8d0zwW2zPGH1E/klaPJ+U0DrEc5T4XJ7irZaZKR2bbLH+cgJd+YuYdqgaV9mVfJshF8BeYSccOiri30OroFYF5q9X1ciicuh+WIOSDnERM2Ww3prJSq1vGdDENn/yRF1GCJjXmpEqvKcv0Tmfm4ix8yCTXXE2CXnmIPomQr3TZU0lYMSMoE5EcWc5RU698MnjqBDkln0NLgbVABPge+Stm8+NFUmpcMB5RYyLdm2mLOpUtISI5On0zAMrGCPH3SkKYdbeHhRQl15h0LfvNyK1NuZL36htBlN0nopRjSiuqX+bweut4k81Bef8REk/B2rdj1VAwZ18FFLso5CgQc5HnEAe3hTJlcSgIKkN6WjJj2kUshuhpx+jYlH7Ami04auKvb+CRIjjfkZUaLKmNRyVdTt2qX2z4CjqBSs8varMcFDXpgtO6xP50hhuCfNJk34sTKras54eIfKQU9/UJ+iNPnX93cVDIj/CkK+a7MD1DZyutvwe5GflUFak5IdjTKFepmUmrzw4PS4mup/M79GC8Wzcbg8Xbwn9AUBUPGYIudompDG3X6EFBZR6ScZvLMEbmzSbasRI8M4sGThnTTP6yRPbZyE5OAUlGtTweh5pPocbFJ1EpdKeE2ZMHNZRw89wjHjDHfbqi0vh1x1Yn229JnhsXcx0wX50HihKDpXRXiG7Rnv6K1qio9Gip1E328u0YlDxP4cJxH+PSaVO+bKwQZeK0nlfR60X0+l2QZBb996NOmaeRB4QSiB5IQXPJAIgW2dADg5LOoNreTII4NcITh9XNjW5NZm9p3lrQy9U5l5lokk4b4bNoLqPKGUsD0sHMUAc4GX+sNLQNHTx3CKrw36EFgpiKy305aCARSfh0EVzSlQsh0Odtf+F06GphzmPWwsAmRFYo4gguie8ZokjVtdYjJbVOdeCxKIKplKB5JFGK1U0WquSeKla4ck2Mqs1uJ71NHa5EYe8GiUK6guzYKS0T1az7qSYiVf0qfbclMEMqqY8kZuo3ZTYJq0yvQgqgb1ZfFrMnb6pvYK+XvFr9zcm9vqKgpyX6IKZPSM/Oyk+261SpxHu5i+f4OThzpSeNanDVKLE15UYxRakRSwwtUWdKyqCn40K5yF2WAw6quHbPhQsGRcW3qP9UieMgFDG291fhVrvqcJfEv63swsJO7yszQBRT+hYramSr3f63j/U7w8CZ6zduUIkuGmsBGjJyNGoSNHF/4pnrXWtEPvOhKuo4RDD5u4wndTkVHE217GJtYoyJDmyhgRU2JJgQEDhDRmXAQAoKLIr8NDwSFES16AWUUEuiCxBaSAhWLqcOtcrTDnq5PW0QtGrBvGV0Ifksm9JTSRoYn/5nz2QpyMzMe09rlGbkZOhJ9EOueftCpbq7oU0ihk0SCJsdFhU6NBAdCQgOjRgKDoyHBkdMDB8UGxURGGRR82NqCDxphDAgusthxi5VtYHObMKCuq66hpaq3sZdcyKUSeZ3EvkEgkEkp/O3Hiz6SIgasWjdi7Xo2xA9Ki8qIywuJi54VO2i161fuHiojYqCx2SoqYYd55bZYq4e6UtucdM3OHNU23CC65ggYKEShYkNmiYQMi4QFhE2PGBkYNnRM4IFjTh8vSpFtRZFDPTurl5Vr15ivelLcpNTU5OzU5Oy0TiMQi01NyEQkJKxUrfdd6NruEyJUqJEBA4KDAsPDpkZsWF5eXGRUYmZCWFJO1LXbZ+4XOU7FMgUIsWnZv3+OND871H6mtKa5tK26rJTYS+RyGXzC8l8nsK2urOeuuS6pM+EwyMjYkPigs8TMmB4LAkGQYDYUCAQExU4ImxAw6YOGSTiWGq3G//Oeevuue5TQn73z1rlvCze//jFCAV0TgAwADQAPQBAAEIAQwBOAF20rfQqr683bTmQ8gg4Cr5LcgvabuE5t6k4huUQzbQ4RTzb5J6FsC29qh7IUL0hVk60rdqzvPFvgYkG5JLMwXGSRMgLFT7DxkRIGkTRNdZGgjQY4XtI7eLenCciq4LJlGjZUg+RKOl030iCqDCHf4h25RrK3tT/qSFG9WtzNy3JzE9PSsWj0dh25OeQRq2bTa6fUER8NCYmDAGwJBQaCANBgUJmzomLMeLpFqN+xVi0Tn5C1KR+WxO6yEl60TUpvPDZFgUWovsjKHJlKKIcLo8mkEG0BBAQKKRAmVMqyDQmw0UXE2klFzcL8RBmUedtl2p/lteUtvayGS3kRSSKZxJ+1bM6PBYFC8juwrCE5YGQJAuHD4hFwvM0TQmW1z3b0KqmcfqKlkcW2PvM6mNjjrTApyWp4FRS4PRMNSs9JxGXlT4QlbBpvSuE0oq82hVd2fXisX/MKVwTNsGKkRb8nPOSeeP6jvaqtL+rJbbFOEvS5hMpsuv5Lw7lw8Yc5A3HNQyZ8DoJiMl2MW1hO2+xSerLTMv1lWKctZnFLUUpD1yKiXajVARykkbhoEEquxWNxrbWMxHB0U2KiEFicLBmJvWeP+idqgRuTM+FZbaeYlIbck/DUj/ig4JKohpKR19VZsfVWpAtshXG2SbNExznFuMnvhRJnqV7JMT481dWklBchyvPgfcX4u0piULVrYJnUc/CmFLOpt3rL5mjcGPINpXj+PyKpptjFfoUTxRSPKI1V6kmEWhEq3Zb1/q8k64xX1TNHWRj6CTbV52RdKmSut6ydTqazhDI7Do51uVdrHMcBaoghvXpMHzau4ux9HFrHl1R87Ekv4JLXpZdkHy6vFWA8weKS+GvHQDnLHFBt5wjAXvMfcjG1anro7RTdntbPpxxJz7pCijtZBLZuohkEmq8w7i7XCKb5PlQstJTpVqGxPFgVysqXuDku9FMzIE4jXomMIu00mtrwVmk0HpGa7lCtcj1FUv8zqc4psEpMwkOXxd5kSV4F7cClKGsO1KNkZuY1qjsyRg8ljguxB8jxOsS3ghDHmIUXdbiLGA1ES41ZUE7qdvbGJFbHfXnNMUrs99bUMkgE186dJVbuNrkmSjEdj7LBVW56tCl6tmTIvxl6ldz1C1bpJtVBLrF4ZuuNHMCgHo71kimdntEkf5R+bQ3wXa+Tj0aiyWfd4lOaGtcL8/Zj1lmzOqWzKPkPJacn5n9KihYogHaoTL5ADJDeYUopMREBSLnNyIF23lWWLp402obk4LF/E9LzrWSQ2zvKzljIRIJgmu406SdTeCEKhN8cvCDz1xzftntfkeVWKbJiXcxvKV/GX90ML499VRhOCEIqpk41uDkN70cZ4eAgzHRVmIXpPJMJ6xOclKN0hHZDC5kmdBJDDSd5k4q5+VcWr1aSoqTN9WkAE81tVPSA7n8RRT29TY8SrJWMVktbF5NGhD8CDTknvZKBAY7IFYM0pWMKK9F5t0vVC32ssk2M5lo2JjYxK9+Yli7XykMu7KMZXat8iBaeqwpRKYeRt1Gt+Y62ng6Z5XA4ddJ8hsZPVH1aatWmFaTdptbOXOrlpFbv9JZdsaLn1/xry9hR1rbdI5w4rGpSdM+tAAkgDeHPJ+GKHcewV+csqSkEaSkXZkMDOpc1QTFxRAx0Qr4IAhfkkXgGOsIqgg+U9JJf0UapLawizEwZdMjz2V0zj6xAbxKSaRev0vzLCA1PnNog1pUSLN4y2YxZTUnx0MWSSnNazhCYJr76Gs5JFOR/N3atGqqqWMqgmCW2yor5/DB/70FnzSGrG1bLykteRQVLeWjY4+4ABJNMjoKWAH+FXVhA7aLSeAQjbPN8JKJOXgU0clRg0oq8XCXTVCtNwHjc6uIehhMbCSQ7nhSKsQJv0W4JcfisNqjle4CJRri6oqS1o31K0hUegtlwxbLTHOImj6C0zutVlW2hSsXJTW2xqK0bmcy3M5guZwcEoOsMzG75W+PkoMxsLorh9HbqjT74ze1in2FHT+rDVjlm8AGUNvJW/ACXAPiYq9O+FhC5ONQEyapGX3LUMPqZgLOS0SRpHtOBEpYmZsnDwdIk1j/yvTqoWWeV+Jojf0xpapfKxw5Zp7iYdFLTXlyvNO0lk0emk/d9FOjZ1VlqHD6RrJbJ00oM57FgsF4wVuzeWsUj/XTm+8w2ppsImqPsVJCRzOoWtJfMgr72RYcmkOZNja35Japp/SDg4QAJwPvr3pAL4AErFwsC/uCBMBaCYEtYhOR9d+TNS/O+rcGilHcjimoL026lMQT48CfWVEIqtar1vq3ezp9R7RDJLAkju0ipM6MhS6oijJMvMkMV2k9SQKjVIF2Z1CnOaoyLSzJoNcPSqypcP1JlXppKKbGYHH0zSzEZWxSjAzCpSpc+lNk73Ew9s0kiqprOkNZ+FKmS1i09JKT9ry2mGAKUDUAQmEL1qAXsuTYFnJsArzff4n6Em1O6k8N19RxJoipL6kaupekKmEUyBNuMqH1t3byKJyKgK9bazKEJRmKclLaK+FSQROs5sZtNIHCfVDqAxGHkV/xrhx+L9O+a4FOnfA7F/k8YUyokUkHSVCI3GXTpT8W0m77ZNKCn8p1DY0vlTTwpVIqjL/T+/bZePNq6uKNpm+5MyMl7N2L0A+QrgdvKko8AeUihrFpZIDHBAklOv/3JKrCcL6EvpfqfgxZY1z/NtaItGwRbQerDo4wvXzHStTIcDVqTi2b3Nyh2ZRDkfr1xfqzGJKwqVg62itV1p/bwtfiQ+DFZ+mx6Z+f2W2l2xsIugXkvc5dSxftOtAieIXbvqLTqR2+JFevKotcYvNb7b5hndzlV1ndrRPYr6xZNUxaNF8oEgCPPmJ6wgxQQ+yiSBOhOQeoUCOD5pHQFDV9Lrxl09xuSU0Sd7Zjhuo+mMmFL6HgtNkhTaMYsWMryNoHBZDFs3XL7XpRGW37cBrtYSDwUNFFS2fH3FEs7kdlP6VyqW97S1k0rU3ju2/GyUFPOqzmu1x5QNZ2achGt5y6EXb8stfZ3TiW9EiJ6PmLzdmpC7ZcvL/ZJrV9kWKsTYqQjUyIAHgRRoinpCcMNihAH0G0TQFIaQV4lSmp0SqySyTviFUNsEWVPbbWnxkO3OsPCIsGA7jydhDV0JF3sXuRN5MSN+hVG70fBINpmY8VJVKgXdggKHw5Fy5MmLW/PEJBgZq6jxrUPShpq3kLPV5x0FGIGRxwY9RLpdKW/sgZqcPww46/yvP40zCs4F0y+dbeJaGqm8qvrGc4ss73QnDkYx7HoNgiyj8BSmLADIbhPQQmCA+pIWEY56iV/BdcclsbfU9/f0iCYUVC0T1DoyjvEgZKSgeCJscCrYhpGEJSuXWt9qhqFN/xe74sP4CDonpOvIywIrbBMXGXp8iRoCpNP6q9bkcNK0ptSkZOvMXbtqZs7JRGC+VaY6q/TH5BG3vspRkl3dj5plx8ozUHEvV4iREm10O3jjRZCTPJcEWxB4oKLmPsKyQG1qtKkztiOnd7O3dofy+hCySdzL1ZQKcJHElyWTRpoosEBAUjJsSEjlmN8WVmzB1ZGh/LdWy5kqmZI2BO6tRtMbIqq66ZpHvCvOSeQJFIhKp6yShrhoQcTazE6KcYULJIc9QhSaUv6/Jm50iXOs/DrJ18+uMpl9u5O9qip9XjLFltaaLGPGGQsUNDASCGgWaJEMCAgkeKIMpElbtYhjxX4yTyXLkV26hUfHwfCboyfJkyJsybC/RPxmq/UVPpTfGmCDR54YGB4SPBweMBAaEBIWBREEPOEHL8eype31GYQ6gnPbLsiuytjKvybZ0umdIwdRw+nTvYd95hBTy0EL3GMGhyz2KWnHCSS3J/oT7vuZer35N1OvdfSZSPsxRTa102k0t8nZDxajHvEJFiGDixjCiVlmPFPmMavButpxrEqimJlRE6+iKvjIMj7IbKnV2W7iZvqNZkIuLacisowMKDTxYk55QkwYPEiGDFNOeceSUShRxHF8RtZeLqaKL6Kpn8qmXSq7c0WU05zR43inqPJsaesxI5ooksWS4IXMJCVCxCmEoQYxA4jr6ZG9FdR2iuVROxVqrd1Nku2ZyzWis08/d0zLyCkGpzLZaQUWMeawgooSSJaNcgS1kwbkHEdyINcNxR6Elws22mo/X8PTQswm5Jhe+m+0RfZlQRAzgUh1YhZRXBmmLXD8uM2YDcW1Kf+hMyE1QvlyXZMabFJjFPzUWdBBWEUiCnEHQZBCIhiuUM8o4silJMmHVcqLd7SlrMFyg91ylx6pWj0PZsw63JIqIRIosYvs0U9AgJOWSQ3kqtrDUL2FuJdAsgmFLlBLs1f4TBS77F1dIgzEaYSMewiRDMMpYr8ZpkEXlokiiI4clnfklTZC5cv8+4xsoSzUUjZyc3vcSKXtWm2LVkKSQvOmiCzNSw3WDUMNYXhKt1GwialDYcJZRk9vrwlSDxh5Qkx+KqGWjrmvZUovGTlfBBYQ3Ffph/Y0pvTtL6roULHJaHBLuSqqrNYeYJMXLjVYtVTlTGflVXTV7T1XO9adxtcactRw1h5jcINGWrlkCTNzMRSMhKiWaUSd9KosxqoIqMVOmFmTzLQnpm0d2Wh7Fu3OaZ8ywkq6MFhBdKeZOK5LF04t1Ld9fMeicSjbzmnJpR/OFqNIJIXlPUv+9GoQt21XkPO2kPU0penGlX7ibOHiN0iUWjcrvdMMnzj1V7pnLmt0hOMuUJQvv6JKbQgaK2EJY3OtXsr6guUGlfCCHBAuZ4RkJGhRhRitCLxAUys7CHCRTdKyUiczk6akybJCFCOEo12jDghSM4IfM/EcmxFaRnastDAcEeBAHAGAUiRWTm7FNeTk55V9zWT5BJG6xMqvSm5WJ5RZi3T5z0YtlNOb0TU9qvKacvqiushLMtW9/Q8IEkclEZ7Il2ojKqIQkpNqeQ+jhLnDRzZIehjSL1G5V8cTSHmLs4nmNM/KxJV6Y9ySEo9TUZNYkhuKTJHwwtiCVGDxFPcsos4kiJd7moq+R+IusxbOJMQJHLshZS0KWqYhTWdfmJeECcOPokCg9oAOAAPAFAkKDYGv/4xQgGfRT/+f/4GOyj+4MLT8qSQh5PUj3fC3dK9lCNIheV1vdsWj09vdiLmYTy+KMJFauUjkuIyqpPMzszkfFJ79ZWNel64QsglX5OtakIu5h2rOhK6JryP0SXalSkW0z61IkSLP7EG31PltIzZLdlR9W1WJvtP4hSXE+6S3TkuPkfOJxnmpC6YtUz/yNqJyoR0r0RKohWPoi0iVcz+kJ1TrXf6EDEAgGUHPNgPHAuiwBy1Jynua8L7FLCpUkFakShpM0YWI5TVWwTKJVkfaCGylxLowjnBDBSkVGGkrPxybYhfmV2yTKpRG5RiUoilc3dAzcbl8YdSICOiV7sX0IfGrk0K2z779JhN3UTxve3S5imKsI+mhRlaFbORqZ4XSQk7mha1nEu+KI8Yl8ZXsZ9DVPbKhdoSTovriepWTt9Iib3WnSeX5zKKRF6IyyRDCo0ohHJJ5SSKyo3VkmlKMQ+4yBKc4YWnRWBHC5By0WCEdCY6k0ACHaUkRo5+LAgFoEmA9F/8IJNZBpZCetltOqFOjjL/wiuYIMaUnljKsojVmhnlc1ZUTJTsXbTww9b1fukizUlkxfDaHofw3MZsOWqsRNQ6yHU5JCTpW+pSpzUayX1JLdcUlSN81lr6P8BYBgBqhsL26OIJMBYOWL/NgqHy4RueHC7acg2XRM6VZkuWBQYpJGS+NnZHhgoaGJFzN/6U4+0e5v6IqI1tIgJI7sQk3bdeGqcWeZEU5r732j7y015/rT9oZ60UmGX30kccGE11HCIsMB8JkSn2c4gKkploOntRvWem5T/TVg1U1+syFGWxWlyCQYYgVvZGjO+iRLSNOmZ3Y69JfjTCs5dVLIHOCFrqEKrqYw55qtoi5191VduMc8MpX3//HvpThpTZCqpp9wyUCosJgiF0QpISCcJEgiJQJCNEC2N6Md+8riCI1M4vyN+kd2UIYdFg8oL5QM/WyKrGuXsQDp1FlcwoyXKEjaLyZPj2CgaJCOHqZPYUoKVI8gqdbov9PJtapUvd9jOuHiqriTciXLG9aPgkBQeS8KHrRueCcLNwSDMQEO5qao0sJFQ5MURbnDFCSukdlRIjVpkNOKMNgrRAsyHPqmVja+EzouCCHLIjbvKwONJFxLSV4yKhg4svpkq+gzK2wv/WSbvyeF4qX3dzJ3nkem6K8GxsfJIHhyFy8LlodKSj5FuTmpyc5VUI51rvtGvO81reQoXerv6t2iTWyhjOg8DjKB1gVDSZcqkRdeMI/ZdFRZZ37hDRIlVklmbw9j5XxVVSAjlkyZ5c+MqukSW6CLTclj6jGQIgSJPptpmjpYIAweTT1Oz83akuTTd2tSlJOhTrWcZDI0UQ66YR3cd+pmxVi67iU8a3l1Cu3cUXstqvWaFyoXc00KIPEyGBERWqsMk9E9qHVO1nggcxN3J3vIheIVxa6avhcAqBcVL3eAoCJUxUVDJVTTryGoUjVIcHHorF4vcle+rNWRxLDZlExI8uDLDAl3UBALvvT3395s0Zo2tdDKEWilzM0FzKH/rlg4kxc/2YiBaQs3Gj5rb9l1Jb9uqBJU3/P9wV6lyjn/rQvAaB2L55E0diULX6IfrI2Amj0X5gVR7QvITuTTRPFP0INZj011FCQWx4IBPMcWEQkjQp/47J6M3byMM++uMG6mw1cEyRiWS+kpiE5fIntHxR46h4v5q2SLcbE/q6SiUp3Ep350ZpR99kg4ZKFm44/gDAB20D2GGsIhmE7qFI+DgHtL7ZCaCyQeYjD48Cqf3kQUGBcTyLBe8L8DJoLLH8VVAsGTqQYNJGLAjciSsluW9DdgXVucuUkZ3XxHV94yBGRimJtH0ZmQrhdTwwDloKND4tsfNUwCiKeAN1sEERTsRDK7hw9CpuiMBQN58hY+o/ko5jrIRGBOTsZuJkpwj0VEweujtRR0Kf8L7RLU0dhX8vECWKp/neqSKcVcU5i0ekgicMR/b8cX5uslOQrHAm6rzZZO4hKryiSorg+UsVeqN7TBEsubf+vURSyrXFe10OPr7nL4vIYDXKr7cNzpYiaBwC0tLqR3AUjRBNwR8wAwRICLq63SvXhoyrT21DudZfmFmeJKUq9bZP6NapI90SvVJTStu/QG5Qv6yhAo/uCggYSEuMR7xZXBdEkkJqDrb0qNlpRUBmJvDVQaVPxhbwVUCGNePzPBQoJoX4iX87iQ9pbW7hT1QuquR1vkK1Ki20BztiC3ixSqJ6DsLpKnOjdk5mwlmmpy7mmI8iJhFGPc2+ZvoPTIgxqazTL6hJQo7HXKm84wIoFJrffLhb0hhK4aizK4h2REllNLL/5CEmhYuxkMil/lTCUldHWkXilYo+z72RrRNclHNsqAngWlK6uTDaloQqaYbJJC4k0CQ/BVUspJK/L2VwKEctFBrBMcsL88I3Z+Tt2jhDP2j+0z7npByVGVoFqspOw8xVXjMFRkzWDY6rcYmuHfcRsoo0OSQtfg8CS41mfwnjqFYQ0RoDVEoLcOHAFlrHu9BLIqNPDdCzDoz0uZJw8v1pXWybFQ3bcvsQ+RNXo5a09zwwVacIJKNuYfjYP8ToBuw8LfHlwEbLW1Hve58BFBSzE1ghP9XmVocAogInWElJFa/fz6foZNATYYxY7rd3SOe96vK0bS7mQZ+CiMpdL/icR46UlrDhHfMGy7AYKLJBdEDXv/QEKAQ8PSgrq00DHVDAPaghaKXA4thwR3rqo4TnDgtiwW8CEBCOgunA8fab4OMn+8pGWnzrLRJQNb1YX/ka0VgTjYJ0Mhh6kuvx0mcWmqKSXUXlZDaY+wlCIQf/0rNqIdpYmJtJETZTv7jALUyGmgLQ6JtRehAVjvVjx1Gm5dz8QtV8u50azrWqj8waU47M8mgjz5SiMRV5YwiFLiwcXf0XCTDyYwRJb83l4EPeVfbmljmsornILOv6FDKkHI5ThOcgN65smRvdYXaQUpI0gsCy7JIhK6iBsFzIs47lS0w1IKLMqCZv8j/ranySCZg/+u/h5oaDC2enVlm0LwI/p+1t/sj5RLSdYYLSSjrXvbdK55XgoFAT4a3sq27EhlZSKMZBcYEgPLAVLAseYMAJcGVgb5CLY74G2CfIKh1vHUNlCdsZhjTY4PwlyQn0FxJLnA6lH49B7RWZM/SHHOUZh8inzrV59gVgK074n1nKhu3Cr/TDRDNjL3K+0skefEg9QigqMhlURQ2fm5xiawv7LYG576SXcAFaO6YKR/zsoTUgPVV1P6xkUq1erzYypfuetbkQY8ObBs8B93m4D1gPQCY4Lr76DV0/h+0uOzAR4qTTljCNoUJHeVggSIKvGsxaGQhl7xhIkgquIdsS2hlt1tlkXGRi4j5FX/vAdp9FmD0zjFIa+5sigRBIB8MJoV5z/aEMw6FQVlLFO6CDG4KQofo1wfRYW+3hPlI9O+GGkoORV1llZBdMWj8yJOSArPrMkgDcF0AFcQN7hXAAnwkADFLSY5QxcIGkQ+TObdFShUMKeNqhbl9c1ULHVCahWdnHPDKu7f6bcOSK2RE5cRW0dWR7gzp6mshup3qDBRGUkU5sNS8gfqCldxHrHrMbLHU8oYoc5H/iTOkkhjkfFjiaf0GQH4fb7sw0GSehFMBFiGL783AcheL+tv/hWOgnMNECpoBulUsCogLwCcoqq5sK9O2k5bD+ESTjg8gY0UbHb3u90PeacjRHueaXtBoQR74H1BXxeKxq+Lu9cntmfLG4ft1CxDW9vErDTVp4hJ18i36NRT9FV6o1EoKorW3/DbGrLNvu3REPUhbBoEL9cswuo7WO+l6J61Rx93ST3YUdcLxlQm5NuVFH3wSQ7UGgwRhEDAWojaOy1qEquHmc0nEPFXXe0MjAmyn2SYP107FVIXxZwHW+CeMLl7rhaRcB8hgryPeGhI0CBCBGN2J+iWHFE1mpHkgVKl1FXWV/7C7mb9opyVl7WVsy0WxrvHTkVgmqFELOpLLCMVroyEkeJYbzRK3RladWYwsp1dD+5sQEwBpBd4HmidR3wtJv69Rojsgg3yR4CWwMp3UBkA2IfWEjx1ACKYTERNeMPNVXwTtjp+9jPuSJNUSY3RaH9qVc+L1dtlqxdFvdvE1bmjnZo14+OL/i3l5g1ydEsVf8YzEpRBSMchkxJy81FcR3KRzVoqqGRF99StRA2+pnTM1JMJ+7JQp6qxQrijXHfhgYe0Ugm8aSSw3xTOTzUS4lmZeWYR2Im/pm9bs9vEIFQ2xNxkeSvmRV7T/t+RZjQ9kTFjkqwZfGo2636xnx36GnWqPpdyEbVA8vUEnJp9/3d0FdBW/hMU6x8JfohpBdpkmdprJ2OqHPObN1EEEYd+fyWg2oLHKSfeE6CK8SnOcgZ0cO88pQSgLPJ3DRMOHStpGua4S7jCvkyFY8Pb4jrAhPcRBdDcRGq+EzK3189i9UWo3oT7r7u+QNC4gqWrjNnMmAm2LIbLjPLRngy69lP66EqU2qnDE62rRFReTJzyLXsrKov/6NXfjLqIDFmYVZehIsNYz5IcI4rTkhuK3j/FEBf+f4kodBtKRm1PmvKZhwx6mFDKO6YJfpfdTsv9qlj9hjcREfpF8o2apm7Wy9l98KqKZZjfV8+GUVyYor66OHh+7bjUgWd6ZP+B+nOezdQw0DDem6tyNMpM7qZepgfav4lcEtZUtpNAyvwMuA+TLz0UcaR/bUsrX+4nmo4jJ4VRtL5SIgCpaFHCarhalRdAWrTUlCU/m+lxWJvKAy0lA7LFtQj2g5NhU1fxiOt2fVr6vDg6NNBbJf48UOQSCRaYQqYbrqnxIgb7D+KR6MIB7psU0bs2uUTjmPsxZl9goVQQr4bWgKB2hCgWBLQlZPPk8duktAChTcBrowpY6dW9aAxlI7PFmO3ungrZXl7qY3OQ6m32QnYJjSg8IvnOMGzufyVPjE6ibiWglXQJfCAAQSd4RKxLrjSUQToIgAp0CEi53ClyKZ8gkOjOR2esRVRFUiK1QqU/DAdoxqOk2xqZoVt4Xb9uu4uL176f6qTyQhneVKxFvMZDbapAcldhgmLh48UOL8avMSiLQ6LTSx5zHN9ukasE91rJwK8cyFAXZln4XLaWPdNpY70SY9vUVEnh8c59fjubXb0C6wm+qpOijXpc+Rh8C/8g2oe2NqHrjJeGlCPa0vxaReTxtnSlyDHqhNFGWs+sX/OQ0WZ1dL+YCZpVAkKgtu1HRLdISaPMY0Y25MTFpCpZhm9FUrpGFxHLSSUfDTpvzwcLsA3bW4tHgwkGvR/JH27sQ2wlM+OrhW6SbrzuKi1IEE5kTVJrC97ukaUgBAVsgn4JJ63FSlg0iY8iOgt2mVWiIGS8mrjU/v7MvL1c4fR0wilymiNnlFBP81VJdOu6UwXnjPskhDQTjSC+CKWBCNSZZRV2Qsm/5S08DD65Enab7wj6q71L5nw6j9MucVFb8/Un+re75X5tOXiZXyhmE3BI3R8c6Wk6hkMZYkMfWpXqECd+SO0b2IHFpLmBUI0jmjD1vL7OWOdQIgxypMwiswyTW1s0vXE8y9ZAaKRIwTed1remWTnOqYEkOoEvv+zYTuQpGPpOttsLSAtkOOLhS1GUn4/eImamV6ktmbHXlVg5V4/Qvhqv3s+HKJYhnW6VmMLLx2xL7Lm6B5VeSBj3LO36jaJuow2WSa59BLlLUjs2zg6/HmVsH/3rmTfBTrjj6rh8pYlQwSqI5opRYmllWWExsI0i9nnrf5vCKy7/YIg5+GSKDWliwaXyKlFSpKdDyGqRH0tA20ZRkluT9xTtLxGZzFRr9M4u7Z3lF6FQazvHUfv3rZNEp1X3zi5ERlmQx1PYuGksh5hf2cyv+Q/Xj/tW6tb8bqslJQtovqii2X140dIKbc/n9EhFqvHtq2WIzvi9ca8QdUJgaOZB7MkR95ImwOxqNf9SWqDbfY7LF66Mw82qQKOwmYGp9US66e2wVdKCL7zBaI0m3CpE5UaLmRQ5QrtOeClQVWh3ySftECgxXFeYeTCox7TPcjmAmQ99C2VI7aBgqTc/HLG5oxfN8R+OfCfBhclkAWzK1/xva6sv7n9EHgDfx4BAM4S7cp+gwFsXrlIOzXaAcVf/4xQgHelL+4f/0Abv95gC2//8Bif0xAE8B0LUkDygJAEZ5oAYIF10Kp1yJLO5asYr4LxGSY65tcmkFZkQc4ZnxndZOmHyNut7tULcnEMorHE9Gn+ZW1M65s8CwRanD+0jQhnLLyz+uVlS669qH7C/zTo8NJMC1PsFS7tGKIy7C8WwfEQb0WD5FM6HZNI09XYfYh2OS8xyyS752lBkaMXyDLtmWezL27csJV8Gq+ytep1TI4C2HNlwGkogHQA+UJC58yMqxnJTgiEhjBPDuL812GTiKmK5WQ4Ue9C3fPkN1EbG6kxRV9NntS5dcZhyLYnQijy1Nxr2TbBPINvu0hrICiW0NJT9T9y46tLw+DdRefMpGSe0J1PTSJJ0Y/zTTCm6tkRHyLNEWzN8ZwRdMUOob6t5iOznqF2pu8uCSSnypMTbhiwCQ5eLkIliC9SvBSIhoQ6UJMP91Jbkj82xC3Y76GfkIIBjLuutt81QsfB0qSEt8mxrdOKKnsSFRYX1q/khg3X1Ag2E10LPkonx5KNWbTDh+fKp9ZdhTbnC3xFToZ/k/zIZjWh7C1edDJDi7j2Z8hDd55skop1blhZCQeCog4t92P+FKF6n5gXwC43/cIbL7TblgArsOKLvWwiFNiYbRWlev6uM9dAb1m/kMHJlQaMJNNCS8LP+7okzPf0NjEherfG4kYHS60laq3viMBW56WNkykLOYJlRSaQz+CtCxXNU3Jz+EQ42mcsSqnKsxaO3ip/vwkJ2GGzlpykG4z9IGYRhgjw7Kk3ZqDQqTJ+cq797AWCJiTYcCtT7SphhpXmhJnwXvsu/fjpD1eXUpYTFFdwJ8uAO0F4loagrnVrTpKXIRKFbtXi6AiETBabLysrDUKsjwereBwJHZJE2bQRjioqhkaC4nLKaCmM0q+2v0mZRiZXpQFizdBMsJhtlalJV6xt2Ew7f3SFfGm2XWNO7T0kvsojR4SIQN+A9Iaiaj9iNK8GbFyMeNMPqloHYGhpbDhDlnUGGtMsvnXzhCB3QfQJyQBY6gtQmofAEZVRJmZcrtODB9GYi0DOrBdap0GhJEsNN0zWOb7RogQFCwJIVV7WSRQW8XS7BTypQyCzo3IJ45YxekEysYpbmEMLPvxqt2Z+BjpBq0cCGBq+tokHzG4S4dlii2S0EPAmgqKQPn3x2jBybtbXBibETcHbCWBP2WhVusDEtxlDG8bHE5Tg7xv96WZreB9kBVDmvGtSKeYo8J4n/6hFi4zFSwjSwxdT/eOAPq7VMpPOzzj+6LoAUlBO1/dacB7WXJZg96m3ns0yyMss84qyMEJWRe6xBU89thlkvap++RMXtGcJT3Uc06X8r6Unk7Yrg17NSL1aYa8qUIlSRERhUBKFSAwpjvgm5AnhiSn8AgwTVnjrRlyIpdXs+xOmmimIQbE1znxTAYzST3+/NbFKOyqyLfGDJRV2pTF6FPzVk2DgzIRYJPtnyQO5wLL2Vlqs9eIL0icESHdWqIk/IgiDWyJCLrdV30lljNV7qWUy3OnU2QJjI7ZVKZk9dPYdr2GpiXx5IEunUht0fUarbmnWr3Z6RQiQX6czv2ZK+5dwFAofHjfgyGsw8lRLuwi6stNmVykdvJw5i7R/2n23RZc/qPknJ7zXHN649ngcar12SVHlE5Xz5JHncZRelcS7IZhnslWbxh8l/JEkfFmsIzUI7dBnmGlm200gVBht5eE2TrcN81COJtA4bfksQ6eTqyZyGoS4Pv7vrg8bz97t+FQdD1RiDTpTgd2OGkKanvGpGDd9+Yd2voPUFOWsDSi7nwC9QDwiWAVAdTBxa7VcbCugSw6UpEzGJtDPaVUUBYBGOiR8rpaVvzRujkZxd07imuxU6XY2z6DELRt1vuxfjtNN+IPT/nz5PKqPIEAkBSSkqrQbVZNNVNryfTsZVfmEYKySjeoXtZKrbTlxJqekErDasnUCEDTDDJQHrAnZ/V+TrdkWBOgZo0EPQtE8maIOcGIWRoTok/TmkZmSrwbxACvhPR0Tow97hKEup5S2HRvj7nxFGHeFGdLcuW1PuIkYxzGIwlnT/YwmF+hKJhnVxV300+yKQwFc4bkqbOOwtTlJxktm1aHo/7YzScO3YjI2IbMPGLz0yMBdA8xAijgYUK/r3Ew2CEmBvg5CVJmQ1I0QHsCvFeRMU9/YGkSDQLiFMbTTiXhAzd9P6P43lPactKD0ebWXMECKJyNWj857TBCaC9NV20pgybTiEchyOlCE3hxXBnbbOdMMPl9T04D3uh3GwXqDLH7YdONNiK2ypBSfnhG5GvHRHXE5kJKhWCOJGOWM+ieWwfvKMCaAgxnoPxV1pxSB1ibcVjU9qVy5aP11NHInDClXLmxdCZ5aNG6qF2qycNH4qwBWFMlHt0fOI4SAjy4KNhqlJYbH/Q3xIPBS1pTXB06iQqMzbRTq0o3lco3hCkGzqG6GmWKSWuW+f9vaRM74qYoIoo5o2rLq0FmHo7oZMOOv9CR9LSBArQNwMBcu+XVMVsCbD5KwyrzyRJIy5O9KIMEQjdiAj1m9vrsOhH0R8s8vGjbNh6wR4iGK6OZnCRGeEIeaMWxKFA1UxqeYJ0brIGhN7T00R625fhwP5ZxeyO6FciuKhD+TYY55qJt+DXaFCFfJKVF1SvmVGTCZhVQ2MrBZgLBpwa8LzvkYNuETmQSnBOxnybokYGh+2imiQKwQTS6DvgQ29vg1ZEHJklfxWxr913TL4lWv5E2jbO/czy/IMEQ58ED6/XPIKO6CYPcRphFOQXZfR2AtxWlfSvOvx6/J1VUXD0nV5J9+xnENSzVoiBMehKjoIteiPYybv5PnhDdhxUxv4VD26W268p8RCxP5BER2mlj5yy9UQEUaaX2A9gdo0K22ysfjdjxhDcI4YneP0YYmEkeTCXi3HEVub2JfY6yYqLQuHwvGO6Q6m9j6OfgPCOOR0iFe/8+sadkHX4UQUnCSbZsPtY2ek96q3b6HOvw7Tb2qU5TUqoJSWh+08STV/1ZoXodiFpaWiHriWNAaj5fi4ni2Ro9um1JbcSWu+V2LNSCe5NSDsvsBaIYirA7RSYrHJB6xhCCq0jtv5CPpBEhh0vuPw1tSGuBZL75mws72InRecixW1CEu4RjRDwOCzOGJdll4QJAGufhKd+tT7P9M1ZMUW4g0Ha+eu8sREsCbni2We1197f4LtZI7p3Ta/CMIZCjBNfcRaXIGw9PO0xZEM6KvP2cQ1qya37bhp2f/o15cZgUEe8IKxoJoDTFrAFFH1DwD8BURXypHMKEPQKIWcLXVwtwfqkdCA/m0OMyzNuaUoKwQibHxFTt5PpNCdaKQ71bNbcOFR6sI8hUxRYn0pW1vH6WJWm4wbo1lQsTPs1mvdW5HuSO2COTp0I3UYqi6HS+DZZtlKICZB0VlGWROCyyPyCd6cdv5LkERYhJzRqTl3ZC33DYCluuQ+mmRS9KlctKbsb8oLSUE3EtZpZk4oaY3JWHQrE4t084uOwmrv/c7Vjkil12FySfNlrI7NVw3itud/JIQoshuS5Vucrg0yc8osXfo86hBofgIsX0iiNQsdRq9JsZGp8QUXbK5ex6Dc68VBp7+bYzNW9iwvB71ATP+pq8wkdvIFch7ZoVgJSxZGErhKKi4ivC39XY9RqVRbpOSD3Olsjbod/oaxMoyGrhDTlw0d/ezAHbuWOqE2u1foFJr124tIYZn0EIQv8Qzl7Loo5tMI4agIM4Ii3iNSEQzzI8xCEOW18nGKmaxPgyoXZ9/lrCcC4mcQQzpINT4SlfFczxFLE0GFtg3xMxewdIb1OTBbgd0lSE4kqCS9fRKOrRfeorg0K5QnWx3h8YhOUYZw8uo7oMud0SSJFj+CCYNb9qjBOWmKCXxu+nfc14y/v1Bagakl0iE/VZB6OQA4bhJgLm3z3BIRNnPEKR+BZlYt+sjplWuEDU0zW9IuEIjpyQvi8oibQiaJcbvFZHoS237Lf2wkhkxVu7VsaNMPfASiQqa4ZOYNU8c8JM7vpE8OOeQ25Xgjo7jatmMUanNI2wycBTSgVZVdVI6xgCWw0zRD45DXIAm4H6CF2XlfovKOIU8a26ap1P02Spfgb0VQQH9PuTJB58sLpb8mJaGHmlkscCTg9JYnzdh8QqATm3KkgxD4VFCYH3b5BibshZOuiS4xsjFGMvnwmhse8zTcsJk9UnbKO36kyrIjQQEUor6FSKno8sKeOKCZCz5EiVmU3ZlC7LAmm6dncsZJC5Dj3gHBFsZMjgnboUiVvy/XpfIb9NlUUWEYXJUTbylRQkgeVKElFMJWXMTB39RxXcJDlROhTbc01nLeZ4srGLkUWQK8ZU+za8wesPdhhnWoS5vUIGrBBDzuKbLFP+l2DPoHPCsBayREuCRliw1MDBj/FaD5mKNQXn16I+QyLydy35eqlsWv+Oy1UCZ0TATF6IgK0iRHjF4EPTJhkPKe7C1hXgbsNwtPJk0aRqS6NFmD1Uwre30pajBrQN0B7VID+GLPuMF2YumKOdQPiBmgt6/FEI3iEhKUT9Nx0siTMjkcISi25QBo2OQ04RRfn2KFjlvj4wgTs2Ci44sowQREyh4gTk1yIqhTmVVqAqCqoQySBY00TTzLTNkoVvElKPCFCCn/z8SHt7khUtc3AFku5H3CQ4JmKs26XIqhF8JiJkY/QmUDagSQILvPhLRrwQY/77GpFKGZEofeAPAvKUOG/3z3tPcQsphEtecIAXeG9CnkwA2IF+X8h/KlVNW6ln3DXI+gMf27jcVpx3he5sXzG3/EZOUfGkKp5zei1MioiID/hAvuYkSy405E6WUAEFDacdBe8V0ew2ZDjkp0uBz0Cf6eQ8L6CtCAw1dvLi+FpNCKEC5v9KvEIKMAS8hgJKCGQ2DX0QFyBP9JAf9mVlRsOoM+WJ+92JhnxewjwLqAlgIXVhXgFjALsHJtlKSa5acxpXqP6WUP2YZRSKXksYzAyZCIvpG5rbjUcuIoV2JKzy1mcGxLswtJrirLykyxBKxlIKxflIREUhfEQje7cpQXsPsTe2ixBt2qLU/PBtzVImJmDAIG76FdP+U3ExBuhZRomfYM+D89+jGyGtGaDbj+VNUV2pJIQvwPWO40JFHXvSpEbQka4xaAOr6ilGzFoFvGeD42Q3UBJOvHxEGCmm6gxPSzIHMeovMO9yYEbnZlmPiEp1KcfUozT7fWgtgb3qrksTZ3ifxAlYUAbtDuJeibiDIfMTYrpdSsJbg2mNWF2G5WBuQnAWuBGoT4KzQQUIuvd2SzGH0ZgGz/XhZKO1ggf0e0RJL0pIdTeUyeK596lxGjt/YvRe6JfXsfdHsaU5o0fjtRtBc5WvlaENnPAgcbZc+zA65Ud9s/1s2S0doao4Mbn2KV9XNWIMEjXwgh6YlN/EyFGPujHC3QVPQBFm9Zdhkpej60bmmDDYIru/uv4yzBzegqYiqakof1moqlPYpu7RaK7dKSTJ2/AjYlh55dwP5d4tVWyT3WE57kRdiBm1qIr3vvaNwRAmS0pDyBPfgkCVVhEAKC/3D4ndjKGxp7GGDLroqC7MqZEqy9ZVAdNdcZibbopFLbDp+0SLzlJo4yjCwggcnEWvPJ/OA0lokpafUrkNQvktFQN7AP7QFW7+Z+S/EBiKHzs0kbdf3vAn23bGGxCuGULSz5msrH/OV53aqoi67ky07a+5kCkCiySJLK1E7m0AuepvW+rfv20Eu29+6EbCow6LWb/0hBtLRY9EbZfbDEL0wnBdFGGAXiEN4xguhIAoB6ALIPOMDYE60GMCKnApOwi9WPMsy9wOBxBBM/IIA2Aby2dykGbDMdW9zIUDGE/VRCN+U6Yv3pq2oJJozTphOz3bXorPH9QJ1mMQ4zNZvLEvksWIS93XcDpwSvrTCYlj6l4+VZuSz+kcPPpRw+7kubt/1Kir1zTpZtrJNfptMKIjVVNCjt6dNl2eiglolC8nf6Nv4oLvhMhRWLi1VRuJy6gxDfbRA9doaa8ajFB0inUaDA4pFfzakHRA5FW3p2KCKgwoBOwSu7noJdVZhwn+fl//PMY3p8XjXjlfWf7j339v6rmy+F15a0mHNqsDYlOzxoaHApdH5sXEhKRkztgVlhMeCA+HwyNBYKh0Eo6CwZC8UC8aG5cVGBoUmRoRuWTPspQM83vmw3F3G0prG6l97L5jOoqieJIQRRCeNobQyh7BhBRDqFMaxzM53fdbS6urj3dZE70wG45PBI/LCF4/fnYxCEHweB+LwjOD586PhWMh+MgvFQ4Fbdmh6vVflUyI1S5G+yUWPbg85eyPCjJsHHmjaICVS6Rkyt66PyEYHh+ajY6PiBi/ePFatNQ7bCQTuOoQwqhTDWCeBJB/DGVb6GLIUw5ns0m0/inhwEbtc6sJZLouiix+mg5LnBwYnyww59JEPAVh0D8MgUCsbE5YSHBGeCIeAoHQjL15ufGdH5ycjI8PyQoQr6nB17sF6VFr26qTDp5EpU5JSxih/Xk4kk4nkbwkhlBFBvAqgIYD2BpDWS2tjKptbzzFL866RjMdhIUlCnpMbq+4NgoJBa/EBs5Vr8BS3CkKQXgRgyCwdCU8ZL2uBEaHgpMSFCQWdFZ8N3BiSkpKmfWd3X+cbF4VlBgal7J87JTQXhCCgPgTBENhWKjQuepHDHG0tJbEkKIZQKYEkBhAawE0G87xKFEuhLGcM5pBFL5zTiMLRYrIphCKO4ZynX2FxIWtTYiZMPWAvHQJg5B2BQDcPglHAiLyJ0QDgEIEYKwiP261K006m4gEgwEJIouZLMq/XjfuSlKoWIEGJHsKBCOBqKBoeC7Bv/4xQgIV1ICUQJsAmsCYgI7AgMBvAFiAPgAd7Shda8WyBJ3IDeHb1AHN8GKzCeTGOIJ4PoOYDOEsJ+9XmYBl+AZ5IGNJR+omMQVuRG/9x9SRV3Jp4dCIOCQICeiNKjFvlZuDMLwXDQIilWhe9cX00FQpFJ8YpVOOV5KnSpu25o6SYBH6lHmjyGyofEZO9WqkxO+EQ1F4SBCeCssKEJQs4s+RzX3sSxHHt3aYZumeMErSFRe/ux5L3ZfsN5vONQ6UumtTI7BoXD1qmNi0x0IxsdSgpLClsZOd+sghnUTTweyc/LSjnZOVRiCbTUeCU7pCT2+mvrYTq5kZ5V1Dcp/xQ+PO0GcgNhCV1hDQcRIdGosmkonkjkFfTUTjzOne8ej7p1rtsvT1PsWorTLUafgJuTWtq5g7oq7R9+G0qmshPST+0a37HnjEhdOxePJAdVt5xKThJj6dxHFQWBANTUlt3z+aXC5GQzmspOK4u/v5QvDU+l0klVPXGHWpFC2e7YYSyUzYWyAQEhVRUpcIZZNwinklkRH56RaK9WKhQvKm1a1TbEKP0cohzhy0TndsLyrtMnzel/OQXAuuRiaVvbukclAxMRPL5xEAUC0aWxFz9XETCIUzoOoqjMT3h997B20PgJJtLBFMLk5IqGUd336tpZLhQLBsXFt8qFQrGMvFNuLLi4mEqmgvEdCQM9KRSu7mA7J7BT5ViBaLnTeqkWKeozwkxSlDX8ONU7blJkry35cnovLiiya6pTEFgT+bo3sfGqwmBhFU/Nzoj+7e10GNVTHRv7JIiWo9k3ndxxO72Nf6SOeLeJEk3ckUAgE1oiNFvaqNzPVd6aWLpVaY1quo+qK71pMCSFCI4+jiaa0p7qbzVrFcvcgV37pGyRvCoJQS4mbICds1otrskEClDqcjSo3mVHobIvAJgMw3WYoqspOSu375Zk6q4h5pfzcMdluM3BhkIyJo1TTopRjCRJB4Jhi4EjDEQtCqWyG6twXH2/aJExU/XdK0ba/qpEcBNKpafzf6t9koLUdIj1zJuiNiUBdvUuCWRO52mI/bTcCtadK0zVeIeLdXNRVXYctpv1rxfnLOdcIKHDCgksAOkAzXmC0nTk0GT2itYH2CMUo9ZgWrI7FBHB6uGE1HHLOi6yIJzIn4L9kVHp7DDDBvDIYto4DLPYTwY5tFjKXS5lo6YQwhUv7bOkBEljDvAUbjU6IQmo31GCAMVK/vZ6LxY4+RMGsUCoJCjfKehwE2riyrnr4yuvdt2KiVrT379Wn3dfytkxPiICU8tYq4S9iQPEAbRSAOiM+fgG2laLq0p03UPT5mkq/VGILVcQUsCQ88RQczhZdj0n8aVINZbwZg8n0V+l4TsEmEAdbTklQ9FCGIBJ1V7sXoyGXNlZ0sEB56I3KtIcbJGCdv7elQhfGiaC1MTMieZKJzJSHm7qd3zuYjlLR3kbJTJJN08Hpeqnre5HU2/JuWWkg58zDriWcaknIUwB3q6B0xpz2DRICu5Su8w8nb5OqqjdqIJVPSGFFfYgwGEnScvGY3TD9Poidc2U7nm8YyiWB3FepeEnkmYBNP4hrI5uZQpWpRkeDzZFXK/J4BEdNZZfYoV2E4UyzV2fLB9sVgplfLo/88n0pFQnHZPN1EyELGyldRquVTpelmR65MNuvUxxaneN8/yfCdBU0ICcD2ASYBQ0YykTihNEAHmW4PAEAzSzm2RcI5TIFfzXs4EU8StrT2cl5TbnDgFMZmGo440GkvmxeI+wKAspVc0WTAVn1g9dslofJz1jAXmxzzk/VXTwzISuQl9reCEqlwwv6m/pOGRy2blv0fp8KCj45n5AlPpXZaTOz/VkI+eioiO4mcZwgld/ZU15W20YQlv9Dbpp0RT8tUY9wvkSgsJD3WbkarkYptAwKHao8M0LOhbkRKPmrfFTJ2r48cZ0tI07InaS3ZYaCrV8GhIQUxCQIOSlg6RlqB1usyh0odtmHE3cFzoFQwXbWIDwZLOm3PGqzfmSIvnZw5EI5Zk5a7BaIysxKwzNQjHozM1JmFpiPxae1k5m7e32kJHGotY2VawdJq9y5cmtQPjBccGxA6LiosVLDQTFAsESo04NCDbeows4ko3k0mglLa60taHbKWapXrVGiSCsKai/G0KkN7Ts8lA2iSQjjPVpqKvtkFNkb19y5UyXS8w2izGPl/DPVWSYnG3W33/qrK7I53falRA44aINIFAoS6acIIXNPICCErK8NHHGEjFqvPMFDDzvewY1jEzaNLPISb54efSiDdS8S2417HHlrQIUtuuEBwQiRQxMUQIFZAluvYiJe14eJLQ7S0rUzzUtPmfbdYks/qlCFVaMyEBwZe4ixDHci8VJBCE6NvjBSjsaJXrVGEeBYSGt2nSLGh6WHFGNv2oogRHS91WZhFxaM59RzPGOyXNIJslGkPUSuVbQ06WaxufvmEInEtTF81K43qwtFsY5CulPYy1LSkmzce0k2W8WyGfXmapFyiJV1YmG0bFspx9xWWVMYTOe7N6Vzuogx/FL8zhEk9KDqoRXFxsO4gv70hCo0hzGd3Qx5bF4j6EmtncXvL5JqSMKIXpO8jnf+JEytMQnV78LtnvSPSjZk9abfC7R64/IzUPSkq6qiSFpROSUX245GysgoozkdvRaMIhclkd3KXF7ysK5DJKZgr6uDcVoiS1S+Cv6MpCYrfh5S4STS0xr0EoJrW3hpm/afS8gnssni0KvJbDSGaIhWTlY53L9+WyUTzeiMUpEqhxRTHShHMxDKzxBqBEs1R3hCrOVnLgiPZ5PV9xLBNT6zFsLqltFN2r8nvKFlYkuk6SRVrOP2JqOsttJcnMG7GuNFNTuH9ilqi5EaUvvpCIOe5wk5zcCnsxHmU8waxMNlIzUlTtYRXYpNCJgIijN1NejDgq5GyGR4feXSR6W7eKSw+GFe3QnF8IDrELEBtrBVs93/yT9lXvk2NDZ4m8nW0t++JH2GxoExxCy7RA6lI8Nh7rQyJG0NsKMkAkCK2vokljJu4mHuMaa+fayejZsj8gnZpy5f9pdclj20KThD0XrNiWUXCHUuvIyKqe2ziM7HDtP9jstUbX8oN1Of2dGKpGnWTTy9lwxpOitCbQEKTTY1XIhPf9YEIkUZDcRPgJS5Na7eJWBP8wU4Y1rHrZO021vSGUyPqRNzNe7Jx6nhroaGRhpIFrHlbt6bmaKN04Ow2tX5fKo+M935p84CacCnqXLHlCS8CXOVmtM6xPXf61b4qGXCn8x3FefW3uxnDAQa7AIPJHq8MVtknPdS4Y2LtNSVBKceGaOVen4hwB0EnEXDzAg9flstIgymp8//mWRr16ckuOAWF6205+CxeT2YeQtsNjwc/89WFkbUAu1py+/B3dJJnko9loeln74V8V/9fKfwgOKM8UMoZZK52Ve0nFU7TNS3W8TUlUqRSXj0jC0ClVCMkrRKCN3mDdaFBEqpZzHpq39PMFvXiueq+cCHSfoKeGQjJILiQDjVRjk0GCLS2Uc00IjznlaTFD+Btv7iy/EFlLXWFL9WQg/ZPoUvJHvHfp3PKK+6aR1D/k+xJ0kUx/cunU5UX9M81eBcjhsCSCKkpsnClyO9pOGxhyPaOo39IFlwH4p+Nni4FjWieL3aMckt2rVb3idKbH7xy8r2ySGNeCaVFzGJgDKCCuMldIv+TKYr6PWBA4h+eSxCkqFrKPW1R1HBmfmiVqo+SVWEkJilmD4Vrl8ky0OXUIsHpOF7d/GZhxMNhUJYJ2ePtn+Ii0BOjy0ezMTTYWTzd/ahau98NMOnC2o9ev2EcPWQgpQI+CzKfUcq6RX6JeNOrArI6DNxBMIXWn/RyQv+6VR52FTRr6Dsd1dIVputwbvGOrm7B6OiVhTZheKWSl/G5X5b1ow/PIo17wOv8v7Tk7KERVepzzErQDi3NEYE2NbSDFNT3zTMnJ6pW6O9plijtpoJAoHpudeLjKLNZlFHcNK5HjZ4Zc1GDKaYai9mhdrn0uwoZNichCi73xNCes0ts2IwVtptoTV5n9x01mOG42RbIkrUKrY3YMCUb5rEj6XduKomui6udielOKfwUYYHUfXTUuH+aD8ZOVkaOdXm2VOYNMV0UL6kpFKKXTUAyDUpYl/4TU1RmxBm/hEnNe5/6JHJP6ou4jjtUu8aoLTtt57cvldq0CvMtpNq0/0i9Iu1fnuH1E6bE/nXbE/RRb66xWcc/Rl1MbBwb5WsbW7Ra52lWpxBVCt6DxOLh8VB9i427iCvEnXRKSVN23VqfluHdiWYOuEOT2YookhQZSlVREJGgQIUUQjFCevFf6DK+VDI3CEK/Plb5Qae1EfMmbyvEhSj/YczcC4KnoeVDXkMqTBU+QwqhVXZlsJ+qU6jqhrcyrKI71I9EMDROc3LgRP9+KFyOqNC9Sn2TFKEidBMIERYbNFrXCnU6KrBF0PskjraeuZqjKjMe/eo6ag8vW21P5Esa0wyurOQL01tMExbwkLTVnm1whRk1eQQtvkRRA96VQhsma4k7DXmVSG0WfrJftrx/71GeYkde8TOoVM8HULw/NoFmVDjfZXIFJbZjTLl9KVJ904oJDPegl1RmE7lJSDQ7uK0NYGeLDMJm5HIEGQR2AhTQbgk8RBLQQpqMmgxufsvq+fWRUpafjtkvmHf5hRA7QbxZ27yRagsSDTkQ/Sk9NWbXUJdq18EPw+hEDlBJGqUEcx+C7NMQwiSsrrbXZTJrCZGIfbc5OW8gfjvZil5K/XeCosQr3cTAixpN3BuLo/R9HHyf5BJAnRmK8kx7BVmhGlyRUAwxKPlxLfG8DdNx+06k30hEvArXRQLXJ9JvxX1DSdfiOoBSgsKYd5pWuIHWAmE+ToPJx8ahQ+CUa+JhRjCqsW5Q+sH6CaOdPlwQwt9IJQKmpFIz0G6rOBUDTT4mGmcYEscrFGYK9afKOXuB2to8xPI21V0jEsTNCv31TSM/CSXKHgYdfGxy1GyzLvZC+StjWrYrM9XYh6YQLZJmgV8fXIRHnF7HmSmutI5vKjL5yV/DCki7LZYmmylVMWu5AFnriDsItt+21z7Em1/GSmZZe7Y+okwK6Jt7+6vjR/M2QqpKoLDYyuDPwaATlQ/9tNbspR/iDkSLKwSv2K+S/AvhiUpJgmLFmILv3oTxLjvKbaYiv5S5v16rObaT00iV3n/Sj3xQ7gRVWlOMLvKK0S1tVUKylrZN3ueFB6rI3euub115jzgkkbfikiXt9krRDQP+TRz4fCUfaxvW2VhX4B0reiNAWRW5lnKB7Z5N6HVt22nt1043dTaYVUqG3YwxYvG15biiUDZqRULRs7c9BYSBa9B8fVIFOIg9S+plvZx7bMk6DZFStKmXVzfCcl+3yajvdmapmnbfKuauixl6uk9MtQf49BZ+DrZy/wBDd9AYAUPCRHWN0MCr41OHAPMsFiXwbZ0O+sURiikZcuKLnP17QrfWINQZcpMMx1sQlzWGiYFDhylpH8JIEm8FSvDFFgctx8JR3yNt2MtIHCCSBlpwdz7h6Ijg4yY3Um1K6BcnfUxarmubiZ7444ssS+W+YAXNP/4xQgJUFIAVQBUABf/r/+Q/5T/if/JACYAL7ShNicMIDr4SD6DT4uJN50K9idRFnYOssqwJc0HMEyIKJxFnhX2Ya6U6JVy1RtIFXrzHgqJSlZ3qdnWc0Y5uXaNaUrEfdCRxt3DEz6m5fyTwGe1odM9CVNZ/4ldbOkljnEYQs7JKQpRZE7ZviVWb+hTFbCrQWJJolnMX06VZLouYTVzOXqsR6rWkVI3NpqKlQSFJ/ujNVXF+XhXiWG72Eg78ac6IpM0d9b1ZyCF9tz8XuJXuYeZHQa8MkgtGmIE/hQkA7TYdLKpjZHkFO4stLTeGtJjVm8PiftBjYjREE5bxxFaRRriKBzg2i5kkEi3IkajbYjB8mmRRHsSSXYnApQhDXoHE7VZ2wD+MFbQijtqogQrA3Tqpe9rYqfyLjHkqKnTD5xOB0cMUfwvXBwS9TKImHxL1XGazktqz160Dpr5JPXQixuPl1Vff/fKFoPp2pqKWTldBEvoz7xBfdoiWZ8EOUUiIU5C3dx5t7dTHmUFnj1+zTRi/Sk5MfKomeYVJHUaN7tR+CxCUFnii6DpKiG+fLwSK0RvGYgL0G8S7HcSEwbOILodt0sKXHkScPm0SnLM3W6UDmb3USMPtyYFMbJtXRQry3RFio6P8JQJMYBM3nPaOTrIEdQIkEgEyG0efX5Rv1kqEbQT72vSOPEplT+CPMxuqCdz39j5cREIwQcI4K0OMHVUuWPTV8y0ttCNcX2zo/b6le0vHTZHWXKsxtMsp00SkVsn7R+7UwW53vZKCJXjIP9CLox+ZYtikr32dlUqgIEFAd9Y77PJxsrrpr0yhbvaG7YAp30liVSH1L/LjOw1X0IMkPUgCzMT9EQFe1hViQis9VvJpjcFefRGqgw7TqO4r0OiqVgNFdEX0UlIY5ZcSrdI/ljAdPVIWfHhS1qboSF/IHCSVgl8NdNXg0biDpNR+0iMv4hD0CYhhHktmJt1mJHb8/78pATyfnr+34LaJ0EKi0iwvR+pYDiIwgKL+kEobUQi5QnCOcLe7I52m/44GNxPVPcxFtC3plpIKdacykT+EIGuAJRaGPzBSmX+NDvFEdKhrKVndtq/ityXuIhlgXelRcNO/tcD3yVknZOV3iRkENYXaxZN1j8qqFJ4rKJCadBS1kB5IgsZUbJnybh4kIuzZndnVF0rdRLRlfEZ+I2ZumpUmk1nQlrkr0xSRF2VpEiFEWLUwVusltL3el08+jzZhfciCvjCLgnKJgTaA6bPoskR0xkUQDAdDiKTiwkQxlU5rCg5C6bz2QS8zNJEfTE3LdJycBKrFes8uyzVKnZ7vIEyxJiVL0ZYc4GGDJGW80YE8A2HgDTADbKsFsAkDKIOK8tbICqAMQDyjwnRIWojnf6SW+75fbzPCK5Da7yYvUJJM6vriINJyOtfulLeI2hBPhi1Nmdu5VyxV476n1u0WqAQC379A5RnMlk+fulCkLYteg8trdR/b7ieiJi2tXcRcAQj9BTwFTZUN0CjG2bMm+rpaSCXAkQTL1jnnb5RLvthUtsst6tPp7USCgJnbZFBfLt4I9jrPNlqr65b8m6fJ/rkyZJZnBVhFmoak2ZN5FprZ2E4yGx0eZk0xYL8bDUpDw+zA9foVvaE+YkYupryCsIGcBlqyDKgNKiIRICmFIT02LA1MxAX4E0FKPyGDFbUgbZfsI4fRRGTUyMcaZWu+1LnZdbUBXgkwrSAaFt7uiD9ClHw5h0xj17KAEuEqoBxy9sLbkiab2T/cpnv5GgDtYTSmpT/V3n8q/APOWUeET8cMacmf6A8gOhHwC0wAsMqASgPRmjtqvA5GxwmQNUM4PqCXn7M4KxDavkWkQvMmN4iBIl8aF2FS8ZWUX3R7hNvlPylxCfCDG0FKyTxhGyLssG6GUQovYkZDYEwBTGKujzkdQnEIJ6q9hUVqPVUVsebBPaRsaExp4TaiAw4FoAarjASEARFlwywHQXRF3LydLlJRAJ0PtpQWUf+1C6Fc1yXwLwx1M4XzplhK+glkqCsoDIzqDPHgiYs+psBKccgRDhLydFh0wC+CyLgZckZf41fHSS6xZFC2hrN+UDnYNNyGl7Qme0RTScm9EDHzD7kVPAAIoEUPyAC5jxkgANZyO6K+wGKjd7BCAIAfQEdDT7scBHt+mfY903W/m86FSdm9FNJ9qaH65avAyQoWYV1Z4oRgyhUEuRMz5c8UJUN80SYnrNursOcppFQVtd2vm/YJt8tSr9zWVb19g8DXkq8CBnjFbNenIYoBaCPAhYDskbESDMSTSf9RPmsfMBrASRXjjmB5dU3GK50CiSFoTDpRZ4NqaVzZpht4hyWf6rKAmnkxcF1j5FM4FjWPQzWQaxeJZiyEtWksWbxuvojLjqrOkYUqEKaXExKq6/jqySM/oIKEn+IFgAOcKQBIQDHjejdAzW4VaQlkvrH2wEYBaiJHVP/79zVt6lE2g/NVna1HVYSqXNjY18eXZqnIdxdr5BGCYZyKlU6R3LRYfPgcNLKVX6HBumv7ZyFzms02XYm32L+ShFXvJeQlqU7eErY9YKmPLcAGCA5hSAeMPiWUpyXIh6AZY1WiGHjo+wQTbJSS3NOPQ3l5ywfRQ39b+VIEmX6v+TuuwZAhz5KRylYQj+XxMMVkJXZ7bjLdDFbRWCVGfWKx9FLYFpMw3U+/7yoLze6ouPhI2pJiJSMSF9DDiqrYA6QCZLoEfC34OQfGxIIBbh+MoYtQS7PFY6TWU4UNcW5j6Hd5A0fTWPJY/jRbNaUL5xMDkFga5TlUrkdgalJhsM1Sd7DISjVVlWXZP/2O+eiCWDARq7d1P8+hvLZlA0FbEjpaz0hnQYEN/pAF4ANsP46IbklpWS55F1gO0BTC9LmWud0pC4dQm6uLqvXy893Nvg6DQugkiFRGVF7cMZ4oQjhcDPOAknPuMTSJNm+r0vR/03XM1TdTawor7Z7ZEAUhBkI37Ksf76f5eOuLIlJJ6KCE1BUQ2frD9APsDVJwdF3RQT+irz4O4AQIE6KUv/bIiZM0qVrkSBnJosbKt+9/HmS/N8zibUtE/Dr6NpCtDXBCBUideNCyR6GfLU1jTRuhtSgNFqXQi8fi+PnqAxpTmGv3HUNKWZb1CU/nKfT89b76TqTLcRKCG+EydpgcVqtIzMxr99QQccA1ymKE6dyZKaa4aRAnLpq4j240zpxRHO+XLmW131E1vp9w4nLCKjVDFCLISpdD9x0/IFJW1dFrSjf9T13HUVxNHcR0xNkZxdM1BXPatK0Tt9f4bIfY6avtXpSpipyt+kxDdngIyouXk9mNl17C9obYbQ/5aXEcicOZeu+jktIq8jWJeutfbDUE2/VisF4QZDuXNo13QuPJIPUHYDJL9BkXWP6+GU4poF8vn5yaC3HIxuoTuNRGpcbxYaM9Pu2/2omnM7vbgiYiMn1EzC9glqChcgFUDCIIg+qaULSCBk3H+AWwCHDyH4ThOQekElOnvjMCEPQrkd3JbSovb/YGZo8RbJFPf2gKx1XgCoBtAlDISxDUlcm74gkjzM5cU7XX99v61JOFCgvBr/qvUEV9beHBKLCCozQ7SjpXWFcM4oZkGRC/uQCEAbA/yMUaYnvD5hhVjHYB9AIQKIJxDmtC+iZvruFSEUaBMpHd29dskuXhL0NAt0MoWZwvdzRGBcBXCCcbJwe4zGzdpakotaFkXW3lz+N8iibTWyuX6KNy/g0PL3fg+G70mF71zyEmDFDDRg0Ie+RBXAMYNE/EyvZ/wWkcVFx7gIACYGgEQ0UpEFIuvMPzDSa6IZGWwlbHpvG6otCKcyk1uz1OaE0FeE2drXRtS8bUfwrzWdiVKf82dQlP9nIEYRr0RSixeM1il3vQz+72XZ7vnqO5K+vK9J1RUwvIUd7RgA6wVRoqJe17CFlta0+AW4Mc7DaXjvEfRdRYXDc5apb4cZBsSh9h5ikIgg0up1x8NF9x4jSG2cxCrzCcD9LlwOVid7CbFFqZHYisepjWG4nedCXG3Fo0QZIpWaq9ehV7BZIoQSoCnAXoCZAjWSCYAeQE17McdYJsJV1yAhDMC4NRULpWWU84VatZzsrFEmkV0uVBoonhLM6N9dmFNgVwTQpn5ERcK0jGNRFRUHA20rzYUv2ptY9sUrtzR5/fDnqqys1O0XGR5KpddrXzSrNL0aIdIKcP8Wta3lYSTgSHyaI+fQthpLKWTTktTGMvtLF3aywrmMuPqndtZjIRQNaj0PgjOxIPwjMrirCMEgwFVbp+IkEIxqzA1uf3gfGsJ1kw3HywiI52XC/LpZMJVM/tIOByZbbJkU7zH67YshxQ1KuKnUPtRqji6Z6MNIuJZdkL42DwE1pYXgkKJRVdRS9vJnUyIEMUzgxVIhk8iL9DMjbmxSEU/M5F1AwMa8IrJh5zwu7UzOVztzvSc98Kvx6U50me3oM6zJGgdrr04HzkV+FiYwOcr0UH2U+dhdTzj4dzmXleWq5TOmHA4ROXFCkqZs526LJjMuesk4VjQPx88qgYFOkNBZIDpLQ1CA2aJWKdwEcpWYvy4QbuTym60Lda1xMuVEk4t9G+znuhGuKtMHwJsNKCV2NI4DBFGEnjv27JOwXpmRO2JhNGlT61qciLlQ6DAriWRce/CLZoE5YFzEeKa5jVKXQ0qqiK1ikkYghW2qUSbXbeLmvSqlgxea0bWLuvH6RyWoK2HLU6jvs19MlSwSGKWKU5A1rlVh6GpcV6mIJDX9lH8IzLFPQOruQboV8/IoyVFxJYJOEABXbIHOI2GBCtUIsIbEBqlPGjMKFM1bj40/w98KZ08FX5wIaWDJ31KS9E39EpP2lguQi7F9I5nVHFH0KyYRk5NduRNnFN5Tay/BdbSN8ztpliRi8E7eyU3uCUN/E5i7vR8TUdjs/toNg8fiRxAO+kNIxiuRS6h7QGqCRh+ACJiUFyiQIz5AtDfAJzHwfbDAjqcWqEifgzgs8bMtvy8ltBhFJIbI6tmpzii2nue/W1QXwCNhaAjIjAmwEJuI/Te2JE1sMKmUrEI7QBZuIcw7WTWvRSxn7pfryk+4aa6LOY7vWNtc1RUKhnrkiIL+7/UCvyZoErqyPoaj1tK1s15IuhGilwFyHM1fX76GiiAjiVLigpmHMiXv8FYtohBOeEHyFvrHPAEolYOEF0wO4L3ULa/C9qUtZLRWSeYRW1BXpFIZ5HA0FW4V5aJVfFVytZEvDuOUm5BCZw4kSleb8ydR3oHMCt26ionjyomfjEIb/DTzwjYYGzjXZSxO5Tr+Jy3G0bG/xhenVRR6byPKtRLF0m3tW0kt5LCcO/YpFuWFN7nb0NNQ9zrYz9MV2800GRCt7vVg10TAYPTXKf+nCg1K9BhG0sPEbM3/phrSr8GBjXOnbO4Jp64PYFfjkHRzG1om2Rw2QFf/GD6DGRPY67x1ImfG8liCywxAc31XSIQLPTAgEuZQL3RChIcfYxMWnF3rGTRowaWWMHlAU3u4a1lp1L+G9p8RgiMgsdQcHXbEK0ktkwSzgpek1g3yzlKMSDi8tN+JZi5j1Ne6V+Vc6kZiA6US8pDRUmO0BMBY6LotqJ4NP5N30gxXMsCW86kQpz2VGuWojXxMRP+lGalHSWhEGliwCzcOH1H908Rp5qf5e0xiR5FzUp1jOkG6aesfJZzLRARDv1aJQFzJyNLK3Nbpt0pvVOZPtJq5eOMAzRrZkMpUO7nZJepAxoRg7HWbcKU2Sabzc5Qs/Cpw5wWABOQ+S5dX2DehVaK5ui68hWVx1WxVAyClFVt7QXpOqJ9zewIiCr4064x2lAtnittle0ktGCbuJckluooN0EYY8+jazN3PuhAUwMpPbG+S+hqvnRNAnT6kSCc18irJmdaYg/sry3R9pN1kDLy79rldsh8YHvQ5QU1dYUpxNDHli/vMoC1g0XW9uBk2Gq+i6cQGLiGajHR1Jug7xc2fNTAhL03klacRe7w5ZS3+K9Pa8dpRizBsdX86MxzbNPIu2G+AUhGxjRpxRm2lpzfyidBaMcrfGXNkBdTy6BGIjZJbK7hGtM6+LpghSYodZam07sWuCX3c9Q6I8MsbE7BWQEt6Rk4ifP1LYMamgDR6r2M+OZrnvLCZHfiupTTitx04Cjpai3aR8a3xlN0LW2Lm2vi7diI0G+0oBQ4/vw6n9htQ5QhTz8gQbjcGn59uhbXBK0q4Y/dImswL1iUdVsX5e6ffTTSB+1kXSuxqNF6EfFNopilsHa2DiSJCae6QuzuDJFwjSuR1qc030lCLpW5tWgjvBt19xAWyV3HdyQSKtA3qhQ09FqliU7sIHsVRonGq6RY+TBe5+ptXMZ5mqp5w9uIRKtz9S4XdzZAZFJqO74lse/tEn4oahhx+Y0gfhIz19K5FbYfEri0a5HO/PJ8+sx8/OzdGOuMMLi9sofGGlNGSqB5vPTUCNvlf4dWa9mUqYz2YEGyTc0MfFxllMk40XarCXGftZZxWg5NvlvztlooOSvQP/t0RBdNYGshc9yc5V2GowmZw+oKL47IyeZgV2lfT+u6Pm3W1132n64TYa62ldgrNIB60RzX6wyiK5A56Q8JQomSFwFZtqcdWPL660ayYn7l7wNXn7hZ1YxICdAkiJNYzZnKlE7Saxnc6kWB9B8pOGgF/XKCKacyJJDYr/gxsxruGaNCTtYk6jNL1SGwgq/hSJB/AEBrq0c4Es3RxbBhWQ7DzGuyoMThsaQSHrQnMU/niix3I4u85jZBdAcR2GpSl1l43qzl9Fv8XsgOYkAK+n13DjtRKn2omp2U2GUY/oXdQuw8gL4CoPF2iF9+yRxTVFgguiKoPHslKx43IlIE5hpSbINJzbKCJJ+j4tjzwNf1LkX7NVWu/EHXGda4QG2SkVyPiZCQiewkz+RkfTW++yhB0nEKdlEGNZuEsCtccF1KCqG9G8UXxNBIC/tJNF72asDETyCGb9B1K+Ql/QzAFlYxUl2loVARsNCTdSpsZyHBIe5nhv050mzPWYKXXYdG2qbyc7+yTOtLR0DSX/+MUICllS/jz/FgCK/+QB4v4f/vQBcQEV/iq1vVewHKdqbcgYjD+YCbcYCQ0a7NQxAscstSlIycZ2xYawDYOakbKqlbtuTIGhBsjP4abJIN6Zqod+Nk2cchAdVcCDcBKa3t/IjhfAZ9nQVDlkRigVo9t3pxlgirleYRGdJcRirNmrZbQV6XBNSJJHWGAkllUwaU4gyoc5GbzsSkiVGKCq056tY7ueRAm6A4zqcT0MWQ+6AQoOW0/o+w2Qlr8lgKqI4fuPhxCpt4JLaaKTxBKoBc8wBkE/b2i2KmzkgTuy326RpnHECDGjURnlr7Um6sfF10OncXLSVzrijCp2BZhcwpEzIOw8kGkqBa7E8M6CBFNuwpoLkY1BemxD1HTJceNbD6Gfb9OwYwu/OrcMEHJVoDQBISTioEyoQEfEy9RVgSHXD5Ycxqbrg9XWB2Z4Avga9tPIWMQ8O4/w2OtX0KY1M7vk9coXUkUp6jY1bPWWKAjYhRwc2xUE5wwbrM8xsbFaMSZHXEiK8MjVMu1Bpg4qEj8bvZq+xWMi4+K2DxMHN6Bv+XqngXUyIlU9QlDFb4jdlyeYReK1Mc4I/DtiexJDGhVQECEqBmQ74IcFKG1DZo8A5B8QgvwX7hV8/q2BImLDko0Oo6QHHwBOhgD3srqCLIyUd/kOdtmGp9WjIY0Kdle9vv6nyd/vl0KYH3WhFwSI4rj37PIMKOa5CdNfOLo1oQJ++mpCFXFLFVEJNUlSv+EiGcMyxEalAg6uEe5flv6ZcgjMa7TfJQCVm2geIMCyRqilkhMVV1V+bKFYMjfOq7jdCN5fynQb416W1ISoq7UqJ+tdjW1bSWc2Z52ydKodehRGw7SorFc1RgbLa4gLPkOb5mayj54uaQ/eMVWnDk7FLqimXkqYP7UiCQpEUpXCnR7Y8XkO8xIVb7uEstCf9J2H8Frb2xCN/tiSy8++G9M5moCJlcOeNZ93KBLS/hb5c0aeMalJNomRLKl3hFI92wewSSxXdSpsCQgJys/l6ulsfuUsKtA0PxX39ly41Vu1cW+HYPVJn82C7Id9HZNolWoRbOHJlFBCb6yq1Go1IinrcMSVHLBkMwFqp7mA3PKArUPc7H3D1sx2yD24mvsrORvugrIM23jyMTtRvMS1IrWLaWCtqPB+Qdd2QkpNrD+pPbaVk9wS1VB31N/TErBUyRr0rbVOlZbEFcyOne+U5AqHPztZNESwb9dMcTapmBBh4nCsOEuTXNdxsNIBLBrBjCuIEM07QkANhwbopgMYTSbfvOhSN0FlSCXBughTLVjCjesLTUO2CKpzj8QrTWMMh0rrtaaQiT/YSbYBBsNY/vY5faL5PEfbNgbDDb/a4pPpNlY7MZbtm4VS2T2mS6Ve5iEEl1W516l9BtlkmODQdVXTSne8tE1jbVlzImPElLLHjlB0gwT4I+KS0bMHkJ8mzzG8fSfmFGPJLW2cXCNu2MKLiW/p2m1zBaCnKUkps3rrhthRBHnC9kktVouko4S5Fkc6AGXNKqdE4V4RVjU/suXStQ4N7F860nS9V7SuBRCIKQjjjKBFNDZ5N8HETCupLm6RC9LVY7LYFPfmzqP1WRxex59C1BRtSWhXlLfzS+Yl1uzxeBpFIZMl/eJY90XlHQYiELaTNSe6opH+3AUDOebHToRSK7K0sZzyYGm4h4mabRwCdJ9SJd4OtMLjTtBRFDa9X+TG5G+Lk36bW65r+f1mn03oZcwiGLYtDAaxKG8RUxm4hgCgIrus9vXluVCp+JsppVtsgUTS5UejVnqw/KuWL3+6fKM/xlpWOJ7mSQ2AVghC7DX/xfCeQnm6lJeBRhDlvRIklStlkaJsFqSuAjKvKEIO5pLFCowURvPRwC0EESVPHy99PJBUbynMcr1yr0Xl0yMms1o+erq3aIZSQmYTm4LzwcRANh3I6ikUk3Gh1NhETVfDZ7RRttWZO/z1+HXw0jJSF/wouRhcfxxddTmSKs/yVq8q02D8GMrCnK/3WG0zvBuX61F2QK1riVc6V9qd0jTdqfodZ8G47N6pgfZnbXo6BsGt8TNJpVE/pdWBVpNBqVDoetxv7WkeWb7dtHxbVnh8F5WxdXAuCc9Ew2CMQlaLiaio+bItve+kEn97jJ8qU8tCvl8k1J/1ubqL4jiePYIYLYLI7u++++AlApKxTCPHQhGSHzOgllbu1T+GsL9xg5hvAhhTQ1gUhSLBAdn5u+VtBkBIB4Gpydmj1Bx+tiVumIrftVnhEk0IKF1jHUgvJKKgqcr21MeBgIBK/FIvDc+fpyIlMxKJFJbKrbt4MS1Eu1IbWRSyjy7md7Ekmlsxj+GEXxnBVBjHE0rf4EgCweEk4iij/TY0HC3QJcDysgQwQSOFguIoFMCOFmaVhIEhaVkYtJlN/ghiAbAJwhOxcTJfWI1Fg8L3sstcZIRkitglMSqLIIJP8ForbKshCER+xAfSS6EN+JCs/lMiqjo7Ma7ta+XleDMhsOFp8Hvi7PBtZetQKNQvKm/tJqMvynPkzT/frD1ZYiCuJBjt094C1NhtEYz+31Xkz+ixJHXPJ0WI/RyuvabjyQExEfCcsPXZzi8GELZ4f3MjLqFoFwrEFN2tXMwmxbRWEmFBRkGWanmk10UVzGLZgekrE8SQby2RVJHfnYgvZSe0FWwMVBzMtE0FtkRKbVKD372Xhrfp17XZS6PVbXINcr8jxTnub7zddnwFY+JIpRMumufx6N7HKnDKgSnCFOHj2iSCmXB6h7n/aF0tIjplSINggFObPeYAQQrmY1ngSiSq/OSZxXLCKQNnGfVZiyucuEFNstlqPmRSajo68Q2dfPG1VJ9fiSUCQ4oyTylQoqqbjZC4mqSHqZDCrM9jrdAxdHJ++Di4PmmUml2W6W+v3CYohTHebTKs32a+Cy7jbCfFfWm8C+EYpQw3OJYObWDXA8ThHMAghwCPAlQzZsvDi7n+S/oNQSHCZ7v+BYBiDWJhIfmxSYzIJpqJq8hYKyzrPVRBNE1hZqbUfXPWmNyc2ZP1uFgblxaYnM6E5PIWn+HQ+FNPbunmJCm2euS6OSGTLzX8nmTG2hVah/+Jw7tdqF6t19vErzPK8nVe2W6JccLVXhbWDPEq50a6BkPYhRCxQnhUYIkQ33OZgdTeL8NszdFqOboWaPahqKzx0Yj6eQhDqJ54P74grxoOhdcUh28uAhIqZ1jOcSItUGwbnaSllcM5IEyovcsN5yMTB8jssAQAUAhMVihWQCV6R3GEuIkoin0V0WtDUfOVTNZTS8KK1uJJVyORRtG8IYrjiJY1jiEUXRZDOLMkgaBZG0RZuUWBAPxVosh8TGsyufQEoWpghku1Wcni5gJgShCudFRiMQSA3CsUDcQryI7FRG8ZtFpK6XtqA/CM6K3HbRUGjFOieYe2dToxocOJM0Qq2pMbCU7IkqMhfOlDBagVdu/vj4sJDb2NddV1R969Ky9kV3dW1xaSaSy2Xz+KYwnsRS2ZzKPo+vOismmNp134bh87Z0B0ISV8qyUo0N0jv508CMbnhmJRCXOyokJDkUDcYC4UEhIbiE1MSorKPRUwg4cGjxBRvvVJBvnXRFbLP95HBVpC0dKCw4UPGmjRN8wm0u8v93glzQrZuiVCX91abl4x9jNaS09UiHsWjUYicrNy87EYhEovNy8vMykTnpC7IVrfPWORBNRU4JDAgEhwKGhM4OmSZh8wJuECS7J4XPl2GTZ4ydMCh1kRcIETyZBHfLMk9yv3v4znSuF7ibGxJrDZ9SiuqjWaRXqMiMWQtpmk1FGKLlM8EdS7FmmXqxFWa38FqbUSpaidWRxhq1Vv9SewIyV4XvZyHWDHet+4Jaz1w1+MSQIS5qem7o13PE2fGj8LlcwLtJSbNLR5UoXK98pWUTczuXCrhclFauxJWD7irfJ9HhB4vW+Rh/cEVG2xMyNnoKXnWQP6KsdDOTlWsoba15VTvDYIKAmbepeONGG1Jt7okyZvAml4i281Z95UsPNGO6pbmmX1AUyAy2gkhaKbb4j612ZBo+muRAaSxcNux+Qcy2XporgiBvMUcQwzBlYGCm5s1aBaq+Tgc06h47p1ad30RIrOIBVctJUNo7DrMIhh4Uqi1zxdjyEoi+JFF3FQ4jQHUeFd+KbFOXgL4DcSzq/AiAcVgDkB/8MA2ALYF5BNZEcGVTGAwiCC8R5hjGIY1jeOAEUxQ3s9jDSKeWsg1CRIQsVV9WK9VmnbLO4Zijdb2kjNLLHiUnuXVqiVdh3F86YXUwqooYgxAzQTwUesKQMEjjuAzQrKwg7vSZHm5zeQatF4JV3bem/i7UEoQJeWrZLok3d/tkXG2lc1QQm8gchSsSqUP0wlHP0pXPVqK/fX2mvTwa/gxsVXdJxD8CJ6kLtp9uwjB1XZ3Ggr8EOYReEk4lEF7AMbsxSocS5iksiRrqYZgMv3JbPqZwgrluur8tTPwkv0GAClD4SajbHvRz7g+Sh8LbEIcttpu9pVF2Pgn7/xK4QqoRxY3HEZJKNoFuLp8HGq1UMAEmPZc5vAqTMJ1kUMQaAeYMJ0qlVXswdY8nzO2YWwEOSRACNCuX55rYgEGzyG+9JnL+VqJqFEI+SpNbFrtzDPiV7trazWGEJLgkwyYxjCweWMsbVYJJ+awnmtwM1tCROb3rwqqjI/lUggMESW3OwpOqq+K58uVtyLMRm2YCzcNNmDTjGxauyX54sYASHmYeelIOmOwFPN01InggOCQ/CZvBepC5RCy7E9i/OiORi68nSE3URbIBs05byoEbKUek/3hakS5AdrVV24MTIGeDTwmTWK9etymL/vMq0r2eeJI6PfrQqkpGb4hUiFyTNo9w2qltit4joaBUWrbzJ8/HKtM3V332Qbf9t7ztF3bRwX+haH5rPETxQ/QwqkkyTPoWRqUkUUpi2/Yi92dRgXBJBYrHTfTVi1CZo9un/xnM0bomw3gkLZexz0uqN3gCVHDYhYmt99iHUFDV08klFXMdJVTdD34BhSPYAkKuInYyCKHUI2u8m2W26clOn2pljpqFsuPgsPlNRYknZ7ixjXzCEcm6ky2KR7IzD7wywYyCyviEDm42QfMVJ90cS06hMUoQ9lGQELkaZfHtNLVzsP2XgyJEBORhO3u+r1rJIfjcvsga2jQadMdXsPTEG8IaSR+4M5j3/N+oX3d2eBl0Nt1Mj2ClD58x3nRe0tnD+Z+HP3TOyh9jD2BllvZAuZHK8yfpfRB/IkLMPWfgvNgQFLG8SQGtGY7adIrK7s4whLpM48aT2l7NIYsjReg49EFG56ZtJt450izp0SANaEmmc7tvnUCkC0vd7I2lwXEK4+AEZKYIJrxx3OJUSdeVwRboq4qadg2gPDAxWlFedys+gTf6McoWt0GvTR5nvtqXtV18UIUGPV8oBQtOkZZSjFIT9EXJFQLvsG6BfwKZ/RQRKuLz6A2Df6CfrptulLrJvkmCCsFQz60i5Izm0HPEq/wgUzBkJGIhq+YauOo7qg3e4ssh0Asd+11/shGDvmoNnZC0Kq/+0+7z0T3h9ViGWnyHjnvK7SSzzEnd0KLEMniOzLGhfQ9URW6L41j7oZgy+12CtgsCBqWJ724r5jPHFGi6ja8YbwSzGq3HzlsP9jJPWowR85GWkonkjeMYSTH+lJxN4YvszNbwzyGJB/WemEJjtHjWbfcldj6QCVnz5LLS6CB1ma2XUL/rzXneFDxpQpQSy4RgHCcS4pZ7CoyI37pdC/foUDj33VngvJM9oJGmE8qS4K5f1vit0jE1jpHMx8ws0xdc7IDYFzODZftntFLzQ86YDRc+8K7HqqQqDVYTyNgUOrrOYf+g9gFfrE8MvMzTTELqRbVM1XMPWNhsHUfg/wVipOnicNhIBvZ/GZ8X+r9JTQvvyC/Mc7uyNk6QKmn5xLhs//8W+kmIKrMo6slJ8ouoG0YtGefT1iXFFxiFDLCaTKNTLlG3rtBJymfqXb38oy6DGftlb9de5oUPIBOb0OacQNYBX+1/Lo+IijyLyMPnQrjDu2QhHy8hOCSCftmw27bcWpoixujOne7DmpXrxGE+qZMXqcWbaxjCbubbi3Nf99Qd4gaksgoiP1fy0iYtgixC2lQBTJMW0s2KIbKYoZZoR1VwCmZ8mK3/JTolqUFYqMWZO8v4mac9ESOMIWFS7vnKeE8YFkbTAT+NiXuHng6hQ0rRw2Ra3/ngdDBkRI2oi/bos+DRpnmbQHiIwqsLW5VtQW1acyIZ8nLK3NC3dRf7mmsa6zsKoQNF0LihUkCUeje3b5h5L+XH8toyWo9aj1u5SK2RvFbFU842UeceF/TtRrozrzzefYLcAGyf/4xQgLXkYAP/+l/74AV7SifcsX14MM5yicqlXY23sUdopHX3gpD3KUJAseWWEsXMIYhb9+4Ugk79WPZZrF0XqjosyCVWiQJcdqPKRO2X1soNgK3RyvCsK0ipJi6NoIiQGUQKV2U1zN0pDaBCGd6V0Krqx7IYSxKVgTR6UkkshCbQSwhW0l24O6d6abTs37lq1x5Oc5ax1Uq/Ga3ygtJuOiN0M/C0KBKICCM5CZbduLAtGy9C9aWn2l+pAdu4lBf8S+K0+5kWw4k7ewpGMFubEtXh22cknOaNin3qrSCjdSK+ebNHF70un+kiLXEvG5VE5AGg0C8kFQgQBU/GiUoFCgtUoOCLBfuTb8qt1DimW4Xc+C/kTb67MjUvBNCxzH9eyNkdSxJm9U0DSeG0PVdm3nwaBbTQ6htNPXkvrFr4C1B/nkBHNcRXjieRChLyTl9ewQsuFGIruEsSPwzSlz23DvFvet+kyyLY5SAjyFIKbN+yQJ9AJ9zKCfegUFxqUgiGrWg8w1/rSmcw8Rx7oAvai92RmEO4Wam0vW1zSzyk1dPcUgHa7az31em4zWFRHRIYhCh77/p8o8BV/SVBebNN7lyHunXXn9ZcP3P0j5Pv6ga6KOJfQF2j7TuY1nLfnlyIdf8LMe4JfeB/84/5EWtsGy4K3VgeXP/uc4HlHUy8GtIDZon1rS5OP0H4/Ehi0S7VV9j+/0vLOKsZBM9hYls2pZQeUE3OKZIZ4Ik1jkMz5ShlcFeGuJF8nerLnhifWxgWwuFBcU/ZfRCYAUoQYwkywHDXRAdF2jqLdbn/I/SWEmO/j2eVMkPt/JfzozUuNYZkabXDubeKiX4f55/N2uB1gHPLiDRQePk4lA6Imr6DfkgI8JVTyollJsPtkKCPqUCmQX2aijgkJFUrKWW8rzJaPvuUojU4JaGxO8QiKDK143ZJbiiyOIhiTXjlnHEzbdNAzwKgZJNTTsjwjmChCXHMI9gFzM6QXy7FSibHMrhCRsRlbe8hymmUZFnc3HhLnsSPCyE473tIGcd34DuNVUaWmfldVT2b5dBo02npqP15stVWq2z59lWzX4BqA6KnQ0cv2OQjZ+hIk1P8aNBqJSq8bWf6syN6U01kJDHf7utpplC1j5TRuiRmj+WVYJSd8TMVJKTY3s7fq2FSP6My2lb6/YCGp3Xfc8AjT5assLr6QiRfjdEUehBKWm+hxG0mmQVrquOWXC6VFkqSK7YbZT+ae7jbq9MdZc76b1LYtq41vJaoZ11DVvEp7MYtmy0jIy5dBqYevXbFe+0FT5ph1heyMTYe3YwLYSMi7SCaiKKnRq/W/cd52QEGVES2M9PTjxQyIEN9LqzAIKSztPJMYbI0JwSIpncz8NpN03zOe1xGjuR/dudyxM9JYM5mmnYtVWyJcXxAkcR5Is918u3TXEOyG83q2sjFKtqE2s01zt4lehn/ydBFqkjKe4umJl+vJGcWjq2qykK2ovT5YuJqTtmLF5J7KUUdsv1GVljGRHtfISWQTORWxmjHkGM6Igehfa70JxXOsnaVwyyRZIoNTeNXlPKa6vjDJOb4Ga0dMMbI3hIVMX3muHKMalhl22rDUKJdW+ouEq+oyd4SVpT5uvkCALJLvhoKdKaBkFKOYbIiS1ZJJV3rDWLhNtdq0Bs8ctN5mXmrkz/ado/LeEgiPUyN2nOtm1tj/3UpnRMSImVNj05d80Yzol8oR5XCWSDQicEujC0DtIFMc96yBBPhmlTLX7XZvCyjvlbQgc6MzLdorrKxXewGBorQOX2pnRnxJy2LjscvHRbmcgQ4ry3sk/7hrLVLV+AfpdEwWurV8sHb1dylnX1dN2LCtDbakxRrjdEozX80msTYijsIg6TWTFL+j4p9VKPQVlSFjWb+OwUrkSS8r2RdmYIvhHPhY03bN9XXqcWzE9TsQsdkZuVK+TjtUpIPEeM6Mees9khcFQaosgzx53JfLqd0LIUArJfm7O5ML/tOiMuBSzbt6U+s8u91t1/9dEQRxTCQW+5+rRqGHR1lS4FKRnjdmqSZkwDaoSgR2+l90jkxm59P2hRliEeo3mEsZFuM855S2kkIVQgimUDA4UXDOwQjGKL77WexqN5f7wJc1IT5Pdcx7Wyx+AVruGyahplCXw784U5XMC6FsXzibXuQUQil+ngoyxFuEFHMaDBE+7AnIq+kI/HOgyGdildI6EMhgMkYRDEKg5EQIzQGBUHoZBMjEArC9AfEdI7qbM0V8YUp88FLMQ9XIk8q7txl4jS3ta0icteovvck2OHoij6uZHUJguJObnF7Nk0o1xUmp6biNkWrLvr4kk86rZ/2nNpL7+Yz+cX8+srmtmU3u/mtDyRdOOfZvIBgQn74kKzAUHA4CcSCZ+dDgZDYSD09Piwsel5YQcBA8HIPUPDlkLqCww9Q5T9nEamcqv/HSN7k1w6f7v5cbTw5N8zDLauRB56LomKhEVxdr3O2loLS8rP+yrspDKZVfXtTU1NTZ0dbY9cjFmi3beXFqQLHjt8TvFTQpMBASv3hAVmxSVEhwalxYkbvHhTxwQLnBo4dVIGzo6KCyZMwwYJ9d/ttEPr//vtfvIxtYkbFDRfIlIzkpfwzV68k7sxIyGe6bdWrNmjX+44zqX4pMzUhIykxPxGJxqITVOrYpyVWzzq42684TJETYRGAuZPCJ0QNi44OioSJCRg+NjYsImCkjgROGTomfHDZpcsSPk1yWX3Kiqi+VHv7nbLVFepd831S0/7uyVH3HPWhatXJH/XtRJmxaq7VwdIoFLcnZlblLvaxJT8YmLnu12RmZmZvVaVPOhYt16OrrxJwmqms8fGBoaPl3zQkKDg4NBMSFSlxgJC4RHhIYPmRcUPtsrrkl2yDq6NDJHRllxLatptkwnqrQt2qfvP2FT+zKWqmeSevvlKrzTMCFtxIr/TjfKapff9yZRqZbL7Tgm+u6TVfiimuRVKiJVuu5iabraO+wl6XCkSSNCAJGBokQFjggMBQQFCBZYSJFBQ4cJKEmjDhxYw0ssgSJapGdYzTuqyyTKm315fRMmTLdYG+F89YXp5ShBdPT0NMJZ5Fo/kKRa5vecKT40mDfLRODTyQtbZQQ+i+40fA5worWJKUOOKdIhKCHEAxQ4qc4hgcODBjjMFFGCDjnTE0Z0N8/iU83C2G1ct3tn9hXLs/G89UTuynYkhW6051QVUI+2HO5HpuOMhi0S4ag+IdvJTNwFGajS9J8VjrE2F/GDnnNTLo4cQo5+eEQCpItdGznc5qmys5RLEQyPSdCFQrd3+R2Q+SW4r1Hwbi5ylMqpRjiBm8xiMUoh9IpEaRtbGK+1D9UNvcsYO9IEhdMLeFagkd7zgnD1Rr6SAzg9sIjimR37y6zCiRORMx8i8tDaHLNQCARdVFytdJ6lkhYW4qpeWy5anmoOf8I3MVzoBWkmeRrCvkCiUS5yzG6VrwNAk5u1NRl5hcAMIAixsmkBMAHj8GgRT3m0VIZGjtEijCMZMRthdB6CYsROgaKaivJS5DD/SnHkqistFV1+f74xYyPyPpecQqhzn6KoekL3Qd6uXJXRpERAonpncxOzGDCvXIZzXlryq8Y6uRCujC5TZR6PqnJTTZl1058WWYdN24nciBl0Blpq0YPQBa44xBQ4tcSLJGUDMVcJjRVI2k13AwmgOxYMiL49qXiaoZ2gLAiWToC/e8VsguVD9w/AV+mTIcleRcrY5SkhZ6PJYmoA8MIEZqJBDMHjwMwkZAfihLbkgw+sp6qxrWVfXRUA7lfhBTR+sPpBuQe+nyHaWSoI/Ji8J1ckXM24fyU8vR/q9woIq8tccRTJQ/fOkZyw0b0cmpJEctGbPzluwP0lezVs7eELtn6TPk1DwROSUBLMFvUpFnL7lMzp6C49qqe1mwiMlbq1dlfa26wEGBHJXVhI/YC5BbhzKZL5eMTepJLMSIMpX90URg4V23jwDHuplWPa8G2ra64ARwLuPYecQofk2yeMKv7vRWYeH5dESY0KhnCEXIZAGXcRekzI/DBXhrxZhLWC7WjoxmRrC5qpkSAUEWssU1iXVKAxdIW9eO3Cfe9vSDKYyryoQYgLyL8Qs7Dj9Hkss1Q6pHojbbax19CNgSZ7XRiwkDUijj1ErT6Hd4fUjXuSWF6DcbOAIjTLBEaD5SrR0jqdOmhyJZ/m5RNoNTIOwg2R5eQhEHVmrJpp/5SbnkbZ0DwipdPczNauG6rOIsy/2uSDxTYJX4yKN0YfgvpWV11pJKVEUrQR0Uux8SnCJVub2+KJqd5nVBcCuXIR+6DsGi+xWJbLpWbUIMnCJIiRwyV5EJ6yvF8HqluuY1d7up9JtkHXmsihbrY8CrG6NCqJuVHg5exyqGeRmnAkoy0+gGTlNyN4kWM4xhEK7CNAGgBTUFC2MYsIixlJx1ISqrlZkjvRDtSo6GPgJQp6dfranG43YZ66hcIc5MAmOIrmIzrCiBSgyy66vM4JwWtFEqwmytfCrISV6Mhhr3rxpBoUsV5GG5fS3ZJgXyDEv6uP+cRhxxQzhdxqptNNW4n+yUyhVWklFnlasbfXv8uaUTCcXHN9aX4iCoLj4xTxaTDYqFqoHA/UaFx2TQzJi+hY+UZwT6NFwpcnNI4USMvbEEib3pIxqVEjJODBW2yd+5Pd9rLZlkLJJOPj1ay8Ki30VrnfQI+5XPtZzjzQLZX6Zt7tE/PSQYryvdtek3oPBvDPe6bLiACYEgwNx9MpoNxvE8Vx3ER0ceawxIxGwbUUzorPr67SibRNJJZrrBqossLhWPwpBGLwGIekSIPgSFYEYHA/fi5qgxjAiTplBjO/O/3sJKOfVNDgSf+qJ3D45jY/CplAo3QZ3ocPcYHiZ/4UTQXU8tLeyjPzb9Q1jIGSlm3dIq6QJ45gSsLjp3CrxQjhLJxmobqaQluFOV4mArCuOGwbU/JxGwhzeuZKzNF9njOv3N7e1ruEu2rbHYxqqz30J0CkTAhD0LBLKpGF97LZNFMTjgjU6hYf83oSBlWas8uJmZGtoMVXS8Bm7CSQVZRNihckpApUq37vZ8l/KSbP1zQyG7iCZxDL4ilt3YxvEUOYmg0jqKaYfFokgvjaZ4mnpOPhaJy8qOzEpbUwlGYbiEyERCXykm0JryiK6e5rBbT480zzp4++cZYKGjIqbIN4FxZOInFVnGFVJxo+QE1UsyBo0aHjzI4TTt44fNSl6wbrFOJOwaK0zL1tq+/bd8+0EhuZXOZLZyWbxTGcLYpn0slcgi2WRPP4imMnqfOBzoUMXJkblpWUsC0xwMwiHQpF4oGhyUG5mfCUQHRceF5WWkLckWMnKhu7ZM0PPbx59cGj9h/Z/vj1QUPPBv0bNWTHlbpFCFS1N4TGpWRkZQ7Jispek5S7NVjZYoZLEj7/xo+HirrLeSXswmk5n8/mkzmc8nUQSyXzmYS6T3Nr9/ac+fCvVNmbM1D4lNREIjcSGhoXHx2alp4dC8QjYQiArMDcgJyxuTlrwoYMUmLFk1Z+XXdmxf9tB7oPebxnw8cm7RgXY0hbtotFUbaxJkmul88UIEkO3d+CHPJr2/tLTFyPSsKRSKwhH4Sj8Tj0/CsIx6PTURu+0td8mSDCJGg+VsMi48PCoRGRoIHhoRHQZGgJBIEBcJDx44EnxkcFTwo8TTZSwfKbJq4s+vda38XPd1uFFemtOClopUmuSYfRceRzVTx9RpLLObFvur2kljfq34pNRuSjkJxiOQ3OQhfisbloVkI7Um9WLTp8iJGCBUiMDA8ZoJC4Ulp4/K35avLy0xOD8pNhuqJobBVPmEbvNg9fXjOXiX20xKa0suy6hJtiQQ2BvrK6QnwI0PDQtx0nh3hAI7D/+MUIDEtW/3n/fP+J/4b/p/+z/8v/wv/C/7j/sP+wtKsUK7N/a+dZ2nbfMg73fgCIFQis/M5UKARyvX5OQ2B+UC1iZiMzCklblpSqe4lgpJj0oGIispCKUy+fR6CXYM0SkmWNg2Iw4IVxTQ11+cGAmDiQFl7hD0Zo/sSQmCCs6v1RxP/MWmxwkaLJ5PeUbnJugKoCBQn+Y7YWmUpxIJiDQuSJ3jXjnVM/cENjcV1he/MxCdjESnohDNCD3UErAz6wvd/BqZBSfPRM8IA8hLDdmLQpRCsZQhQsEjwsEZUHMr1kSPgUDI8D4oEUkn5rtIuCp4NjZY63oJS9DbicFSpIqd/+ka2e3EXMwyVmCBOfN1kHi502HzUyB3RO9Cf1teYlZBzKPdbUW9Lfcp5rllvVTiulNLq5MDFxiJphTAghWCKHpReD0jn4363cYdBbaLbZ0cvRmU2Y54U+mrIxUIT8dCY+IEDm3yPbVmfGLQcoTlTup7LT1+JzJZeN61L90CLMZUSFFJVZIJmJWo0IvNElImz9+mdoPGqq90m231ivoe6fkx7RdK7ie2sklVB1mzcyCcGUbAGUXAJJkcyBQMg5fi1GF0nhpTRlYlclThIRhezcLouyxfcM7sVDMMAQhqakBVJJ3468xA5CIjC8rNDLfNai/0kdOqP1IXJma6wlHKnw4bVWNwjIRywXbyzcIOhVSnp6ECxn/u7/tV7eagYm5waKE07tR55S8bxI9RrdhJzeMKh9jDkCTU6W60NlGUQEOYxLqPJOmxCVz7OJEkJAkN7AE6datLM8iahH0fTC0HNi27io7iB+PHRUTO2SwSfuS6Wj1nIKbtVclHRPMkHASqY7qG7MZSMtAUlpIkhTr5Gkkr4WzSm/vzi1vWDgaepMdbPkHrcJ1Rot4ptruuAW4jUSEmACSADsHSBW+gdoOiiAqCuOlnBribOUFl6s+FaoDfhwO8F05BJTAx3z2hmBlbTiIN9EPNFhEhLNpms0wL3jCWc0UtzlKGvbiYXfzkrWOeib7u6xZ6V0qFjDS8Zr+RTSPi8usFXcNQmpCtqaKnikJ6XsqtTFcXtFcO4Ybnm82EgM1q1frnpl2Y0CDcsSaor1baieAD6kwO0C1ijiDij5RkLtTjNKYyDmKHoO0Ksm/o3QNwgx//KUJJwHBsbryWC4tupsaS6RLhEsRTv4308yFShFYbJRs4xS04Iewli/qGh26EbEEjBtY4rERkUx44QH/nK5atUmp2+wP5HI9HxkVdkwu3SsuFCIrht3eXJCVhfzE2uVuyV0qSd8bYKELkhn0AA3qYAM8QoIBnh0WznfQR6ebt6fwdACBOgLEaZ8gFkDNDuEKGG3LIPTFl7ZbXIqFQsegEMSKxZlCIpiMOtecsnuayXbly2tK4GrJQUUkbSBsLDf38dKLpZLJPoraL5VJXWlVKtvLRW2jN0VHTtqDycnvi8yJidg44r0UsBWWOOqZTBcLzaAxyfh/cqRP+zggAF8BohnzA/n8zZuo7auikdsVD9uyTRZL1gWANl3CVvy0MxDFSQVqWi0JJguEksKQoiGRDYpZPxVFUvUkq/2LILMYsUaasgaSh25/au5sikCpq7NRWZrb0T6QGOptqT2rSDkFdPQ1U66+us8i7YHT00zYV9v/QbZ7YWM25RV+7BgRtzV6MfHMmaPIG8aI5f0CYVgr2Y79jBUMz2QSD84vz4cATwOe3Z62TG47iB6Po1kIomflIScN1WDAgKrySVLFkwjUqwVawsCdRK+WtyrCESsz+xbTmX5Ny0giI5eMSDqPHaiZNNfnvWVyczsKEhddh9CQ7ZzM75CvrqHD2e/VydOqm+FPzKVIXr6yvXNji+QXEkIVzg/ulq8gQ4iyiaD2EZFBBdHNTXQ4ABJWhTaGYWkgILILwqWAwaRBdBWynAYJj0hlB4RJ/keUGuIVa8a5qa3c1b/SJrGat9AnJLT+H42EzBAc5joTon6LrJVY4cchVm04ZWvk2oyW+6ZMSyrzmyzPR12E0KaAJ4SSmWxdb0X8PACwBzTUQArTgI5acUFFNh3jCwEVUIsw0wcwf88DlWeN+skDQbpWTv2PRQYR8VlpKPxIeY2dnENaTsTbXx09TtmPPZ12+q2BrSEKGaisiX3SGhmRCk51JQUFTQ6EuXddEmcipXniSJKfNwsOkg2ENvV5Rrs/28thLxh/xQ3kmBotMJ3AMyfBd7TzRpF1mpDy2YhZTV3wO/xn+X9ih1PAyIDZSwkbsUki42ED07PUnuw9mn8tpi6wzol0tb3e1dUzcwpKVEmGbwsLFMrfvZ+73+SZcKkq0gJsArEWPql/8GaYg+ucBtisqTZX988gs7fkBZmF0GU3G1R3AqLDmdw3GAo1FILZcVaqbub5nYYSUENCHfkcTkt3icXTwaC8hM1tatDJsSMRcdKJu/JqDC3z6PtCfdOqqsaU2PfiomHHw5C+EI2T10MyAQ04VvJNPzo8mx2oyTQr/SxJGHg9GvktQDTuYmcpuT+ae2IT9HdxeUtPCitjjSI+2kKB0MuPcKyCkNMefIyxEO0IYzD2QGEukaed2firujOvOxU8FSimZjh0Sm5WWFA4VdSvy1xs9FPj968NIVZbLycTsiu/hoN5YJSt1QhwuoYrVndKXkqwsZs0JCo15CDVo8J9C/U3JsVId1WSswyLh3BPeBXLavXA62uRrS7IN10t/Ny12vEFDORX7fcyO7kwlogtlIQ2fMt6sGVCllBsbOWBGxHCVkPBGgCA6RelZBsbbdG/DvqLJ/9yF/nggJMaJWhnzDaMGVWbLURsoVU4ucPYkJhLMlz+n4rOuLsR5/CnX8ziHZlrM/vxuo+1TdQpvgFlNo7dpzMAUH9tUvVIvHf2LB3Rr2XXjkY4hXgpZtZGe7bJG59H6cNlFwqby8IFF0fGyoJ2hQmqPSCxkRRjQVnReQ+efLESWc8I66qJyctk46LNMJWxZ+CdMtjJR9SiZl7qS31aGHqjWiTe8ONcluQ425HfexxB5HwD2nMI4kcjh6AWXqk2KRlJjiYqkzXdNQVQ8C3I4d6KvQZX28qq62wR97hLdrBur+FSgYKT8nOy0WOTJUj9PMD1ns5dS+iJcVb33fufh13V+0564nSlhJCsnR2JQklqY9eXK8/kS6nwbX3y3IN+3lVSTKtnWPvT3/wZfr/RPp5/4qL3eXq/6FajUHzDMmaOvhDsMuRHlku0+11eSp1MEZs2hAQEpAxIDZ0SiApKT8QE7OVouWfkvKcO5vR6V3nz22CCQCHlXINOcToMcjP2+gIUWybmzm1ET6mK1Gztza3N+5tsqo/qcJDLsdJSWHz7b0+6d0kimGeMQVWhtG4g+ty26YMyF9eGXtIvpqoQ98kkyJ6/l+66lTVTROiZKYPmBKIXhsashY3JmqtrZN9Cpj94t9undQ5eGjEQakZHTsL1rTuhEy2hWzxDte0XjtZROWyfI9e+aEn8aFVT+6UN938W0p2Fsqos8S4R3Xy+KSjFfReILJck+/R+dfzYXW7DE4/trLSQ1WfGadNWBMuUoFLxw3NjIJUVqDkKV1oWCpnvMEW/YwXYF5xREPjnwT3vRBVYvNYY0RKmRiFOpuiRC2GiPycCdbUs1Srqm0tszHfip8Ih5UlByrrnvRW1lxBD1l2sFPiNSmWbxq67zQroLcVF9syYa6xbTVziR8XXzX4wVf21V4VaZd/cOkFguJjsWsGgrI1ZcWqNbRa08KHGjC+yYttBRZk/raY83n8+X7XRipsjwityZ2WFD5wTKrlt8RqM6zegf7slfjq9wx35beiz2sz2Cy8pOkbSGgKgzrGXFVLTfo+uDkzuSIg5t0770mq9wg5lW7bXbLFnppGmEwcJqZm4eDEokhHg0fPlg+YusPo1rYr+FfC+1a3ibwaE9rUmxjPOI0wTQ/FBlw2GSBAYLNnDL/BJTey77/vVl8ISxGp/EGt5aObgFZkBeatwflZmB8BqwG4ZJG4OgKThEKq2SxyTZJBGPgSpJgSjIPy4Ys6k0ZRgrdInBhMoJBooCAVQhBoMJxFVhcolWUoa+e/aey1DObqk+BamgYdlyBqNEDJpUMLwgXGzLZ1OVQFDlYpm6/xZk9r972bmf5GxtFPZib7sQGI0BGEo/uzEJEhBSSD5KpYcuwRQmhC0jcJMGsiFv1DsOTA14qJu46blBMaZMm1MDYgPE79yYuShB1qHHJZva96X68qtj6o1UNYjIN9+p9egSBVxjMlEfkCoOcwdo8y0ZE+mTpCT2ajuybmOBwQVXR10qtRPaZ2FbS4qLXPOYkkVp7F0RbbY7rbQp/1BKb0CtdgHZHmZk5FuIFIpmIkwYWH48p1PBRaruiTwJlf8QKac6K2hG8YoZEm+1qd7j/ve2Rrv3aMm3BW7SQny2RBxavUKps1TlaNyzLG8qV0rVN6WqaFBgTKN6jMw56nHTJwseWAq4d+lbQZhJtGc7AfxsE3mmpN9xQMSaTy9DEt8RJgulJqtoswYBF2jIgqqs8vEwligUyMonZBo/uOFECATOuzxQyYFEoseslXiP6HW35LXO3wzt7g0MaRwdmoecBOSDqUfggGwKWwLCnIuYelj7NAaW3mywSuiJq1GCkz6ZBfhUxKcvSfewXwe/m9SMLa8W4lhfmIxeCkJ3AtJYSwLfVxHyJhMPUoGSFyEDh7CJBI9wJrtVSAXHKB1pIQNPo4QkpcXiT9ASEGCkyKK/zSj1eImQSqhAJXpper5ZPfWDWnLW3b7mhptewcL3Xl2TKTrThOSI4aZed+4Dnh/2hU+o1+qXk/+Rn+lBOzQLy/BChXkZAGckLtLLr76ngitPrgPBt4kBgAZACQwNpAPGgTAKCCegFLvMBzo0wIYGtjSxpY5U1Fwkhc5vjFuUtXyvk4dUbnx2M5X/qadFCPsJ01Xq1Xy3VVC9Mr+6+oTvYynQR/YizmAqw6irR/suk73O2Tymjmz/LCbkZFQkRqYadaLfoJclgaIsHORLckoYp5bmlnJlqIJKIVcQ2Qp1ztEkWN0122u1WTkl3KE+oXvVp/2JHxJtFLHZsI7W+mhV1qhlrbtI9rTs6oyRnc281aofXLe5f5KziTkeqlGlQ8gIEnGIWcEA0IMagYjXBzdAIBZhV8g7UFTKuWhCWQj+mWnLWOF8YeRj2bE2pvRbRwSyCXf2VriaudxBZlvIXcXsxM0gkpcbxJHqrI6b0oJOxrGPVm5TRQ1xQSCCaIfhQWGEqR09zWXOd7kwwvMgsQ+YY+CDa6Eup5Hx5D+qNIf03rCzEz0pVtYpJjczbqgGBO//jFCA1MVP/6//7//P/6//f/+P/7//z//f/8//y1Lh5siMAgezBBgXAVAW/b/iAEYwiGIGEMEoIMISEDEuVo/K/c4q0dRepZ3i+svqfHR65Uencf8pRaX9XLFi7QhYIS7sJJiZCXPEnkzbW7TiZCCEzGQYjYQgZkMIhIJE0Qy29P+td/FfllVS+C54d4ji//lXfHV1p/1J79Ki6TKjpDWxkhafXzqieXQhCMIYgZDBDMIIEMQhgwjEMEhiIZOY0hIhqQrERpDTTPCVOknneXLEvZHnnt/+v01pqnaRLpnJbOv739YjyKk2zCGQiMIxjEGMhmNsTGMgyBDQ2ZGZhGQghMg2QiSe7t3JUzrZFTPLZleTFqx9U8rRc8SfaEVlWV6ktsR91+qVntazMpEIcwmrAxMGhjINCISMZoIbIgZCMJqwb8MkIIaFCaoZr5XilPGU9Pvx3aOLtaTdCeOxBhZKSQvqVfSRchPUyUsQiMrdIv16uYpEDjIwRwlxhMMQQAgAcADAAAgBwHAASDtwMYpAMUHAbqeShKxWMXY4jeOh+fBbuMViiOIAKABAABwDdWo4QiklZr0Wbbv41blYcigWloVXg4wVE6t7GaBMwTbOEaYQQZIYzJo2gRSyqQK+QhbQmVPSCPMbCmkmLMqjCQzyWE0RnEpGnZxEKI8HZiaf+Stkgql7tg+u5a0lnwzbY6GQnRCNAgxeISQnRyCEspILVGUU8TJioZGNTMeiwIJFMy8idzy5kKgjdieKhlhzbyxZVdt8FogiT47dmU7I8Zj1bkVF/7wwSy0ZCGXHSEIlslSvIyRsSRGZAhI2rRSUf8gykC5JFK2x+ZORfvWi+8gzc3xfiCNgjwmsovYTiImnjIk9MYQQ0YqTcgmRKQm2TLxNo08jAnXI1IZbljJiZCO0qLPTGNoYtxp8XwmhGJZpJSlfQzVi6pPs3hETIsp/DS4rZEy6fEhNp7tidqa3wRWXsSUsSQJtWp7vLTbErDmKerdfelEmRWhEyRBPEJkMipI7Zkdu/6qfnWtmaQkvaiVNsQgA4ANjqIDBXcRSkCDtjSIzxBCmbOzsSE/i+dN+jNqpJyMRcpUsqIjR5K8KhCJBrlX4jys2b7nrqiPFXVumTv6ibo3JojyJ9LXXIkqsv1M265qm5FliaPGE7aVdYzRPLjWf1nke0un+nXTWJmnll6pfnvsHyPP5Gmhj500EmQ2+td7JK02EraonTb23XeXyzIRpYNsjmtRzfdYkvdFCHN2rZFCSWclZp2L/kfvdLslWrP1a1hGnR0XNkqJG2ZSKbJGVWlpF5FJikJNV7WP9E3eyzER24kjRBqXatKTEVPPbLdLH0YmXWSdkeLLJtCKkWLRmI3iZVEIzrCtSEpoiSKqFbZpPHgjJ1nmpviVFaISiRmiJnuJkS5a5Gb7Ev87RWGTK0YijE79WrSyamdIy/Q2GqCa63tdA3Nb59WrNU9abcyGM/knjNfUuSIINwjRWILmkEiKrMW/q2CRhpISIhWxZ5GiS5mrxyNojb1daXVzZEugTEQVph3Z0vNUvYTPBlatN0QuE00jsn1ECUSRNXiSNVIja5tH6tcmI11q6YgnGmRiFIR1b8iBMEsXN66cmRRLejkS+GbSUiaJLKyIRiu16JSRHMSV1CcZNuV75dmieVRoS3krzZsG/VSLydJ7mZKg+6URBg3I6DLaKghIhI1V9YRFucTYmk0ir/u10vi5tBcjNG1BEU2RuuZJOIrstEp6zEV7hlv6kRVtW6IZGNvCW2EIz8xcqQgJ4iilKMMY3Sqx+uy6kCSlySrSVyYhGVbopKaZ3y1CQZjqekMrsCEVqOu+OJkr4tzIwl/hIImJ4iKQTd3UbZBgmOQxDh7lbOlQr5kxZH6YTCCEQiQuSZVrIZ+Iacncz/IyCPV2LxZXfEikEiij0wifGEUXsXRiNkN+d01rIQlI5EOC4wyGNQXP3kIYiEDOK716aiZroRFL5BFYhtQshE1phGhJDPW2JO00iLOtgSfnTszcSGfDOrIjpzPxVmJsETfQ3ejCI7hgnpTEbHh/8SGv4rpORdeEbJjDpgmNYxMsxK74TNkYqmEExTyoghPHQLYaKsl91kiDBhkfCKxNcRCU/TkvGSMQcdCGZMJ0qkZboR41t1YYS+Z+LaE3MIlEootIYJwwiwoVRERGh9EhKxmEiiyzsGMxK4Sqck5KwYhiBnandnOnIYYzFFV15icZhKtOmc5Mgk+Q2rdKpJppPI5nTEBqVH1RLtXzG0qavghs5bzUhGWu0iEK4YQYTLHgVMMNB6laq1piIc2flZhGRJo6l4v+DEyFrLCJm0ljuWi921XEqVSpckDIRvkQtyG5jo8LTIkoTomQREMxCXhc1VVsWS1SbL3MTclRGKtea1diZDMxE7yMRDGGZ3HX3VKNKHhoi4Rm0TxOJ8XrRWqI4sdLGEYiW7KmQmr06yJhJl+fLYJiYjGh2kf2Ii7Tdvehn0tNCdpJotpdEYiSFWT5MQxiVKWqiNJOnhF/l90Te7X3GbZmbKVcr3xiaGw1q7eSISvIvLp8qIjbYiK2Zrcls2RUVW6Tavb0YmXqtdFj7kffRsa7XJpbkqZjIS/x9EyITJc6Pv4l6fIlRK2QmNMS20hEqNOI+0p942ub/r0jM2z+ou40N2Vo32hZt1sRJuqfzVWgjSMyaJ09jGssp28rdtmrWtREZFq8ypElUARPv/4xQgORRL/8wBBIQLbNdIJY8QjyJPoSUQVQgtZ8JYfh9oxhmwgQBCIxmwoQRbHrmJ5eGGcRAosY3TQjwzQERazaCTEySFaIrQqciFWhsi9c4QizPaIlQ0xKRnm5CihxXFEsaaTZL2ME04XVAss5zkIilkqUikREWtBzcuivupOE6siJSyM942i0qENpAhCBocoEquNQ/kVlBjxEdobQUIiOPGa+Ip5mREQgRvUiRYkimNq0JPcEUVmjCCKY5OSpnD0iQllhq+S4svvrUoiEr1EFR2beUVhscQqQcigREVx8khKmzHIgRSMMMgiIa8aqCeZ+LFFClpTyTFQnrNRMQpIoaWrvM2Imrc0kWJIlyQnyeilpm3NFyvFc/WVIjkTRLREsvwWtKsxN+g3r15YqLbY8qJKHeRCEIUm35C+hy4u5u7MinLcmqlEpCUF+2oIkUIRlQsiKWx522lnKPJCLlGVSUVxKoR3tBwlrHelrLSI11JPdVApJ8pEgWFouI5vkkmcZj75S6uK5/OiJBOVZFwrsz5ESQMnsQCiZ8iIq8XUckooM2aCIrXiZRkT4to0hThna4ubJiCVEytZeIspjRaK5hPMQUoi6uCU1SetyFNEZOiBZC0kKZTzblEelG8I6ympcq+UXLzKWK2jWqInIuPlCnEnk8Q2l5CkmQMRd03UkkTNLap3hc9fq5H/lkjLZx9i0RqLYIXNwSKaFjaa95KFG04klUV1R+RoklL0yy0K2xTqnz1kL09NCvi/0aRqrFRJHipCbVkpkqyNNuSkXn1rbNS6rRpeU1qe5vEiIo5OgSyJOXEWSH3iWLV6JykrGI4xGFkfE9QqMS5X8v8ucrE51fuTQr4mqEtMlESkL4RlqfVle6lWKVtXSSLuq/aJmuNCZMmumKQij1QihNjesXl5EoppELI1pMKcuiNEjQomsxCBLa2VRC3jNCdL1Uwje7faJRya0klM6cRZyF/KxMtIGQlS55MqlUQ7wq4XFmMKOTJae7zkKUUqLUkoSQgzCEGYFRiCbIRyESLKTqO2KSzWzIL2W+mQtxHGGoWIlN7UpJpx01+rXi4lJi2aC9ERyQJFc7RkgsiUyJOZXRLUmLmRzC5dnzYsUXvE70Q3I69dtNaYuZkZCbCG1IeJo0n5RomWktZPUjiKqJStKXlUFCIa7kTVLXmhRV2mWEWcbUi8k0niREs0I0oTLGpEIi8xeJFEnYQAMAAhhAGAW1hANoIGaKMjMyRepDE8ppLXZLTnCxNOHitLUjQmky1kaSMUOI1XWRiGLcXQRguE073yq9NDELslYR62SJqTI9apaloRBHRHlKKUriIWVzUmov05Tihoybyjq9D1/E1Rkk4RyI+EtVLOTTCLkbycWVScS0TT3xTLXRlOgn1RZVbMqIVpcilOWneaWUilHpJlkUMpLVonxf1mWi9OtL8TXJfPfctGlFofb1lxUVXrITRXzyCI+iSUxI3eLBU0cmRiKSU51WtU8qMVaMruFGt5YtEZHqTFTOaIRoTrTRLyzS60jiSQmjQk1LVOnq5MT6WsRKIaxJaLcyRdG+iMlT71BKitcJayvhHCDyYlqnXCexPSRrZaUX6SeSykqZapmV/IaQW8xM0WtdkZP9J1JmVlFwr6KvUaTyco5PScFa+EuRyMuCKr7EWVoyWpqxLtpiLRUltqFiXObCaTzC4xCJ3PJakyfTiTahrFWlKDlsnWSTymWynk/VIpdUQpFZDsLRVknkTEfVkk5onok0tPfNRbJ6fMh22+9LNapKVi4mEtaXCpT6Ki+xaLLSdZSiGRiOEoxZTnlxR+o1qKm1QnktiHpsSojSfqXK0WRk02K4kujkSRXO/Qmiyc0izAYEAiHlEAM0QC25ZMvHxIQuOeKLsqSLfESxR/CMRSJ6Ke18lonfLWTyaGRccZSmLcy9aEyj2viFar0rC68lcxMmT0UhiClzLloKzIUWlqxTksq0MXxacmpmkpo5/JOpliTVEn8xLkTxKyIJrl5yFUIapta1DWk1iL21aU9Jp1Li6nZCNH1zZfCNLI1S48iIyZLpOMIRsKCfEhYPGn//jFCA9CEv/6GDQtkQIJIJlh1HuFhEjNkU2PSISBRHXQSMkvVKWTCy4CedrGQhSJ2woi5sqalSFNwJGImZOERGyPRJY4aC4s/JKhxPipURc1wvkiE1DlwTJpcJqBNHXLBHJT3HcIr969Za69ltuk8JJ5fUySospLsn66zCMqpHoMweiceAxzhCDKHMEh7dktCMr6PWT0zKLNvpNPkit/nSytVQ3Z1enXcrrW/74jIiRbwEBKBDA/QosvARg3intQpsO6/mohUeiJ/qrMjJgiqjJNluQ+JrZP0irESyKkva9EqojDkRDtnKjatfBVlal5BdGiXLuJq6CiH60kLExniTItjUoZRyfylZ65+TFJY4Q8CMpG10oTi/7FJUKXRE0pivBLXnFCAMAjEYiGJ1wUa2lna4XkZGQl3V6Q5hNISGs4RHIeQyUi5NCsRQowXehDiRN8qFNFQk8VFjeib54yviJrv5JtN7fhZmVpEOYcSpWssX5TN1UgWBtEoWCfjg6PFhk+PWF2DiLKjhWbbXll8rSurqUI8lml7Rv1BDS6MjFSPFckWGekp/Vbe6/Qzd+BUnwMSvmfObPwxkv7KT+MjbpG9U3gkTcJMYK6yLxNIsUiR9hKElFtZsImTXTukhTSI2yFNsgxNoTbJTiUg1t4lEiTXZYRkTMQQ9CFhIxZZHSJonHMRisgozayLcJr1kbJmmppGKF7snrLpImwjRapikxOYQMAEBpEKY8SCPLNEtFkLzjWyEr2UOWo5IqVfeKSc1KOQJmjEvYRCg9JuLRhDTyiiUM0y0ilnNBCTExBmxQiFuj2FDAlDbhOISAcM0RFEFhpxpEiTeysQol5OoSMo6G8KknsR4kaMQ0vwjnO6CSc05MlB6pyyrhFy3q0MmUgjS7SDLUperROJINJkoTaTXpCRZGRWy5rLLtIyOIoQaI0karzK/TCcKPuCGIhkmI2VaCY0jEkidtoTCpfCl4JBuJiWlJSRRZvtJ04CBXVu56QItyJR3Qi5AyncJQFVAzIuNTufIMobTKThUUzSkI8XfJjVplvKlTkESlWzmRGT/363Zpbb/B4oS3Z6gqKZ7GkJCEeY1QjSExBrJZSdumiEQ0J+XLCYTMuoSKKvEZaWkNJGUSml3GJZShTVkWenE0hJsIZwTSWnkFjTApoWQ3SaaJqYyxaJeZktRSN7yvivlbyuXtC1iVS1GWkQxGZFql3+SRI8niqqbEmuMmlWjElCHopITnQ1lEtqbJsUkVOuwTWVbiltE+kwuF7GZZV6mUsq5fJ5ZNNSeXo6rMpMrMTrIRTmk6nCpp0ZJEy/RZGL2UVTQlnKgtC44WnFiVbMqJRLzmYLYjeyZMLSKb3wTlP24JDSnyotZGyakW0iNhFFTBHuxFuQTkMRS8U2KIyTdv4lFvkMmKaeRyJ5Ggtyu0liFjRWFjCN6Uoit1p0tTk8ta1Vqr5MhGiDJZyIW5r9CuKtfeJ8FJT56KUUs1kQpfTiKMQIYh2YWJzJZJEu57gRkQLOYmbiJDUji2lRTbGhOshDxXLVFLncWWr9ieS2mFKaZ0VSQm7ihcPieWRGTJqpSTI9S0vUkeI0WEsWJMVNJkibSxGJSVrxKiSRrioSOQR+I+yTmTRihI3tIWiZGUpKXrqSu2iLyJDraF4hV8mItC/MmVsL8titaRyio9euivazmI3CWpC8lVmK1OKRZaLu0il8prKUWxR5TC00OGyRJrZV0wWS1aZfajJpLpdjgjLIsxQjCJi+SNEi09+TSQvpHkiqjkRRFsPTQ0AJYDGAmMNGVV3TFfNziLW/GYnWHGU02DPHglQUgWSKDEj18ir/nHJvYFscY/EYe5oV/PS0U7MfFcgSYcytGn54FSVPoxYEGLHiQIUiRgzSKNxyBkPVg0hkCApAJY25AjCWK/cPRGREvJWqjCEkVbcV3bJIyykEwJ0pk3ufLVM5ozYsbEoupK5yPwIBGPn9ejwfa6JX23jWkzf1vuytevUPKT5RmEM4EoBugGOAyQc4WQNUd6JhSxrzCsaGfDwjHwyepjBf9zWpcQslvN/XQiiBCcBzhamUeQdYYKtHxLjsZiZ0dUQ/H9i9TedECLMtWt7sn3JNT+rv1/qyst9CeUfCy2fI+Ts3JH2TdkyJtSFtqQUrJV6yfpfJ8l5nVczw9cNfDVBTBU448NMERmIyuuYfCLijq4qjLf1WSShKV+zNnclZX0nPqGmC6V8CbEayYcWufkfYV6hTtPm+Z1tyn5YViPfO1dxx1QqXyWU8UlImx4qLdaNvPeHbKM/EZ0zqnxWK7GDqVTSgXQPRu1c02Zp3WGPNOrWTolxMSI1Xe4732vu9hVhVZHoqK/3/P13rYo4d0H7hxo6of6HcBrDpTTK69abvjCoRRMZ3+iWmi8vBSS1lTNDMHQDF/KvPQP/QlY4gnosAKyBXA85AEo3FmBAYRWFimCuTL5Nt7F4BejNOSJeErEzf+WW+X3SIRWIptetiadoXqFkHTGMIMq6H5RT64Fxv88z0OtyLRVSHw7b2a9F/Eproq6p2ul6sr7Gj9+/I0lK9B6IKAFEHwg2MDeRthuN6uJSDh6EPZjycdK/Jcna/MrvLsUNaz8nIiQyBqw+SUEkjM+U+a0PpGSujSuRCbQqgyO6z0GV649EvWp7seCj0gDIZppzaXbDKAdSokKsk20fahYqsHsHFTkTDlSJCd+Xinp5/6tHZl93UB2DLmc+TamxmsVRXcPn742/4exWpHwmrvu/99iHuAn4b4VCHDga8DVEdF+6l2qt2sf5Cv7PMFf2mtyXORl5uXJA/9gxoq3bQa0srdaSgr7ZwmAb6bAz9/x8xx6CiJet4OWvdJKFoSxKlmgv7HLi0SN0AoTWex9j1mVvtGfHPHfv1L5Qtgjdzz+VMRJvS8z7gmLtX0t2ZfwzHl7rPy8m6qUm2P9/meA/squrLrjsSqf+EPMHzmbnoA0cBLQfgjdCds47J7kdvHb8l2uVrGGzvMmEtpwN7qt1SR8j6sf6vFX4qnolwqfQJYStiQSFgQoEkX56OpFgTCJJCjVm06yUJtFkxGSMtza61TMRZYSn2b6DOazyY2O5AorGJ1yInwizpIpiietrc+Um4Fl76y73/5vR+FuvVD78YfKQ+MHIjNcBq1GguNL9DdQLPCAltL6FIjAmuzgJJOlkSnxxp8njDfACKJW9gmMmMtPpJ25SC8RMG9P5iRC6k4arqxFXGGo20hzsstND965NA52Zde9ZNiLrCOKFN7cofShr13U9NLxVSlVnpNfPOQ01DKPwHqon3lnLbaO/vVPel1dxCmavH1mo9gfVoq9b3Kh/gdro3QZ28IWAChwLfESI2aWM4Eak9TNq0esptumiE69sHpqIBky24bUxw6KyWiTQTmUQQPqe//jFCBAfUPY39637hf8E/5H/uwJ+B8QLC7ShvgOSkB9458qJj1mEeJEui6DNt/0DU2xVeUl13nyIBMaDJGw2Sl4t6WYs9vt8FRbYViCqpyIrDmDmKVvSybT21H9668k2PhWUiLbs+VEdI3wX5cj1FgDtfVcbIL2SQNvxxqzkfFOsaKWEeTEWJu5G7O+vqP4BC2wWWOXgoSxaCQoMVAhCDVCyJtKmHcFM6r6VnafSbRGLnQUyI5ZJUxcMjEbS2uwuTIE6bMUhaM/h0hvvFKrEXpiq1tWlfTkjqsiEHf9EgvhUhZquDlGQC+Bey1CHvAcktIpL4abGRISMo3CaDm2NIUWts3ucy61mQmKPVRnQdFYE8NxOl47yZFUUHxorO7OwJl+Wh3AsnXx6zaqVave1p5ktjNvhGIk7HxqvQPAeNVbCxfHRft9FmUT/+bfVYxsUZCuLIBICZgl3IgBWgjLFObJkIHre1RzGZnaCwwIizvUzqo3OHAS/sdkgUumpMUw7mK07wsYWZmv9RiXEOXR44G5rlK2ubtzdprxbyctJEcwjqt37bR731rZuVBe/M7lLZguqFpLxSMzNs0/wKv0dtWdFNo5ZnWHg8IYJkA7RK+hS+emQYW2FLFCJ7dCH80rFoxVbj81XTGyNIMJRpWo7Hcap//1oUpm+pzIO0QLXd33VrvKOIO19KRaX5lMSfYie5f54jVVVHZLyaZcGTtVghEy//bRWzkltq0+FD1B6vhYko/3ES6w6XlDkS0NANeaZW88hJR/bKz4NSxB2VgsT9LClS3zzRU3HWDccHPJmyFCn3DhGy9lI4HqKJ4NNv+BvLchJF1jnlIk6HwbLoJ15DH95MuEjdI3msufdYWuzVZ4TDa3tQ7qgsJ5Ohi7wyk+cCdh9Dabc6lNBAhdRFGNslDW/60Z1lfbIRvNQ5nlt6Dx+JStJNKEgk92y87ilQzP2/RfxEEA3zLLtLoTwd5IZq0/JgyNS/OonIpdC9Tx0apCUeuB2DLW1t0nltJvLK2VpYuvdxysnx6akRIvtTvdITJZxeKoCkEdYTqwKxtb0aiJQ8cgMzt8Ab5cdYiMVKFiI1ME6oe0Zu6XC7RvVz7+PxbmogzKTa0/fLTuDb9c5X/oXwUzitw8mlrOOrmM2uD5+Kp6rorMaJX+K4ezn+tYlGUx4q0mdZF6nGFerptMqCtdFOM3f2+L+sAwosDk7wi7azIkmmxyiwtkEi42zQ6hup1cHaeZK8Rp0s+BDNZrk8lKuLXbPD/OzQVFlXHhnbwd2iVIrseDpr8g9Hz+tqfR96G0TM7VQWZ1NjU/ovmtZJW3zzjCZXoRKbBFJD6NVS1CI+sg+o2DNqYRMivtbKc0r58lsPkQhZ3GoKkXZcctWKdprz6M80mUziOW1dOzQM7Xkvi/toUIiOhguyqNixtgvKPeWT5X2yZTUBpd3mvp/fxUHZtTwSHqSWNgWAL4W7PG6q4OIasUYraaVX99Q7ZwFFQAgLV7d1sa+B1fhQyvLNcet6XylE3yy9txRswlGPJF2lm6CU+Tg8rVqPRfzjOMqduW9WKfTsLG99Y6lp8Hb5be0rmftpmtRP8o2zPzUFBS8uq3LBCCEstBhN+DLFrEQNv1okvKxDAks5vU4a6qir1jNk/eayaxEKnKJICiEAyEE58ou3WTrNoZ6liTDX3TjplJ8DsUZqyKb2IC7PAgXUjt7pEnsUqWW49v229I8/yajQfLPTaz9gbuZcqaQtcE+bJxr5eB6vKcw9te/d4ljD2LExb8FDmk74hmmv0zbkEZDZJARO9Qz4IN7fTxpwWTaolOksbzU9RR6VfNXZXDlEYzEhx86kt2QKN0Gg/mgIjDF19KW8eIe/coL7e350RSVsSLsDXhJBBk0eBER4qWLk5vxzrUmycnsLnC7lS/bEEjJxL4xPE/EQWES5pYjHIg80jwtZnbZIYkSPQl4Jom1WS3mEB7TQ3qi5GYdmqU7U+rLo5UtPrnb3ip3doVhoflvthdXmuah6EsC1Zy56WYaw4BFLS+V+I9gnrsgvJ2GBWRR6LRppephd4hql1ah8zzJi00Q1qWWFnK5c5dt1USzqPZIFuok87CU2RRb7T40KSW+Aw7Wqolv4/vElc11SWzL9rP0WDo9fWfCEbhpb0DclU1TMbc3eFYEIPZLyydlnIQVvTDom+yLfUPwxTGypGE7YJAbSpT5i3EhL5p7z7vW4lOiXWQV6Ksjy4WVyrnrKpu6ImtJ59b+1UoEKpO25eKu8rjPhsWvgV19O/SWEY2d4lK8qzuje/qv+8Klx0aJJBRM1vC5MCf4fPLBEcZMuM5UV7l+ryaaBQ3eHBJUat3IzhFi17IZ3fXjowSCXUv2hKNCPoq0S+1lif/gWxl9Ut1Y2Fk3k23MaSfZ1fdzOeJb1k/t9J88jVu2tztVnS34r2wqR+8jRmJQJEICfZn38gSm1wt4kzinK5MtjNohxQO2Wrl73VMiVpqyWMr8uzDftjZByv+SSZJctFrIJ60cmuYtLwHnK45WUpJKnGWhykEZ94Xc3o0NX8o9nlrXIdC3pzwomdc1VaKswSfLUYARTAHoRJfd2U0hUwoRYyFaMBKbZZWK8MbzamwJVoFqayJKzDgthqiK+YtsWJNEknBaXRjel9O3df07fk0zQR7uhbPscOvo79Th48+59MrdUx4j538dz/p7luU5qmOTJa+5zBPE0VUjtMCxTxw+7bbCmIololvQnET225pMr4lGtyKKLVkbDLd1Bury3cD4KQ9Fo4OFbM3ipUfHY9MitahXSpjkfEInqWNGj1HZmD2nXPL+2SvCRJak2Zb9IMrSrLnqCSLo7EQiRSMkQxT8rviCG0h3YpRRUc6KS7M4Zeo4WsgPxCe/EgUFrW+khLoQHUOhFOraexynyrGTf53SvsK8yIOO54VJ88+sZNho1ordMz8rJIVuss1yJLFRnSxzvNVTiaEkYRFcbgwPjlabBbozIoWTUgCKtdgklyaCHR+jfmYhRCPHE4ESYk3iryTL5ZFA/PRfVLAS8ZhO/Et9JQTiQm4RL0VX/yqpzVin+UycnjuKJC95ElGvznZYhWi8ybLmPOYUTaKLTVXlVyolbtijapB6KZPVHZXLij9NcndKtLKhX37oQGossOR0FAwi2WBHTCUoVl/8FXiyu9Cu79QGBrx9nS3P2m5skY9Tsdh49DEItPsVikS9ypKlztt8jPpxICEXgoDDEpd60UIfBKMa0+P5xNCCtI0yEifDtVNM0xxK1uJOwhppnXFypoIjtxyKLaIJp0lUv9yxn6FMaDkgZ2mh9fHoEDUO+OYaXT6Lf+DAQse27djkOeZHvkny1IkVarKAGdfC0UqiJR7uQf8KKcRmIfh0ODU0uU4IiUYwxfAvT4uM6G30NK6RUX/9wbxvdY2pNncM1mWsFHTqmsm8rkqoseGau7zzD3s60i5FY4Orcxsua/CSqnPkwUS0yDbZlkPXBMHIvFE0wkBHv48VGh682uYUzgVCgq0saTtOwWOKtZoqkOxmmxMyybEpHp7LOCmcSgg+izZmXzSOm1I0qLDioL+QZ9yma2USsFWtPWI+T6637i1ut0KULNIFXkbGn66yLY4vimVBgNc4OnaS5r1RrhAZY4iQzHxadRhOF/Fem41JiAcbut9xgcrlpa2aO3XppJolrHmm0NBTPRiqRHSBwL0tu2w+WPHkb3K9KSH/vIP1k2TWGih1WkUCRdWZ7BS6vbpimSl2YYhFN7E4u5szRm56/JCbHEUiEcGBrGUq+KfFiiH6VVWgqjkTl2QklU2kZ3MiZeV3Xx/lkS7OvSQoGclMaYxNFJ1K9x7m/uEdKXMr90KDYtWwVDlvVUvOQImvMvPJ8Y6zVIQREN5DRX9KtO8DFqi1FJ9CiGJ6Ly++H4QPsjylmmibG6ipbQ8Kd7WkdbSKYzLB8TsLu0XxRdVIzM58ZDmkqL/x2asendS82juDC2YyzNuSYb1/0jTsVewKnfpRsspRXtsmyGEQ6iyosNyCPVwjUj54orksCUfnkIJdl8+Wi08J9YFyYHpAGYjyihr8ykSiIiIcC1IzP0JmAdGuvqPKS299JyYp0YYOITMUh6rzWH5KXUJk6uT92JXp1Dpl4za32/tSqdijdfZT0hqEA8u7HwNFc6pG6LDH8hAQREc3VJ+JEE6lkrczdInMFRRuY0r9+bC5azvdWyoJC+9KBLeFUvPdyW1eZ2ijEj/Nmc4+mog8tqcstkcteg8Vv75M/uqg1DR+/ys1f8nqzyTFWZFYFtkrRPzBHrfkOf2gwnkAFlNO67omGLQoyGgJW4uWpEyEFIbmP4QHLhNcpKGiZ0NCdEJvJTCqOhRTQ7vdufdKt6B89qfg/NHZJAdNLspZmv1jljQp3Tubi5znXFJlCkOL9/lGJCI1HsR0ODEFxId9Yk2anZiRLcskz4E2Ta+WLRUcgA+4nDSzRRVGwNjf6LSaeJLNMp471kchPsgli6JNV6Imnjji7CiHdIj7nPcH9W/SCJP0LmbA6Yg9tTwhcXSxpPn6SgpAqpicFeBp/aiBiy1rCs4RoC7Y+EBxqP+3JGzgx1Br/QDSXghQTKwig4UCly3vkFQ0cBfFQC3J7sHN05F+KtqjUAhyPFOKJllGTteQjOm13Sy04KUabNIjzfun6q6uSa5HCOPkguCiMBNii9u5O3yEEvtE1RGykomYVTVXE1QPxFDReZagArQ8wWtdB5DPktHDsQP4ygioD8YwX0TxCwZNGx75wd7rybwMJP3wF3gNOnyFX5ThElC5dZXnPxctyYN991iOgQsWdmUmxvQIkgzqbGD4kclkScWTcsEKVb0fuBoSGzecnRvRkqVRnBG+17i1nTZthW1cDnG+2znYBRjo1+mcWTJSfRP57AqQsN7B1QkWUU5P7ppAr/RK2NcPWeLp3xbdrZXdJCFsk6G04D4NfGkQBRKQt0iLEWT6xw1c4x51R/PrEDobvyNsChaEav17AVH2UjDccMsyP4Kjj0+d93hPiWXqtedL6/hvHpac0zx1ar4wjoOqOLJVbBYd3w+ceEbCunE4AsAb7B6XORTtNqRyiKHU+xNJPULk8K1X8ZjisH5XaaFL8fpTWQpjxrFKxmWS3fdBgPX6nk+p3Vzn2XhFlH+KoXK+27afUxRgt3vPP1ORdKnzJtDjm5VzpRQZh9X3vZqYcX8HydL8OdQKGI4DA4/wJHNxS3joMawAgedauH0kZIiRMpzdyXfuYjz+R5kwBJ3pdvTpQOgKGcxRV9W7NzT4yjlsHuEYJr7HsFTwRElfx0hwuem6x6+KEA4sLnWIgqS0r1zcQbTr7GPfWsP87s5widhT97WX0SH7lGSf2VoQ5crAAFyXADmiP3LoiMH1KwAeDLh/dETsJeBSEkLsgA74UXxGpEchxuouzxvUrY9tjCN4uGBYUzrJYotitIlonoBCcuUyxN46imrXHl1lCjJRpJ7AWTdEnCZaFfm/a1jnPsrYSWmzI/P+tjP1i7tX1Tr5imHri7aBoRLeGAFSAzAHhAUWwC+E2PYPeE8aASWvvsOqG6v3qRQoYeNHIwOVXNaz+fT+ymUjzgd5NDGsKZ0KIM4hH9gpt1mfhTs87vCyXbYt/rJXKPS6zc6+bxh07RCxxj4H3IcsT1xjysO1GOoumEDZv7qdbHXYuEFxcVBlDcVoxGQAjwdwBcQIPjRMAN4yQ5ozxNxJTVGSbsKsgagocRMd0YCFHkpJxyzrtFwzp4JLg03QBYLOVkSxrF2Rvi041iCug3wgcLYaQUHUJqaZe0vQXxWF2t+2uVRjpahxZr1fFJ0lxVeQmzbooPB6ML/DhrjRP2kJZ0MfsRN4wEUAFEA7IOmFDBPjwATgLul1NNu3QMkj9bi2Eu8RGPPg+00S9ZWvR0oGTPY0/BVNdoORz0wOEE8w2+ICRp9liRmYd/mfaVd7vyeyIAQl1b4SycY9O/zAyUffuENV9hF+bffTtdzSJSxOphXgoYltChLr9XysPuypi2gP0AxgFHA1o1IVQJcDKAtI7DFk5ZAVifroUHnEeowtolzT7b63Vd7lG9ATAueqNHoI6IgrOOlK4a3dc9iOQTis/6NWmko45Xhg2I0KLqzqE2ziWtbTsPusOhz81GdeioyWt5LUIzRnZ38y3FRg5Lyf0By3xyiIllh+QfIHoBDwyYZ0IMEQBigUl0raRc6QYr5wD3wvwEEI6+lPmnSuZ+8WT6NOAXnO82vRc3zUov57MIQIUqKgzFRHC7lYjvUg0k2qBXLYZdqWRvaYfD1KajbRru2WJZzQOj/0CfO2hCOdAC5mHUF/m2pmbFvJ+m6DdttXbMywoBAAP0DTgGDByQpQHWAYYEpTIJ22JlAKEz0pZNf0C7VCPwRewdKCmpmFTIJml7oDq3juiabu/UO8pZ50AYhtIHxs3b8MqxFufAlhjcMX7s3md3Wh6xG4pILGovPhuqrWRzWxj8Wht9kS556RKjJZBz+L49OkpKXlIDVaCAHEj48oBVyyjUA7gLkeE6gCOu2EKBhijODbyQm6wDYfckogVOTYEXxbfgwmDzixibpr5D+Ji6wyew9yI/LvGMJCapqSoffpRXVR3kp14KvgQEAD//jFCBEYVApgCgoJ5wlhB/oGYQUBA2kBvQDi/7m0qlSynElCT1o2A64RHYcbAmDQ8XBkKjfurWWT3P8IG57oOP34StMx47cwEjpK3JbUXFHyChXJ6CNyLJ55Jy8HFOJGj2hfKfQzyeKLsUdhS3WSN2CsOjC9rkk8FaPBmDHEI96CDoi9KxqDnHpcvU2PRoeET/YkijDm2bJrZ7kQytWl1J29/SKKsm8CaSGPpeGQmY+3SqeU5Lu47YWJ0pvzj6lm1qLuldQcypqzvGgDm4j2pXDdG4JXpM8ZcL/O2iUdPPF2l+o35lrkQ/KWKEeq1Y1lphMLL7PC/1T0aYU27XT7TGYotJMZjnT0amuBPfk1aNS0jyQk+E9qOt9tHxKBIqa/KI34k2BW2HoT8JIyaR+ycBxjemgLMYR1hUncC94RLt8NMRK5SzZlW7yuNniJaO1Rt/BoKikFpxKIK3FyPE4ajYFaY8AQInkExfCMsE0cEUTpc4WFMwUfIQPYpF6MMkIoEyKYmhewbDFUXQrQLooRcbE8skq6/VPysIz/6cCzHgVIgxPGGU+IlWS+3YFO1Agd5ih2loGWJOrDJQ7JXBA7c/zqVMlDt4HatEAU202OXczphfWS8ajWSn81s7EZlW8QKZC3BNIdObEJ/VaE1vS0jEJZVie0yKo553TkmUmDqZlhdYkKRDRMCk9+7WSNm6Hbbt5i/b0EnyT9X5xa54nugdB3tt0EIGrNNVAh4hAhv7J2uPwNVGHL1EeVs+MlmMuUbCAcDYRquk71GWCkThCWDGVmO/FHaJBkSkouqXAyoWD6ODu8Nb80+zq83tldQrzqhNLqtbzPbn7xNpX/TME+M4UfwoljdL53rpe4SJ1CFZhB3kHENOgqEW0yUGPa8jTIFTH3gvGlEj4pn1QCtwlza+7lTU2MDNsT22EJ6NPSopqmRyS0E5SdWiyIaZISXQimzaZVIXMSldAoQnjBEZ/1PRjJE0CDEM41JMopltScRagIQf4fApX5OOtXprpcTxgvjd2FnQQ1PY+kLO0u8UK4YNxuxC2CpEhvgpwZAKfQSuCSNwMdPAgf69SsnJFrAK0h7mhz7RFQTQndRVoKcxW1FPeOrDXEnVKhIk9goxeKt9duNbtD9YGhNp7LuoaKxG+FIOs/N57kokeaSq19eMMJAWo0n2uLxljgHaEAseMUxE3oTAUZvdh/hACld+W8I8w8AeYzOf1uM9mD/EYI3QI2RcQBugGwAZbBG8AlZo5h18UIiXjHL1/yUlZyRveaMoJPt+MBHrTEgVFQYmBNT1dbqihoqKSioclemDsnG2s4uEDsNOzzTl0KCpFS0ds+SF7SiYVQvqgWO0aYU+2tg9ZinTIhnbuqVwLSKIvM0kbIM+j3TRre2NPmxKgPSGkCJudr7kVOBYgt5LlTwudsNL8ZkRIgz5aoC3eq091p/RgkinMs2ESiXS2MKu0CrF6n3Y2rbIveE6VNSqogJFvzGFGZNTrrCo9zFLSbAMeq2QLmfxkYwE+ll+Ws1DizImAjI7TD7Yy4PsFdTkBLAIyQZGovLW9CPC56o3AyJ7KDq6W8ha+Aozt4zWXdJSIO3T2seOJdX0Fh0P2P3CNsLTuvvJ7Kwj52d0kK9ctBP6ojCZdl6IY8+guF+UyYa5EXcqU2pzmASYln2OQbYmMcW4yo002NWJYvx1W5HmRLqtDMY12YSC77BMGOXC+d62byF3uB4R+0upCKsZT9a03ntFOXJl0y0nVsLiJ26ZHlJXHycg7+e2hK09WYqqk9uDD07nTh5VINJU3hQNLab0aFHHkSvPuwikX3XGmFeTabQ+JU9xtJK7nNTOipEZzznH/7WMcjWBE17PaDvSy4YaWx189yiaE9GiiT64XmRvqaHSjDem2UT9ZGqyNGizE1XF061x7N+Px1LHx8+N/7Fe5G09x4qarGv528KFRE/jwD2PmEpDQjeE1pqofMV4NH4DaeptG/DbCcizETGSm4gY7TUJDO5ezln7WVI0oqhxlCkZkhE04cPsfHARaaR7yuFnWRrxIOWjSUk0vciIFYqNVf8oHKrbEQDK0K4YC1bfnehL/thJXGKLupZ881ZYP7006tZUnQac0q2GBIj9zbpiHFcnegA2gDjnTBoQEyg/tJSB3yeAl5mAi0hVhvRskxoDEEg6ZESDB4B7bWXi6EOEzF81/1nMkaok9lSNWFBnkGye/hdNWKXxfj960yJEmqTlQvCQxSRSnJeSpSlekvnYpuuLT8alORJx0zMOrvKlecxGjMW5+MqcrOUrF0pINWI9jCyenmfke/TnupAf93cBdgPX9EZSDUDUc8524fuEfiUlEIR7KPqb0i2OUQp09N/N/0cQRsfBORCh722tXmZXLIEd8krpSm2/XozQiaxWNSOG05FGbxnkKRb0FIh0zCTLkM03NxGsXHDIkmiQ4VvlYjZTyzEKFBSQu1jveWaBK2lT4oko74WMuAp1F9ZQEzOtLLqV9MQJLfC7fJgaIFZiPS6wwhC9+tVTGUsLVOqTV3KknWmmEoluURMkVM5Iy0pGM6IYpLfbDR5JlcIV0SX8lmrIJF2uG+1oCEH+l+MlCvGVd1+2u7LcpGDKWDnIKmQr+JAQFah6vLFk7ieOElRhEYyBrviRcjHoiEL06suXU+hsFqoiNsZoeK9nQpT9dolQDhGbmgAkoTgAMO6PWB0CIiRp78H5JIxDMYNkSJNaMtECfSgTcRy3OZcEvFeLeSZ1TCRZAE3xrMmiYNlGHrD37tHrV0fzM6YYlxLlSPPOfh6YG6ijbfMJNBgQy3fa5dYt+J5wCMK2jzjtwnD9jaCd5Qijsq9P0suzkv0ieImvMuKLqbkNI4/7vf3W0uepf0S/7gkgzQAe8Z9xAF6CAi+0z0Fp1A/yKCM1DnRCCELISpiyIiKdwpkvTkpEclaEneYbPtDAbJTpepy89VNbB3qpd9+kMSRXgeilqzM1ov+LI1+Glsm05VyMEqOk56HEalqcRwna2OdGsXnIgUaRCgW9eJXLYV7MJO7xPenb9Jall/te5Ly2uWuCcsqbW1AYp2ABLSto8BxBQR0ZVc6OviZPUc9bJ3nBvP+vnZyb2VIoEX0ZDErhl2JRBHjjZQ9YXhJqYy16c8Ia1mI1UinIyW60nequDhRsTdLmkVO5RPMQRwL8F0nk0jz0ex4r8F81my1F0a+GH17M3OQlO3rggCReyb48KLR66cv8qXGc9FV33SUjpTTalEPpRQBBUbCtPc949Mz8DWieeDLWt9zuSU3HmrNfv7uL5eshxV0tKLUGgMlHSSxGbZ6x19h6/Lt/F7hTXfdJkAuV2rEDPiTFY8KOVWyAZydBNJQ1n6IjQUCqF4cdVujMiUFWfZZhfGd8z2s8td0ODT8M3v2fAv4ilM8bfLtEyBZxgbYXoXr7BPQohswXcl4MZh8GcN6dNLDuKYibLCGmCex8HG/NNjX4P990wrOI08c5DGVX8lP5Fbu11WPl/eEwJBO64NX+Hv7FRled0U8licZPkrktHPjfnMSLR65wu3pmqWbFz+UdiVbS04iEwOpIBr4ZMEQsXKmddlyZbPd4S+pv3Ubv5N8msJLUhO2KO8ItgVIN+BPzDgNIoJV3buaCJmYIqyv9R3X/A+G4EUULJmx9BzXpwm5R+uaU0tYOVqkitpxa0qcE2cbqYjF7dMj0GpFNQbthBWwtpBNerA5bIoH51aaHPbjlRCGfPoMwG1F1xUJtreUaVZJFODOft3MHjIUkcXSrY/Wc6VEaP0Sx9tTVFChlLqr/DmCDg9ZYwRzpTFk1f3UVWQVCCdxZaifJBE4gjFtm5wiUEcVMtTK3mkETtPIkWatWQeN/bpF/sddZ5DY5Bwdp/6BPT1ewp30yBsKNpb84JwlGMjGCTX7gPasYXyjtTsFcrkO6LR0XFY1mwQqTQES+R876qOpdZ7C2pCiB4y7puvYwJTVHBnmWA7Y08fPAD8AM6K0V4DNgtgzTTgvxH8zHC6L10KeImlYhy1FZ9LGEB/V0x+FQpgf9p4+htzuqzV1ICwusz8pTaKQeb6ofoYTG2MpHlk+nVDYruSC6hhxEm0AhnTiiEt9xXWZRI0qCIXaaL6z+k5RWV7eoIYu4v93XMsiy3evKIULEQafALuGDJiAwwRYaMBDxkokbYIiOpJS0laEAMeB9CCuci6GLt6mztyyksxQrdKhNfp9Yy8Ho9xi8Saa+o3lEGiMZ1l7u1R10eyMN9CJ7KYRjfILPspEtjUiktK6VGkWiTb0osyVW2qQXyLUpAMj27BTJXcohe+xA6Zqp7nIFrbVgHr7MZWFheDIhoRG7mXEZctbghBAPxXhuQ74Lh05ctVDm68PWZQKgSCdFWJJhVitHGBUjYGhABLkG9cBcE1BuZvtn2CgYWJ0f0ryE56vmnRlU1W6nWcampVwfb7vZmQTgIrKjCOcEA5kgxqmQijWCGx/pYrl1y5TiaJNjsdu9NitHnZVrkLWX1ady7XQSQpX83Tcsn7Ti+j5jA/4AFoNgfUDegYoxpOM8RyCth8vTYhHCTuuo2enq5tqHP7gxj0w7yyZb9cIMAgBleWEeomlJoQogmNqmCgDHHG/sonW2sWO9RRC42d7Mg1KaSMKIfxbNxA30Q6zcQ0j22aWk3WtCkiL72V1HjtCKBAFaotxqNKT2iV7Rsrafi29purlkPPaeU347odUmQANsBEDlh9wQoOPrP6ESwR9FmWtuSFPGfPkrN9p+xIKDw2oT6ItJclxUfVNcdxaEinUN4D75GsO2mHX6z57/LDuloIApSfYt9wi0m8gMIVn1Bh9TRLBdGF7ifIk7yZViawyvWCwKtwDEskYGsUnCL4xlm874vb1IVpt6KZRNrNX1PkMWpt9NM6PdvMBK7QsApo/iDmilvFM+DDHtVKqRjjFaF6ClR+MILAUBFufGlp3mRKl6kGFUUB9OYcVGEZWNYOtZ9SiE6tluCrTkyG5Ip/ycpsSLNqbkK41HYvF+3dQa6EzBMlcm8OZO4+HY8PGIIgEEhdKZiGxX+ItFHoQxXdajGXvNGiZZYl7nD/tc956XNubHtXiXrFXFpLGCpoeAE2AD6QQx4xvD8hOxs1gw75B+sESNgHnA4o0/6OE3zZFDJaqql+EtQWgxiTO4ryGSv0urKiqKdzXLfE0ZbZhHOZOJ+hdF3kN4hSH8N8SxVr/VYNlZwUSKVN1p1Kf5nm9q5MYhHQp3c0j+Ot3laxEFXlTZDx69kOtMcWiqS7VLUdpskZ137roxhTguyb0RUXk1ZOgAtAHML1RxUjwgpZQxR/4JU2VCOxjoEvAx5zVb+Q6SQMnCEENahpShBrQX4YBrkCyZJT7/36XbRatyTaiFuf06tD+Q7iOWKjxBA4EL0J4KdSpJPh8Y7JLpVMg5CHmTwmhReqCUFuv0oggS6YRs7CNc+DnodtqlbJ1GF4LgOPIo8Hv+l3nf9bgxO+E9fq5DKUWGlH70Ckg2AtS9SxiYTCXWqfgjXGZc1C/qIfCnXe8rviHihIKlOms5YHxzSIMAwQd4SZCIiwo1pV09g0U7FJ95QRBXh3N3Sg+AyBynmpkjke6VAqhivJ6bm55ISB1Wr7B3nItFH0kq3nuIFvp8iGGmcmm2rnkWilMU6UTD9bwDW9w47p/06XCNb5zRMFor5lr7ZyZTVfpXUC4B8Bp3dMAcqfuZa7Gn/c+5jTGKCcOLvIRQTjSkFBcshCrO9xG9Ni8xpjoH2J2wdx5Jrw0ZzTqiFoIN7oG5JVSplTx7dCqC1HAJ1dEVi0V6iXGETaqShRTTt+oOJrywJNUMlxoNuFybbFINzqjGYvJJpGUOgOUrsQx6NoPo666as4P8vutqDz/Oy6aglOuYuF4l8wTESAVwnrhnBmDq5ffes9dksooqUEhm1rzZ3AtCJE/JX3KTXHM6VXHvUJEdwx6zulUmndueiytS0yeBKHz+vnKmfFyDjmBMu+qPUnk2m8wVbvZGvUZJVz699/6UKp2qlJ69KZ9ln0Yiac7ZUqD6+EceszDrcjoVtG1fx7wtL4+mwqA3/vkTallzmiuiRlBvgrwDNAogI4zEI4XsFdOON7f40XQdAOogC5hwxww8K7syaokTZLos3cuuIq+GNMcwRamVr2mdPaXdIfPQ7Jqrp58G8bExqfvU3BtFIRxsEYhWcnSKUbJcrRqbHfXFTfLuPUlRTl8YBTs3UvzW43kPFeOVsplOZxPcfQ+ywfFYVKeKhv/S1Vf6Ut3yGlnEtOmeGQDUAQAOgGEFOf4moYMRcMaaOqooNMH6IcsBj4M6FVFREDwf6SQlQpRYlGgNL6d5WZrCeLN3LGmLe6H8pzKZNlLFRUVQlM0RlyUO88RPFG6FMt2xl024XqV5Yo/qUDY1M7bgv55mKTDIaiJPUqHUkEriTfShZqdWGJ7mmomkeVSXHx/Ew7U4vPsq264tmb3zvGmfsR4XhzG6WzfoO+5EWlTm0WRyC4PoiWDjTSvGrK01O7KwlSpKw0iyCuN57GdeIwhHAnRCT3IphJ+epYaCotbOClvVOl7ZMKysiCUSiQSExIi0o+JsNAqCManTNOR5uSkmC4bCkbilaatAw/6Zf/ZfKVllyaKesv7+SWMxk8jiWP4/ieT0+IthS5m9QHEaxXZ3muWnATjQajckt6WZRp83pAzCcEgRHa4YyOKIAzJv/4xQgSEUz9f/z1/LH82f1Z/fX+i7SqZOMcyEZpITp4+Mpp6fkpOxlZDAuLhAWaSxSskD5IqSLm2j6nSiS8jVL5lS4YdXXtsJNE2CXtpxc3n2+WjnYjxe3J6rPV/jEnLz8vC8UiMUi/Hlys4LS0nK2ftfhgSExQy+s7QeWVcOsOJsrZL4/a1U/jRMvEswVqvY8NDwNHmOvL74g8GAaKELfuuSaDzgSNEmjuDJvEiSCyqNCD5hZjn1M4evQ8vNO96PdO7ISV6KWp2Sl6c59Ype0sZGj977zvIFAgZMnyvVbChSYKjBYTSYbX54aZU/UUso6FSXXKe1JzYewGKPLV5AQNA4JAgCTjRH5snBYk00muqTN94SiPbeSXUucK1ToVJDbgimIhEigRHxcIhUXDIbCoyREZu0zYqRVMxwWEAkScsIRtR6BaQMUGoC3uRRp2zZ7EHs7uVUe8Q4OJBhbJybgcLBgMDEsXNrTcyErvV/IbDyaxpC7CO9SQ+QhqDv5vkS9B38ieUToqdGw2PhVfRHE15ufyFdDWcztkrxIsnzzcIPTBWio0IOThEqp61TFe1/ExGYe4LtVF2lbpxZWYNIRRQ0dNdtSIElCtrSGwUZiquUWU4ayQ9ikTeUTvyQVDqpS/akXXY01YXPvuJY7AsmpRvv9qWEM9HuL5UeK3RUcdP7WVmsfyRbmRmFx0UIChIrHTtAw846MpZ0XNDRm3CIKRFz9C829PKi0KBCbSTB168h+ixrMHo6ScMtCJ6ulTW31UrOQqAzUp/xaWseEjna+lHXZjFXyxR0L6mgKkJBUAFeAugSYQAFmEMiAxyWkMZpiFJ7ZGyVDXacAnZg5VZBolMLMpIZy+jQNJJEjOcDwknTeuHtU1585iI6MgbWlUs5bichkxdhErXj+PSHWMTL2VPLktVohQrOY7eZlpg+XSJRpbCGXiG9FK70npp63sLG+gojj0tqH30lDZtVOXvnW6slr9cLXkqj2moR70InXOMdT69sMArAJJApAT5gETA6hBB8MwflKWA5yldP1PtkmoI7jaC6UZwryvwMXVWv70FPFYKAJQhFAgQIGhDWLXBcwQJbUc0U5JhHuehBRW41bDBjNi1AnnAlPa9sYKq3PMUTaZaDaRGXzKw0iVUStxav3/z2e3qLR77e/7iUXX9f1fLX4zb7wR4DgQ7SnfFIbkqM2ww/V7Ls5AcQYFwTr/yCwmHZJQ13Zmh+z302UpA6eouN9z6nvTwDeMrZVUEj75WJivVnAgH/yIejdKTYF9WlXHp3evksd1BO4M97EyRGiQ3hvIGX3GLkO48nmikovY/Sr4vLjoV3SVZgfrQZ94+BP/Wls97Nbmqvsi9sxKayJKYiOcBZCjI6GPJEVenPKmA0DXFcnQ0RD1LB0SEJs1VgQHfry+7k3G7bylypRoNGm3QvKqg5pBHH11d7Lypy0Y3crIDcqe11o/xrFtqcUejxh+b0LZF4U5LOJgORRuqNzmwjOhXqwh2UiiGa+lG8vIqEYZKyXKGu1Yi3vGYzeoo8MUPL0u40/X2v9oDy1TYVxyttn6SzBaAQRXRDXpkjDE7eikC2Mo5Vj9iqlXa9GjmdabqybFrYJw7JZLFmbDOszc7vrYI7j8Z60Oo37pl08CeayqQMbUIHJwIWva0kmXKpf1StRnJ6TxiXo28JhMb1w2M80reGgIgmLRsZ/Co95GrpaLe4Vt1so765U7NT3nETQGZ3ucxWT7v87P1qX/VjWUmZVZGR4H8Nc2YZOGy5DL3TqQaA9HUpGHwrHt+9Rjkewrxmbn9JQisxiDU+9yetrTGb3TEYJN+tGz+TqLjwbzigis0M2dhYFCJ7PqKLmbZcrW6NBlL3rm1j6xjyaD+ILV6RzE2smBQhiGGX2iYfgQmqrFosWg+eVqz41rCLs/fRrUWu4r+IhO5QXHfn09dC/jYeOopDynprJxMg2iWENGvVF5vmUowZckSHsv90ROKWtATzXZ3Gn9514XyHKg+Tq/XveH9Kh2bSTjbeqMeNM5NI2BWfAYH0MktsXPRoIx2lwRvRITrZMo9cF93DPCSjsiqypB1IAyVj4fGba3IVEtPwhHTdBCPGezkliM/Qn0i4xZy/7cWKOzvw8+w7uBZ+AovrVZRFpUZZejxw5R7t8K6ScQ8ZqbNJE+2+hKGYU/TrG7F4KVVvD++nobz6kUyXNx6E1+hyHb5eQpRRr0oN/1uYYIh0YIkSG4EIqPxqcKkRiQ2WDQeFRKlym0kpZPCAlkjDeZMG6UdQJXQpUkMmVzoQOr5SWNmPtLx1pGE15Mm1fepw0XYz9+xcm3mUu9VKwS35Z0apApVPGcRlsDFN9C/gdhclodJaEoKbdSpM6RtGIVDBJFo+DsVDAVaf4abejrHv97hrd3XwtNT7cA+YfX8m06LpkQMIdFq6p+y2DZ08KVZy4JBJ9afTOuG5I3C5F9grPHAqPt1U+yJtv8+JtJmzeNZ9ZKIExTUS46iVa7K+S05OwjGISiEWnJSISk9YjcfhmZkMy9ict0CJ82JUPKB542ohJhgaGTCciNgoKiZEUA4AWAMAwGKEhQ4eFrvUEljXSesjEywrLfhB6VYrUJSfiuKMILKzYZWUzaBJwIWnN/TyussotvLLUKm6DDlavb9xkLMhOS8vGonEp6elJmeiMdiUz1IU6Vr/Gnzzij0UVKslHTgoUMCZQdMkPCmgUDQOAkJJChoFAkHEHjBgcWeWEhISaQh4sSJa53VHrJToit2jdlqobVXhLUoLtp6mqKuaSe2mWGS2TWTnVPup5jQtX5KWt3JKclZC5LzctP16lqxX/+608239RZUS+YEX3iahkRKEHjBAaKBIcNCQgEBIeaEnHA4YFhogUGjxYLLICBI44gosoglZCXrczTJG0+0/1OEC9D9nbJVWuy6dV+KyyXmIp5R/kmyXMmxURNlTIyBM2DYqLjoqGy4fOjap9mzLMEZNaoQcIElIMOEkBBo0aUGGBQ0YOCggKDBoUCggEBYwcFDQ0EBAk480o0sa8IYktfiksNdrlWeaVyzVG//rxTv2VXV5Zrf7apHbO6939kuyI/OtnTJURFTI6dExc6EQmJhE6dLn3yq6bt96RQ9HUXsKIYaEGiCzRpoLHBAaLCQkKCgwPDw0LHDhwWPCBoUJFihAs40QSIeWjhiSy11p5hP+b13+q/0yzInVFHaOV+/Vqj9FPK/WU+r7bqR+2XRN7Lvqlz7Z0uVbExU+bbMtiLYqydfX7e8Uzv+JqeeQMJHHGDxAcEhgUKDjAkFigQCh48eeGmjw48OGlBBJgwks45hjySGmIzp+VuzoiMX20273ynE3tlXO8/7MjtdHXbyJyfzleSfVU1299fi2buKv5K7ZVLkzJdddd9PlXWyPzqC/7M33SHuMa44g4aeNEjzQgQFjgoPEBg4KCBQcMChwsQPeFiDRZZBTnEMcSqfRROEvIa+hemwPS8mH/Yk2guZW+j28Pha0/IXB75E6SujS4BPEn8et56Tbz1Xu1f/JyVTwqjXfaxX5uksUkx9zlmscQMYOKKHqGiSjhIwgWIKcKEtGkiHDKY4ygwsU5oy0sbPF4uEoauyf+b2y1tTq7v3v1bd4LINPOEoLj7kSo86xKPfj3mEzvpThva1jfk2NikXv7W4xIi2cSMe47SGYQpRWHEScpyR4pNzVUvsXIIlv89PELlH3Pdu18sfKWVY7bDB8OG0vd1QRAoEbixFqBMMADIAUAZGHxA5E1m0no0+8TSveWJGG5QNTvV2adMq3NOhH3vqZZsqo9pXJEHJ1GuQuA2SyY9RH9aorbdIcfc8xY104TjqNK7voOAWmrF+KvJWc5+NKc88XUtT87O2H6O6aUFwTUUVgB/go+UqhNhedYQ4/4+AQU4X5WMbIR3OnyWOj5s/QqfHBQgtsmJAgMGVcn2FLiK9bxHRmPGwaiRmqKSpldgKQmAIbIEIdssh4mgfK4SBqmw/0ZpFKXX/Vx6MlinJ6bUqEiulJJVWM9AbC/0o9DMXEvrGgRJFJWJjp2LE4CRUAvDt3nKEMPl/eTh1FgJFpQvzi1/9fRddKVQiKzbOHQrFQd+yhZ24d9fwXIHLeJ8ip+5JTvHfbQhZftmY8fJnWZbCmKWpTavgktMoDvjFBMxHiNt0kOnEKCam6bdok5i32Iq4RwQ6y4SWfrdMCDIl8hpBEx0sSRwtkSy5qViIBXslaQCJ3IiAyrlkOk3FmZWbhMzPVyBNwgzw2Vtb/3I+RKIdfFSLjHKMvLOPt3JiHbrKpErkbUZJZrCb6ujG+uIiFSfxXrtQfdwgUfu60KedBmNUQZMMP7H6Wxk9ZH65fpHfGzZzAoiyFUaoNNwBHBxAcITGcCwWbkMahwyQrjuZRExIJ9aEhNM9atgp42z+zJjldjU+OWNSliSnphDURCvQmsFAjWWGDZOhNrs4E14YZFDVVZOCADDoiyqTrYxZCRjYfiFIfnvRoZq3Vg/+yTyfzfKXDW7zbSfyw2d1uCQSo8Pr09Bb7Y+nZVNtK4pLL2lQPY/33i85MkwFWOkA0IV8KcD5JKDGmoHa5kuNhvWt08MgOlPJCHRS1xofVH7dgRfeTONOWSvQM1zO4WG/q6aTuN9XeDktsrE17kOiCQKhC2Bi2g0Osu9aZHTfWDYjnxL7otjceQiTLkg/6TbMRQ4GqiHZrMcCT5ldJlUr3lJ94ZTdUap3Nr8PwVngFN56IqdJva19xu07gnxX+s9Wkq+k7ttfNVpbcToGwI8AMy2ojgOsEfTf6BLIZMTGFleeb5vAHASqaACVy1pM9xQvYGediN7x9p6JJjcSqtECPQgCwMTuxkmVCkVUDME0UBBEe/2S7olDcwWrBQJJMm/MhdskwwxkKvzCVjoVUJN3ZV1iIZmzNxtZdg/xP+MqGr8cJvkt4cj5FU0nnRORayfWvEUbi1uw3pSYXXZ73arpVZZn30NDymuilKYowYwEoZ0HjZ8bYEyCLwfBQHQsFfpjP/KtMYj2cUERHe19hIJs3NW+jMHVE9Zpi7gUDtqG8bZME+C3QzhJrWlCJZkkzwyYIj/7JTmN8ybRB/SF4fB6qAxarcPqxspkcFmSQOhknPMxDIOoRFlcfu4QpgIrLEtXCPSu9qT2t72pTerz+YHCXwQ2xzf4Zbq3XYzqCVLTrjyebF9ij6fqW1sxdtzy+1I3Q2hJgxcD7zYGQSZXZawhQPUsGPyPIjDPJJkh7TZ11oEA/N1JnwbXC1JhsHvBFIbBFpif2J4aK5ee+oZ4ky73luHuwciteHXeQoFamPclJfP7uI6vm5b/m08xKCoNDqRggBNpYN4Vij8wVQ+YBCGoE+xiCnz1XEyKcrPzKPExIE1zCZkiRJzRFqp/K4vEkeJHx+iaskjyHLUxViCHO+G16al9xUnmNgy4YFIQQwdRoSglCEUSiz8OXNxLVmmVsOmMXOEWWQkepSPQ0LuzTbo9DfZar7Z78/DMMxboZS7GjX2509jkQxuB2fBoMGAx+L/+MUIExZUAKX+rPxZ+c724vRO83f0sPZw9uL1yLSpPP4ciFvl6WF8/y8P10oDwM83K1OIaXEgrZFL+8pSRYTOFgKF73iHOTmZTb4bZLQeFyTxpdWsm5j4ixBd0qZ64572t7KuvXPyas7Hds/hqiA59Jda4+rUv6lPmBfDxCyI4FnM/FwhGTUvUIodrALyRfSwiAPwdYUcWsjvSLklVfRmNo9VbVDtNOGSYyZZtMaG8hCFSqK282owd1AicilpOFEluq7Lc3KI1UelW88iKzpNDw9yloba2ml48kn/5SLcRhZTXM8tFD8LiYY7iraZCclL7GNgqd6IKwTk5bryLjtzbkZXGwm+/GTzn33eSY34qKqLH1LsqGkr7pOmxvg1SUJiOW848U5kREWsNdQsPzWt1zrvQSqAmFC75V/EyzHH0avUirUSwazZNVcq+6X4/IxgxE80Rdp+ofHW0ap663ui1fvt46plTnK2YosiyTmvipXNJwrOHMeVzHVKNrdyYjBdYBbo1SFlhflwFP2KyE6uxQMSIEiV99fO5kZnXiwqa4ieXe3TFmYZQcbf6PP1B8diVcVdCJ0Nag0CFFIaMJ2joGgRYGdyNabb+JzykIK9lDZ/HG9ltEs/BPSxvDDDHL1h30XfYXpwZnknkRfPRZp2JHsxCagWuNmu5PRhfJBsm70XeiE/Oo5JFno8qAIJ9ejBxa30aRsY0dP2qT3K3u2hkIl91tSt7ZyyLwe7idxS3BLLjeaxlCBtnVlzJrXxFo2+QdS/NlD50M8UrdEHfRGScf+wxAlOh0y/3GNsuX6vg7ggCiHsCzHSE6A/LiVuyQfyMF2+6TJSTkMXjlBqin4B5OD072aounERzwulM8mEmeXiMQQxPfq9Ev9x5FbG+20noy+bSomarPTn+cFbcj67pd6wWcTGsvMOxfFS6OjNTVZxdIVBxuohukbidcqG1r3u+iO31ImteQjHQrIHL6cDTs0J8duDP3a79WfX+NLjsdC9t+Ilu+ZpucpXyQ8yOhyuKwMjQA8xS3AfHgwUdvH4nd9jkETaSsFQMUIVa8xwCk45Zyvpam9QFJft64YV/jzS8dldc2pkyCEUEx9odf/dpQ38fHYUghXV9rwL5GJBJxligJ5dYnnY/2rbRC6zoGVUEfrp0kpQqlueB/3Hg2sz5MhNtb8yP9EIUgoBoZuHg1yxZzvumexmXBqnbz3YMcl6tulmnUW6eVDkGvREk79PQnjyPIUACRFb2D6fRul0ciUmxPpk5BFiCbophWhBp1vGMyMeTTagz28QBQIHsgFpiwcU5lghkWlWK5N5CVM/hPvq99aW5+t9j/25XQj1WnqdXMbmIKy7qbbssnVlRemiPyejccJE/WKhBOTarBmHcGKkE0EBNJwDULp0El0Gxq2S2nLuJO0z5Lb0kf3r9D+qTukek61Aiz0TPy16wc0baf7uUVAjjODIAP2AFODINQtUMxEw5irtahTuhWiYfo+SdrAimd91jD+WCiDUyBYXxS3mRjhzgjNRePNgY9uRkh0xBP5F/YGdYf+28klomkpstY+f20uFhiWsRpSfzFS7YVROZ19sAsCkAhvVCCVszXngqZcF4IFPiK76AuoHgCJFVaukmKhvtTob7De3eS906BowF0zVHvd5FoWWJHzXKldsEc6tKdoziHKpUBvBNEaC1EKCqRzCkCqbgfo/et/Rh1GxyW5IA3tYbAdJxX6kBbFQsKRuquZmspTiYjJa+cBdry+W5YEs0kP03dCyR7PhLgdL1MqfaDiyN4OSUdJijhuM0asscOMlSuIKh44FzLAWw7TSBGp0SAYu2U8PaSHhXV5ea1IUbAklKTj6zRpwb7oh1Ush31NhdAkv/8eS/3upyFg3mi0CofBNBBdxZESbpgjyXSuIW4JyuSyt0Vsz0RAowkRN7yoXSCQfryWzWkUlcYudxXFFdYVBjTNc06JkUhaKhlYdVS/W2lNF9S+UtIjNErLG2O2hsboMiYqIH5Yt1ft7wxYVxHyxVSSbg6bSeQARgYRybKOs8HgLZEJT/tySWq1ZKgU6A2P9p/1PJ3EMmZCN92fg2+bhwn+50zrpHBRrbUK521Tv1BWupoIJ0OQsTRLkCo8IOz6xIcyqQ9PFJ/RbTLphCi/CUGL4TTy6XDNCKxnwVDsudLyRoKEbsy06/ZMT0dztR4N26YaUFGi/utle0ScFp+XiVDta+mwgTrMtlLFRz1pMCLTh1Mnt8RE3KzP0sCp1/BHAzC7zAkGvGgEoo32oinMqcBzw7jnDKyKI7x97cycEdB1MKL7RXv3vrlNm0KPtrc2snvIqy9Ly5zTwD9jD9TCaDCDQFYLg27FYQjVKaXZTQF8pOI/69BOcLpzrMA8LFSNjTzosJHnlELjCqb4mhXlm5HTrdblyF6G74q6QozSPt1EqEwYauNMsBYUYJ7ORBvMrbe/+4M9WjmilXV2eMmDUPgcAAPgP725OYwH8HwOrKTIRJJwut8vEyDT/1E8nfq5JNzCVqlXGKqUm4ZTWwyybyYy3LE/GRyqb4QVVQKt3CEF2zBqCUkheHE26GH4CsMqxAHZcMBDXtIgCmTt9UW1ATPlnkLZyRjR/uUVNkKC9crrXVMSKeOOjbpd5Fs0eV3Gg/6PLZ9ns6VAmc2k0/XyHguRIiFMhQ42K9s5ouiNXvxH2pnk2MqLRlc4XQWF9XE4RFtWKAWWZMJDnjIhp6glBH4w0FCVyM7mkdGuzvSAeygzSdhB6IMKGQ9dFrVlfbzUSrLp7RtQdJ5iT4Id5HsehqyYUtOeXQ9L3Hl+EohVM6OUrkqJX/1UrAh4TuZBQJKDvsqhQacbQmDCwwkTDAkyiUflIXdiRXxk6RNmaWyNpJ/OOPyPNiTKj+ZBCuotfVEm5F5yqs6nCV62ujomY578ahFHwGIOa+G6vinjQIbWD0TfFdGCS0Gx5uy0B/eORJUoNadqYas6HXh6+Nem0CFxJtqMb7OGCPLSbBxuKLirqw25UPAqMj96FlCaEowK6p2ITZUIl2bNesnOJU1qkFBpWbXNW5wL+KvQgRk2YbDGO+fWdNLDPlObeAjQoO+wr39ok0nUsa3JRBcMTEFTS6g9WxKKpxJgu4DQ3YA0mG1CBwJ7AIgQshZ7LCDgOUwyZo1j4Q/OGaXbFLxqrRsUtBzYIYLd1ZTcS2kM/rP8znO6AtUlANVAOysXAtNFOVGr4BECdcIQMhcNQwvMBBUGSNQIlo0UlzeU+ryUpM2GemcEMV1WaltHtrDVFddXIi17YKH5Z/VWtyohJIqZWCub6SjEi5lVTulKjSb6Rdt/gYLQgd7plSwGQSgNwAXBuZLDdgF4Bc/j5U7QhQE5gErJI9Ii9aM5eGqfASvkr1PnBjAayHLh2v4BCyGLxOzTie6IQ5zi+1mXBCwG+SRS2CUeWRry75hmyYXCwhTFCRAgNgw4VAtxBrrTBzgicW5m6hY7gaVRsQvHnOizcFuUNOvTuQLjSdmqb1VC2aStC0W5fW7zVCAW2QUzYUmMPwDSMWyuCADGIB1rBMc0Z1scxKRaFV/OXNEhovrHon/cmetBy/60fPaS+9CPESZuXfI0tL36d8yFpRU2d9ydxPWIutTtO8c5A22vT76MKxkfxIV9SJx1pDFK/pnj1uxMU/txEbLn4boFLVQqWM1SKt/VUv2dkUJo5o+ggqaYr/DBenFC8jMky+VQ8bylUhKVRRorIqkHk59MlgKmVaJKgyOLc5YOlaRYpctNodb4ouJHcEleMqWeeXn+dLGrjTlarspRJRbpD+Z1dn+2KtWUmQRqTJ2MTAXkxTaqBK37zsLJWE8iIM2crvCzVgpFl4e7pgMHk4lIQi2tLGBp8CVj+pHR7Kzd9S0Ro+1lir1REbr4jSNKxPt0Plna1IMwJNG/GuPoErTvbha/ncKUOfEw1mhJ9sKE0mBEGgrYLCa4YFRRMmQNnqm1+duwTG0mGdtnn36Wr6l1ItW4l24GeLJ1/6lmDSQYifOnQSTohwMdNL7TjOYDqXji1TjCkSKRVZFVIMY0EMlmJJ/Flw5xVVhkewAEQ9BSGwPEqcZgGUgtDw+F7B4XcKx01oNHDeI0RNVTJDU4kTopfFEDWdYgrp2Eap9U/7QRyzOhGmwSEUliPr+5VEwR48mtyZ4qULA+A03JshBZG6QiKE9OrC5KhVIbPG8SZOmEwuGDuR/TyYIr1GzSIfZ7aP2O2g9EGYnJKl8/a8KBrxm36XfsRQCEmIjtgXrsVs3R/P1OncfmYMiJ4AFJAAw6GPTKBCoMB0CFyVBwp8vuzPiAjsLEJdjwRErZ0zguoeTY28bIJr9o4GEWXfll9d0aj1aqnSJYMdeJGnKCZZBCLKiLEkngyFi5DKrT7m0+kG+KvHSY46QH1vkzGCOakXjZAiK0nq6orDvmAdLpWUVCJTjM1PGKez9chjr3psZPdfua6IJSkwbk5wvwMZ2wpVFVJONkwjqaHBjYURbh93U1LiInLpP5yxNOFQSr8YJFXjCpLySniEEOMBIfoQUNZyIPuHj4SGSltkG4pRgjZYTOJp+350w+0fYafSRoXyKGeZRmjXmTbDNECvqnfJ5KB/ULYIjZJssfXQCoogZNrM46sXGToDXAZTGQSCQMpqxWc+IXtVbZD3D3mJBTTrXBjXjJWMhiq+jgpfdNyRclaJFDskVSylXxCRWYbOr6EHn19SC3bLJLICDJYh5ia3FlqIL6YSfjexJtMgKmEDKial7b/FZ3Wb1Qin2Dr0y8frvf2j2vVUM4LC9FTH7I3sku7sZszIj+/aqF6qcnJApKOghEGJeuSC0QGOSK9oZ8iBOSnBC5MplZMK2nrEib1In3kDgcBE4oRHD23RzCA8SvjwYYyek0woo1Qs5Uarg1S4xugWbEM6IXJSoQhNiUPX8mbwx/VW9SjFmfsoZT31qJdhnqy9W9pIl4w7JV94NlNH0n/O0gRPiTsEiLqdPCK1XP7kSPxzm0IQmGLE0e8ioV7mns7c2mewGhbmZLdlemDsg2L8NIkuj7+RuXS1rvanWuE6Tj3pMJEvSwGjMFggICowQIjxoyezhAtdqfRadmEyB6NIWQg1LqY1H5gZutO0WUKorI7VSTcfGb0TzuV88dT04XgZT1/SIuKJo4KzjLxH8ESn4mUo6rFelUJ4TIjGUaZgtRDqhjZYVZU8If/50cU/x1IUKjCLbCGYljJbm2G1hwj7xU5M8rjmzVZVyY2sgfNSVGm0hiZSUapGxp+bDpBIuU3ktOdMtOkt1zTl7yIxIW2rVL9lCdVLN2VUw24Zuoz5UDCc//4xQgUAxL/yxEgsxlHUWiHj5fxx67PVvYxyqddViggqRTygJFLKlyPAgJIhFEYDjXf6PKVieebfiteukKnR9sWHhEC5s00jaj5uFM8QzPF7OCmAmG7B4Wy6VVislZMufbg5ad81ggo1GOkOUUa0t0n9BDs03W6pYr1N2xQlZXciDELuHEMtz4lrZc7nTBDJGSkpEj2Mrr1MGkukWd2t1+Km3ZJezWKhCydbcjokl8vdxB8VgPHqip+RJD5k79AsQKgmIkgowqyYwQ5oHg3QIAqmg2RwcsHvEA6LpThAyRotJgYQJBp9q5tyrb+hBVi34KZpNihBJcMUtvDhltcHGEgsulUtfoch8OVbfmlROCDiO8tMFWmY6dJJPPf1v9dCFNSggMFKhKenmZiCpWagiB5PDiFtlEvthiGpuLIOR7YUpOpTUbN9Dy2pwQOQ/4KCHX7HZ79nsab+FKyv5nYqd2IS9tJ1b3/ymc0TZHHDikQT9OIj/ZiS23ketpM87K7sr1BQqCxr+MZhq0pS3ZmlrhhBEWnWFOpHYww5zEZ+bs1mlyUUjzxOkHOKKpZ56TAoyR4euGIVEtWukFIWLPS5VQW2DjiCEV70oGBXLEvhxBlNPNTqHGS0aNSgQIx7ZruhlNEk6hlkiSarkVFNXLBhlJXaGKVkXc04pVtJhgo6P/4VymKolclHOpJZK84jT7n7AIGg4UXGNXOq8wgjBQoqDDCDOUrxGG7i8hmEgpxahpbnWDBjY46+M1opbBPedy5CbnP+hiKsl61hAyXpvayNM2nfsZNtNdsltZKt+lQyE3f0QhPm2zDIi32aM253dho7++5L4/13vrxMhI7lfZiK/1lTeztvbf1BgDjUQAgAAwMAEeYWFBsmBogQSoK4QBBIizRyCkJogi0WJLImDOBLbGNykSeIkESkIV79EEv8hBBHmNmRLtz8mMwZ63wNueoQhWhxJSUvLyEJULOjBu0ERSx1m90ivtpHy0skuRFFJLMZRBBCIAkReZM2RRCIfQmaLolI9kJ/R0muzjPhm1PZom9ac6SYWuabeTJCO3wiVwuySfOoJJxEiETYvEQmE0yWuEZclYmyKeVnct4+0RlJvIiPYlwtMtE1LUZFlIyrzVo5pbarg+GyMSSjxSEyUPo0KKWulF+SKXoTIF6W+gpx5mkiEk2vCIkIJ7E4Uku9I7cdpuSqfLuElS6hU6bkUtSFmnISKt2J7ROFmUWGSPRkoVQ2LpJ1VeFCOsxE4i9SvaaJV/zC4vFToTCFokYklIiOkiMtUjJxLiekmjJaRvWeU0zU3NyVOr9LKO4tSVHPSRUvzUWJVyI1S9KlI1CGosSxJRTSWQtypBJRSx7lVLJV7K4l+Wlpxio13ThKx8n5F+zK5y6JP+YiQ0QrJZwuMqi7Oki4pr8JGkt3QrKjpTVeTUJJiRrkUJsTjSkfQmp6VKXtak1uapu8p/BMuk40sVM0Ty+lnjidKWpoo5IIZQ5KREi7JkqytMRVJBbyWTko6ztBVOEiNYlpPOFpWnslwjFc5lNI8nklpMIz6kyFWPJ6CI6dy3oySxkmFa+9L5hOYibCNKXiP7FIWoul5LMi0jRFqVIriyrkpZkWZTyUU/U7eTiZO/M4UtW8iOJUqlNIizFjxiOEyK2pKRLEa9xIi21NUS2yEdIk6VaJxNTUNFZUU0mqmqaSTS9LlIhlKpHIpEdMkxDjaUaSyZqKLKnIv8TJknkmi0sjLLZac1ThSy/VFcVVoX2iy6iCfXrslVWOniL7JpOEin2msRL2tLCbK2jKktycVzdNpqimlaFlNI2iuJlqtLyLqepFJWpbhXSNKyLSG2l2yI1O7KfU2EmEbETTqKXBYyziorW+KLF7I5LlocjiajFnZGqLqhvULa4c8VVaO0JGeiOFk4p0iFqodYkSraWJC+TRIrJVK6lV29Gu+JH2Ko39ZbpT6Rwmmijk4qpMonKq3FKVlFGlqknUo0Uo8VQqjvSWKrJ6oppbSVrQnJw2l1eI8SYjLtFUxfeU1TZclMI1cJWtV7MtEqR7W/iTvv7S2oS2mJq7inkkcVyaipInClmTSXT+omUL0vSRNTlWlC8qLMlXL2qVCTq14mkS1008qyNovvKWLKeEgyTxZyJSrITS0+k4UsczJUr0a5QvLloRcmzytBcjdBXCGvLEplmSOKlaXaORZd+TScaziRExFrfRXl3NUkVnyXxS0hiW19ZdZHKU0WUSVS7SUlvoltFymsbbSyn2tJVLZOSb49ERXtaMVSTysWrTVOURSPYsy5fKUUuTUi1CbF+i1svuqJSn9oWxTSfEk1hskoTpLpFLU6ScSt61EMRDK5J2kpkka8n3FDn6rU0SWlGmlD9OP/4dQgVBJ8VEv/6AGsTkTT1ohov0UJz6zJZIRqFNSYpaaaLUTcuELY/2lrW61EXUZaLS49FEusppJZcXsk0kmra1T5rZVCNNQk1bSp+9RRHPmKJZ/JNJpEnLhXFkqOklFSUXFks+ZJMufZX2E2ojWQlmZ3oQv9JpkpVNO1FQj1EQvNlxJLKCG4qlOTS+K7NAloKGUi7mmiCM+wuT84hKZDnZFI40+y0SFnH2KArJtUlxLqXtEV28LWC3iqbsUIlwzUKNpJILWzC0Wb3oss/iQlxnhOFFlmRQ/lSxOSSaSvisnToj8qEmkJLXMpNCipkavCvXzpxE9lCh1WvQ6L6OiJUb3Qst4RtGUi6mTCz0hKSd2QWOxctrOBJJt9K/fBJdqaRdgTVJ70KFwZwQsWYpwmjX/ISM2gmsY4RZCsxkKRZCokWcm1aWDGWST/5UjblBCIdWqF5CtBFh7sIkjaIyEFOMpIUbRiIno9KXjD4miENgptK0Uhubek1xIoNAjxCLeKwUKNgzYkrhvEhM0tSWJHkJEzKWiJviXN2TlDGkhaIm9hEiVSclPY2hBJYaaoXJKYiKN7lQiZ0iBIm65NjAmusx8siPREVRHCTIhq7nw==\" type=\"audio/flac\" />\n",
       "                    Your browser does not support the audio element.\n",
       "                </audio>\n",
       "              "
      ],
      "text/plain": [
       "<IPython.lib.display.Audio object>"
      ]
     },
     "execution_count": 14,
     "metadata": {},
     "output_type": "execute_result"
    }
   ],
   "source": [
    "from IPython.display import Audio\n",
    "import random\n",
    "\n",
    "file_id = random.choice([f[:-len(\".flac\")] for f in flac_files])\n",
    "flac_file_path, txt_file_path = os.path.join(data_dir, f\"{file_id}.flac\"), os.path.join(data_dir, \"2428-83705.trans.txt\")\n",
    "\n",
    "print(\"Text Transcription:\", read_txt_file(txt_file_path)[file_id], \"\\nAudio:\")\n",
    "Audio(filename=flac_file_path)"
   ]
  },
  {
   "cell_type": "markdown",
   "metadata": {
    "id": "M8jJ7Ed81p_A"
   },
   "source": [
    "现在，我们将结合所有语音和文本样本，并为该目的定义函数（在下一个单元中）。"
   ]
  },
  {
   "cell_type": "code",
   "execution_count": 15,
   "metadata": {
    "execution": {
     "iopub.execute_input": "2022-12-14T22:30:04.013967Z",
     "iopub.status.busy": "2022-12-14T22:30:04.013732Z",
     "iopub.status.idle": "2022-12-14T22:30:04.019481Z",
     "shell.execute_reply": "2022-12-14T22:30:04.018786Z"
    },
    "id": "MI-5YCzaTsei"
   },
   "outputs": [],
   "source": [
    "def fetch_sound_text_mapping(data_dir):\n",
    "  all_files = os.listdir(data_dir)\n",
    "\n",
    "  flac_files = [os.path.join(data_dir, f) for f in all_files if f.endswith(\".flac\")]\n",
    "  txt_files = [os.path.join(data_dir, f) for f in all_files if f.endswith(\".txt\")]\n",
    "\n",
    "  txt_samples = {}\n",
    "  for f in txt_files:\n",
    "    txt_samples.update(read_txt_file(f))\n",
    "\n",
    "  speech_samples = {}\n",
    "  for f in flac_files:\n",
    "    speech_samples.update(read_flac_file(f))\n",
    "\n",
    "  assert len(txt_samples) == len(speech_samples)\n",
    "\n",
    "  samples = [(speech_samples[file_id], txt_samples[file_id]) for file_id in speech_samples.keys() if len(speech_samples[file_id]) < AUDIO_MAXLEN]\n",
    "  return samples"
   ]
  },
  {
   "cell_type": "markdown",
   "metadata": {
    "id": "mx95Lxvu0nT4"
   },
   "source": [
    "是时候看看几个样本了..."
   ]
  },
  {
   "cell_type": "code",
   "execution_count": 16,
   "metadata": {
    "execution": {
     "iopub.execute_input": "2022-12-14T22:30:04.022765Z",
     "iopub.status.busy": "2022-12-14T22:30:04.022516Z",
     "iopub.status.idle": "2022-12-14T22:30:04.113167Z",
     "shell.execute_reply": "2022-12-14T22:30:04.112514Z"
    },
    "id": "_Ls7X_jqIz4R"
   },
   "outputs": [
    {
     "data": {
      "text/plain": [
       "[(array([0.00054932, 0.00033569, 0.00021362, ..., 0.00061035, 0.00054932,\n",
       "         0.00048828]),\n",
       "  'BUT IT IS QUITE PLAIN TO ME THAT ALL THE ARRANGEMENTS FOR MY WEDDING ARE GOING TO BE MADE BY THE SNELLINGS'),\n",
       " (array([-6.10351562e-05, -6.10351562e-05, -3.05175781e-05, ...,\n",
       "         -2.13623047e-04, -9.15527344e-05, -3.05175781e-05]),\n",
       "  'I CANNOT PRETEND TO EXPLAIN WHY EXCEPT ON THE SUPPOSITION THAT ROMANCE IS DEAD AT LEAST IN THAT CIRCLE OF SOCIETY IN WHICH THE SNELLINGS MOVE'),\n",
       " (array([ 3.05175781e-04,  3.05175781e-05, -1.83105469e-04, ...,\n",
       "          7.62939453e-04,  6.10351562e-04,  5.79833984e-04]),\n",
       "  \"OF COURSE THERE ARE SOME PEOPLE WITH WHOM YOU CAN'T BE PERFECTLY PLAIN BUT I SHALL BE AS PLAIN AS I CAN THERE'S A WAY AND A MANNER OF DOING THAT KIND OF THING\"),\n",
       " (array([-0.00018311, -0.00021362, -0.00021362, ...,  0.00073242,\n",
       "          0.0007019 ,  0.00057983]),\n",
       "  \"I HAVE DRAWN UP A LIST OF ALL THE PEOPLE WHO OUGHT TO GIVE US A PRESENT AND I SHALL TELL THEM WHAT THEY OUGHT TO GIVE IT WON'T BE MY FAULT IF I DON'T GET IT\"),\n",
       " (array([-0.00027466, -0.00033569, -0.00036621, ...,  0.00021362,\n",
       "          0.        ,  0.        ]),\n",
       "  'THERE SHE OWNS A COTTAGE OR IT MAY BE A PIGSTYE FOR ALL I KNOW')]"
      ]
     },
     "execution_count": 16,
     "metadata": {},
     "output_type": "execute_result"
    }
   ],
   "source": [
    "samples = fetch_sound_text_mapping(data_dir)\n",
    "samples[:5]"
   ]
  },
  {
   "cell_type": "markdown",
   "metadata": {
    "id": "TUjhSWfsnlCL"
   },
   "source": [
    "注：我们将此数据加载到内存中是因为我们在本笔记本中只处理少量数据集。但是对于基于完整数据集（约 300 GB）的训练，您必须延迟加载数据。您可以参考[此脚本](https://github.com/vasudevgupta7/gsoc-wav2vec2/blob/main/src/data_utils.py)以了解更多相关信息。"
   ]
  },
  {
   "cell_type": "markdown",
   "metadata": {
    "id": "xg8Zia1kzw0J"
   },
   "source": [
    "现在，让我们对数据进行预处理！！！\n",
    "\n",
    "我们先使用 `gsoc-wav2vec2` 包定义分词器 (tokenizer) 和处理器 (processor)。然后，我们将进行非常简单的预处理。`processor` 将根据帧轴对原始语音进行标准化，`tokenizer` 会将我们的模型输出转换为字符串（使用定义的词汇表）并负责删除特殊标记（取决于您的分词器配置）。"
   ]
  },
  {
   "cell_type": "code",
   "execution_count": 17,
   "metadata": {
    "execution": {
     "iopub.execute_input": "2022-12-14T22:30:04.117091Z",
     "iopub.status.busy": "2022-12-14T22:30:04.116452Z",
     "iopub.status.idle": "2022-12-14T22:30:04.699122Z",
     "shell.execute_reply": "2022-12-14T22:30:04.697924Z"
    },
    "id": "gaat_hMLNVHF"
   },
   "outputs": [
    {
     "name": "stdout",
     "output_type": "stream",
     "text": [
      "Downloading `vocab.json` from https://github.com/vasudevgupta7/gsoc-wav2vec2/raw/main/data/vocab.json ... "
     ]
    },
    {
     "name": "stdout",
     "output_type": "stream",
     "text": [
      "DONE\n"
     ]
    }
   ],
   "source": [
    "from wav2vec2 import Wav2Vec2Processor\n",
    "tokenizer = Wav2Vec2Processor(is_tokenizer=True)\n",
    "processor = Wav2Vec2Processor(is_tokenizer=False)\n",
    "\n",
    "def preprocess_text(text):\n",
    "  label = tokenizer(text)\n",
    "  return tf.constant(label, dtype=tf.int32)\n",
    "\n",
    "def preprocess_speech(audio):\n",
    "  audio = tf.constant(audio, dtype=tf.float32)\n",
    "  return processor(tf.transpose(audio))"
   ]
  },
  {
   "cell_type": "markdown",
   "metadata": {
    "id": "GyKl8QP-zRFC"
   },
   "source": [
    "现在，我们将定义 python 生成器来调用我们在上面的单元中定义的预处理函数。"
   ]
  },
  {
   "cell_type": "code",
   "execution_count": 18,
   "metadata": {
    "execution": {
     "iopub.execute_input": "2022-12-14T22:30:04.703332Z",
     "iopub.status.busy": "2022-12-14T22:30:04.702819Z",
     "iopub.status.idle": "2022-12-14T22:30:04.706864Z",
     "shell.execute_reply": "2022-12-14T22:30:04.706320Z"
    },
    "id": "PoQrRalwMpQ6"
   },
   "outputs": [],
   "source": [
    "def inputs_generator():\n",
    "  for speech, text in samples:\n",
    "    yield preprocess_speech(speech), preprocess_text(text)"
   ]
  },
  {
   "cell_type": "markdown",
   "metadata": {
    "id": "7Vlm3ySFULsG"
   },
   "source": [
    "## 设置`tf.data.Dataset`\n",
    "\n",
    "以下单元将使用 `tf.data.Dataset` 对象的 `.from_generator(...)` 方法设置该对象。我们将使用上面的单元中定义的 `generator` 对象。\n",
    "\n",
    "**注：**对于分布式训练（尤其是 TPU 上的训练），`.from_generator(...)` 目前不起作用，建议使用以 `.tfrecord` 格式存储的数据进行训练（注意：理想情况下，TFRecord 应存储在 GCS 存储分区中，以使 TPU 发挥最大作用）。\n",
    "\n",
    "有关如何将 LibriSpeech 数据转换为 tfrecord 的更多详细信息，可以参考[此脚本](https://github.com/vasudevgupta7/gsoc-wav2vec2/blob/main/src/make_tfrecords.py)。"
   ]
  },
  {
   "cell_type": "code",
   "execution_count": 19,
   "metadata": {
    "execution": {
     "iopub.execute_input": "2022-12-14T22:30:04.710709Z",
     "iopub.status.busy": "2022-12-14T22:30:04.710171Z",
     "iopub.status.idle": "2022-12-14T22:30:04.748267Z",
     "shell.execute_reply": "2022-12-14T22:30:04.747646Z"
    },
    "id": "LbQ_dMwGO62h"
   },
   "outputs": [],
   "source": [
    "output_signature = (\n",
    "    tf.TensorSpec(shape=(None),  dtype=tf.float32),\n",
    "    tf.TensorSpec(shape=(None), dtype=tf.int32),\n",
    ")\n",
    "\n",
    "dataset = tf.data.Dataset.from_generator(inputs_generator, output_signature=output_signature)"
   ]
  },
  {
   "cell_type": "code",
   "execution_count": 20,
   "metadata": {
    "execution": {
     "iopub.execute_input": "2022-12-14T22:30:04.752221Z",
     "iopub.status.busy": "2022-12-14T22:30:04.751484Z",
     "iopub.status.idle": "2022-12-14T22:30:04.763548Z",
     "shell.execute_reply": "2022-12-14T22:30:04.762968Z"
    },
    "id": "HXBbNsRyPyw3"
   },
   "outputs": [],
   "source": [
    "BUFFER_SIZE = len(flac_files)\n",
    "SEED = 42\n",
    "\n",
    "dataset = dataset.shuffle(BUFFER_SIZE, seed=SEED)"
   ]
  },
  {
   "cell_type": "markdown",
   "metadata": {
    "id": "9DAUmns3pXfr"
   },
   "source": [
    "我们会将数据集传递到多个批次中，因此让我们在以下单元中准备批次。现在，一个批次中的所有序列都应该填充到一个恒定的长度。为此，我们将使用 `.padded_batch(...)` 方法。"
   ]
  },
  {
   "cell_type": "code",
   "execution_count": 21,
   "metadata": {
    "execution": {
     "iopub.execute_input": "2022-12-14T22:30:04.766803Z",
     "iopub.status.busy": "2022-12-14T22:30:04.766553Z",
     "iopub.status.idle": "2022-12-14T22:30:04.775985Z",
     "shell.execute_reply": "2022-12-14T22:30:04.775352Z"
    },
    "id": "Okhko1IWRida"
   },
   "outputs": [],
   "source": [
    "dataset = dataset.padded_batch(BATCH_SIZE, padded_shapes=(AUDIO_MAXLEN, LABEL_MAXLEN), padding_values=(0.0, 0))"
   ]
  },
  {
   "cell_type": "markdown",
   "metadata": {
    "id": "A45CjQG5qSbV"
   },
   "source": [
    "加速器（如 GPU/TPU）非常快，数据加载（和预处理）经常成为训练过程中的瓶颈，因为数据加载部分在 CPU 上进行。这会明显增加训练时间，尤其是涉及大量在线预处理或从 GCS 存储分区在线流式传输数据时。为了解决这些问题，`tf.data.Dataset` 提供了 `.prefetch(...)` 方法。当模型对当前批次进行预测（在 GPU/TPU 上）时，该方法有助于并行准备接下来的几个批次（在 CPU 上）。"
   ]
  },
  {
   "cell_type": "code",
   "execution_count": 22,
   "metadata": {
    "execution": {
     "iopub.execute_input": "2022-12-14T22:30:04.779192Z",
     "iopub.status.busy": "2022-12-14T22:30:04.778640Z",
     "iopub.status.idle": "2022-12-14T22:30:04.783642Z",
     "shell.execute_reply": "2022-12-14T22:30:04.782955Z"
    },
    "id": "f-bKu2YjRior"
   },
   "outputs": [],
   "source": [
    "dataset = dataset.prefetch(tf.data.AUTOTUNE)"
   ]
  },
  {
   "cell_type": "markdown",
   "metadata": {
    "id": "Lqk2cs6LxVIh"
   },
   "source": [
    "由于本笔记本用于演示目的，因此我们将采用第一个 `num_train_batches` 并只使用它进行训练。不过，我们鼓励您使用整个数据集进行训练。同样，我们将只评估 `num_val_batches`。"
   ]
  },
  {
   "cell_type": "code",
   "execution_count": 23,
   "metadata": {
    "execution": {
     "iopub.execute_input": "2022-12-14T22:30:04.786828Z",
     "iopub.status.busy": "2022-12-14T22:30:04.786450Z",
     "iopub.status.idle": "2022-12-14T22:30:04.793383Z",
     "shell.execute_reply": "2022-12-14T22:30:04.792834Z"
    },
    "id": "z6GO5oYUxXtz"
   },
   "outputs": [],
   "source": [
    "num_train_batches = 10\n",
    "num_val_batches = 4\n",
    "\n",
    "train_dataset = dataset.take(num_train_batches)\n",
    "val_dataset = dataset.skip(num_train_batches).take(num_val_batches)"
   ]
  },
  {
   "cell_type": "markdown",
   "metadata": {
    "id": "CzAOI78tky08"
   },
   "source": [
    "## 模型训练\n",
    "\n",
    "为了训练我们的模型，我们将在使用 `.compile(...)` 编译模型后直接调用 `.fit(...)` 方法。"
   ]
  },
  {
   "cell_type": "code",
   "execution_count": 24,
   "metadata": {
    "execution": {
     "iopub.execute_input": "2022-12-14T22:30:04.796408Z",
     "iopub.status.busy": "2022-12-14T22:30:04.796155Z",
     "iopub.status.idle": "2022-12-14T22:30:04.807855Z",
     "shell.execute_reply": "2022-12-14T22:30:04.807284Z"
    },
    "id": "vuBY2sZElgwg"
   },
   "outputs": [],
   "source": [
    "model.compile(optimizer, loss=loss_fn)"
   ]
  },
  {
   "cell_type": "markdown",
   "metadata": {
    "id": "qswxafSl0HjO"
   },
   "source": [
    "上面的单元将设置我们的训练状态。现在我们可以使用 `.fit(...)` 方法开始训练。"
   ]
  },
  {
   "cell_type": "code",
   "execution_count": 25,
   "metadata": {
    "execution": {
     "iopub.execute_input": "2022-12-14T22:30:04.811146Z",
     "iopub.status.busy": "2022-12-14T22:30:04.810590Z",
     "iopub.status.idle": "2022-12-14T22:31:34.294838Z",
     "shell.execute_reply": "2022-12-14T22:31:34.294078Z"
    },
    "id": "vtuSfnj1l-I_"
   },
   "outputs": [
    {
     "name": "stdout",
     "output_type": "stream",
     "text": [
      "Epoch 1/3\n"
     ]
    },
    {
     "name": "stdout",
     "output_type": "stream",
     "text": [
      "WARNING:tensorflow:From /tmpfs/src/tf_docs_env/lib/python3.9/site-packages/tensorflow/python/ops/ctc_ops.py:1467: alias_inplace_add (from tensorflow.python.ops.inplace_ops) is deprecated and will be removed in a future version.\n",
      "Instructions for updating:\n",
      "Prefer tf.tensor_scatter_nd_add, which offers the same functionality with well-defined read-write semantics.\n"
     ]
    },
    {
     "name": "stderr",
     "output_type": "stream",
     "text": [
      "WARNING:tensorflow:From /tmpfs/src/tf_docs_env/lib/python3.9/site-packages/tensorflow/python/ops/ctc_ops.py:1467: alias_inplace_add (from tensorflow.python.ops.inplace_ops) is deprecated and will be removed in a future version.\n",
      "Instructions for updating:\n",
      "Prefer tf.tensor_scatter_nd_add, which offers the same functionality with well-defined read-write semantics.\n"
     ]
    },
    {
     "name": "stdout",
     "output_type": "stream",
     "text": [
      "WARNING:tensorflow:From /tmpfs/src/tf_docs_env/lib/python3.9/site-packages/tensorflow/python/ops/ctc_ops.py:1450: alias_inplace_update (from tensorflow.python.ops.inplace_ops) is deprecated and will be removed in a future version.\n",
      "Instructions for updating:\n",
      "Prefer tf.tensor_scatter_nd_update, which offers the same functionality with well-defined read-write semantics.\n"
     ]
    },
    {
     "name": "stderr",
     "output_type": "stream",
     "text": [
      "WARNING:tensorflow:From /tmpfs/src/tf_docs_env/lib/python3.9/site-packages/tensorflow/python/ops/ctc_ops.py:1450: alias_inplace_update (from tensorflow.python.ops.inplace_ops) is deprecated and will be removed in a future version.\n",
      "Instructions for updating:\n",
      "Prefer tf.tensor_scatter_nd_update, which offers the same functionality with well-defined read-write semantics.\n"
     ]
    },
    {
     "name": "stdout",
     "output_type": "stream",
     "text": [
      "WARNING:tensorflow:Gradients do not exist for variables ['wav2vec2/masked_spec_embed:0'] when minimizing the loss. If you're using `model.compile()`, did you forget to provide a `loss` argument?\n"
     ]
    },
    {
     "name": "stderr",
     "output_type": "stream",
     "text": [
      "WARNING:tensorflow:Gradients do not exist for variables ['wav2vec2/masked_spec_embed:0'] when minimizing the loss. If you're using `model.compile()`, did you forget to provide a `loss` argument?\n"
     ]
    },
    {
     "name": "stdout",
     "output_type": "stream",
     "text": [
      "WARNING:tensorflow:Gradients do not exist for variables ['wav2vec2/masked_spec_embed:0'] when minimizing the loss. If you're using `model.compile()`, did you forget to provide a `loss` argument?\n"
     ]
    },
    {
     "name": "stderr",
     "output_type": "stream",
     "text": [
      "WARNING:tensorflow:Gradients do not exist for variables ['wav2vec2/masked_spec_embed:0'] when minimizing the loss. If you're using `model.compile()`, did you forget to provide a `loss` argument?\n"
     ]
    },
    {
     "name": "stdout",
     "output_type": "stream",
     "text": [
      "WARNING:tensorflow:Gradients do not exist for variables ['wav2vec2/masked_spec_embed:0'] when minimizing the loss. If you're using `model.compile()`, did you forget to provide a `loss` argument?\n"
     ]
    },
    {
     "name": "stderr",
     "output_type": "stream",
     "text": [
      "WARNING:tensorflow:Gradients do not exist for variables ['wav2vec2/masked_spec_embed:0'] when minimizing the loss. If you're using `model.compile()`, did you forget to provide a `loss` argument?\n"
     ]
    },
    {
     "name": "stdout",
     "output_type": "stream",
     "text": [
      "WARNING:tensorflow:Gradients do not exist for variables ['wav2vec2/masked_spec_embed:0'] when minimizing the loss. If you're using `model.compile()`, did you forget to provide a `loss` argument?\n"
     ]
    },
    {
     "name": "stderr",
     "output_type": "stream",
     "text": [
      "WARNING:tensorflow:Gradients do not exist for variables ['wav2vec2/masked_spec_embed:0'] when minimizing the loss. If you're using `model.compile()`, did you forget to provide a `loss` argument?\n"
     ]
    },
    {
     "name": "stdout",
     "output_type": "stream",
     "text": [
      "\r",
      "      1/Unknown - 39s 39s/step - loss: 2043.3010"
     ]
    },
    {
     "name": "stdout",
     "output_type": "stream",
     "text": [
      "\b\b\b\b\b\b\b\b\b\b\b\b\b\b\b\b\b\b\b\b\b\b\b\b\b\b\b\b\b\b\b\b\b\b\b\b\b\b\b\b\b\b\b\b\b\b\b\b\r",
      "      2/Unknown - 41s 1s/step - loss: 1986.9722 "
     ]
    },
    {
     "name": "stdout",
     "output_type": "stream",
     "text": [
      "\b\b\b\b\b\b\b\b\b\b\b\b\b\b\b\b\b\b\b\b\b\b\b\b\b\b\b\b\b\b\b\b\b\b\b\b\b\b\b\b\b\b\b\b\b\b\b\r",
      "      3/Unknown - 42s 1s/step - loss: 1917.5804"
     ]
    },
    {
     "name": "stdout",
     "output_type": "stream",
     "text": [
      "\b\b\b\b\b\b\b\b\b\b\b\b\b\b\b\b\b\b\b\b\b\b\b\b\b\b\b\b\b\b\b\b\b\b\b\b\b\b\b\b\b\b\b\b\b\b\b\r",
      "      4/Unknown - 43s 1s/step - loss: 1632.3250"
     ]
    },
    {
     "name": "stdout",
     "output_type": "stream",
     "text": [
      "\b\b\b\b\b\b\b\b\b\b\b\b\b\b\b\b\b\b\b\b\b\b\b\b\b\b\b\b\b\b\b\b\b\b\b\b\b\b\b\b\b\b\b\b\b\b\b\r",
      "      5/Unknown - 44s 1s/step - loss: 1401.8875"
     ]
    },
    {
     "name": "stdout",
     "output_type": "stream",
     "text": [
      "\b\b\b\b\b\b\b\b\b\b\b\b\b\b\b\b\b\b\b\b\b\b\b\b\b\b\b\b\b\b\b\b\b\b\b\b\b\b\b\b\b\b\b\b\b\b\b\r",
      "      6/Unknown - 46s 1s/step - loss: 1259.0580"
     ]
    },
    {
     "name": "stdout",
     "output_type": "stream",
     "text": [
      "\b\b\b\b\b\b\b\b\b\b\b\b\b\b\b\b\b\b\b\b\b\b\b\b\b\b\b\b\b\b\b\b\b\b\b\b\b\b\b\b\b\b\b\b\b\b\b\r",
      "      7/Unknown - 47s 1s/step - loss: 1163.9901"
     ]
    },
    {
     "name": "stdout",
     "output_type": "stream",
     "text": [
      "\b\b\b\b\b\b\b\b\b\b\b\b\b\b\b\b\b\b\b\b\b\b\b\b\b\b\b\b\b\b\b\b\b\b\b\b\b\b\b\b\b\b\b\b\b\b\b\r",
      "      8/Unknown - 48s 1s/step - loss: 1054.1029"
     ]
    },
    {
     "name": "stdout",
     "output_type": "stream",
     "text": [
      "\b\b\b\b\b\b\b\b\b\b\b\b\b\b\b\b\b\b\b\b\b\b\b\b\b\b\b\b\b\b\b\b\b\b\b\b\b\b\b\b\b\b\b\b\b\b\b\r",
      "      9/Unknown - 49s 1s/step - loss: 1006.2002"
     ]
    },
    {
     "name": "stdout",
     "output_type": "stream",
     "text": [
      "\b\b\b\b\b\b\b\b\b\b\b\b\b\b\b\b\b\b\b\b\b\b\b\b\b\b\b\b\b\b\b\b\b\b\b\b\b\b\b\b\b\b\b\b\b\b\b\r",
      "     10/Unknown - 50s 1s/step - loss: 950.4785 "
     ]
    },
    {
     "name": "stdout",
     "output_type": "stream",
     "text": [
      "\b\b\b\b\b\b\b\b\b\b\b\b\b\b\b\b\b\b\b\b\b\b\b\b\b\b\b\b\b\b\b\b\b\b\b\b\b\b\b\b\b\b\b\b\b\b\r",
      "10/10 [==============================] - 56s 2s/step - loss: 950.4785 - val_loss: 392.1649\n"
     ]
    },
    {
     "name": "stdout",
     "output_type": "stream",
     "text": [
      "Epoch 2/3\n"
     ]
    },
    {
     "name": "stdout",
     "output_type": "stream",
     "text": [
      "\r",
      " 1/10 [==>...........................] - ETA: 12s - loss: 478.2284"
     ]
    },
    {
     "name": "stdout",
     "output_type": "stream",
     "text": [
      "\b\b\b\b\b\b\b\b\b\b\b\b\b\b\b\b\b\b\b\b\b\b\b\b\b\b\b\b\b\b\b\b\b\b\b\b\b\b\b\b\b\b\b\b\b\b\b\b\b\b\b\b\b\b\b\b\b\b\b\b\b\b\b\b\b\b\r",
      " 2/10 [=====>........................] - ETA: 9s - loss: 441.5326 "
     ]
    },
    {
     "name": "stdout",
     "output_type": "stream",
     "text": [
      "\b\b\b\b\b\b\b\b\b\b\b\b\b\b\b\b\b\b\b\b\b\b\b\b\b\b\b\b\b\b\b\b\b\b\b\b\b\b\b\b\b\b\b\b\b\b\b\b\b\b\b\b\b\b\b\b\b\b\b\b\b\b\b\b\b\r",
      " 3/10 [========>.....................] - ETA: 8s - loss: 460.3616"
     ]
    },
    {
     "name": "stdout",
     "output_type": "stream",
     "text": [
      "\b\b\b\b\b\b\b\b\b\b\b\b\b\b\b\b\b\b\b\b\b\b\b\b\b\b\b\b\b\b\b\b\b\b\b\b\b\b\b\b\b\b\b\b\b\b\b\b\b\b\b\b\b\b\b\b\b\b\b\b\b\b\b\b\b\r",
      " 4/10 [===========>..................] - ETA: 7s - loss: 487.4443"
     ]
    },
    {
     "name": "stdout",
     "output_type": "stream",
     "text": [
      "\b\b\b\b\b\b\b\b\b\b\b\b\b\b\b\b\b\b\b\b\b\b\b\b\b\b\b\b\b\b\b\b\b\b\b\b\b\b\b\b\b\b\b\b\b\b\b\b\b\b\b\b\b\b\b\b\b\b\b\b\b\b\b\b\b\r",
      " 5/10 [==============>...............] - ETA: 6s - loss: 551.8594"
     ]
    },
    {
     "name": "stdout",
     "output_type": "stream",
     "text": [
      "\b\b\b\b\b\b\b\b\b\b\b\b\b\b\b\b\b\b\b\b\b\b\b\b\b\b\b\b\b\b\b\b\b\b\b\b\b\b\b\b\b\b\b\b\b\b\b\b\b\b\b\b\b\b\b\b\b\b\b\b\b\b\b\b\b\r",
      " 6/10 [=================>............] - ETA: 4s - loss: 516.4395"
     ]
    },
    {
     "name": "stdout",
     "output_type": "stream",
     "text": [
      "\b\b\b\b\b\b\b\b\b\b\b\b\b\b\b\b\b\b\b\b\b\b\b\b\b\b\b\b\b\b\b\b\b\b\b\b\b\b\b\b\b\b\b\b\b\b\b\b\b\b\b\b\b\b\b\b\b\b\b\b\b\b\b\b\b\r",
      " 7/10 [====================>.........] - ETA: 3s - loss: 481.1186"
     ]
    },
    {
     "name": "stdout",
     "output_type": "stream",
     "text": [
      "\b\b\b\b\b\b\b\b\b\b\b\b\b\b\b\b\b\b\b\b\b\b\b\b\b\b\b\b\b\b\b\b\b\b\b\b\b\b\b\b\b\b\b\b\b\b\b\b\b\b\b\b\b\b\b\b\b\b\b\b\b\b\b\b\b\r",
      " 8/10 [=======================>......] - ETA: 2s - loss: 461.9820"
     ]
    },
    {
     "name": "stdout",
     "output_type": "stream",
     "text": [
      "\b\b\b\b\b\b\b\b\b\b\b\b\b\b\b\b\b\b\b\b\b\b\b\b\b\b\b\b\b\b\b\b\b\b\b\b\b\b\b\b\b\b\b\b\b\b\b\b\b\b\b\b\b\b\b\b\b\b\b\b\b\b\b\b\b\r",
      " 9/10 [==========================>...] - ETA: 1s - loss: 438.7438"
     ]
    },
    {
     "name": "stdout",
     "output_type": "stream",
     "text": [
      "\b\b\b\b\b\b\b\b\b\b\b\b\b\b\b\b\b\b\b\b\b\b\b\b\b\b\b\b\b\b\b\b\b\b\b\b\b\b\b\b\b\b\b\b\b\b\b\b\b\b\b\b\b\b\b\b\b\b\b\b\b\b\b\b\b\r",
      "10/10 [==============================] - ETA: 0s - loss: 432.3022"
     ]
    },
    {
     "name": "stdout",
     "output_type": "stream",
     "text": [
      "\b\b\b\b\b\b\b\b\b\b\b\b\b\b\b\b\b\b\b\b\b\b\b\b\b\b\b\b\b\b\b\b\b\b\b\b\b\b\b\b\b\b\b\b\b\b\b\b\b\b\b\b\b\b\b\b\b\b\b\b\b\b\b\b\b\r",
      "10/10 [==============================] - 17s 2s/step - loss: 432.3022 - val_loss: 501.2292\n"
     ]
    },
    {
     "name": "stdout",
     "output_type": "stream",
     "text": [
      "Epoch 3/3\n"
     ]
    },
    {
     "name": "stdout",
     "output_type": "stream",
     "text": [
      "\r",
      " 1/10 [==>...........................] - ETA: 11s - loss: 590.0826"
     ]
    },
    {
     "name": "stdout",
     "output_type": "stream",
     "text": [
      "\b\b\b\b\b\b\b\b\b\b\b\b\b\b\b\b\b\b\b\b\b\b\b\b\b\b\b\b\b\b\b\b\b\b\b\b\b\b\b\b\b\b\b\b\b\b\b\b\b\b\b\b\b\b\b\b\b\b\b\b\b\b\b\b\b\b\r",
      " 2/10 [=====>........................] - ETA: 9s - loss: 476.8541 "
     ]
    },
    {
     "name": "stdout",
     "output_type": "stream",
     "text": [
      "\b\b\b\b\b\b\b\b\b\b\b\b\b\b\b\b\b\b\b\b\b\b\b\b\b\b\b\b\b\b\b\b\b\b\b\b\b\b\b\b\b\b\b\b\b\b\b\b\b\b\b\b\b\b\b\b\b\b\b\b\b\b\b\b\b\r",
      " 3/10 [========>.....................] - ETA: 8s - loss: 442.4608"
     ]
    },
    {
     "name": "stdout",
     "output_type": "stream",
     "text": [
      "\b\b\b\b\b\b\b\b\b\b\b\b\b\b\b\b\b\b\b\b\b\b\b\b\b\b\b\b\b\b\b\b\b\b\b\b\b\b\b\b\b\b\b\b\b\b\b\b\b\b\b\b\b\b\b\b\b\b\b\b\b\b\b\b\b\r",
      " 4/10 [===========>..................] - ETA: 7s - loss: 455.4555"
     ]
    },
    {
     "name": "stdout",
     "output_type": "stream",
     "text": [
      "\b\b\b\b\b\b\b\b\b\b\b\b\b\b\b\b\b\b\b\b\b\b\b\b\b\b\b\b\b\b\b\b\b\b\b\b\b\b\b\b\b\b\b\b\b\b\b\b\b\b\b\b\b\b\b\b\b\b\b\b\b\b\b\b\b\r",
      " 5/10 [==============>...............] - ETA: 6s - loss: 411.1352"
     ]
    },
    {
     "name": "stdout",
     "output_type": "stream",
     "text": [
      "\b\b\b\b\b\b\b\b\b\b\b\b\b\b\b\b\b\b\b\b\b\b\b\b\b\b\b\b\b\b\b\b\b\b\b\b\b\b\b\b\b\b\b\b\b\b\b\b\b\b\b\b\b\b\b\b\b\b\b\b\b\b\b\b\b\r",
      " 6/10 [=================>............] - ETA: 4s - loss: 396.5692"
     ]
    },
    {
     "name": "stdout",
     "output_type": "stream",
     "text": [
      "\b\b\b\b\b\b\b\b\b\b\b\b\b\b\b\b\b\b\b\b\b\b\b\b\b\b\b\b\b\b\b\b\b\b\b\b\b\b\b\b\b\b\b\b\b\b\b\b\b\b\b\b\b\b\b\b\b\b\b\b\b\b\b\b\b\r",
      " 7/10 [====================>.........] - ETA: 3s - loss: 379.8708"
     ]
    },
    {
     "name": "stdout",
     "output_type": "stream",
     "text": [
      "\b\b\b\b\b\b\b\b\b\b\b\b\b\b\b\b\b\b\b\b\b\b\b\b\b\b\b\b\b\b\b\b\b\b\b\b\b\b\b\b\b\b\b\b\b\b\b\b\b\b\b\b\b\b\b\b\b\b\b\b\b\b\b\b\b\r",
      " 8/10 [=======================>......] - ETA: 2s - loss: 385.5381"
     ]
    },
    {
     "name": "stdout",
     "output_type": "stream",
     "text": [
      "\b\b\b\b\b\b\b\b\b\b\b\b\b\b\b\b\b\b\b\b\b\b\b\b\b\b\b\b\b\b\b\b\b\b\b\b\b\b\b\b\b\b\b\b\b\b\b\b\b\b\b\b\b\b\b\b\b\b\b\b\b\b\b\b\b\r",
      " 9/10 [==========================>...] - ETA: 1s - loss: 386.1353"
     ]
    },
    {
     "name": "stdout",
     "output_type": "stream",
     "text": [
      "\b\b\b\b\b\b\b\b\b\b\b\b\b\b\b\b\b\b\b\b\b\b\b\b\b\b\b\b\b\b\b\b\b\b\b\b\b\b\b\b\b\b\b\b\b\b\b\b\b\b\b\b\b\b\b\b\b\b\b\b\b\b\b\b\b\r",
      "10/10 [==============================] - ETA: 0s - loss: 383.9614"
     ]
    },
    {
     "name": "stdout",
     "output_type": "stream",
     "text": [
      "\b\b\b\b\b\b\b\b\b\b\b\b\b\b\b\b\b\b\b\b\b\b\b\b\b\b\b\b\b\b\b\b\b\b\b\b\b\b\b\b\b\b\b\b\b\b\b\b\b\b\b\b\b\b\b\b\b\b\b\b\b\b\b\b\b\r",
      "10/10 [==============================] - 17s 2s/step - loss: 383.9614 - val_loss: 337.3086\n"
     ]
    },
    {
     "data": {
      "text/plain": [
       "{'loss': [950.478515625, 432.3021545410156, 383.96142578125],\n",
       " 'val_loss': [392.1649475097656, 501.22918701171875, 337.30859375]}"
      ]
     },
     "execution_count": 25,
     "metadata": {},
     "output_type": "execute_result"
    }
   ],
   "source": [
    "history = model.fit(train_dataset, validation_data=val_dataset, epochs=3)\n",
    "history.history"
   ]
  },
  {
   "cell_type": "markdown",
   "metadata": {
    "id": "ySvp8r2E1q_V"
   },
   "source": [
    "让我们使用 `.save(...)` 方法保存模型，以便稍后执行推断。您还可以按照 [TFHub 文档](https://tensorflow.google.cn/hub/publish)将此 SavedModel 导出到 TFHub。"
   ]
  },
  {
   "cell_type": "code",
   "execution_count": 26,
   "metadata": {
    "execution": {
     "iopub.execute_input": "2022-12-14T22:31:34.298742Z",
     "iopub.status.busy": "2022-12-14T22:31:34.298250Z",
     "iopub.status.idle": "2022-12-14T22:31:45.918179Z",
     "shell.execute_reply": "2022-12-14T22:31:45.917443Z"
    },
    "id": "C0KEYcwydwjF"
   },
   "outputs": [
    {
     "name": "stderr",
     "output_type": "stream",
     "text": [
      "WARNING:absl:Found untraced functions such as restored_function_body, restored_function_body, restored_function_body, restored_function_body, restored_function_body while saving (showing 5 of 342). These functions will not be directly callable after loading.\n"
     ]
    },
    {
     "name": "stdout",
     "output_type": "stream",
     "text": [
      "INFO:tensorflow:Assets written to: finetuned-wav2vec2/assets\n"
     ]
    },
    {
     "name": "stderr",
     "output_type": "stream",
     "text": [
      "INFO:tensorflow:Assets written to: finetuned-wav2vec2/assets\n"
     ]
    }
   ],
   "source": [
    "save_dir = \"finetuned-wav2vec2\"\n",
    "model.save(save_dir, include_optimizer=False)"
   ]
  },
  {
   "cell_type": "markdown",
   "metadata": {
    "id": "MkOpp9rZ211t"
   },
   "source": [
    "注：我们设置 `include_optimizer=False`，因为我们只想将此模型用于推断。"
   ]
  },
  {
   "cell_type": "markdown",
   "metadata": {
    "id": "SJfPlTgezD0i"
   },
   "source": [
    "## 评估\n",
    "\n",
    "现在我们将基于验证数据集计算词错误率\n",
    "\n",
    "**词错误率** (WER) 是衡量自动语音识别系统性能的常用指标。WER 源自适用于单词级别的 Levenshtein 距离。词错误率的计算方法为：WER = (S + D + I) / N = (S + D + I) / (S + D + C)，其中 S 是替换次数，D 是删除次数，I 是插入次数，C 是正确词数，N 是参考中的字数 (N=S+D+C)。该值表示被错误预测的单词的百分比。\n",
    "\n",
    "您可以参考[此论文](https://www.isca-speech.org/archive_v0/interspeech_2004/i04_2765.html)来了解有关 WER 的更多信息。"
   ]
  },
  {
   "cell_type": "markdown",
   "metadata": {
    "id": "Io_91Y7-r3xu"
   },
   "source": [
    "我们将使用 [HuggingFace 数据集](https://huggingface.co/docs/datasets/)库中的 `load_metric(...)` 函数。我们先使用 `pip` 安装 `datasets` 库，然后定义 `metric` 对象。"
   ]
  },
  {
   "cell_type": "code",
   "execution_count": 27,
   "metadata": {
    "execution": {
     "iopub.execute_input": "2022-12-14T22:31:45.922554Z",
     "iopub.status.busy": "2022-12-14T22:31:45.922163Z",
     "iopub.status.idle": "2022-12-14T22:31:53.873363Z",
     "shell.execute_reply": "2022-12-14T22:31:53.872632Z"
    },
    "id": "GW9F_oVDU1TZ"
   },
   "outputs": [
    {
     "name": "stderr",
     "output_type": "stream",
     "text": [
      "/tmpfs/tmp/ipykernel_102470/1786190190.py:4: FutureWarning: load_metric is deprecated and will be removed in the next major version of datasets. Use 'evaluate.load' instead, from the new library 🤗 Evaluate: https://huggingface.co/docs/evaluate\n",
      "  metric = load_metric(\"wer\")\n"
     ]
    },
    {
     "data": {
      "application/vnd.jupyter.widget-view+json": {
       "model_id": "82feeac607dc49f985e834ac9b55237a",
       "version_major": 2,
       "version_minor": 0
      },
      "text/plain": [
       "Downloading builder script:   0%|          | 0.00/1.90k [00:00<?, ?B/s]"
      ]
     },
     "metadata": {},
     "output_type": "display_data"
    }
   ],
   "source": [
    "!pip3 install -q datasets\n",
    "\n",
    "from datasets import load_metric\n",
    "metric = load_metric(\"wer\")"
   ]
  },
  {
   "cell_type": "code",
   "execution_count": 28,
   "metadata": {
    "execution": {
     "iopub.execute_input": "2022-12-14T22:31:53.877187Z",
     "iopub.status.busy": "2022-12-14T22:31:53.876430Z",
     "iopub.status.idle": "2022-12-14T22:31:53.881170Z",
     "shell.execute_reply": "2022-12-14T22:31:53.880600Z"
    },
    "id": "ssWXWc7CZvNB"
   },
   "outputs": [],
   "source": [
    "@tf.function(jit_compile=True)\n",
    "def eval_fwd(batch):\n",
    "  logits = model(batch, training=False)\n",
    "  return tf.argmax(logits, axis=-1)"
   ]
  },
  {
   "cell_type": "markdown",
   "metadata": {
    "id": "NFh1myg1x4ua"
   },
   "source": [
    "现在是时候根据验证数据进行评估了。"
   ]
  },
  {
   "cell_type": "code",
   "execution_count": 29,
   "metadata": {
    "execution": {
     "iopub.execute_input": "2022-12-14T22:31:53.884495Z",
     "iopub.status.busy": "2022-12-14T22:31:53.883883Z",
     "iopub.status.idle": "2022-12-14T22:32:02.346140Z",
     "shell.execute_reply": "2022-12-14T22:32:02.345371Z"
    },
    "id": "EQTFVjZghckJ"
   },
   "outputs": [
    {
     "data": {
      "application/vnd.jupyter.widget-view+json": {
       "model_id": "01be0071981b4a8a919e1f5e60cc4bd5",
       "version_major": 2,
       "version_minor": 0
      },
      "text/plain": [
       "  0%|          | 0/4 [00:00<?, ?it/s]"
      ]
     },
     "metadata": {},
     "output_type": "display_data"
    },
    {
     "name": "stderr",
     "output_type": "stream",
     "text": [
      "2022-12-14 22:31:54.557870: W tensorflow/compiler/tf2xla/kernels/random_ops.cc:57] Warning: Using tf.random.uniform with XLA compilation will ignore seeds; consider using tf.random.stateless_uniform instead if reproducible behavior is desired. model/keras_layer/StatefulPartitionedCall/StatefulPartitionedCall/wav2vec2/encoder/layers/0/stochastic_depth/random_uniform/RandomUniform\n"
     ]
    }
   ],
   "source": [
    "from tqdm.auto import tqdm\n",
    "\n",
    "for speech, labels in tqdm(val_dataset, total=num_val_batches):\n",
    "    predictions  = eval_fwd(speech)\n",
    "    predictions = [tokenizer.decode(pred) for pred in predictions.numpy().tolist()]\n",
    "    references = [tokenizer.decode(label, group_tokens=False) for label in labels.numpy().tolist()]\n",
    "    metric.add_batch(references=references, predictions=predictions)"
   ]
  },
  {
   "cell_type": "markdown",
   "metadata": {
    "id": "WWCc8qBesv3e"
   },
   "source": [
    "我们使用 `tokenizer.decode(...)` 方法将预测和标签解码回文本，并将它们添加到 metric 中，以便稍后计算 `WER`。"
   ]
  },
  {
   "cell_type": "markdown",
   "metadata": {
    "id": "XI_URj8Wtb2g"
   },
   "source": [
    "现在，我们在以下单元中计算 metric："
   ]
  },
  {
   "cell_type": "code",
   "execution_count": 30,
   "metadata": {
    "execution": {
     "iopub.execute_input": "2022-12-14T22:32:02.351164Z",
     "iopub.status.busy": "2022-12-14T22:32:02.350452Z",
     "iopub.status.idle": "2022-12-14T22:32:02.358538Z",
     "shell.execute_reply": "2022-12-14T22:32:02.357931Z"
    },
    "id": "a83wekLgWMod"
   },
   "outputs": [
    {
     "data": {
      "text/plain": [
       "1.0"
      ]
     },
     "execution_count": 30,
     "metadata": {},
     "output_type": "execute_result"
    }
   ],
   "source": [
    "metric.compute()"
   ]
  },
  {
   "cell_type": "markdown",
   "metadata": {
    "id": "c_cD1OgVEjl4"
   },
   "source": [
    "**注：**这里的 metric 值没有任何意义，因为模型是使用非常少的数据训练的，而类似 ASR 的任务通常需要大量数据来学习从语音到文本的映射。您也许应该基于大数据进行训练以获得好的结果。本笔记本提供了一个微调预训练语音模型的模板。"
   ]
  },
  {
   "cell_type": "markdown",
   "metadata": {
    "id": "G14o706kdTE1"
   },
   "source": [
    "## 推断\n",
    "\n",
    "现在，我们对训练过程感到满意并将模型保存在 `save_dir` 中，我们将了解如何使用该模型进行推断。\n",
    "\n",
    "首先，我们将使用 `tf.keras.models.load_model(...)` 加载模型。"
   ]
  },
  {
   "cell_type": "code",
   "execution_count": 31,
   "metadata": {
    "execution": {
     "iopub.execute_input": "2022-12-14T22:32:02.362132Z",
     "iopub.status.busy": "2022-12-14T22:32:02.361533Z",
     "iopub.status.idle": "2022-12-14T22:32:11.578536Z",
     "shell.execute_reply": "2022-12-14T22:32:11.577808Z"
    },
    "id": "wrTrExiUdaED"
   },
   "outputs": [
    {
     "name": "stdout",
     "output_type": "stream",
     "text": [
      "WARNING:tensorflow:No training configuration found in save file, so the model was *not* compiled. Compile it manually.\n"
     ]
    },
    {
     "name": "stderr",
     "output_type": "stream",
     "text": [
      "WARNING:tensorflow:No training configuration found in save file, so the model was *not* compiled. Compile it manually.\n"
     ]
    }
   ],
   "source": [
    "finetuned_model = tf.keras.models.load_model(save_dir)"
   ]
  },
  {
   "cell_type": "markdown",
   "metadata": {
    "id": "luodSroz20SR"
   },
   "source": [
    "让我们下载一些语音样本来进行推断。您也可以将以下样本替换为您的语音样本。"
   ]
  },
  {
   "cell_type": "code",
   "execution_count": 32,
   "metadata": {
    "execution": {
     "iopub.execute_input": "2022-12-14T22:32:11.646393Z",
     "iopub.status.busy": "2022-12-14T22:32:11.645943Z",
     "iopub.status.idle": "2022-12-14T22:32:12.341186Z",
     "shell.execute_reply": "2022-12-14T22:32:12.339968Z"
    },
    "id": "HUE0shded6Ej"
   },
   "outputs": [
    {
     "name": "stdout",
     "output_type": "stream",
     "text": [
      "--2022-12-14 22:32:11--  https://github.com/vasudevgupta7/gsoc-wav2vec2/raw/main/data/SA2.wav\r\n",
      "Resolving github.com (github.com)... 140.82.113.3\r\n",
      "Connecting to github.com (github.com)|140.82.113.3|:443... connected.\r\n"
     ]
    },
    {
     "name": "stdout",
     "output_type": "stream",
     "text": [
      "HTTP request sent, awaiting response... "
     ]
    },
    {
     "name": "stdout",
     "output_type": "stream",
     "text": [
      "301 Moved Permanently\r\n",
      "Location: https://github.com/thevasudevgupta/gsoc-wav2vec2/raw/main/data/SA2.wav [following]\r\n",
      "--2022-12-14 22:32:11--  https://github.com/thevasudevgupta/gsoc-wav2vec2/raw/main/data/SA2.wav\r\n",
      "Reusing existing connection to github.com:443.\r\n",
      "HTTP request sent, awaiting response... "
     ]
    },
    {
     "name": "stdout",
     "output_type": "stream",
     "text": [
      "302 Found\r\n",
      "Location: https://raw.githubusercontent.com/thevasudevgupta/gsoc-wav2vec2/main/data/SA2.wav [following]\r\n",
      "--2022-12-14 22:32:12--  https://raw.githubusercontent.com/thevasudevgupta/gsoc-wav2vec2/main/data/SA2.wav\r\n",
      "Resolving raw.githubusercontent.com (raw.githubusercontent.com)... 185.199.111.133, 185.199.110.133, 185.199.108.133, ...\r\n",
      "Connecting to raw.githubusercontent.com (raw.githubusercontent.com)|185.199.111.133|:443... connected.\r\n"
     ]
    },
    {
     "name": "stdout",
     "output_type": "stream",
     "text": [
      "HTTP request sent, awaiting response... "
     ]
    },
    {
     "name": "stdout",
     "output_type": "stream",
     "text": [
      "200 OK\r\n",
      "Length: 94252 (92K) [audio/wav]\r\n",
      "Saving to: ‘SA2.wav’\r\n",
      "\r\n",
      "\r",
      "SA2.wav               0%[                    ]       0  --.-KB/s               \r",
      "SA2.wav             100%[===================>]  92.04K  --.-KB/s    in 0.01s   \r\n",
      "\r\n",
      "2022-12-14 22:32:12 (6.25 MB/s) - ‘SA2.wav’ saved [94252/94252]\r\n",
      "\r\n"
     ]
    }
   ],
   "source": [
    "!wget https://github.com/vasudevgupta7/gsoc-wav2vec2/raw/main/data/SA2.wav"
   ]
  },
  {
   "cell_type": "markdown",
   "metadata": {
    "id": "ycBjU_U53FjL"
   },
   "source": [
    "现在，我们将使用 `soundfile.read(...)` 读取语音样本并将其填充到 `AUDIO_MAXLEN` 以符合模型签名。然后我们将使用 `Wav2Vec2Processor` 实例将该语音样本标准化并将其馈入模型。"
   ]
  },
  {
   "cell_type": "code",
   "execution_count": 33,
   "metadata": {
    "execution": {
     "iopub.execute_input": "2022-12-14T22:32:12.345952Z",
     "iopub.status.busy": "2022-12-14T22:32:12.345291Z",
     "iopub.status.idle": "2022-12-14T22:32:13.481781Z",
     "shell.execute_reply": "2022-12-14T22:32:13.481067Z"
    },
    "id": "z7CARje4d5_H"
   },
   "outputs": [
    {
     "data": {
      "text/plain": [
       "<tf.Tensor: shape=(1, 768, 32), dtype=float32, numpy=\n",
       "array([[[ 0.6918487 , -0.9387155 , -1.0434096 , ..., -0.5661708 ,\n",
       "         -0.6654788 , -0.23725727],\n",
       "        [ 0.62171304, -0.9108545 , -1.1502925 , ..., -0.53505874,\n",
       "         -0.6549468 , -0.2891952 ],\n",
       "        [ 0.6588618 , -0.9884922 , -1.1409014 , ..., -0.55896515,\n",
       "         -0.60972726, -0.2960359 ],\n",
       "        ...,\n",
       "        [ 0.54219365, -0.8249726 , -1.3309978 , ..., -0.2326689 ,\n",
       "         -0.7179676 , -0.56859434],\n",
       "        [ 0.53588253, -0.8336109 , -1.3327637 , ..., -0.23921491,\n",
       "         -0.70584655, -0.56336695],\n",
       "        [ 0.5281298 , -0.8327328 , -1.3418187 , ..., -0.24567655,\n",
       "         -0.70036346, -0.5704396 ]]], dtype=float32)>"
      ]
     },
     "execution_count": 33,
     "metadata": {},
     "output_type": "execute_result"
    }
   ],
   "source": [
    "import numpy as np\n",
    "\n",
    "speech, _ = sf.read(\"SA2.wav\")\n",
    "speech = np.pad(speech, (0, AUDIO_MAXLEN - len(speech)))\n",
    "speech = tf.expand_dims(processor(tf.constant(speech)), 0)\n",
    "\n",
    "outputs = finetuned_model(speech)\n",
    "outputs"
   ]
  },
  {
   "cell_type": "markdown",
   "metadata": {
    "id": "lUSttSPa30qP"
   },
   "source": [
    "我们使用上面定义的 `Wav2Vec2tokenizer` 实例将数字解码回文本序列。"
   ]
  },
  {
   "cell_type": "code",
   "execution_count": 34,
   "metadata": {
    "execution": {
     "iopub.execute_input": "2022-12-14T22:32:13.485824Z",
     "iopub.status.busy": "2022-12-14T22:32:13.485245Z",
     "iopub.status.idle": "2022-12-14T22:32:13.492595Z",
     "shell.execute_reply": "2022-12-14T22:32:13.491958Z"
    },
    "id": "RYdJqxQ4llgI"
   },
   "outputs": [
    {
     "data": {
      "text/plain": [
       "['O']"
      ]
     },
     "execution_count": 34,
     "metadata": {},
     "output_type": "execute_result"
    }
   ],
   "source": [
    "predictions = tf.argmax(outputs, axis=-1)\n",
    "predictions = [tokenizer.decode(pred) for pred in predictions.numpy().tolist()]\n",
    "predictions"
   ]
  },
  {
   "cell_type": "markdown",
   "metadata": {
    "id": "7DXC757bztJc"
   },
   "source": [
    "预测结果是相当随机的，因为本笔记本从未基于大数据训练模型（本笔记本并不适合进行完整训练）。如果您基于完整的 LibriSpeech 数据集训练此模型，您将获得良好的预测结果。\n",
    "\n",
    "终于，我们来到本笔记本的结尾。但这并不是学习 TensorFlow 执行语音相关任务的结束，此[仓库](https://github.com/tulasiram58827/TTS_TFLite)包含一些更精彩的教程。如果您在本笔记本中遇到任何错误，请[在此处](https://github.com/vasudevgupta7/gsoc-wav2vec2/issues)创建问题。"
   ]
  }
 ],
 "metadata": {
  "accelerator": "GPU",
  "colab": {
   "collapsed_sections": [
    "rWk8nL6Ui-_0",
    "wvuJL8-f0zn5",
    "oPp18ZHRtnq-",
    "1mvTuOXpwsQe",
    "7Vlm3ySFULsG",
    "CzAOI78tky08",
    "SJfPlTgezD0i",
    "G14o706kdTE1"
   ],
   "name": "wav2vec2_saved_model_finetuning.ipynb",
   "toc_visible": true
  },
  "kernelspec": {
   "display_name": "Python 3",
   "name": "python3"
  },
  "language_info": {
   "codemirror_mode": {
    "name": "ipython",
    "version": 3
   },
   "file_extension": ".py",
   "mimetype": "text/x-python",
   "name": "python",
   "nbconvert_exporter": "python",
   "pygments_lexer": "ipython3",
   "version": "3.9.16"
  },
  "widgets": {
   "application/vnd.jupyter.widget-state+json": {
    "state": {
     "01be0071981b4a8a919e1f5e60cc4bd5": {
      "model_module": "@jupyter-widgets/controls",
      "model_module_version": "2.0.0",
      "model_name": "HBoxModel",
      "state": {
       "_dom_classes": [],
       "_model_module": "@jupyter-widgets/controls",
       "_model_module_version": "2.0.0",
       "_model_name": "HBoxModel",
       "_view_count": null,
       "_view_module": "@jupyter-widgets/controls",
       "_view_module_version": "2.0.0",
       "_view_name": "HBoxView",
       "box_style": "",
       "children": [
        "IPY_MODEL_dcc500988eca4ea8bb4c6c9e70d7cc82",
        "IPY_MODEL_5ed57e853be5489da2815b93e429b2cb",
        "IPY_MODEL_4f0b95c48a0b4c738c96d7565dc2d3a6"
       ],
       "layout": "IPY_MODEL_920d1ea066234ae1ae1af2c66141f545",
       "tabbable": null,
       "tooltip": null
      }
     },
     "0200add695d64f0eabc6d628b360beaa": {
      "model_module": "@jupyter-widgets/base",
      "model_module_version": "2.0.0",
      "model_name": "LayoutModel",
      "state": {
       "_model_module": "@jupyter-widgets/base",
       "_model_module_version": "2.0.0",
       "_model_name": "LayoutModel",
       "_view_count": null,
       "_view_module": "@jupyter-widgets/base",
       "_view_module_version": "2.0.0",
       "_view_name": "LayoutView",
       "align_content": null,
       "align_items": null,
       "align_self": null,
       "border_bottom": null,
       "border_left": null,
       "border_right": null,
       "border_top": null,
       "bottom": null,
       "display": null,
       "flex": null,
       "flex_flow": null,
       "grid_area": null,
       "grid_auto_columns": null,
       "grid_auto_flow": null,
       "grid_auto_rows": null,
       "grid_column": null,
       "grid_gap": null,
       "grid_row": null,
       "grid_template_areas": null,
       "grid_template_columns": null,
       "grid_template_rows": null,
       "height": null,
       "justify_content": null,
       "justify_items": null,
       "left": null,
       "margin": null,
       "max_height": null,
       "max_width": null,
       "min_height": null,
       "min_width": null,
       "object_fit": null,
       "object_position": null,
       "order": null,
       "overflow": null,
       "padding": null,
       "right": null,
       "top": null,
       "visibility": null,
       "width": null
      }
     },
     "02380908bbaf49da9fc110aa6982d9a9": {
      "model_module": "@jupyter-widgets/controls",
      "model_module_version": "2.0.0",
      "model_name": "HBoxModel",
      "state": {
       "_dom_classes": [],
       "_model_module": "@jupyter-widgets/controls",
       "_model_module_version": "2.0.0",
       "_model_name": "HBoxModel",
       "_view_count": null,
       "_view_module": "@jupyter-widgets/controls",
       "_view_module_version": "2.0.0",
       "_view_name": "HBoxView",
       "box_style": "",
       "children": [
        "IPY_MODEL_dcc500988eca4ea8bb4c6c9e70d7cc82",
        "IPY_MODEL_5ed57e853be5489da2815b93e429b2cb",
        "IPY_MODEL_4f0b95c48a0b4c738c96d7565dc2d3a6"
       ],
       "layout": "IPY_MODEL_920d1ea066234ae1ae1af2c66141f545",
       "tabbable": null,
       "tooltip": null
      }
     },
     "078d131cebf64f2396709d395279899f": {
      "model_module": "@jupyter-widgets/base",
      "model_module_version": "2.0.0",
      "model_name": "LayoutModel",
      "state": {
       "_model_module": "@jupyter-widgets/base",
       "_model_module_version": "2.0.0",
       "_model_name": "LayoutModel",
       "_view_count": null,
       "_view_module": "@jupyter-widgets/base",
       "_view_module_version": "2.0.0",
       "_view_name": "LayoutView",
       "align_content": null,
       "align_items": null,
       "align_self": null,
       "border_bottom": null,
       "border_left": null,
       "border_right": null,
       "border_top": null,
       "bottom": null,
       "display": null,
       "flex": null,
       "flex_flow": null,
       "grid_area": null,
       "grid_auto_columns": null,
       "grid_auto_flow": null,
       "grid_auto_rows": null,
       "grid_column": null,
       "grid_gap": null,
       "grid_row": null,
       "grid_template_areas": null,
       "grid_template_columns": null,
       "grid_template_rows": null,
       "height": null,
       "justify_content": null,
       "justify_items": null,
       "left": null,
       "margin": null,
       "max_height": null,
       "max_width": null,
       "min_height": null,
       "min_width": null,
       "object_fit": null,
       "object_position": null,
       "order": null,
       "overflow": null,
       "padding": null,
       "right": null,
       "top": null,
       "visibility": null,
       "width": null
      }
     },
     "08510b3b90dc44d4bceacf6ead2262da": {
      "model_module": "@jupyter-widgets/controls",
      "model_module_version": "2.0.0",
      "model_name": "HTMLModel",
      "state": {
       "_dom_classes": [],
       "_model_module": "@jupyter-widgets/controls",
       "_model_module_version": "2.0.0",
       "_model_name": "HTMLModel",
       "_view_count": null,
       "_view_module": "@jupyter-widgets/controls",
       "_view_module_version": "2.0.0",
       "_view_name": "HTMLView",
       "description": "",
       "description_allow_html": false,
       "layout": "IPY_MODEL_34e651e77ed74ddf9a596785b4d9acf5",
       "placeholder": "​",
       "style": "IPY_MODEL_b70bf616f23a4a988819935dbd5e4b44",
       "tabbable": null,
       "tooltip": null,
       "value": "Downloading builder script: "
      }
     },
     "0b224e5abe824fdabf76d91c6b8afc32": {
      "model_module": "@jupyter-widgets/base",
      "model_module_version": "2.0.0",
      "model_name": "LayoutModel",
      "state": {
       "_model_module": "@jupyter-widgets/base",
       "_model_module_version": "2.0.0",
       "_model_name": "LayoutModel",
       "_view_count": null,
       "_view_module": "@jupyter-widgets/base",
       "_view_module_version": "2.0.0",
       "_view_name": "LayoutView",
       "align_content": null,
       "align_items": null,
       "align_self": null,
       "border_bottom": null,
       "border_left": null,
       "border_right": null,
       "border_top": null,
       "bottom": null,
       "display": null,
       "flex": null,
       "flex_flow": null,
       "grid_area": null,
       "grid_auto_columns": null,
       "grid_auto_flow": null,
       "grid_auto_rows": null,
       "grid_column": null,
       "grid_gap": null,
       "grid_row": null,
       "grid_template_areas": null,
       "grid_template_columns": null,
       "grid_template_rows": null,
       "height": null,
       "justify_content": null,
       "justify_items": null,
       "left": null,
       "margin": null,
       "max_height": null,
       "max_width": null,
       "min_height": null,
       "min_width": null,
       "object_fit": null,
       "object_position": null,
       "order": null,
       "overflow": null,
       "padding": null,
       "right": null,
       "top": null,
       "visibility": null,
       "width": null
      }
     },
     "0b240dca4d7d42c88e49c5ed1235aab2": {
      "model_module": "@jupyter-widgets/base",
      "model_module_version": "2.0.0",
      "model_name": "LayoutModel",
      "state": {
       "_model_module": "@jupyter-widgets/base",
       "_model_module_version": "2.0.0",
       "_model_name": "LayoutModel",
       "_view_count": null,
       "_view_module": "@jupyter-widgets/base",
       "_view_module_version": "2.0.0",
       "_view_name": "LayoutView",
       "align_content": null,
       "align_items": null,
       "align_self": null,
       "border_bottom": null,
       "border_left": null,
       "border_right": null,
       "border_top": null,
       "bottom": null,
       "display": null,
       "flex": null,
       "flex_flow": null,
       "grid_area": null,
       "grid_auto_columns": null,
       "grid_auto_flow": null,
       "grid_auto_rows": null,
       "grid_column": null,
       "grid_gap": null,
       "grid_row": null,
       "grid_template_areas": null,
       "grid_template_columns": null,
       "grid_template_rows": null,
       "height": null,
       "justify_content": null,
       "justify_items": null,
       "left": null,
       "margin": null,
       "max_height": null,
       "max_width": null,
       "min_height": null,
       "min_width": null,
       "object_fit": null,
       "object_position": null,
       "order": null,
       "overflow": null,
       "padding": null,
       "right": null,
       "top": null,
       "visibility": null,
       "width": null
      }
     },
     "0c9b8ad9f67f4e60a728c2378f820631": {
      "model_module": "@jupyter-widgets/controls",
      "model_module_version": "2.0.0",
      "model_name": "HTMLModel",
      "state": {
       "_dom_classes": [],
       "_model_module": "@jupyter-widgets/controls",
       "_model_module_version": "2.0.0",
       "_model_name": "HTMLModel",
       "_view_count": null,
       "_view_module": "@jupyter-widgets/controls",
       "_view_module_version": "2.0.0",
       "_view_name": "HTMLView",
       "description": "",
       "description_allow_html": false,
       "layout": "IPY_MODEL_fde7c36dda2a40b5a3bee2a07fc041fd",
       "placeholder": "​",
       "style": "IPY_MODEL_c462d8c6791f40c7aa51f9c10529be26",
       "tabbable": null,
       "tooltip": null,
       "value": " 4.48k/? [00:00&lt;00:00, 322kB/s]"
      }
     },
     "0dd646daf6f04481b119746cd031b256": {
      "model_module": "@jupyter-widgets/base",
      "model_module_version": "2.0.0",
      "model_name": "LayoutModel",
      "state": {
       "_model_module": "@jupyter-widgets/base",
       "_model_module_version": "2.0.0",
       "_model_name": "LayoutModel",
       "_view_count": null,
       "_view_module": "@jupyter-widgets/base",
       "_view_module_version": "2.0.0",
       "_view_name": "LayoutView",
       "align_content": null,
       "align_items": null,
       "align_self": null,
       "border_bottom": null,
       "border_left": null,
       "border_right": null,
       "border_top": null,
       "bottom": null,
       "display": null,
       "flex": null,
       "flex_flow": null,
       "grid_area": null,
       "grid_auto_columns": null,
       "grid_auto_flow": null,
       "grid_auto_rows": null,
       "grid_column": null,
       "grid_gap": null,
       "grid_row": null,
       "grid_template_areas": null,
       "grid_template_columns": null,
       "grid_template_rows": null,
       "height": null,
       "justify_content": null,
       "justify_items": null,
       "left": null,
       "margin": null,
       "max_height": null,
       "max_width": null,
       "min_height": null,
       "min_width": null,
       "object_fit": null,
       "object_position": null,
       "order": null,
       "overflow": null,
       "padding": null,
       "right": null,
       "top": null,
       "visibility": null,
       "width": null
      }
     },
     "14a253a8fa0f4991b7abedf82ed2edda": {
      "model_module": "@jupyter-widgets/controls",
      "model_module_version": "2.0.0",
      "model_name": "HTMLStyleModel",
      "state": {
       "_model_module": "@jupyter-widgets/controls",
       "_model_module_version": "2.0.0",
       "_model_name": "HTMLStyleModel",
       "_view_count": null,
       "_view_module": "@jupyter-widgets/base",
       "_view_module_version": "2.0.0",
       "_view_name": "StyleView",
       "background": null,
       "description_width": "",
       "font_size": null,
       "text_color": null
      }
     },
     "1db59060f16e494ab17e1a2105a9bb21": {
      "model_module": "@jupyter-widgets/base",
      "model_module_version": "2.0.0",
      "model_name": "LayoutModel",
      "state": {
       "_model_module": "@jupyter-widgets/base",
       "_model_module_version": "2.0.0",
       "_model_name": "LayoutModel",
       "_view_count": null,
       "_view_module": "@jupyter-widgets/base",
       "_view_module_version": "2.0.0",
       "_view_name": "LayoutView",
       "align_content": null,
       "align_items": null,
       "align_self": null,
       "border_bottom": null,
       "border_left": null,
       "border_right": null,
       "border_top": null,
       "bottom": null,
       "display": null,
       "flex": null,
       "flex_flow": null,
       "grid_area": null,
       "grid_auto_columns": null,
       "grid_auto_flow": null,
       "grid_auto_rows": null,
       "grid_column": null,
       "grid_gap": null,
       "grid_row": null,
       "grid_template_areas": null,
       "grid_template_columns": null,
       "grid_template_rows": null,
       "height": null,
       "justify_content": null,
       "justify_items": null,
       "left": null,
       "margin": null,
       "max_height": null,
       "max_width": null,
       "min_height": null,
       "min_width": null,
       "object_fit": null,
       "object_position": null,
       "order": null,
       "overflow": null,
       "padding": null,
       "right": null,
       "top": null,
       "visibility": null,
       "width": null
      }
     },
     "1eae5e8160794e9aad66c24e186f5197": {
      "model_module": "@jupyter-widgets/controls",
      "model_module_version": "2.0.0",
      "model_name": "FloatProgressModel",
      "state": {
       "_dom_classes": [],
       "_model_module": "@jupyter-widgets/controls",
       "_model_module_version": "2.0.0",
       "_model_name": "FloatProgressModel",
       "_view_count": null,
       "_view_module": "@jupyter-widgets/controls",
       "_view_module_version": "2.0.0",
       "_view_name": "ProgressView",
       "bar_style": "",
       "description": "",
       "description_allow_html": false,
       "layout": "IPY_MODEL_295051ee23ab4b638fdba38c130b7d9b",
       "max": 4.0,
       "min": 0.0,
       "orientation": "horizontal",
       "style": "IPY_MODEL_8f199555403c4761a17e524e6b99d2a8",
       "tabbable": null,
       "tooltip": null,
       "value": 0.0
      }
     },
     "22276482d62243b29bdb44e28f268bbc": {
      "model_module": "@jupyter-widgets/controls",
      "model_module_version": "2.0.0",
      "model_name": "HTMLStyleModel",
      "state": {
       "_model_module": "@jupyter-widgets/controls",
       "_model_module_version": "2.0.0",
       "_model_name": "HTMLStyleModel",
       "_view_count": null,
       "_view_module": "@jupyter-widgets/base",
       "_view_module_version": "2.0.0",
       "_view_name": "StyleView",
       "background": null,
       "description_width": "",
       "font_size": null,
       "text_color": null
      }
     },
     "295051ee23ab4b638fdba38c130b7d9b": {
      "model_module": "@jupyter-widgets/base",
      "model_module_version": "2.0.0",
      "model_name": "LayoutModel",
      "state": {
       "_model_module": "@jupyter-widgets/base",
       "_model_module_version": "2.0.0",
       "_model_name": "LayoutModel",
       "_view_count": null,
       "_view_module": "@jupyter-widgets/base",
       "_view_module_version": "2.0.0",
       "_view_name": "LayoutView",
       "align_content": null,
       "align_items": null,
       "align_self": null,
       "border_bottom": null,
       "border_left": null,
       "border_right": null,
       "border_top": null,
       "bottom": null,
       "display": null,
       "flex": null,
       "flex_flow": null,
       "grid_area": null,
       "grid_auto_columns": null,
       "grid_auto_flow": null,
       "grid_auto_rows": null,
       "grid_column": null,
       "grid_gap": null,
       "grid_row": null,
       "grid_template_areas": null,
       "grid_template_columns": null,
       "grid_template_rows": null,
       "height": null,
       "justify_content": null,
       "justify_items": null,
       "left": null,
       "margin": null,
       "max_height": null,
       "max_width": null,
       "min_height": null,
       "min_width": null,
       "object_fit": null,
       "object_position": null,
       "order": null,
       "overflow": null,
       "padding": null,
       "right": null,
       "top": null,
       "visibility": null,
       "width": null
      }
     },
     "2dc866c77ebe44fdbe0bec475fe88460": {
      "model_module": "@jupyter-widgets/base",
      "model_module_version": "2.0.0",
      "model_name": "LayoutModel",
      "state": {
       "_model_module": "@jupyter-widgets/base",
       "_model_module_version": "2.0.0",
       "_model_name": "LayoutModel",
       "_view_count": null,
       "_view_module": "@jupyter-widgets/base",
       "_view_module_version": "2.0.0",
       "_view_name": "LayoutView",
       "align_content": null,
       "align_items": null,
       "align_self": null,
       "border_bottom": null,
       "border_left": null,
       "border_right": null,
       "border_top": null,
       "bottom": null,
       "display": null,
       "flex": null,
       "flex_flow": null,
       "grid_area": null,
       "grid_auto_columns": null,
       "grid_auto_flow": null,
       "grid_auto_rows": null,
       "grid_column": null,
       "grid_gap": null,
       "grid_row": null,
       "grid_template_areas": null,
       "grid_template_columns": null,
       "grid_template_rows": null,
       "height": null,
       "justify_content": null,
       "justify_items": null,
       "left": null,
       "margin": null,
       "max_height": null,
       "max_width": null,
       "min_height": null,
       "min_width": null,
       "object_fit": null,
       "object_position": null,
       "order": null,
       "overflow": null,
       "padding": null,
       "right": null,
       "top": null,
       "visibility": null,
       "width": null
      }
     },
     "34a18a046a424a2bb295fbc9661df83d": {
      "model_module": "@jupyter-widgets/controls",
      "model_module_version": "2.0.0",
      "model_name": "HTMLModel",
      "state": {
       "_dom_classes": [],
       "_model_module": "@jupyter-widgets/controls",
       "_model_module_version": "2.0.0",
       "_model_name": "HTMLModel",
       "_view_count": null,
       "_view_module": "@jupyter-widgets/controls",
       "_view_module_version": "2.0.0",
       "_view_name": "HTMLView",
       "description": "",
       "description_allow_html": false,
       "layout": "IPY_MODEL_34e651e77ed74ddf9a596785b4d9acf5",
       "placeholder": "​",
       "style": "IPY_MODEL_b70bf616f23a4a988819935dbd5e4b44",
       "tabbable": null,
       "tooltip": null,
       "value": ""
      }
     },
     "34e651e77ed74ddf9a596785b4d9acf5": {
      "model_module": "@jupyter-widgets/base",
      "model_module_version": "2.0.0",
      "model_name": "LayoutModel",
      "state": {
       "_model_module": "@jupyter-widgets/base",
       "_model_module_version": "2.0.0",
       "_model_name": "LayoutModel",
       "_view_count": null,
       "_view_module": "@jupyter-widgets/base",
       "_view_module_version": "2.0.0",
       "_view_name": "LayoutView",
       "align_content": null,
       "align_items": null,
       "align_self": null,
       "border_bottom": null,
       "border_left": null,
       "border_right": null,
       "border_top": null,
       "bottom": null,
       "display": null,
       "flex": null,
       "flex_flow": null,
       "grid_area": null,
       "grid_auto_columns": null,
       "grid_auto_flow": null,
       "grid_auto_rows": null,
       "grid_column": null,
       "grid_gap": null,
       "grid_row": null,
       "grid_template_areas": null,
       "grid_template_columns": null,
       "grid_template_rows": null,
       "height": null,
       "justify_content": null,
       "justify_items": null,
       "left": null,
       "margin": null,
       "max_height": null,
       "max_width": null,
       "min_height": null,
       "min_width": null,
       "object_fit": null,
       "object_position": null,
       "order": null,
       "overflow": null,
       "padding": null,
       "right": null,
       "top": null,
       "visibility": null,
       "width": null
      }
     },
     "3c0acae06afa44a39a12e9751763ea59": {
      "model_module": "@jupyter-widgets/controls",
      "model_module_version": "2.0.0",
      "model_name": "HTMLModel",
      "state": {
       "_dom_classes": [],
       "_model_module": "@jupyter-widgets/controls",
       "_model_module_version": "2.0.0",
       "_model_name": "HTMLModel",
       "_view_count": null,
       "_view_module": "@jupyter-widgets/controls",
       "_view_module_version": "2.0.0",
       "_view_name": "HTMLView",
       "description": "",
       "description_allow_html": false,
       "layout": "IPY_MODEL_c468eee4914444f0aaa828b19c8fb1c1",
       "placeholder": "​",
       "style": "IPY_MODEL_759b12042ac9463c898b7cb31869cfd0",
       "tabbable": null,
       "tooltip": null,
       "value": ""
      }
     },
     "413b0ca01978473193968584909caf2b": {
      "model_module": "@jupyter-widgets/base",
      "model_module_version": "2.0.0",
      "model_name": "LayoutModel",
      "state": {
       "_model_module": "@jupyter-widgets/base",
       "_model_module_version": "2.0.0",
       "_model_name": "LayoutModel",
       "_view_count": null,
       "_view_module": "@jupyter-widgets/base",
       "_view_module_version": "2.0.0",
       "_view_name": "LayoutView",
       "align_content": null,
       "align_items": null,
       "align_self": null,
       "border_bottom": null,
       "border_left": null,
       "border_right": null,
       "border_top": null,
       "bottom": null,
       "display": null,
       "flex": null,
       "flex_flow": null,
       "grid_area": null,
       "grid_auto_columns": null,
       "grid_auto_flow": null,
       "grid_auto_rows": null,
       "grid_column": null,
       "grid_gap": null,
       "grid_row": null,
       "grid_template_areas": null,
       "grid_template_columns": null,
       "grid_template_rows": null,
       "height": null,
       "justify_content": null,
       "justify_items": null,
       "left": null,
       "margin": null,
       "max_height": null,
       "max_width": null,
       "min_height": null,
       "min_width": null,
       "object_fit": null,
       "object_position": null,
       "order": null,
       "overflow": null,
       "padding": null,
       "right": null,
       "top": null,
       "visibility": null,
       "width": null
      }
     },
     "48486dd486fe4a23adb44e7a994446d9": {
      "model_module": "@jupyter-widgets/controls",
      "model_module_version": "2.0.0",
      "model_name": "FloatProgressModel",
      "state": {
       "_dom_classes": [],
       "_model_module": "@jupyter-widgets/controls",
       "_model_module_version": "2.0.0",
       "_model_name": "FloatProgressModel",
       "_view_count": null,
       "_view_module": "@jupyter-widgets/controls",
       "_view_module_version": "2.0.0",
       "_view_name": "ProgressView",
       "bar_style": "success",
       "description": "",
       "description_allow_html": false,
       "layout": "IPY_MODEL_0200add695d64f0eabc6d628b360beaa",
       "max": 1901.0,
       "min": 0.0,
       "orientation": "horizontal",
       "style": "IPY_MODEL_edf68a4593e04207bc6530da8e4ba2c1",
       "tabbable": null,
       "tooltip": null,
       "value": 1901.0
      }
     },
     "4a43a9b852454a2caeee2b2fd83b1723": {
      "model_module": "@jupyter-widgets/controls",
      "model_module_version": "2.0.0",
      "model_name": "FloatProgressModel",
      "state": {
       "_dom_classes": [],
       "_model_module": "@jupyter-widgets/controls",
       "_model_module_version": "2.0.0",
       "_model_name": "FloatProgressModel",
       "_view_count": null,
       "_view_module": "@jupyter-widgets/controls",
       "_view_module_version": "2.0.0",
       "_view_name": "ProgressView",
       "bar_style": "",
       "description": "",
       "description_allow_html": false,
       "layout": "IPY_MODEL_0200add695d64f0eabc6d628b360beaa",
       "max": 1901.0,
       "min": 0.0,
       "orientation": "horizontal",
       "style": "IPY_MODEL_edf68a4593e04207bc6530da8e4ba2c1",
       "tabbable": null,
       "tooltip": null,
       "value": 0.0
      }
     },
     "4d9e20e064704afea1b3bdf9f96ab672": {
      "model_module": "@jupyter-widgets/controls",
      "model_module_version": "2.0.0",
      "model_name": "HTMLStyleModel",
      "state": {
       "_model_module": "@jupyter-widgets/controls",
       "_model_module_version": "2.0.0",
       "_model_name": "HTMLStyleModel",
       "_view_count": null,
       "_view_module": "@jupyter-widgets/base",
       "_view_module_version": "2.0.0",
       "_view_name": "StyleView",
       "background": null,
       "description_width": "",
       "font_size": null,
       "text_color": null
      }
     },
     "4f0b95c48a0b4c738c96d7565dc2d3a6": {
      "model_module": "@jupyter-widgets/controls",
      "model_module_version": "2.0.0",
      "model_name": "HTMLModel",
      "state": {
       "_dom_classes": [],
       "_model_module": "@jupyter-widgets/controls",
       "_model_module_version": "2.0.0",
       "_model_name": "HTMLModel",
       "_view_count": null,
       "_view_module": "@jupyter-widgets/controls",
       "_view_module_version": "2.0.0",
       "_view_name": "HTMLView",
       "description": "",
       "description_allow_html": false,
       "layout": "IPY_MODEL_c468eee4914444f0aaa828b19c8fb1c1",
       "placeholder": "​",
       "style": "IPY_MODEL_759b12042ac9463c898b7cb31869cfd0",
       "tabbable": null,
       "tooltip": null,
       "value": " 4/4 [00:08&lt;00:00,  2.19s/it]"
      }
     },
     "5ed57e853be5489da2815b93e429b2cb": {
      "model_module": "@jupyter-widgets/controls",
      "model_module_version": "2.0.0",
      "model_name": "FloatProgressModel",
      "state": {
       "_dom_classes": [],
       "_model_module": "@jupyter-widgets/controls",
       "_model_module_version": "2.0.0",
       "_model_name": "FloatProgressModel",
       "_view_count": null,
       "_view_module": "@jupyter-widgets/controls",
       "_view_module_version": "2.0.0",
       "_view_name": "ProgressView",
       "bar_style": "success",
       "description": "",
       "description_allow_html": false,
       "layout": "IPY_MODEL_295051ee23ab4b638fdba38c130b7d9b",
       "max": 4.0,
       "min": 0.0,
       "orientation": "horizontal",
       "style": "IPY_MODEL_8f199555403c4761a17e524e6b99d2a8",
       "tabbable": null,
       "tooltip": null,
       "value": 4.0
      }
     },
     "61de1fbffebc454b93988bb6463136a6": {
      "model_module": "@jupyter-widgets/base",
      "model_module_version": "2.0.0",
      "model_name": "LayoutModel",
      "state": {
       "_model_module": "@jupyter-widgets/base",
       "_model_module_version": "2.0.0",
       "_model_name": "LayoutModel",
       "_view_count": null,
       "_view_module": "@jupyter-widgets/base",
       "_view_module_version": "2.0.0",
       "_view_name": "LayoutView",
       "align_content": null,
       "align_items": null,
       "align_self": null,
       "border_bottom": null,
       "border_left": null,
       "border_right": null,
       "border_top": null,
       "bottom": null,
       "display": null,
       "flex": null,
       "flex_flow": null,
       "grid_area": null,
       "grid_auto_columns": null,
       "grid_auto_flow": null,
       "grid_auto_rows": null,
       "grid_column": null,
       "grid_gap": null,
       "grid_row": null,
       "grid_template_areas": null,
       "grid_template_columns": null,
       "grid_template_rows": null,
       "height": null,
       "justify_content": null,
       "justify_items": null,
       "left": null,
       "margin": null,
       "max_height": null,
       "max_width": null,
       "min_height": null,
       "min_width": null,
       "object_fit": null,
       "object_position": null,
       "order": null,
       "overflow": null,
       "padding": null,
       "right": null,
       "top": null,
       "visibility": null,
       "width": null
      }
     },
     "6f24a9e977b34aa4b275b4c2658037b2": {
      "model_module": "@jupyter-widgets/base",
      "model_module_version": "2.0.0",
      "model_name": "LayoutModel",
      "state": {
       "_model_module": "@jupyter-widgets/base",
       "_model_module_version": "2.0.0",
       "_model_name": "LayoutModel",
       "_view_count": null,
       "_view_module": "@jupyter-widgets/base",
       "_view_module_version": "2.0.0",
       "_view_name": "LayoutView",
       "align_content": null,
       "align_items": null,
       "align_self": null,
       "border_bottom": null,
       "border_left": null,
       "border_right": null,
       "border_top": null,
       "bottom": null,
       "display": null,
       "flex": null,
       "flex_flow": null,
       "grid_area": null,
       "grid_auto_columns": null,
       "grid_auto_flow": null,
       "grid_auto_rows": null,
       "grid_column": null,
       "grid_gap": null,
       "grid_row": null,
       "grid_template_areas": null,
       "grid_template_columns": null,
       "grid_template_rows": null,
       "height": null,
       "justify_content": null,
       "justify_items": null,
       "left": null,
       "margin": null,
       "max_height": null,
       "max_width": null,
       "min_height": null,
       "min_width": null,
       "object_fit": null,
       "object_position": null,
       "order": null,
       "overflow": null,
       "padding": null,
       "right": null,
       "top": null,
       "visibility": null,
       "width": null
      }
     },
     "73e8345d6d894447bf962fdb68999e8e": {
      "model_module": "@jupyter-widgets/controls",
      "model_module_version": "2.0.0",
      "model_name": "HTMLModel",
      "state": {
       "_dom_classes": [],
       "_model_module": "@jupyter-widgets/controls",
       "_model_module_version": "2.0.0",
       "_model_name": "HTMLModel",
       "_view_count": null,
       "_view_module": "@jupyter-widgets/controls",
       "_view_module_version": "2.0.0",
       "_view_name": "HTMLView",
       "description": "",
       "description_allow_html": false,
       "layout": "IPY_MODEL_0b224e5abe824fdabf76d91c6b8afc32",
       "placeholder": "​",
       "style": "IPY_MODEL_14a253a8fa0f4991b7abedf82ed2edda",
       "tabbable": null,
       "tooltip": null,
       "value": ""
      }
     },
     "759b12042ac9463c898b7cb31869cfd0": {
      "model_module": "@jupyter-widgets/controls",
      "model_module_version": "2.0.0",
      "model_name": "HTMLStyleModel",
      "state": {
       "_model_module": "@jupyter-widgets/controls",
       "_model_module_version": "2.0.0",
       "_model_name": "HTMLStyleModel",
       "_view_count": null,
       "_view_module": "@jupyter-widgets/base",
       "_view_module_version": "2.0.0",
       "_view_name": "StyleView",
       "background": null,
       "description_width": "",
       "font_size": null,
       "text_color": null
      }
     },
     "82feeac607dc49f985e834ac9b55237a": {
      "model_module": "@jupyter-widgets/controls",
      "model_module_version": "2.0.0",
      "model_name": "HBoxModel",
      "state": {
       "_dom_classes": [],
       "_model_module": "@jupyter-widgets/controls",
       "_model_module_version": "2.0.0",
       "_model_name": "HBoxModel",
       "_view_count": null,
       "_view_module": "@jupyter-widgets/controls",
       "_view_module_version": "2.0.0",
       "_view_name": "HBoxView",
       "box_style": "",
       "children": [
        "IPY_MODEL_08510b3b90dc44d4bceacf6ead2262da",
        "IPY_MODEL_48486dd486fe4a23adb44e7a994446d9",
        "IPY_MODEL_0c9b8ad9f67f4e60a728c2378f820631"
       ],
       "layout": "IPY_MODEL_078d131cebf64f2396709d395279899f",
       "tabbable": null,
       "tooltip": null
      }
     },
     "88f2d3f93664458c8c0c1be5665179e8": {
      "model_module": "@jupyter-widgets/controls",
      "model_module_version": "2.0.0",
      "model_name": "HBoxModel",
      "state": {
       "_dom_classes": [],
       "_model_module": "@jupyter-widgets/controls",
       "_model_module_version": "2.0.0",
       "_model_name": "HBoxModel",
       "_view_count": null,
       "_view_module": "@jupyter-widgets/controls",
       "_view_module_version": "2.0.0",
       "_view_name": "HBoxView",
       "box_style": "",
       "children": [
        "IPY_MODEL_08510b3b90dc44d4bceacf6ead2262da",
        "IPY_MODEL_48486dd486fe4a23adb44e7a994446d9",
        "IPY_MODEL_0c9b8ad9f67f4e60a728c2378f820631"
       ],
       "layout": "IPY_MODEL_078d131cebf64f2396709d395279899f",
       "tabbable": null,
       "tooltip": null
      }
     },
     "8bd2c3c4840e40dc8bcb05c188ee1d5c": {
      "model_module": "@jupyter-widgets/base",
      "model_module_version": "2.0.0",
      "model_name": "LayoutModel",
      "state": {
       "_model_module": "@jupyter-widgets/base",
       "_model_module_version": "2.0.0",
       "_model_name": "LayoutModel",
       "_view_count": null,
       "_view_module": "@jupyter-widgets/base",
       "_view_module_version": "2.0.0",
       "_view_name": "LayoutView",
       "align_content": null,
       "align_items": null,
       "align_self": null,
       "border_bottom": null,
       "border_left": null,
       "border_right": null,
       "border_top": null,
       "bottom": null,
       "display": null,
       "flex": null,
       "flex_flow": null,
       "grid_area": null,
       "grid_auto_columns": null,
       "grid_auto_flow": null,
       "grid_auto_rows": null,
       "grid_column": null,
       "grid_gap": null,
       "grid_row": null,
       "grid_template_areas": null,
       "grid_template_columns": null,
       "grid_template_rows": null,
       "height": null,
       "justify_content": null,
       "justify_items": null,
       "left": null,
       "margin": null,
       "max_height": null,
       "max_width": null,
       "min_height": null,
       "min_width": null,
       "object_fit": null,
       "object_position": null,
       "order": null,
       "overflow": null,
       "padding": null,
       "right": null,
       "top": null,
       "visibility": null,
       "width": null
      }
     },
     "8f199555403c4761a17e524e6b99d2a8": {
      "model_module": "@jupyter-widgets/controls",
      "model_module_version": "2.0.0",
      "model_name": "ProgressStyleModel",
      "state": {
       "_model_module": "@jupyter-widgets/controls",
       "_model_module_version": "2.0.0",
       "_model_name": "ProgressStyleModel",
       "_view_count": null,
       "_view_module": "@jupyter-widgets/base",
       "_view_module_version": "2.0.0",
       "_view_name": "StyleView",
       "bar_color": null,
       "description_width": ""
      }
     },
     "920d1ea066234ae1ae1af2c66141f545": {
      "model_module": "@jupyter-widgets/base",
      "model_module_version": "2.0.0",
      "model_name": "LayoutModel",
      "state": {
       "_model_module": "@jupyter-widgets/base",
       "_model_module_version": "2.0.0",
       "_model_name": "LayoutModel",
       "_view_count": null,
       "_view_module": "@jupyter-widgets/base",
       "_view_module_version": "2.0.0",
       "_view_name": "LayoutView",
       "align_content": null,
       "align_items": null,
       "align_self": null,
       "border_bottom": null,
       "border_left": null,
       "border_right": null,
       "border_top": null,
       "bottom": null,
       "display": null,
       "flex": null,
       "flex_flow": null,
       "grid_area": null,
       "grid_auto_columns": null,
       "grid_auto_flow": null,
       "grid_auto_rows": null,
       "grid_column": null,
       "grid_gap": null,
       "grid_row": null,
       "grid_template_areas": null,
       "grid_template_columns": null,
       "grid_template_rows": null,
       "height": null,
       "justify_content": null,
       "justify_items": null,
       "left": null,
       "margin": null,
       "max_height": null,
       "max_width": null,
       "min_height": null,
       "min_width": null,
       "object_fit": null,
       "object_position": null,
       "order": null,
       "overflow": null,
       "padding": null,
       "right": null,
       "top": null,
       "visibility": null,
       "width": null
      }
     },
     "a2824534b6be4a258ff863f76b700ef9": {
      "model_module": "@jupyter-widgets/controls",
      "model_module_version": "2.0.0",
      "model_name": "HTMLModel",
      "state": {
       "_dom_classes": [],
       "_model_module": "@jupyter-widgets/controls",
       "_model_module_version": "2.0.0",
       "_model_name": "HTMLModel",
       "_view_count": null,
       "_view_module": "@jupyter-widgets/controls",
       "_view_module_version": "2.0.0",
       "_view_name": "HTMLView",
       "description": "",
       "description_allow_html": false,
       "layout": "IPY_MODEL_fde7c36dda2a40b5a3bee2a07fc041fd",
       "placeholder": "​",
       "style": "IPY_MODEL_c462d8c6791f40c7aa51f9c10529be26",
       "tabbable": null,
       "tooltip": null,
       "value": ""
      }
     },
     "a84cbda2a1f0437d9c53d048d398d89c": {
      "model_module": "@jupyter-widgets/controls",
      "model_module_version": "2.0.0",
      "model_name": "HTMLStyleModel",
      "state": {
       "_model_module": "@jupyter-widgets/controls",
       "_model_module_version": "2.0.0",
       "_model_name": "HTMLStyleModel",
       "_view_count": null,
       "_view_module": "@jupyter-widgets/base",
       "_view_module_version": "2.0.0",
       "_view_name": "StyleView",
       "background": null,
       "description_width": "",
       "font_size": null,
       "text_color": null
      }
     },
     "b70bf616f23a4a988819935dbd5e4b44": {
      "model_module": "@jupyter-widgets/controls",
      "model_module_version": "2.0.0",
      "model_name": "HTMLStyleModel",
      "state": {
       "_model_module": "@jupyter-widgets/controls",
       "_model_module_version": "2.0.0",
       "_model_name": "HTMLStyleModel",
       "_view_count": null,
       "_view_module": "@jupyter-widgets/base",
       "_view_module_version": "2.0.0",
       "_view_name": "StyleView",
       "background": null,
       "description_width": "",
       "font_size": null,
       "text_color": null
      }
     },
     "c462d8c6791f40c7aa51f9c10529be26": {
      "model_module": "@jupyter-widgets/controls",
      "model_module_version": "2.0.0",
      "model_name": "HTMLStyleModel",
      "state": {
       "_model_module": "@jupyter-widgets/controls",
       "_model_module_version": "2.0.0",
       "_model_name": "HTMLStyleModel",
       "_view_count": null,
       "_view_module": "@jupyter-widgets/base",
       "_view_module_version": "2.0.0",
       "_view_name": "StyleView",
       "background": null,
       "description_width": "",
       "font_size": null,
       "text_color": null
      }
     },
     "c468eee4914444f0aaa828b19c8fb1c1": {
      "model_module": "@jupyter-widgets/base",
      "model_module_version": "2.0.0",
      "model_name": "LayoutModel",
      "state": {
       "_model_module": "@jupyter-widgets/base",
       "_model_module_version": "2.0.0",
       "_model_name": "LayoutModel",
       "_view_count": null,
       "_view_module": "@jupyter-widgets/base",
       "_view_module_version": "2.0.0",
       "_view_name": "LayoutView",
       "align_content": null,
       "align_items": null,
       "align_self": null,
       "border_bottom": null,
       "border_left": null,
       "border_right": null,
       "border_top": null,
       "bottom": null,
       "display": null,
       "flex": null,
       "flex_flow": null,
       "grid_area": null,
       "grid_auto_columns": null,
       "grid_auto_flow": null,
       "grid_auto_rows": null,
       "grid_column": null,
       "grid_gap": null,
       "grid_row": null,
       "grid_template_areas": null,
       "grid_template_columns": null,
       "grid_template_rows": null,
       "height": null,
       "justify_content": null,
       "justify_items": null,
       "left": null,
       "margin": null,
       "max_height": null,
       "max_width": null,
       "min_height": null,
       "min_width": null,
       "object_fit": null,
       "object_position": null,
       "order": null,
       "overflow": null,
       "padding": null,
       "right": null,
       "top": null,
       "visibility": null,
       "width": null
      }
     },
     "dcc500988eca4ea8bb4c6c9e70d7cc82": {
      "model_module": "@jupyter-widgets/controls",
      "model_module_version": "2.0.0",
      "model_name": "HTMLModel",
      "state": {
       "_dom_classes": [],
       "_model_module": "@jupyter-widgets/controls",
       "_model_module_version": "2.0.0",
       "_model_name": "HTMLModel",
       "_view_count": null,
       "_view_module": "@jupyter-widgets/controls",
       "_view_module_version": "2.0.0",
       "_view_name": "HTMLView",
       "description": "",
       "description_allow_html": false,
       "layout": "IPY_MODEL_0b224e5abe824fdabf76d91c6b8afc32",
       "placeholder": "​",
       "style": "IPY_MODEL_14a253a8fa0f4991b7abedf82ed2edda",
       "tabbable": null,
       "tooltip": null,
       "value": "100%"
      }
     },
     "e5c64c32c6614be596290181259e3d8e": {
      "model_module": "@jupyter-widgets/controls",
      "model_module_version": "2.0.0",
      "model_name": "ProgressStyleModel",
      "state": {
       "_model_module": "@jupyter-widgets/controls",
       "_model_module_version": "2.0.0",
       "_model_name": "ProgressStyleModel",
       "_view_count": null,
       "_view_module": "@jupyter-widgets/base",
       "_view_module_version": "2.0.0",
       "_view_name": "StyleView",
       "bar_color": null,
       "description_width": ""
      }
     },
     "edf68a4593e04207bc6530da8e4ba2c1": {
      "model_module": "@jupyter-widgets/controls",
      "model_module_version": "2.0.0",
      "model_name": "ProgressStyleModel",
      "state": {
       "_model_module": "@jupyter-widgets/controls",
       "_model_module_version": "2.0.0",
       "_model_name": "ProgressStyleModel",
       "_view_count": null,
       "_view_module": "@jupyter-widgets/base",
       "_view_module_version": "2.0.0",
       "_view_name": "StyleView",
       "bar_color": null,
       "description_width": ""
      }
     },
     "f65cd2db94874dcea141d44bb9dfeecf": {
      "model_module": "@jupyter-widgets/controls",
      "model_module_version": "2.0.0",
      "model_name": "ProgressStyleModel",
      "state": {
       "_model_module": "@jupyter-widgets/controls",
       "_model_module_version": "2.0.0",
       "_model_name": "ProgressStyleModel",
       "_view_count": null,
       "_view_module": "@jupyter-widgets/base",
       "_view_module_version": "2.0.0",
       "_view_name": "StyleView",
       "bar_color": null,
       "description_width": ""
      }
     },
     "fb489b51d63d411f98136aada312866c": {
      "model_module": "@jupyter-widgets/controls",
      "model_module_version": "2.0.0",
      "model_name": "HTMLStyleModel",
      "state": {
       "_model_module": "@jupyter-widgets/controls",
       "_model_module_version": "2.0.0",
       "_model_name": "HTMLStyleModel",
       "_view_count": null,
       "_view_module": "@jupyter-widgets/base",
       "_view_module_version": "2.0.0",
       "_view_name": "StyleView",
       "background": null,
       "description_width": "",
       "font_size": null,
       "text_color": null
      }
     },
     "fde7c36dda2a40b5a3bee2a07fc041fd": {
      "model_module": "@jupyter-widgets/base",
      "model_module_version": "2.0.0",
      "model_name": "LayoutModel",
      "state": {
       "_model_module": "@jupyter-widgets/base",
       "_model_module_version": "2.0.0",
       "_model_name": "LayoutModel",
       "_view_count": null,
       "_view_module": "@jupyter-widgets/base",
       "_view_module_version": "2.0.0",
       "_view_name": "LayoutView",
       "align_content": null,
       "align_items": null,
       "align_self": null,
       "border_bottom": null,
       "border_left": null,
       "border_right": null,
       "border_top": null,
       "bottom": null,
       "display": null,
       "flex": null,
       "flex_flow": null,
       "grid_area": null,
       "grid_auto_columns": null,
       "grid_auto_flow": null,
       "grid_auto_rows": null,
       "grid_column": null,
       "grid_gap": null,
       "grid_row": null,
       "grid_template_areas": null,
       "grid_template_columns": null,
       "grid_template_rows": null,
       "height": null,
       "justify_content": null,
       "justify_items": null,
       "left": null,
       "margin": null,
       "max_height": null,
       "max_width": null,
       "min_height": null,
       "min_width": null,
       "object_fit": null,
       "object_position": null,
       "order": null,
       "overflow": null,
       "padding": null,
       "right": null,
       "top": null,
       "visibility": null,
       "width": null
      }
     }
    },
    "version_major": 2,
    "version_minor": 0
   }
  }
 },
 "nbformat": 4,
 "nbformat_minor": 0
}
